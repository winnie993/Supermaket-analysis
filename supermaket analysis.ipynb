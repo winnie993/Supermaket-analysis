{
 "cells": [
  {
   "cell_type": "code",
   "execution_count": 1,
   "id": "c3b2653a",
   "metadata": {},
   "outputs": [
    {
     "name": "stdout",
     "output_type": "stream",
     "text": [
      "Requirement already satisfied: pandas in c:\\users\\admin\\anaconda3\\lib\\site-packages (2.0.3)\n",
      "Requirement already satisfied: python-dateutil>=2.8.2 in c:\\users\\admin\\anaconda3\\lib\\site-packages (from pandas) (2.8.2)\n",
      "Requirement already satisfied: pytz>=2020.1 in c:\\users\\admin\\anaconda3\\lib\\site-packages (from pandas) (2023.3.post1)\n",
      "Requirement already satisfied: tzdata>=2022.1 in c:\\users\\admin\\anaconda3\\lib\\site-packages (from pandas) (2023.3)\n",
      "Requirement already satisfied: numpy>=1.21.0 in c:\\users\\admin\\anaconda3\\lib\\site-packages (from pandas) (1.24.3)\n",
      "Requirement already satisfied: six>=1.5 in c:\\users\\admin\\anaconda3\\lib\\site-packages (from python-dateutil>=2.8.2->pandas) (1.16.0)\n",
      "Note: you may need to restart the kernel to use updated packages.\n"
     ]
    }
   ],
   "source": [
    "pip install pandas"
   ]
  },
  {
   "cell_type": "code",
   "execution_count": 2,
   "id": "3f2ab0c4",
   "metadata": {},
   "outputs": [],
   "source": [
    "import pandas as pd"
   ]
  },
  {
   "cell_type": "code",
   "execution_count": 3,
   "id": "22a9eb28",
   "metadata": {},
   "outputs": [],
   "source": [
    "mydata= pd.read_csv('supermarket_sales - Sheet1.csv')"
   ]
  },
  {
   "cell_type": "code",
   "execution_count": 4,
   "id": "cbd668e4",
   "metadata": {},
   "outputs": [
    {
     "data": {
      "text/html": [
       "<div>\n",
       "<style scoped>\n",
       "    .dataframe tbody tr th:only-of-type {\n",
       "        vertical-align: middle;\n",
       "    }\n",
       "\n",
       "    .dataframe tbody tr th {\n",
       "        vertical-align: top;\n",
       "    }\n",
       "\n",
       "    .dataframe thead th {\n",
       "        text-align: right;\n",
       "    }\n",
       "</style>\n",
       "<table border=\"1\" class=\"dataframe\">\n",
       "  <thead>\n",
       "    <tr style=\"text-align: right;\">\n",
       "      <th></th>\n",
       "      <th>Invoice ID</th>\n",
       "      <th>Branch</th>\n",
       "      <th>City</th>\n",
       "      <th>Customer type</th>\n",
       "      <th>Gender</th>\n",
       "      <th>Product line</th>\n",
       "      <th>Unit price</th>\n",
       "      <th>Quantity</th>\n",
       "      <th>Tax 5%</th>\n",
       "      <th>Total</th>\n",
       "      <th>Date</th>\n",
       "      <th>Time</th>\n",
       "      <th>Payment</th>\n",
       "      <th>cogs</th>\n",
       "      <th>gross margin percentage</th>\n",
       "      <th>gross income</th>\n",
       "      <th>Rating</th>\n",
       "    </tr>\n",
       "  </thead>\n",
       "  <tbody>\n",
       "    <tr>\n",
       "      <th>0</th>\n",
       "      <td>750-67-8428</td>\n",
       "      <td>A</td>\n",
       "      <td>Yangon</td>\n",
       "      <td>Member</td>\n",
       "      <td>Female</td>\n",
       "      <td>Health and beauty</td>\n",
       "      <td>74.69</td>\n",
       "      <td>7</td>\n",
       "      <td>26.1415</td>\n",
       "      <td>548.9715</td>\n",
       "      <td>01/05/2019</td>\n",
       "      <td>13:08</td>\n",
       "      <td>Ewallet</td>\n",
       "      <td>522.83</td>\n",
       "      <td>4.761905</td>\n",
       "      <td>26.1415</td>\n",
       "      <td>9.1</td>\n",
       "    </tr>\n",
       "    <tr>\n",
       "      <th>1</th>\n",
       "      <td>226-31-3081</td>\n",
       "      <td>C</td>\n",
       "      <td>Naypyitaw</td>\n",
       "      <td>Normal</td>\n",
       "      <td>Female</td>\n",
       "      <td>Electronic accessories</td>\n",
       "      <td>15.28</td>\n",
       "      <td>5</td>\n",
       "      <td>3.8200</td>\n",
       "      <td>80.2200</td>\n",
       "      <td>03/08/2019</td>\n",
       "      <td>10:29</td>\n",
       "      <td>Cash</td>\n",
       "      <td>76.40</td>\n",
       "      <td>4.761905</td>\n",
       "      <td>3.8200</td>\n",
       "      <td>9.6</td>\n",
       "    </tr>\n",
       "    <tr>\n",
       "      <th>2</th>\n",
       "      <td>631-41-3108</td>\n",
       "      <td>A</td>\n",
       "      <td>Yangon</td>\n",
       "      <td>Normal</td>\n",
       "      <td>Male</td>\n",
       "      <td>Home and lifestyle</td>\n",
       "      <td>46.33</td>\n",
       "      <td>7</td>\n",
       "      <td>16.2155</td>\n",
       "      <td>340.5255</td>\n",
       "      <td>03/03/2019</td>\n",
       "      <td>13:23</td>\n",
       "      <td>Credit card</td>\n",
       "      <td>324.31</td>\n",
       "      <td>4.761905</td>\n",
       "      <td>16.2155</td>\n",
       "      <td>7.4</td>\n",
       "    </tr>\n",
       "    <tr>\n",
       "      <th>3</th>\n",
       "      <td>123-19-1176</td>\n",
       "      <td>A</td>\n",
       "      <td>Yangon</td>\n",
       "      <td>Member</td>\n",
       "      <td>Male</td>\n",
       "      <td>Health and beauty</td>\n",
       "      <td>58.22</td>\n",
       "      <td>8</td>\n",
       "      <td>23.2880</td>\n",
       "      <td>489.0480</td>\n",
       "      <td>1/27/2019</td>\n",
       "      <td>20:33</td>\n",
       "      <td>Ewallet</td>\n",
       "      <td>465.76</td>\n",
       "      <td>4.761905</td>\n",
       "      <td>23.2880</td>\n",
       "      <td>8.4</td>\n",
       "    </tr>\n",
       "    <tr>\n",
       "      <th>4</th>\n",
       "      <td>373-73-7910</td>\n",
       "      <td>A</td>\n",
       "      <td>Yangon</td>\n",
       "      <td>Normal</td>\n",
       "      <td>Male</td>\n",
       "      <td>Sports and travel</td>\n",
       "      <td>86.31</td>\n",
       "      <td>7</td>\n",
       "      <td>30.2085</td>\n",
       "      <td>634.3785</td>\n",
       "      <td>02/08/2019</td>\n",
       "      <td>10:37</td>\n",
       "      <td>Ewallet</td>\n",
       "      <td>604.17</td>\n",
       "      <td>4.761905</td>\n",
       "      <td>30.2085</td>\n",
       "      <td>5.3</td>\n",
       "    </tr>\n",
       "    <tr>\n",
       "      <th>...</th>\n",
       "      <td>...</td>\n",
       "      <td>...</td>\n",
       "      <td>...</td>\n",
       "      <td>...</td>\n",
       "      <td>...</td>\n",
       "      <td>...</td>\n",
       "      <td>...</td>\n",
       "      <td>...</td>\n",
       "      <td>...</td>\n",
       "      <td>...</td>\n",
       "      <td>...</td>\n",
       "      <td>...</td>\n",
       "      <td>...</td>\n",
       "      <td>...</td>\n",
       "      <td>...</td>\n",
       "      <td>...</td>\n",
       "      <td>...</td>\n",
       "    </tr>\n",
       "    <tr>\n",
       "      <th>995</th>\n",
       "      <td>233-67-5758</td>\n",
       "      <td>C</td>\n",
       "      <td>Naypyitaw</td>\n",
       "      <td>Normal</td>\n",
       "      <td>Male</td>\n",
       "      <td>Health and beauty</td>\n",
       "      <td>40.35</td>\n",
       "      <td>1</td>\n",
       "      <td>2.0175</td>\n",
       "      <td>42.3675</td>\n",
       "      <td>1/29/2019</td>\n",
       "      <td>13:46</td>\n",
       "      <td>Ewallet</td>\n",
       "      <td>40.35</td>\n",
       "      <td>4.761905</td>\n",
       "      <td>2.0175</td>\n",
       "      <td>6.2</td>\n",
       "    </tr>\n",
       "    <tr>\n",
       "      <th>996</th>\n",
       "      <td>303-96-2227</td>\n",
       "      <td>B</td>\n",
       "      <td>Mandalay</td>\n",
       "      <td>Normal</td>\n",
       "      <td>Female</td>\n",
       "      <td>Home and lifestyle</td>\n",
       "      <td>97.38</td>\n",
       "      <td>10</td>\n",
       "      <td>48.6900</td>\n",
       "      <td>1022.4900</td>\n",
       "      <td>03/02/2019</td>\n",
       "      <td>17:16</td>\n",
       "      <td>Ewallet</td>\n",
       "      <td>973.80</td>\n",
       "      <td>4.761905</td>\n",
       "      <td>48.6900</td>\n",
       "      <td>4.4</td>\n",
       "    </tr>\n",
       "    <tr>\n",
       "      <th>997</th>\n",
       "      <td>727-02-1313</td>\n",
       "      <td>A</td>\n",
       "      <td>Yangon</td>\n",
       "      <td>Member</td>\n",
       "      <td>Male</td>\n",
       "      <td>Food and beverages</td>\n",
       "      <td>31.84</td>\n",
       "      <td>1</td>\n",
       "      <td>1.5920</td>\n",
       "      <td>33.4320</td>\n",
       "      <td>02/09/2019</td>\n",
       "      <td>13:22</td>\n",
       "      <td>Cash</td>\n",
       "      <td>31.84</td>\n",
       "      <td>4.761905</td>\n",
       "      <td>1.5920</td>\n",
       "      <td>7.7</td>\n",
       "    </tr>\n",
       "    <tr>\n",
       "      <th>998</th>\n",
       "      <td>347-56-2442</td>\n",
       "      <td>A</td>\n",
       "      <td>Yangon</td>\n",
       "      <td>Normal</td>\n",
       "      <td>Male</td>\n",
       "      <td>Home and lifestyle</td>\n",
       "      <td>65.82</td>\n",
       "      <td>1</td>\n",
       "      <td>3.2910</td>\n",
       "      <td>69.1110</td>\n",
       "      <td>2/22/2019</td>\n",
       "      <td>15:33</td>\n",
       "      <td>Cash</td>\n",
       "      <td>65.82</td>\n",
       "      <td>4.761905</td>\n",
       "      <td>3.2910</td>\n",
       "      <td>4.1</td>\n",
       "    </tr>\n",
       "    <tr>\n",
       "      <th>999</th>\n",
       "      <td>849-09-3807</td>\n",
       "      <td>A</td>\n",
       "      <td>Yangon</td>\n",
       "      <td>Member</td>\n",
       "      <td>Female</td>\n",
       "      <td>Fashion accessories</td>\n",
       "      <td>88.34</td>\n",
       "      <td>7</td>\n",
       "      <td>30.9190</td>\n",
       "      <td>649.2990</td>\n",
       "      <td>2/18/2019</td>\n",
       "      <td>13:28</td>\n",
       "      <td>Cash</td>\n",
       "      <td>618.38</td>\n",
       "      <td>4.761905</td>\n",
       "      <td>30.9190</td>\n",
       "      <td>6.6</td>\n",
       "    </tr>\n",
       "  </tbody>\n",
       "</table>\n",
       "<p>1000 rows × 17 columns</p>\n",
       "</div>"
      ],
      "text/plain": [
       "      Invoice ID Branch       City Customer type  Gender  \\\n",
       "0    750-67-8428      A     Yangon        Member  Female   \n",
       "1    226-31-3081      C  Naypyitaw        Normal  Female   \n",
       "2    631-41-3108      A     Yangon        Normal    Male   \n",
       "3    123-19-1176      A     Yangon        Member    Male   \n",
       "4    373-73-7910      A     Yangon        Normal    Male   \n",
       "..           ...    ...        ...           ...     ...   \n",
       "995  233-67-5758      C  Naypyitaw        Normal    Male   \n",
       "996  303-96-2227      B   Mandalay        Normal  Female   \n",
       "997  727-02-1313      A     Yangon        Member    Male   \n",
       "998  347-56-2442      A     Yangon        Normal    Male   \n",
       "999  849-09-3807      A     Yangon        Member  Female   \n",
       "\n",
       "               Product line  Unit price  Quantity   Tax 5%      Total  \\\n",
       "0         Health and beauty       74.69         7  26.1415   548.9715   \n",
       "1    Electronic accessories       15.28         5   3.8200    80.2200   \n",
       "2        Home and lifestyle       46.33         7  16.2155   340.5255   \n",
       "3         Health and beauty       58.22         8  23.2880   489.0480   \n",
       "4         Sports and travel       86.31         7  30.2085   634.3785   \n",
       "..                      ...         ...       ...      ...        ...   \n",
       "995       Health and beauty       40.35         1   2.0175    42.3675   \n",
       "996      Home and lifestyle       97.38        10  48.6900  1022.4900   \n",
       "997      Food and beverages       31.84         1   1.5920    33.4320   \n",
       "998      Home and lifestyle       65.82         1   3.2910    69.1110   \n",
       "999     Fashion accessories       88.34         7  30.9190   649.2990   \n",
       "\n",
       "           Date   Time      Payment    cogs  gross margin percentage  \\\n",
       "0    01/05/2019  13:08      Ewallet  522.83                 4.761905   \n",
       "1    03/08/2019  10:29         Cash   76.40                 4.761905   \n",
       "2    03/03/2019  13:23  Credit card  324.31                 4.761905   \n",
       "3     1/27/2019  20:33      Ewallet  465.76                 4.761905   \n",
       "4    02/08/2019  10:37      Ewallet  604.17                 4.761905   \n",
       "..          ...    ...          ...     ...                      ...   \n",
       "995   1/29/2019  13:46      Ewallet   40.35                 4.761905   \n",
       "996  03/02/2019  17:16      Ewallet  973.80                 4.761905   \n",
       "997  02/09/2019  13:22         Cash   31.84                 4.761905   \n",
       "998   2/22/2019  15:33         Cash   65.82                 4.761905   \n",
       "999   2/18/2019  13:28         Cash  618.38                 4.761905   \n",
       "\n",
       "     gross income  Rating  \n",
       "0         26.1415     9.1  \n",
       "1          3.8200     9.6  \n",
       "2         16.2155     7.4  \n",
       "3         23.2880     8.4  \n",
       "4         30.2085     5.3  \n",
       "..            ...     ...  \n",
       "995        2.0175     6.2  \n",
       "996       48.6900     4.4  \n",
       "997        1.5920     7.7  \n",
       "998        3.2910     4.1  \n",
       "999       30.9190     6.6  \n",
       "\n",
       "[1000 rows x 17 columns]"
      ]
     },
     "execution_count": 4,
     "metadata": {},
     "output_type": "execute_result"
    }
   ],
   "source": [
    "mydata"
   ]
  },
  {
   "cell_type": "code",
   "execution_count": 5,
   "id": "fa33bba5",
   "metadata": {},
   "outputs": [],
   "source": [
    "Gender= mydata['Gender']\n",
    "Total= mydata['Total']\n"
   ]
  },
  {
   "cell_type": "code",
   "execution_count": 6,
   "id": "73a5918a",
   "metadata": {},
   "outputs": [],
   "source": [
    "Genderlist= list(Gender)\n",
    "Totallist= list(Total)"
   ]
  },
  {
   "cell_type": "code",
   "execution_count": 7,
   "id": "fba958fb",
   "metadata": {},
   "outputs": [
    {
     "name": "stdout",
     "output_type": "stream",
     "text": [
      "[('Female', 548.9715), ('Female', 80.22), ('Male', 340.5255), ('Male', 489.048), ('Male', 634.3785), ('Male', 627.6165), ('Female', 433.692), ('Female', 772.38), ('Female', 76.146), ('Female', 172.746), ('Female', 60.816), ('Male', 107.142), ('Female', 246.4875), ('Male', 453.495), ('Female', 749.49), ('Female', 590.436), ('Female', 506.6355), ('Male', 457.443), ('Male', 172.2105), ('Female', 84.63), ('Male', 451.71), ('Male', 277.137), ('Male', 69.72), ('Male', 181.44), ('Male', 279.1845), ('Female', 441.756), ('Male', 35.196), ('Female', 184.107), ('Female', 463.89), ('Male', 235.2105), ('Male', 494.1825), ('Male', 737.7615), ('Male', 703.752), ('Male', 202.818), ('Female', 417.564), ('Female', 71.526), ('Male', 328.755), ('Female', 575.316), ('Female', 461.328), ('Male', 253.008), ('Female', 91.056), ('Male', 117.831), ('Female', 435.456), ('Female', 829.08), ('Male', 32.277), ('Female', 394.632), ('Male', 535.7205), ('Female', 189.0945), ('Male', 119.259), ('Female', 867.615), ('Male', 671.79), ('Female', 234.0975), ('Female', 75.054), ('Male', 16.2015), ('Male', 33.936), ('Female', 722.232), ('Male', 93.114), ('Male', 752.64), ('Female', 759.675), ('Male', 192.843), ('Female', 77.931), ('Male', 351.099), ('Female', 520.4115), ('Male', 166.005), ('Male', 318.108), ('Male', 166.635), ('Female', 70.287), ('Female', 614.943), ('Male', 827.085), ('Female', 19.2465), ('Male', 939.54), ('Male', 652.26), ('Female', 152.838), ('Female', 478.233), ('Male', 705.6315), ('Female', 437.325), ('Male', 463.428), ('Female', 189.0945), ('Female', 822.255), ('Female', 106.995), ('Female', 624.897), ('Female', 304.542), ('Male', 161.7), ('Female', 337.512), ('Male', 256.7775), ('Female', 610.491), ('Male', 401.73), ('Male', 362.943), ('Male', 44.5935), ('Female', 485.037), ('Female', 198.996), ('Female', 471.03), ('Female', 161.553), ('Male', 608.202), ('Male', 94.2375), ('Male', 102.018), ('Male', 922.635), ('Female', 78.435), ('Male', 166.1625), ('Male', 521.01), ('Male', 51.1455), ('Male', 742.2975), ('Female', 218.0115), ('Male', 367.038), ('Male', 223.0725), ('Male', 931.035), ('Male', 172.494), ('Male', 391.419), ('Female', 321.111), ('Male', 860.685), ('Female', 34.629), ('Female', 309.3615), ('Female', 535.374), ('Male', 548.7615), ('Female', 763.4655), ('Female', 85.113), ('Male', 115.185), ('Male', 53.928), ('Female', 115.08), ('Male', 112.224), ('Female', 836.304), ('Male', 419.832), ('Male', 944.622), ('Male', 536.844), ('Female', 474.348), ('Female', 688.6215), ('Female', 169.3125), ('Female', 299.8485), ('Female', 575.736), ('Female', 853.146), ('Female', 291.207), ('Female', 580.419), ('Female', 146.328), ('Male', 550.935), ('Female', 512.19), ('Male', 284.193), ('Female', 138.1275), ('Female', 216.846), ('Male', 545.055), ('Male', 609.0), ('Female', 942.9), ('Male', 950.25), ('Female', 720.3), ('Female', 31.9305), ('Female', 491.085), ('Female', 291.438), ('Female', 316.47), ('Male', 277.788), ('Male', 603.624), ('Male', 272.664), ('Female', 384.468), ('Male', 254.016), ('Male', 786.618), ('Female', 103.824), ('Female', 680.148), ('Male', 484.5225), ('Male', 75.7785), ('Male', 263.97), ('Male', 918.729), ('Male', 588.357), ('Female', 362.712), ('Male', 66.8745), ('Male', 336.5565), ('Male', 160.44), ('Male', 418.95), ('Male', 357.588), ('Male', 1003.59), ('Male', 1039.29), ('Male', 323.064), ('Male', 510.972), ('Male', 367.5525), ('Male', 420.2625), ('Male', 175.14), ('Male', 333.207), ('Male', 166.236), ('Male', 319.788), ('Male', 186.228), ('Female', 165.4485), ('Male', 465.444), ('Male', 273.42), ('Male', 472.311), ('Male', 323.148), ('Male', 162.75), ('Male', 288.204), ('Female', 90.699), ('Male', 56.952), ('Female', 793.716), ('Male', 195.174), ('Male', 77.7735), ('Female', 293.202), ('Female', 242.676), ('Female', 154.392), ('Female', 829.71), ('Male', 107.31), ('Male', 171.7275), ('Female', 78.0045), ('Male', 91.77), ('Female', 26.5545), ('Male', 174.3), ('Female', 374.7975), ('Female', 120.645), ('Female', 241.458), ('Male', 451.3635), ('Male', 271.95), ('Male', 93.2925), ('Female', 217.6335), ('Female', 629.8425), ('Female', 299.565), ('Female', 95.6655), ('Female', 942.4485), ('Male', 247.8735), ('Female', 881.307), ('Male', 484.89), ('Male', 146.223), ('Female', 217.6335), ('Male', 19.194), ('Female', 130.0425), ('Female', 298.116), ('Male', 796.908), ('Female', 180.621), ('Male', 285.705), ('Male', 456.288), ('Male', 62.0025), ('Female', 13.167), ('Male', 90.825), ('Female', 183.036), ('Male', 655.5465), ('Male', 155.652), ('Female', 571.41), ('Female', 532.728), ('Female', 170.877), ('Female', 33.3585), ('Female', 794.6505), ('Male', 310.044), ('Male', 545.37), ('Female', 195.594), ('Male', 91.4025), ('Female', 232.155), ('Female', 69.405), ('Male', 94.1745), ('Male', 235.683), ('Male', 125.517), ('Male', 195.72), ('Male', 263.13), ('Male', 788.508), ('Male', 399.756), ('Female', 256.41), ('Male', 94.185), ('Male', 326.424), ('Male', 536.991), ('Male', 439.8975), ('Male', 369.495), ('Female', 30.219), ('Male', 99.75), ('Male', 494.76), ('Male', 137.004), ('Male', 69.6675), ('Male', 163.233), ('Male', 135.45), ('Male', 276.948), ('Female', 709.317), ('Female', 69.09), ('Female', 160.86), ('Female', 233.52), ('Male', 57.1725), ('Female', 723.24), ('Male', 148.974), ('Female', 783.3), ('Male', 297.108), ('Female', 373.17), ('Female', 354.0075), ('Female', 44.352), ('Female', 203.553), ('Female', 25.263), ('Female', 628.173), ('Male', 352.5795), ('Female', 229.11), ('Female', 400.764), ('Male', 745.395), ('Male', 462.21), ('Female', 587.664), ('Male', 38.85), ('Female', 16.107), ('Male', 628.929), ('Female', 200.214), ('Male', 350.07), ('Male', 78.603), ('Female', 224.4375), ('Female', 356.5485), ('Female', 697.368), ('Male', 423.15), ('Male', 204.6975), ('Female', 65.604), ('Female', 76.356), ('Male', 190.155), ('Female', 272.58), ('Male', 121.128), ('Male', 493.794), ('Male', 252.042), ('Female', 93.0405), ('Male', 209.622), ('Male', 40.9605), ('Male', 51.0405), ('Female', 214.998), ('Female', 125.664), ('Male', 530.67), ('Female', 295.6905), ('Female', 745.836), ('Female', 83.412), ('Female', 172.011), ('Male', 503.559), ('Male', 145.593), ('Female', 74.7075), ('Female', 146.9475), ('Female', 820.365), ('Male', 208.677), ('Female', 66.402), ('Male', 392.6475), ('Female', 218.0745), ('Male', 185.094), ('Female', 216.6885), ('Female', 41.391), ('Male', 96.138), ('Female', 324.2925), ('Male', 135.576), ('Male', 410.508), ('Male', 523.845), ('Male', 395.892), ('Male', 214.746), ('Male', 152.712), ('Male', 208.089), ('Male', 103.635), ('Male', 404.355), ('Male', 49.308), ('Male', 77.175), ('Female', 149.3625), ('Male', 721.98), ('Female', 365.085), ('Female', 150.0975), ('Female', 404.649), ('Male', 151.4835), ('Female', 411.3795), ('Female', 565.215), ('Female', 509.4075), ('Male', 140.6475), ('Female', 736.4385), ('Male', 75.5475), ('Female', 749.7), ('Male', 191.247), ('Female', 141.75), ('Female', 1042.65), ('Male', 379.9215), ('Female', 402.2655), ('Male', 255.15), ('Female', 31.752), ('Female', 374.388), ('Female', 394.275), ('Female', 1002.12), ('Male', 86.625), ('Male', 78.7185), ('Male', 680.064), ('Female', 793.548), ('Male', 209.559), ('Male', 461.286), ('Female', 173.208), ('Female', 343.056), ('Female', 484.974), ('Male', 276.948), ('Female', 150.78), ('Male', 203.175), ('Female', 193.011), ('Female', 128.016), ('Female', 441.693), ('Male', 265.104), ('Female', 352.2225), ('Female', 507.675), ('Female', 334.341), ('Male', 701.8515), ('Male', 407.316), ('Female', 99.33), ('Male', 345.786), ('Female', 55.881), ('Female', 523.3725), ('Female', 314.538), ('Female', 214.935), ('Male', 79.611), ('Male', 294.651), ('Female', 339.36), ('Female', 510.9615), ('Male', 133.917), ('Female', 253.512), ('Female', 398.475), ('Male', 80.661), ('Female', 548.73), ('Female', 83.727), ('Female', 406.875), ('Female', 284.9175), ('Male', 128.4255), ('Female', 258.678), ('Male', 181.818), ('Female', 248.409), ('Male', 194.124), ('Male', 14.679), ('Female', 208.6875), ('Female', 718.7565), ('Male', 282.492), ('Male', 72.3975), ('Female', 288.582), ('Female', 237.426), ('Female', 125.055), ('Female', 359.205), ('Male', 45.927), ('Male', 110.0925), ('Male', 81.396), ('Male', 427.812), ('Male', 100.9155), ('Female', 190.596), ('Female', 85.5855), ('Female', 120.162), ('Female', 185.367), ('Female', 121.59), ('Female', 264.7575), ('Female', 1020.705), ('Male', 213.528), ('Male', 17.094), ('Male', 383.7645), ('Male', 390.7995), ('Female', 65.7405), ('Male', 353.1675), ('Female', 951.825), ('Male', 145.068), ('Male', 90.867), ('Female', 147.798), ('Male', 702.219), ('Female', 49.812), ('Male', 937.818), ('Male', 348.306), ('Male', 214.137), ('Male', 71.568), ('Female', 343.224), ('Male', 91.56), ('Female', 742.812), ('Female', 843.0345), ('Male', 13.419), ('Female', 140.385), ('Female', 20.1075), ('Male', 290.43), ('Male', 144.081), ('Female', 28.4235), ('Female', 41.076), ('Female', 470.673), ('Male', 138.663), ('Female', 333.9525), ('Male', 26.25), ('Male', 87.234), ('Female', 155.19), ('Female', 731.43), ('Male', 833.595), ('Female', 488.985), ('Male', 37.6845), ('Male', 212.73), ('Female', 767.025), ('Female', 310.59), ('Female', 23.751), ('Male', 269.535), ('Female', 572.775), ('Female', 273.0525), ('Male', 233.226), ('Male', 22.659), ('Female', 103.782), ('Female', 527.751), ('Female', 168.21), ('Male', 452.865), ('Male', 609.588), ('Female', 338.31), ('Male', 205.317), ('Female', 174.615), ('Male', 353.094), ('Male', 360.885), ('Male', 40.53), ('Male', 554.148), ('Female', 344.4), ('Male', 194.985), ('Male', 633.99), ('Female', 388.29), ('Female', 207.858), ('Female', 431.445), ('Male', 156.03), ('Male', 24.108), ('Female', 734.076), ('Female', 72.87), ('Female', 206.43), ('Female', 212.688), ('Female', 127.26), ('Male', 209.769), ('Male', 637.728), ('Female', 132.762), ('Female', 568.512), ('Female', 103.0365), ('Female', 432.768), ('Male', 77.6685), ('Female', 33.495), ('Male', 145.74), ('Female', 195.951), ('Male', 92.8725), ('Male', 203.112), ('Female', 152.775), ('Female', 529.515), ('Male', 321.7725), ('Female', 100.485), ('Female', 666.939), ('Female', 225.2775), ('Female', 398.958), ('Male', 731.6925), ('Male', 429.1665), ('Female', 54.0435), ('Male', 288.015), ('Male', 206.7975), ('Male', 72.933), ('Male', 377.58), ('Female', 143.9865), ('Female', 523.971), ('Female', 235.872), ('Male', 132.027), ('Male', 514.773), ('Female', 479.9025), ('Male', 164.682), ('Male', 125.706), ('Female', 570.78), ('Male', 926.9505), ('Male', 160.209), ('Male', 728.112), ('Male', 240.975), ('Female', 154.1295), ('Female', 148.68), ('Male', 122.5245), ('Female', 77.658), ('Male', 102.837), ('Female', 306.81), ('Female', 551.124), ('Male', 96.642), ('Male', 79.674), ('Female', 84.756), ('Male', 118.251), ('Female', 74.76), ('Male', 163.002), ('Female', 308.91), ('Male', 575.9775), ('Female', 270.585), ('Female', 416.178), ('Male', 180.4005), ('Female', 513.2295), ('Female', 550.368), ('Male', 139.923), ('Male', 142.002), ('Male', 118.062), ('Female', 151.284), ('Female', 1034.46), ('Male', 262.458), ('Female', 228.123), ('Male', 203.931), ('Male', 936.6), ('Female', 356.328), ('Male', 469.413), ('Male', 208.425), ('Female', 852.705), ('Female', 517.965), ('Female', 621.243), ('Female', 586.971), ('Female', 543.753), ('Female', 430.71), ('Male', 280.035), ('Male', 74.4555), ('Male', 152.019), ('Male', 451.0275), ('Male', 597.6285), ('Male', 253.26), ('Male', 133.434), ('Female', 269.934), ('Male', 145.971), ('Male', 85.743), ('Female', 326.256), ('Female', 195.258), ('Female', 75.936), ('Male', 198.639), ('Male', 217.182), ('Female', 164.871), ('Female', 226.065), ('Male', 625.905), ('Male', 76.755), ('Male', 293.139), ('Female', 178.164), ('Female', 47.859), ('Female', 236.88), ('Male', 304.92), ('Male', 46.683), ('Male', 164.43), ('Female', 440.937), ('Female', 193.4625), ('Female', 147.672), ('Male', 87.234), ('Female', 68.2395), ('Male', 814.38), ('Female', 343.413), ('Female', 381.3915), ('Male', 133.35), ('Female', 394.3275), ('Female', 209.118), ('Male', 32.1405), ('Male', 121.569), ('Female', 30.408), ('Female', 935.2665), ('Male', 293.643), ('Male', 84.9765), ('Male', 708.225), ('Female', 365.904), ('Male', 457.38), ('Male', 461.5275), ('Male', 620.739), ('Female', 273.798), ('Female', 225.792), ('Female', 96.1905), ('Female', 695.2365), ('Female', 874.125), ('Male', 95.9175), ('Female', 165.648), ('Male', 127.827), ('Male', 867.09), ('Male', 167.895), ('Female', 12.6945), ('Male', 673.995), ('Male', 246.6765), ('Male', 175.917), ('Male', 314.055), ('Male', 251.7165), ('Male', 697.935), ('Male', 212.7825), ('Female', 48.51), ('Female', 92.5575), ('Male', 165.123), ('Female', 311.1885), ('Female', 743.82), ('Male', 116.907), ('Female', 609.168), ('Male', 63.2625), ('Male', 182.952), ('Male', 442.323), ('Male', 35.3115), ('Female', 32.529), ('Male', 259.77), ('Male', 397.215), ('Female', 351.603), ('Male', 764.19), ('Male', 352.674), ('Male', 252.756), ('Female', 49.4235), ('Female', 104.6745), ('Female', 277.6725), ('Female', 146.6325), ('Male', 58.2225), ('Female', 135.3555), ('Male', 125.979), ('Female', 370.125), ('Female', 914.55), ('Female', 207.48), ('Female', 204.246), ('Male', 181.881), ('Female', 75.474), ('Female', 300.573), ('Female', 85.302), ('Male', 588.42), ('Male', 196.14), ('Female', 231.2415), ('Male', 282.576), ('Female', 477.54), ('Male', 175.917), ('Female', 470.988), ('Female', 308.574), ('Male', 618.975), ('Male', 305.55), ('Female', 41.454), ('Female', 36.5505), ('Female', 310.716), ('Male', 45.108), ('Female', 145.404), ('Female', 103.11), ('Female', 136.143), ('Male', 667.38), ('Male', 153.048), ('Female', 211.365), ('Female', 663.2955), ('Male', 404.544), ('Male', 510.615), ('Female', 539.343), ('Female', 497.07), ('Female', 458.6925), ('Female', 113.568), ('Male', 261.198), ('Male', 657.531), ('Male', 1023.75), ('Female', 507.444), ('Male', 101.808), ('Female', 207.585), ('Male', 760.4415), ('Female', 835.2855), ('Male', 527.5095), ('Female', 180.6), ('Male', 72.429), ('Male', 131.208), ('Male', 80.955), ('Male', 507.906), ('Female', 317.226), ('Female', 733.6035), ('Female', 130.8825), ('Male', 829.08), ('Female', 187.32), ('Female', 525.231), ('Male', 37.611), ('Male', 142.947), ('Female', 110.124), ('Female', 187.866), ('Female', 856.4535), ('Male', 138.978), ('Female', 270.2595), ('Male', 98.028), ('Female', 239.4), ('Male', 175.0455), ('Male', 732.27), ('Male', 408.492), ('Female', 383.523), ('Female', 93.744), ('Male', 176.4), ('Male', 20.685), ('Male', 557.718), ('Male', 56.406), ('Male', 860.475), ('Female', 596.82), ('Male', 616.98), ('Male', 769.104), ('Male', 887.922), ('Male', 408.7335), ('Male', 89.0715), ('Female', 150.423), ('Male', 79.149), ('Female', 266.028), ('Female', 40.341), ('Male', 684.915), ('Female', 55.2825), ('Female', 116.1405), ('Male', 597.0405), ('Female', 93.744), ('Female', 143.22), ('Female', 182.91), ('Male', 384.72), ('Female', 267.3405), ('Female', 817.236), ('Female', 300.216), ('Female', 608.076), ('Male', 197.925), ('Female', 232.638), ('Female', 810.6), ('Male', 757.365), ('Female', 536.592), ('Female', 56.1225), ('Male', 233.1), ('Female', 801.864), ('Female', 239.589), ('Male', 86.247), ('Female', 401.688), ('Female', 72.009), ('Female', 401.268), ('Female', 631.1445), ('Female', 499.7265), ('Female', 55.041), ('Male', 137.865), ('Female', 151.515), ('Male', 480.0285), ('Male', 98.049), ('Male', 132.5625), ('Male', 830.3715), ('Male', 183.12), ('Female', 397.992), ('Female', 32.151), ('Female', 369.684), ('Female', 53.34), ('Male', 548.163), ('Male', 603.876), ('Female', 57.6975), ('Male', 190.4805), ('Male', 432.9885), ('Male', 48.7305), ('Male', 287.91), ('Female', 1022.385), ('Male', 680.61), ('Female', 97.881), ('Male', 57.078), ('Female', 63.9135), ('Female', 257.145), ('Male', 97.419), ('Male', 455.1225), ('Male', 144.963), ('Female', 253.68), ('Male', 495.3165), ('Female', 462.672), ('Female', 714.3255), ('Female', 325.374), ('Female', 195.678), ('Female', 210.966), ('Female', 18.6375), ('Female', 652.89), ('Male', 90.3), ('Female', 422.73), ('Female', 341.0925), ('Male', 99.9075), ('Female', 408.408), ('Female', 446.964), ('Female', 333.984), ('Male', 284.592), ('Male', 403.872), ('Male', 247.59), ('Male', 222.138), ('Female', 100.128), ('Male', 10.6785), ('Female', 216.4365), ('Female', 441.588), ('Female', 92.442), ('Female', 681.4395), ('Male', 130.032), ('Male', 681.975), ('Female', 779.31), ('Male', 88.704), ('Male', 262.794), ('Female', 99.54), ('Male', 95.865), ('Female', 299.3655), ('Male', 54.999), ('Male', 202.335), ('Male', 281.169), ('Male', 586.635), ('Female', 184.086), ('Male', 163.611), ('Male', 63.315), ('Female', 82.887), ('Female', 31.227), ('Male', 22.386), ('Male', 295.407), ('Male', 76.923), ('Female', 23.499), ('Female', 688.716), ('Female', 624.33), ('Male', 77.805), ('Female', 206.808), ('Male', 390.9465), ('Female', 554.295), ('Female', 503.7375), ('Female', 345.0195), ('Male', 177.408), ('Female', 118.902), ('Male', 362.817), ('Female', 450.1035), ('Female', 90.5835), ('Male', 26.796), ('Female', 106.596), ('Female', 375.3645), ('Female', 250.7085), ('Male', 106.5015), ('Male', 760.452), ('Female', 131.922), ('Male', 76.5765), ('Male', 271.278), ('Male', 182.427), ('Male', 59.325), ('Female', 225.015), ('Male', 561.078), ('Male', 97.818), ('Male', 548.184), ('Male', 54.9675), ('Male', 41.7375), ('Female', 756.168), ('Female', 101.64), ('Female', 348.705), ('Female', 85.512), ('Male', 335.895), ('Female', 216.846), ('Female', 175.014), ('Male', 335.013), ('Male', 92.295), ('Female', 771.435), ('Female', 102.396), ('Male', 807.66), ('Female', 439.215), ('Female', 486.444), ('Female', 485.5725), ('Male', 148.995), ('Male', 317.835), ('Male', 832.944), ('Male', 446.439), ('Female', 297.801), ('Male', 629.16), ('Male', 331.128), ('Female', 423.738), ('Male', 193.074), ('Female', 145.5825), ('Male', 84.7455), ('Female', 122.472), ('Female', 329.196), ('Male', 888.405), ('Female', 435.12), ('Female', 167.034), ('Female', 514.605), ('Female', 91.8225), ('Female', 235.746), ('Female', 782.208), ('Male', 431.256), ('Female', 313.74), ('Female', 223.587), ('Male', 44.9925), ('Female', 397.614), ('Male', 217.2555), ('Female', 82.719), ('Female', 338.2155), ('Female', 103.131), ('Female', 26.733), ('Female', 611.079), ('Female', 221.886), ('Female', 57.876), ('Male', 92.7255), ('Female', 374.409), ('Female', 833.9625), ('Male', 53.151), ('Male', 629.496), ('Female', 175.035), ('Female', 781.62), ('Male', 470.988), ('Female', 397.845), ('Male', 270.018), ('Female', 579.8415), ('Female', 469.77), ('Female', 290.0835), ('Female', 360.927), ('Male', 279.384), ('Male', 943.299), ('Female', 479.64), ('Male', 266.6475), ('Male', 74.088), ('Female', 690.018), ('Male', 176.925), ('Male', 56.469), ('Male', 188.0025), ('Female', 222.012), ('Male', 125.7165), ('Female', 68.985), ('Female', 263.97), ('Female', 88.368), ('Male', 415.233), ('Female', 312.8895), ('Male', 477.1305), ('Male', 289.926), ('Female', 165.9), ('Female', 932.337), ('Male', 96.579), ('Male', 43.869), ('Female', 16.275), ('Male', 304.983), ('Male', 69.993), ('Female', 80.367), ('Female', 314.685), ('Male', 255.1815), ('Female', 49.77), ('Female', 181.0725), ('Female', 888.615), ('Male', 271.2885), ('Male', 640.038), ('Male', 252.252), ('Male', 180.873), ('Male', 104.832), ('Female', 313.572), ('Male', 167.58), ('Female', 26.7225), ('Female', 71.1585), ('Male', 250.278), ('Male', 244.23), ('Female', 921.186), ('Male', 734.706), ('Male', 708.3195), ('Female', 334.4775), ('Female', 30.996), ('Male', 520.8), ('Male', 864.57), ('Male', 633.108), ('Female', 296.94), ('Female', 804.3), ('Male', 121.863), ('Male', 183.645), ('Female', 63.9975), ('Male', 42.3675), ('Female', 1022.49), ('Male', 33.432), ('Male', 69.111), ('Female', 649.299)]\n"
     ]
    }
   ],
   "source": [
    "Newlist= list(zip(Genderlist, Totallist))\n",
    "print(Newlist)\n",
    "\n"
   ]
  },
  {
   "cell_type": "code",
   "execution_count": 8,
   "id": "11692f43",
   "metadata": {},
   "outputs": [
    {
     "name": "stdout",
     "output_type": "stream",
     "text": [
      "322966.74900000007\n"
     ]
    }
   ],
   "source": [
    "Total=sum(Totallist)\n",
    "print(Total)"
   ]
  },
  {
   "cell_type": "code",
   "execution_count": 9,
   "id": "22f5ec52",
   "metadata": {},
   "outputs": [
    {
     "name": "stdout",
     "output_type": "stream",
     "text": [
      "322.96674900000005\n"
     ]
    }
   ],
   "source": [
    "average= Total/ len(Totallist)\n",
    "print(average)"
   ]
  },
  {
   "cell_type": "code",
   "execution_count": 10,
   "id": "00139fc5",
   "metadata": {},
   "outputs": [],
   "source": [
    "femalegender= []\n",
    "total1= []\n",
    "malegender= []\n",
    "total2= []\n",
    "for x, y in Newlist:\n",
    "    if x ==\"Female\":\n",
    "        femalegender.append(x)\n",
    "        total1.append(y)\n",
    "    elif x ==\"Male\":\n",
    "        malegender.append(x)\n",
    "        total2.append(y)\n",
    "      \n",
    "        \n",
    "        \n"
   ]
  },
  {
   "cell_type": "code",
   "execution_count": 11,
   "id": "d66b8743",
   "metadata": {},
   "outputs": [
    {
     "name": "stdout",
     "output_type": "stream",
     "text": [
      "[('Female', 548.9715), ('Female', 80.22), ('Female', 433.692), ('Female', 772.38), ('Female', 76.146), ('Female', 172.746), ('Female', 60.816), ('Female', 246.4875), ('Female', 749.49), ('Female', 590.436), ('Female', 506.6355), ('Female', 84.63), ('Female', 441.756), ('Female', 184.107), ('Female', 463.89), ('Female', 417.564), ('Female', 71.526), ('Female', 575.316), ('Female', 461.328), ('Female', 91.056), ('Female', 435.456), ('Female', 829.08), ('Female', 394.632), ('Female', 189.0945), ('Female', 867.615), ('Female', 234.0975), ('Female', 75.054), ('Female', 722.232), ('Female', 759.675), ('Female', 77.931), ('Female', 520.4115), ('Female', 70.287), ('Female', 614.943), ('Female', 19.2465), ('Female', 152.838), ('Female', 478.233), ('Female', 437.325), ('Female', 189.0945), ('Female', 822.255), ('Female', 106.995), ('Female', 624.897), ('Female', 304.542), ('Female', 337.512), ('Female', 610.491), ('Female', 485.037), ('Female', 198.996), ('Female', 471.03), ('Female', 161.553), ('Female', 78.435), ('Female', 218.0115), ('Female', 321.111), ('Female', 34.629), ('Female', 309.3615), ('Female', 535.374), ('Female', 763.4655), ('Female', 85.113), ('Female', 115.08), ('Female', 836.304), ('Female', 474.348), ('Female', 688.6215), ('Female', 169.3125), ('Female', 299.8485), ('Female', 575.736), ('Female', 853.146), ('Female', 291.207), ('Female', 580.419), ('Female', 146.328), ('Female', 512.19), ('Female', 138.1275), ('Female', 216.846), ('Female', 942.9), ('Female', 720.3), ('Female', 31.9305), ('Female', 491.085), ('Female', 291.438), ('Female', 316.47), ('Female', 384.468), ('Female', 103.824), ('Female', 680.148), ('Female', 362.712), ('Female', 165.4485), ('Female', 90.699), ('Female', 793.716), ('Female', 293.202), ('Female', 242.676), ('Female', 154.392), ('Female', 829.71), ('Female', 78.0045), ('Female', 26.5545), ('Female', 374.7975), ('Female', 120.645), ('Female', 241.458), ('Female', 217.6335), ('Female', 629.8425), ('Female', 299.565), ('Female', 95.6655), ('Female', 942.4485), ('Female', 881.307), ('Female', 217.6335), ('Female', 130.0425), ('Female', 298.116), ('Female', 180.621), ('Female', 13.167), ('Female', 183.036), ('Female', 571.41), ('Female', 532.728), ('Female', 170.877), ('Female', 33.3585), ('Female', 794.6505), ('Female', 195.594), ('Female', 232.155), ('Female', 69.405), ('Female', 256.41), ('Female', 30.219), ('Female', 709.317), ('Female', 69.09), ('Female', 160.86), ('Female', 233.52), ('Female', 723.24), ('Female', 783.3), ('Female', 373.17), ('Female', 354.0075), ('Female', 44.352), ('Female', 203.553), ('Female', 25.263), ('Female', 628.173), ('Female', 229.11), ('Female', 400.764), ('Female', 587.664), ('Female', 16.107), ('Female', 200.214), ('Female', 224.4375), ('Female', 356.5485), ('Female', 697.368), ('Female', 65.604), ('Female', 76.356), ('Female', 272.58), ('Female', 93.0405), ('Female', 214.998), ('Female', 125.664), ('Female', 295.6905), ('Female', 745.836), ('Female', 83.412), ('Female', 172.011), ('Female', 74.7075), ('Female', 146.9475), ('Female', 820.365), ('Female', 66.402), ('Female', 218.0745), ('Female', 216.6885), ('Female', 41.391), ('Female', 324.2925), ('Female', 149.3625), ('Female', 365.085), ('Female', 150.0975), ('Female', 404.649), ('Female', 411.3795), ('Female', 565.215), ('Female', 509.4075), ('Female', 736.4385), ('Female', 749.7), ('Female', 141.75), ('Female', 1042.65), ('Female', 402.2655), ('Female', 31.752), ('Female', 374.388), ('Female', 394.275), ('Female', 1002.12), ('Female', 793.548), ('Female', 173.208), ('Female', 343.056), ('Female', 484.974), ('Female', 150.78), ('Female', 193.011), ('Female', 128.016), ('Female', 441.693), ('Female', 352.2225), ('Female', 507.675), ('Female', 334.341), ('Female', 99.33), ('Female', 55.881), ('Female', 523.3725), ('Female', 314.538), ('Female', 214.935), ('Female', 339.36), ('Female', 510.9615), ('Female', 253.512), ('Female', 398.475), ('Female', 548.73), ('Female', 83.727), ('Female', 406.875), ('Female', 284.9175), ('Female', 258.678), ('Female', 248.409), ('Female', 208.6875), ('Female', 718.7565), ('Female', 288.582), ('Female', 237.426), ('Female', 125.055), ('Female', 359.205), ('Female', 190.596), ('Female', 85.5855), ('Female', 120.162), ('Female', 185.367), ('Female', 121.59), ('Female', 264.7575), ('Female', 1020.705), ('Female', 65.7405), ('Female', 951.825), ('Female', 147.798), ('Female', 49.812), ('Female', 343.224), ('Female', 742.812), ('Female', 843.0345), ('Female', 140.385), ('Female', 20.1075), ('Female', 28.4235), ('Female', 41.076), ('Female', 470.673), ('Female', 333.9525), ('Female', 155.19), ('Female', 731.43), ('Female', 488.985), ('Female', 767.025), ('Female', 310.59), ('Female', 23.751), ('Female', 572.775), ('Female', 273.0525), ('Female', 103.782), ('Female', 527.751), ('Female', 168.21), ('Female', 338.31), ('Female', 174.615), ('Female', 344.4), ('Female', 388.29), ('Female', 207.858), ('Female', 431.445), ('Female', 734.076), ('Female', 72.87), ('Female', 206.43), ('Female', 212.688), ('Female', 127.26), ('Female', 132.762), ('Female', 568.512), ('Female', 103.0365), ('Female', 432.768), ('Female', 33.495), ('Female', 195.951), ('Female', 152.775), ('Female', 529.515), ('Female', 100.485), ('Female', 666.939), ('Female', 225.2775), ('Female', 398.958), ('Female', 54.0435), ('Female', 143.9865), ('Female', 523.971), ('Female', 235.872), ('Female', 479.9025), ('Female', 570.78), ('Female', 154.1295), ('Female', 148.68), ('Female', 77.658), ('Female', 306.81), ('Female', 551.124), ('Female', 84.756), ('Female', 74.76), ('Female', 308.91), ('Female', 270.585), ('Female', 416.178), ('Female', 513.2295), ('Female', 550.368), ('Female', 151.284), ('Female', 1034.46), ('Female', 228.123), ('Female', 356.328), ('Female', 852.705), ('Female', 517.965), ('Female', 621.243), ('Female', 586.971), ('Female', 543.753), ('Female', 430.71), ('Female', 269.934), ('Female', 326.256), ('Female', 195.258), ('Female', 75.936), ('Female', 164.871), ('Female', 226.065), ('Female', 178.164), ('Female', 47.859), ('Female', 236.88), ('Female', 440.937), ('Female', 193.4625), ('Female', 147.672), ('Female', 68.2395), ('Female', 343.413), ('Female', 381.3915), ('Female', 394.3275), ('Female', 209.118), ('Female', 30.408), ('Female', 935.2665), ('Female', 365.904), ('Female', 273.798), ('Female', 225.792), ('Female', 96.1905), ('Female', 695.2365), ('Female', 874.125), ('Female', 165.648), ('Female', 12.6945), ('Female', 48.51), ('Female', 92.5575), ('Female', 311.1885), ('Female', 743.82), ('Female', 609.168), ('Female', 32.529), ('Female', 351.603), ('Female', 49.4235), ('Female', 104.6745), ('Female', 277.6725), ('Female', 146.6325), ('Female', 135.3555), ('Female', 370.125), ('Female', 914.55), ('Female', 207.48), ('Female', 204.246), ('Female', 75.474), ('Female', 300.573), ('Female', 85.302), ('Female', 231.2415), ('Female', 477.54), ('Female', 470.988), ('Female', 308.574), ('Female', 41.454), ('Female', 36.5505), ('Female', 310.716), ('Female', 145.404), ('Female', 103.11), ('Female', 136.143), ('Female', 211.365), ('Female', 663.2955), ('Female', 539.343), ('Female', 497.07), ('Female', 458.6925), ('Female', 113.568), ('Female', 507.444), ('Female', 207.585), ('Female', 835.2855), ('Female', 180.6), ('Female', 317.226), ('Female', 733.6035), ('Female', 130.8825), ('Female', 187.32), ('Female', 525.231), ('Female', 110.124), ('Female', 187.866), ('Female', 856.4535), ('Female', 270.2595), ('Female', 239.4), ('Female', 383.523), ('Female', 93.744), ('Female', 596.82), ('Female', 150.423), ('Female', 266.028), ('Female', 40.341), ('Female', 55.2825), ('Female', 116.1405), ('Female', 93.744), ('Female', 143.22), ('Female', 182.91), ('Female', 267.3405), ('Female', 817.236), ('Female', 300.216), ('Female', 608.076), ('Female', 232.638), ('Female', 810.6), ('Female', 536.592), ('Female', 56.1225), ('Female', 801.864), ('Female', 239.589), ('Female', 401.688), ('Female', 72.009), ('Female', 401.268), ('Female', 631.1445), ('Female', 499.7265), ('Female', 55.041), ('Female', 151.515), ('Female', 397.992), ('Female', 32.151), ('Female', 369.684), ('Female', 53.34), ('Female', 57.6975), ('Female', 1022.385), ('Female', 97.881), ('Female', 63.9135), ('Female', 257.145), ('Female', 253.68), ('Female', 462.672), ('Female', 714.3255), ('Female', 325.374), ('Female', 195.678), ('Female', 210.966), ('Female', 18.6375), ('Female', 652.89), ('Female', 422.73), ('Female', 341.0925), ('Female', 408.408), ('Female', 446.964), ('Female', 333.984), ('Female', 100.128), ('Female', 216.4365), ('Female', 441.588), ('Female', 92.442), ('Female', 681.4395), ('Female', 779.31), ('Female', 99.54), ('Female', 299.3655), ('Female', 184.086), ('Female', 82.887), ('Female', 31.227), ('Female', 23.499), ('Female', 688.716), ('Female', 624.33), ('Female', 206.808), ('Female', 554.295), ('Female', 503.7375), ('Female', 345.0195), ('Female', 118.902), ('Female', 450.1035), ('Female', 90.5835), ('Female', 106.596), ('Female', 375.3645), ('Female', 250.7085), ('Female', 131.922), ('Female', 225.015), ('Female', 756.168), ('Female', 101.64), ('Female', 348.705), ('Female', 85.512), ('Female', 216.846), ('Female', 175.014), ('Female', 771.435), ('Female', 102.396), ('Female', 439.215), ('Female', 486.444), ('Female', 485.5725), ('Female', 297.801), ('Female', 423.738), ('Female', 145.5825), ('Female', 122.472), ('Female', 329.196), ('Female', 435.12), ('Female', 167.034), ('Female', 514.605), ('Female', 91.8225), ('Female', 235.746), ('Female', 782.208), ('Female', 313.74), ('Female', 223.587), ('Female', 397.614), ('Female', 82.719), ('Female', 338.2155), ('Female', 103.131), ('Female', 26.733), ('Female', 611.079), ('Female', 221.886), ('Female', 57.876), ('Female', 374.409), ('Female', 833.9625), ('Female', 175.035), ('Female', 781.62), ('Female', 397.845), ('Female', 579.8415), ('Female', 469.77), ('Female', 290.0835), ('Female', 360.927), ('Female', 479.64), ('Female', 690.018), ('Female', 222.012), ('Female', 68.985), ('Female', 263.97), ('Female', 88.368), ('Female', 312.8895), ('Female', 165.9), ('Female', 932.337), ('Female', 16.275), ('Female', 80.367), ('Female', 314.685), ('Female', 49.77), ('Female', 181.0725), ('Female', 888.615), ('Female', 313.572), ('Female', 26.7225), ('Female', 71.1585), ('Female', 921.186), ('Female', 334.4775), ('Female', 30.996), ('Female', 296.94), ('Female', 804.3), ('Female', 63.9975), ('Female', 1022.49), ('Female', 649.299)]\n"
     ]
    }
   ],
   "source": [
    "mynewlist= list(zip(femalegender, total1))\n",
    "print(mynewlist)"
   ]
  },
  {
   "cell_type": "code",
   "execution_count": 12,
   "id": "7bff02de",
   "metadata": {},
   "outputs": [
    {
     "name": "stdout",
     "output_type": "stream",
     "text": [
      "167882.92500000002\n"
     ]
    }
   ],
   "source": [
    "femaletotal= sum(total1)\n",
    "print(femaletotal)\n"
   ]
  },
  {
   "cell_type": "code",
   "execution_count": 13,
   "id": "3f981dcd",
   "metadata": {},
   "outputs": [
    {
     "name": "stdout",
     "output_type": "stream",
     "text": [
      "335.0956586826348\n"
     ]
    }
   ],
   "source": [
    "Averageforfemale= femaletotal/len(femalegender)\n",
    "print(Averageforfemale)"
   ]
  },
  {
   "cell_type": "code",
   "execution_count": 14,
   "id": "a5f13727",
   "metadata": {
    "scrolled": true
   },
   "outputs": [
    {
     "name": "stdout",
     "output_type": "stream",
     "text": [
      "[('Male', 340.5255), ('Male', 489.048), ('Male', 634.3785), ('Male', 627.6165), ('Male', 107.142), ('Male', 453.495), ('Male', 457.443), ('Male', 172.2105), ('Male', 451.71), ('Male', 277.137), ('Male', 69.72), ('Male', 181.44), ('Male', 279.1845), ('Male', 35.196), ('Male', 235.2105), ('Male', 494.1825), ('Male', 737.7615), ('Male', 703.752), ('Male', 202.818), ('Male', 328.755), ('Male', 253.008), ('Male', 117.831), ('Male', 32.277), ('Male', 535.7205), ('Male', 119.259), ('Male', 671.79), ('Male', 16.2015), ('Male', 33.936), ('Male', 93.114), ('Male', 752.64), ('Male', 192.843), ('Male', 351.099), ('Male', 166.005), ('Male', 318.108), ('Male', 166.635), ('Male', 827.085), ('Male', 939.54), ('Male', 652.26), ('Male', 705.6315), ('Male', 463.428), ('Male', 161.7), ('Male', 256.7775), ('Male', 401.73), ('Male', 362.943), ('Male', 44.5935), ('Male', 608.202), ('Male', 94.2375), ('Male', 102.018), ('Male', 922.635), ('Male', 166.1625), ('Male', 521.01), ('Male', 51.1455), ('Male', 742.2975), ('Male', 367.038), ('Male', 223.0725), ('Male', 931.035), ('Male', 172.494), ('Male', 391.419), ('Male', 860.685), ('Male', 548.7615), ('Male', 115.185), ('Male', 53.928), ('Male', 112.224), ('Male', 419.832), ('Male', 944.622), ('Male', 536.844), ('Male', 550.935), ('Male', 284.193), ('Male', 545.055), ('Male', 609.0), ('Male', 950.25), ('Male', 277.788), ('Male', 603.624), ('Male', 272.664), ('Male', 254.016), ('Male', 786.618), ('Male', 484.5225), ('Male', 75.7785), ('Male', 263.97), ('Male', 918.729), ('Male', 588.357), ('Male', 66.8745), ('Male', 336.5565), ('Male', 160.44), ('Male', 418.95), ('Male', 357.588), ('Male', 1003.59), ('Male', 1039.29), ('Male', 323.064), ('Male', 510.972), ('Male', 367.5525), ('Male', 420.2625), ('Male', 175.14), ('Male', 333.207), ('Male', 166.236), ('Male', 319.788), ('Male', 186.228), ('Male', 465.444), ('Male', 273.42), ('Male', 472.311), ('Male', 323.148), ('Male', 162.75), ('Male', 288.204), ('Male', 56.952), ('Male', 195.174), ('Male', 77.7735), ('Male', 107.31), ('Male', 171.7275), ('Male', 91.77), ('Male', 174.3), ('Male', 451.3635), ('Male', 271.95), ('Male', 93.2925), ('Male', 247.8735), ('Male', 484.89), ('Male', 146.223), ('Male', 19.194), ('Male', 796.908), ('Male', 285.705), ('Male', 456.288), ('Male', 62.0025), ('Male', 90.825), ('Male', 655.5465), ('Male', 155.652), ('Male', 310.044), ('Male', 545.37), ('Male', 91.4025), ('Male', 94.1745), ('Male', 235.683), ('Male', 125.517), ('Male', 195.72), ('Male', 263.13), ('Male', 788.508), ('Male', 399.756), ('Male', 94.185), ('Male', 326.424), ('Male', 536.991), ('Male', 439.8975), ('Male', 369.495), ('Male', 99.75), ('Male', 494.76), ('Male', 137.004), ('Male', 69.6675), ('Male', 163.233), ('Male', 135.45), ('Male', 276.948), ('Male', 57.1725), ('Male', 148.974), ('Male', 297.108), ('Male', 352.5795), ('Male', 745.395), ('Male', 462.21), ('Male', 38.85), ('Male', 628.929), ('Male', 350.07), ('Male', 78.603), ('Male', 423.15), ('Male', 204.6975), ('Male', 190.155), ('Male', 121.128), ('Male', 493.794), ('Male', 252.042), ('Male', 209.622), ('Male', 40.9605), ('Male', 51.0405), ('Male', 530.67), ('Male', 503.559), ('Male', 145.593), ('Male', 208.677), ('Male', 392.6475), ('Male', 185.094), ('Male', 96.138), ('Male', 135.576), ('Male', 410.508), ('Male', 523.845), ('Male', 395.892), ('Male', 214.746), ('Male', 152.712), ('Male', 208.089), ('Male', 103.635), ('Male', 404.355), ('Male', 49.308), ('Male', 77.175), ('Male', 721.98), ('Male', 151.4835), ('Male', 140.6475), ('Male', 75.5475), ('Male', 191.247), ('Male', 379.9215), ('Male', 255.15), ('Male', 86.625), ('Male', 78.7185), ('Male', 680.064), ('Male', 209.559), ('Male', 461.286), ('Male', 276.948), ('Male', 203.175), ('Male', 265.104), ('Male', 701.8515), ('Male', 407.316), ('Male', 345.786), ('Male', 79.611), ('Male', 294.651), ('Male', 133.917), ('Male', 80.661), ('Male', 128.4255), ('Male', 181.818), ('Male', 194.124), ('Male', 14.679), ('Male', 282.492), ('Male', 72.3975), ('Male', 45.927), ('Male', 110.0925), ('Male', 81.396), ('Male', 427.812), ('Male', 100.9155), ('Male', 213.528), ('Male', 17.094), ('Male', 383.7645), ('Male', 390.7995), ('Male', 353.1675), ('Male', 145.068), ('Male', 90.867), ('Male', 702.219), ('Male', 937.818), ('Male', 348.306), ('Male', 214.137), ('Male', 71.568), ('Male', 91.56), ('Male', 13.419), ('Male', 290.43), ('Male', 144.081), ('Male', 138.663), ('Male', 26.25), ('Male', 87.234), ('Male', 833.595), ('Male', 37.6845), ('Male', 212.73), ('Male', 269.535), ('Male', 233.226), ('Male', 22.659), ('Male', 452.865), ('Male', 609.588), ('Male', 205.317), ('Male', 353.094), ('Male', 360.885), ('Male', 40.53), ('Male', 554.148), ('Male', 194.985), ('Male', 633.99), ('Male', 156.03), ('Male', 24.108), ('Male', 209.769), ('Male', 637.728), ('Male', 77.6685), ('Male', 145.74), ('Male', 92.8725), ('Male', 203.112), ('Male', 321.7725), ('Male', 731.6925), ('Male', 429.1665), ('Male', 288.015), ('Male', 206.7975), ('Male', 72.933), ('Male', 377.58), ('Male', 132.027), ('Male', 514.773), ('Male', 164.682), ('Male', 125.706), ('Male', 926.9505), ('Male', 160.209), ('Male', 728.112), ('Male', 240.975), ('Male', 122.5245), ('Male', 102.837), ('Male', 96.642), ('Male', 79.674), ('Male', 118.251), ('Male', 163.002), ('Male', 575.9775), ('Male', 180.4005), ('Male', 139.923), ('Male', 142.002), ('Male', 118.062), ('Male', 262.458), ('Male', 203.931), ('Male', 936.6), ('Male', 469.413), ('Male', 208.425), ('Male', 280.035), ('Male', 74.4555), ('Male', 152.019), ('Male', 451.0275), ('Male', 597.6285), ('Male', 253.26), ('Male', 133.434), ('Male', 145.971), ('Male', 85.743), ('Male', 198.639), ('Male', 217.182), ('Male', 625.905), ('Male', 76.755), ('Male', 293.139), ('Male', 304.92), ('Male', 46.683), ('Male', 164.43), ('Male', 87.234), ('Male', 814.38), ('Male', 133.35), ('Male', 32.1405), ('Male', 121.569), ('Male', 293.643), ('Male', 84.9765), ('Male', 708.225), ('Male', 457.38), ('Male', 461.5275), ('Male', 620.739), ('Male', 95.9175), ('Male', 127.827), ('Male', 867.09), ('Male', 167.895), ('Male', 673.995), ('Male', 246.6765), ('Male', 175.917), ('Male', 314.055), ('Male', 251.7165), ('Male', 697.935), ('Male', 212.7825), ('Male', 165.123), ('Male', 116.907), ('Male', 63.2625), ('Male', 182.952), ('Male', 442.323), ('Male', 35.3115), ('Male', 259.77), ('Male', 397.215), ('Male', 764.19), ('Male', 352.674), ('Male', 252.756), ('Male', 58.2225), ('Male', 125.979), ('Male', 181.881), ('Male', 588.42), ('Male', 196.14), ('Male', 282.576), ('Male', 175.917), ('Male', 618.975), ('Male', 305.55), ('Male', 45.108), ('Male', 667.38), ('Male', 153.048), ('Male', 404.544), ('Male', 510.615), ('Male', 261.198), ('Male', 657.531), ('Male', 1023.75), ('Male', 101.808), ('Male', 760.4415), ('Male', 527.5095), ('Male', 72.429), ('Male', 131.208), ('Male', 80.955), ('Male', 507.906), ('Male', 829.08), ('Male', 37.611), ('Male', 142.947), ('Male', 138.978), ('Male', 98.028), ('Male', 175.0455), ('Male', 732.27), ('Male', 408.492), ('Male', 176.4), ('Male', 20.685), ('Male', 557.718), ('Male', 56.406), ('Male', 860.475), ('Male', 616.98), ('Male', 769.104), ('Male', 887.922), ('Male', 408.7335), ('Male', 89.0715), ('Male', 79.149), ('Male', 684.915), ('Male', 597.0405), ('Male', 384.72), ('Male', 197.925), ('Male', 757.365), ('Male', 233.1), ('Male', 86.247), ('Male', 137.865), ('Male', 480.0285), ('Male', 98.049), ('Male', 132.5625), ('Male', 830.3715), ('Male', 183.12), ('Male', 548.163), ('Male', 603.876), ('Male', 190.4805), ('Male', 432.9885), ('Male', 48.7305), ('Male', 287.91), ('Male', 680.61), ('Male', 57.078), ('Male', 97.419), ('Male', 455.1225), ('Male', 144.963), ('Male', 495.3165), ('Male', 90.3), ('Male', 99.9075), ('Male', 284.592), ('Male', 403.872), ('Male', 247.59), ('Male', 222.138), ('Male', 10.6785), ('Male', 130.032), ('Male', 681.975), ('Male', 88.704), ('Male', 262.794), ('Male', 95.865), ('Male', 54.999), ('Male', 202.335), ('Male', 281.169), ('Male', 586.635), ('Male', 163.611), ('Male', 63.315), ('Male', 22.386), ('Male', 295.407), ('Male', 76.923), ('Male', 77.805), ('Male', 390.9465), ('Male', 177.408), ('Male', 362.817), ('Male', 26.796), ('Male', 106.5015), ('Male', 760.452), ('Male', 76.5765), ('Male', 271.278), ('Male', 182.427), ('Male', 59.325), ('Male', 561.078), ('Male', 97.818), ('Male', 548.184), ('Male', 54.9675), ('Male', 41.7375), ('Male', 335.895), ('Male', 335.013), ('Male', 92.295), ('Male', 807.66), ('Male', 148.995), ('Male', 317.835), ('Male', 832.944), ('Male', 446.439), ('Male', 629.16), ('Male', 331.128), ('Male', 193.074), ('Male', 84.7455), ('Male', 888.405), ('Male', 431.256), ('Male', 44.9925), ('Male', 217.2555), ('Male', 92.7255), ('Male', 53.151), ('Male', 629.496), ('Male', 470.988), ('Male', 270.018), ('Male', 279.384), ('Male', 943.299), ('Male', 266.6475), ('Male', 74.088), ('Male', 176.925), ('Male', 56.469), ('Male', 188.0025), ('Male', 125.7165), ('Male', 415.233), ('Male', 477.1305), ('Male', 289.926), ('Male', 96.579), ('Male', 43.869), ('Male', 304.983), ('Male', 69.993), ('Male', 255.1815), ('Male', 271.2885), ('Male', 640.038), ('Male', 252.252), ('Male', 180.873), ('Male', 104.832), ('Male', 167.58), ('Male', 250.278), ('Male', 244.23), ('Male', 734.706), ('Male', 708.3195), ('Male', 520.8), ('Male', 864.57), ('Male', 633.108), ('Male', 121.863), ('Male', 183.645), ('Male', 42.3675), ('Male', 33.432), ('Male', 69.111)]\n"
     ]
    }
   ],
   "source": [
    "mennewlist= list(zip(malegender, total2))\n",
    "print(mennewlist)"
   ]
  },
  {
   "cell_type": "code",
   "execution_count": 15,
   "id": "045a9cfc",
   "metadata": {},
   "outputs": [
    {
     "name": "stdout",
     "output_type": "stream",
     "text": [
      "155083.82400000014\n"
     ]
    }
   ],
   "source": [
    "mentotal= sum(total2)\n",
    "print(mentotal)"
   ]
  },
  {
   "cell_type": "code",
   "execution_count": 16,
   "id": "153f7b89",
   "metadata": {},
   "outputs": [
    {
     "name": "stdout",
     "output_type": "stream",
     "text": [
      "310.78922645290606\n"
     ]
    }
   ],
   "source": [
    "averageformen= mentotal/len(malegender)\n",
    "print(averageformen)"
   ]
  },
  {
   "cell_type": "code",
   "execution_count": 17,
   "id": "9d913b7b",
   "metadata": {},
   "outputs": [],
   "source": [
    "Payment= mydata['Payment']"
   ]
  },
  {
   "cell_type": "code",
   "execution_count": 18,
   "id": "cd910021",
   "metadata": {
    "scrolled": true
   },
   "outputs": [
    {
     "name": "stdout",
     "output_type": "stream",
     "text": [
      "['Ewallet', 'Cash', 'Credit card', 'Ewallet', 'Ewallet', 'Ewallet', 'Ewallet', 'Ewallet', 'Credit card', 'Credit card', 'Ewallet', 'Cash', 'Ewallet', 'Ewallet', 'Cash', 'Cash', 'Credit card', 'Credit card', 'Credit card', 'Ewallet', 'Ewallet', 'Ewallet', 'Credit card', 'Ewallet', 'Ewallet', 'Credit card', 'Cash', 'Credit card', 'Cash', 'Cash', 'Credit card', 'Cash', 'Cash', 'Credit card', 'Ewallet', 'Ewallet', 'Ewallet', 'Ewallet', 'Ewallet', 'Cash', 'Ewallet', 'Cash', 'Cash', 'Cash', 'Cash', 'Cash', 'Credit card', 'Ewallet', 'Credit card', 'Ewallet', 'Cash', 'Cash', 'Ewallet', 'Credit card', 'Ewallet', 'Cash', 'Cash', 'Ewallet', 'Cash', 'Cash', 'Credit card', 'Ewallet', 'Ewallet', 'Credit card', 'Cash', 'Cash', 'Ewallet', 'Ewallet', 'Cash', 'Cash', 'Credit card', 'Cash', 'Ewallet', 'Cash', 'Ewallet', 'Credit card', 'Credit card', 'Credit card', 'Ewallet', 'Cash', 'Credit card', 'Ewallet', 'Ewallet', 'Credit card', 'Cash', 'Ewallet', 'Cash', 'Credit card', 'Cash', 'Cash', 'Cash', 'Ewallet', 'Ewallet', 'Credit card', 'Credit card', 'Ewallet', 'Ewallet', 'Cash', 'Ewallet', 'Cash', 'Cash', 'Cash', 'Cash', 'Cash', 'Cash', 'Ewallet', 'Credit card', 'Cash', 'Cash', 'Cash', 'Ewallet', 'Credit card', 'Cash', 'Ewallet', 'Credit card', 'Credit card', 'Ewallet', 'Ewallet', 'Ewallet', 'Ewallet', 'Credit card', 'Credit card', 'Credit card', 'Credit card', 'Ewallet', 'Credit card', 'Cash', 'Credit card', 'Ewallet', 'Ewallet', 'Cash', 'Cash', 'Cash', 'Credit card', 'Ewallet', 'Cash', 'Credit card', 'Cash', 'Cash', 'Ewallet', 'Credit card', 'Cash', 'Cash', 'Credit card', 'Ewallet', 'Credit card', 'Ewallet', 'Credit card', 'Credit card', 'Credit card', 'Credit card', 'Credit card', 'Credit card', 'Ewallet', 'Cash', 'Credit card', 'Cash', 'Ewallet', 'Ewallet', 'Ewallet', 'Credit card', 'Cash', 'Credit card', 'Ewallet', 'Credit card', 'Ewallet', 'Cash', 'Credit card', 'Cash', 'Credit card', 'Ewallet', 'Credit card', 'Cash', 'Credit card', 'Ewallet', 'Ewallet', 'Credit card', 'Credit card', 'Ewallet', 'Ewallet', 'Cash', 'Cash', 'Ewallet', 'Ewallet', 'Credit card', 'Ewallet', 'Ewallet', 'Cash', 'Ewallet', 'Credit card', 'Credit card', 'Ewallet', 'Cash', 'Ewallet', 'Credit card', 'Cash', 'Cash', 'Ewallet', 'Credit card', 'Credit card', 'Credit card', 'Cash', 'Cash', 'Ewallet', 'Credit card', 'Ewallet', 'Credit card', 'Ewallet', 'Ewallet', 'Credit card', 'Ewallet', 'Cash', 'Ewallet', 'Credit card', 'Cash', 'Credit card', 'Cash', 'Cash', 'Ewallet', 'Credit card', 'Ewallet', 'Ewallet', 'Cash', 'Cash', 'Cash', 'Credit card', 'Ewallet', 'Ewallet', 'Cash', 'Ewallet', 'Cash', 'Credit card', 'Cash', 'Cash', 'Ewallet', 'Ewallet', 'Credit card', 'Credit card', 'Cash', 'Ewallet', 'Credit card', 'Credit card', 'Credit card', 'Cash', 'Credit card', 'Cash', 'Cash', 'Ewallet', 'Credit card', 'Credit card', 'Ewallet', 'Credit card', 'Credit card', 'Cash', 'Cash', 'Cash', 'Credit card', 'Ewallet', 'Ewallet', 'Credit card', 'Ewallet', 'Ewallet', 'Cash', 'Cash', 'Ewallet', 'Credit card', 'Credit card', 'Cash', 'Credit card', 'Ewallet', 'Ewallet', 'Cash', 'Credit card', 'Cash', 'Ewallet', 'Cash', 'Cash', 'Ewallet', 'Cash', 'Credit card', 'Credit card', 'Credit card', 'Cash', 'Ewallet', 'Cash', 'Cash', 'Cash', 'Cash', 'Credit card', 'Cash', 'Credit card', 'Ewallet', 'Cash', 'Cash', 'Ewallet', 'Cash', 'Cash', 'Ewallet', 'Cash', 'Cash', 'Credit card', 'Credit card', 'Cash', 'Credit card', 'Cash', 'Ewallet', 'Cash', 'Cash', 'Ewallet', 'Cash', 'Cash', 'Ewallet', 'Credit card', 'Cash', 'Cash', 'Cash', 'Cash', 'Cash', 'Credit card', 'Ewallet', 'Cash', 'Cash', 'Ewallet', 'Cash', 'Credit card', 'Ewallet', 'Cash', 'Cash', 'Credit card', 'Cash', 'Cash', 'Credit card', 'Cash', 'Credit card', 'Ewallet', 'Credit card', 'Ewallet', 'Cash', 'Credit card', 'Credit card', 'Credit card', 'Ewallet', 'Cash', 'Ewallet', 'Cash', 'Ewallet', 'Cash', 'Cash', 'Cash', 'Credit card', 'Credit card', 'Cash', 'Credit card', 'Cash', 'Cash', 'Credit card', 'Credit card', 'Cash', 'Ewallet', 'Cash', 'Credit card', 'Cash', 'Ewallet', 'Cash', 'Cash', 'Cash', 'Cash', 'Cash', 'Cash', 'Credit card', 'Cash', 'Credit card', 'Ewallet', 'Cash', 'Credit card', 'Ewallet', 'Credit card', 'Ewallet', 'Ewallet', 'Credit card', 'Credit card', 'Cash', 'Cash', 'Ewallet', 'Ewallet', 'Cash', 'Cash', 'Credit card', 'Ewallet', 'Credit card', 'Cash', 'Cash', 'Ewallet', 'Credit card', 'Ewallet', 'Ewallet', 'Ewallet', 'Cash', 'Credit card', 'Cash', 'Credit card', 'Credit card', 'Ewallet', 'Ewallet', 'Ewallet', 'Credit card', 'Credit card', 'Cash', 'Ewallet', 'Ewallet', 'Cash', 'Ewallet', 'Cash', 'Ewallet', 'Ewallet', 'Ewallet', 'Credit card', 'Ewallet', 'Ewallet', 'Cash', 'Ewallet', 'Cash', 'Credit card', 'Credit card', 'Cash', 'Cash', 'Cash', 'Credit card', 'Cash', 'Ewallet', 'Credit card', 'Ewallet', 'Ewallet', 'Credit card', 'Credit card', 'Ewallet', 'Ewallet', 'Credit card', 'Ewallet', 'Credit card', 'Cash', 'Credit card', 'Credit card', 'Ewallet', 'Cash', 'Credit card', 'Credit card', 'Credit card', 'Credit card', 'Credit card', 'Cash', 'Cash', 'Ewallet', 'Ewallet', 'Cash', 'Cash', 'Credit card', 'Cash', 'Cash', 'Credit card', 'Cash', 'Credit card', 'Cash', 'Cash', 'Credit card', 'Credit card', 'Credit card', 'Cash', 'Ewallet', 'Cash', 'Ewallet', 'Cash', 'Credit card', 'Cash', 'Cash', 'Credit card', 'Credit card', 'Ewallet', 'Ewallet', 'Ewallet', 'Cash', 'Cash', 'Ewallet', 'Cash', 'Credit card', 'Ewallet', 'Cash', 'Ewallet', 'Cash', 'Ewallet', 'Ewallet', 'Credit card', 'Ewallet', 'Credit card', 'Ewallet', 'Cash', 'Cash', 'Cash', 'Cash', 'Cash', 'Credit card', 'Ewallet', 'Ewallet', 'Cash', 'Credit card', 'Ewallet', 'Cash', 'Credit card', 'Cash', 'Credit card', 'Credit card', 'Ewallet', 'Ewallet', 'Cash', 'Credit card', 'Ewallet', 'Ewallet', 'Credit card', 'Ewallet', 'Credit card', 'Credit card', 'Cash', 'Credit card', 'Cash', 'Credit card', 'Ewallet', 'Credit card', 'Ewallet', 'Credit card', 'Cash', 'Ewallet', 'Credit card', 'Ewallet', 'Ewallet', 'Ewallet', 'Ewallet', 'Credit card', 'Ewallet', 'Credit card', 'Ewallet', 'Ewallet', 'Credit card', 'Credit card', 'Credit card', 'Credit card', 'Ewallet', 'Ewallet', 'Credit card', 'Cash', 'Cash', 'Ewallet', 'Cash', 'Cash', 'Credit card', 'Cash', 'Credit card', 'Cash', 'Ewallet', 'Ewallet', 'Ewallet', 'Cash', 'Credit card', 'Ewallet', 'Ewallet', 'Cash', 'Credit card', 'Credit card', 'Cash', 'Credit card', 'Ewallet', 'Credit card', 'Cash', 'Ewallet', 'Credit card', 'Credit card', 'Ewallet', 'Cash', 'Ewallet', 'Cash', 'Ewallet', 'Cash', 'Cash', 'Credit card', 'Credit card', 'Ewallet', 'Credit card', 'Cash', 'Ewallet', 'Cash', 'Cash', 'Credit card', 'Ewallet', 'Cash', 'Ewallet', 'Cash', 'Credit card', 'Credit card', 'Ewallet', 'Cash', 'Ewallet', 'Ewallet', 'Credit card', 'Ewallet', 'Ewallet', 'Cash', 'Cash', 'Ewallet', 'Credit card', 'Ewallet', 'Ewallet', 'Credit card', 'Cash', 'Cash', 'Credit card', 'Ewallet', 'Ewallet', 'Cash', 'Ewallet', 'Credit card', 'Ewallet', 'Credit card', 'Cash', 'Credit card', 'Credit card', 'Cash', 'Cash', 'Ewallet', 'Cash', 'Ewallet', 'Credit card', 'Credit card', 'Ewallet', 'Credit card', 'Ewallet', 'Credit card', 'Credit card', 'Credit card', 'Cash', 'Cash', 'Ewallet', 'Ewallet', 'Ewallet', 'Ewallet', 'Credit card', 'Ewallet', 'Ewallet', 'Cash', 'Cash', 'Cash', 'Cash', 'Ewallet', 'Cash', 'Cash', 'Ewallet', 'Credit card', 'Credit card', 'Credit card', 'Ewallet', 'Cash', 'Credit card', 'Cash', 'Credit card', 'Credit card', 'Credit card', 'Cash', 'Ewallet', 'Ewallet', 'Ewallet', 'Ewallet', 'Credit card', 'Ewallet', 'Cash', 'Ewallet', 'Credit card', 'Credit card', 'Cash', 'Credit card', 'Cash', 'Ewallet', 'Ewallet', 'Cash', 'Credit card', 'Ewallet', 'Ewallet', 'Ewallet', 'Credit card', 'Credit card', 'Cash', 'Cash', 'Cash', 'Cash', 'Ewallet', 'Cash', 'Cash', 'Cash', 'Cash', 'Ewallet', 'Ewallet', 'Credit card', 'Ewallet', 'Ewallet', 'Credit card', 'Credit card', 'Cash', 'Cash', 'Cash', 'Ewallet', 'Cash', 'Ewallet', 'Ewallet', 'Cash', 'Ewallet', 'Ewallet', 'Ewallet', 'Ewallet', 'Credit card', 'Ewallet', 'Credit card', 'Credit card', 'Credit card', 'Cash', 'Cash', 'Credit card', 'Cash', 'Ewallet', 'Cash', 'Credit card', 'Credit card', 'Ewallet', 'Cash', 'Credit card', 'Ewallet', 'Ewallet', 'Ewallet', 'Ewallet', 'Credit card', 'Credit card', 'Ewallet', 'Ewallet', 'Cash', 'Cash', 'Ewallet', 'Ewallet', 'Ewallet', 'Credit card', 'Cash', 'Credit card', 'Credit card', 'Credit card', 'Cash', 'Ewallet', 'Credit card', 'Ewallet', 'Ewallet', 'Ewallet', 'Credit card', 'Ewallet', 'Cash', 'Ewallet', 'Ewallet', 'Credit card', 'Credit card', 'Ewallet', 'Ewallet', 'Credit card', 'Ewallet', 'Credit card', 'Cash', 'Cash', 'Cash', 'Ewallet', 'Credit card', 'Ewallet', 'Credit card', 'Cash', 'Credit card', 'Credit card', 'Cash', 'Cash', 'Ewallet', 'Cash', 'Ewallet', 'Credit card', 'Cash', 'Ewallet', 'Credit card', 'Ewallet', 'Credit card', 'Credit card', 'Ewallet', 'Credit card', 'Credit card', 'Credit card', 'Credit card', 'Credit card', 'Ewallet', 'Cash', 'Cash', 'Credit card', 'Ewallet', 'Ewallet', 'Ewallet', 'Ewallet', 'Cash', 'Cash', 'Cash', 'Credit card', 'Cash', 'Cash', 'Ewallet', 'Ewallet', 'Credit card', 'Credit card', 'Cash', 'Cash', 'Ewallet', 'Cash', 'Ewallet', 'Credit card', 'Credit card', 'Ewallet', 'Credit card', 'Cash', 'Cash', 'Credit card', 'Credit card', 'Credit card', 'Credit card', 'Cash', 'Credit card', 'Cash', 'Cash', 'Cash', 'Ewallet', 'Ewallet', 'Cash', 'Ewallet', 'Credit card', 'Cash', 'Ewallet', 'Cash', 'Cash', 'Credit card', 'Credit card', 'Cash', 'Credit card', 'Ewallet', 'Credit card', 'Cash', 'Cash', 'Cash', 'Ewallet', 'Ewallet', 'Ewallet', 'Ewallet', 'Cash', 'Cash', 'Cash', 'Cash', 'Cash', 'Ewallet', 'Ewallet', 'Credit card', 'Cash', 'Cash', 'Ewallet', 'Credit card', 'Ewallet', 'Credit card', 'Ewallet', 'Credit card', 'Ewallet', 'Cash', 'Cash', 'Credit card', 'Ewallet', 'Cash', 'Cash', 'Credit card', 'Ewallet', 'Ewallet', 'Credit card', 'Credit card', 'Ewallet', 'Cash', 'Cash', 'Ewallet', 'Ewallet', 'Ewallet', 'Ewallet', 'Cash', 'Cash', 'Credit card', 'Cash', 'Credit card', 'Credit card', 'Ewallet', 'Cash', 'Cash', 'Ewallet', 'Credit card', 'Ewallet', 'Credit card', 'Cash', 'Ewallet', 'Cash', 'Credit card', 'Credit card', 'Ewallet', 'Credit card', 'Credit card', 'Ewallet', 'Cash', 'Ewallet', 'Cash', 'Cash', 'Credit card', 'Cash', 'Ewallet', 'Ewallet', 'Credit card', 'Cash', 'Credit card', 'Credit card', 'Ewallet', 'Ewallet', 'Credit card', 'Credit card', 'Credit card', 'Ewallet', 'Ewallet', 'Credit card', 'Ewallet', 'Ewallet', 'Ewallet', 'Ewallet', 'Ewallet', 'Cash', 'Cash', 'Ewallet', 'Ewallet', 'Cash', 'Ewallet', 'Credit card', 'Cash', 'Credit card', 'Credit card', 'Ewallet', 'Ewallet', 'Ewallet', 'Ewallet', 'Ewallet', 'Ewallet', 'Cash', 'Cash', 'Cash', 'Cash', 'Cash', 'Cash', 'Cash', 'Cash', 'Cash', 'Credit card', 'Cash', 'Credit card', 'Credit card', 'Ewallet', 'Credit card', 'Cash', 'Credit card', 'Credit card', 'Ewallet', 'Cash', 'Cash', 'Cash', 'Credit card', 'Cash', 'Ewallet', 'Credit card', 'Credit card', 'Cash', 'Cash', 'Ewallet', 'Cash', 'Cash', 'Ewallet', 'Ewallet', 'Credit card', 'Ewallet', 'Credit card', 'Credit card', 'Ewallet', 'Ewallet', 'Ewallet', 'Ewallet', 'Ewallet', 'Ewallet', 'Cash', 'Cash', 'Cash']\n"
     ]
    }
   ],
   "source": [
    "paymentlist= list(Payment)\n",
    "print(paymentlist)"
   ]
  },
  {
   "cell_type": "code",
   "execution_count": 19,
   "id": "2694bcab",
   "metadata": {},
   "outputs": [],
   "source": [
    "newpayment = []\n",
    "for x in paymentlist:\n",
    "    if x in newpayment:\n",
    "        a =4\n",
    "    else:\n",
    "        newpayment.append(x)\n",
    "    "
   ]
  },
  {
   "cell_type": "code",
   "execution_count": 20,
   "id": "2e3b9393",
   "metadata": {
    "scrolled": true
   },
   "outputs": [
    {
     "data": {
      "text/plain": [
       "['Ewallet', 'Cash', 'Credit card']"
      ]
     },
     "execution_count": 20,
     "metadata": {},
     "output_type": "execute_result"
    }
   ],
   "source": [
    "newpayment\n"
   ]
  },
  {
   "cell_type": "code",
   "execution_count": 21,
   "id": "6c225588",
   "metadata": {},
   "outputs": [
    {
     "name": "stdout",
     "output_type": "stream",
     "text": [
      "345\n"
     ]
    }
   ],
   "source": [
    "payments= []\n",
    "\n",
    "for x in paymentlist:\n",
    "    if x ==\"Ewallet\":\n",
    "        payments.append(x)\n",
    "        \n",
    "print (len(payments))\n",
    "\n",
    "    \n",
    "        \n",
    "   \n",
    " "
   ]
  },
  {
   "cell_type": "code",
   "execution_count": 22,
   "id": "39ed562c",
   "metadata": {},
   "outputs": [
    {
     "name": "stdout",
     "output_type": "stream",
     "text": [
      "[('Ewallet',), ('Ewallet',), ('Ewallet',), ('Ewallet',), ('Ewallet',), ('Ewallet',), ('Ewallet',), ('Ewallet',), ('Ewallet',), ('Ewallet',), ('Ewallet',), ('Ewallet',), ('Ewallet',), ('Ewallet',), ('Ewallet',), ('Ewallet',), ('Ewallet',), ('Ewallet',), ('Ewallet',), ('Ewallet',), ('Ewallet',), ('Ewallet',), ('Ewallet',), ('Ewallet',), ('Ewallet',), ('Ewallet',), ('Ewallet',), ('Ewallet',), ('Ewallet',), ('Ewallet',), ('Ewallet',), ('Ewallet',), ('Ewallet',), ('Ewallet',), ('Ewallet',), ('Ewallet',), ('Ewallet',), ('Ewallet',), ('Ewallet',), ('Ewallet',), ('Ewallet',), ('Ewallet',), ('Ewallet',), ('Ewallet',), ('Ewallet',), ('Ewallet',), ('Ewallet',), ('Ewallet',), ('Ewallet',), ('Ewallet',), ('Ewallet',), ('Ewallet',), ('Ewallet',), ('Ewallet',), ('Ewallet',), ('Ewallet',), ('Ewallet',), ('Ewallet',), ('Ewallet',), ('Ewallet',), ('Ewallet',), ('Ewallet',), ('Ewallet',), ('Ewallet',), ('Ewallet',), ('Ewallet',), ('Ewallet',), ('Ewallet',), ('Ewallet',), ('Ewallet',), ('Ewallet',), ('Ewallet',), ('Ewallet',), ('Ewallet',), ('Ewallet',), ('Ewallet',), ('Ewallet',), ('Ewallet',), ('Ewallet',), ('Ewallet',), ('Ewallet',), ('Ewallet',), ('Ewallet',), ('Ewallet',), ('Ewallet',), ('Ewallet',), ('Ewallet',), ('Ewallet',), ('Ewallet',), ('Ewallet',), ('Ewallet',), ('Ewallet',), ('Ewallet',), ('Ewallet',), ('Ewallet',), ('Ewallet',), ('Ewallet',), ('Ewallet',), ('Ewallet',), ('Ewallet',), ('Ewallet',), ('Ewallet',), ('Ewallet',), ('Ewallet',), ('Ewallet',), ('Ewallet',), ('Ewallet',), ('Ewallet',), ('Ewallet',), ('Ewallet',), ('Ewallet',), ('Ewallet',), ('Ewallet',), ('Ewallet',), ('Ewallet',), ('Ewallet',), ('Ewallet',), ('Ewallet',), ('Ewallet',), ('Ewallet',), ('Ewallet',), ('Ewallet',), ('Ewallet',), ('Ewallet',), ('Ewallet',), ('Ewallet',), ('Ewallet',), ('Ewallet',), ('Ewallet',), ('Ewallet',), ('Ewallet',), ('Ewallet',), ('Ewallet',), ('Ewallet',), ('Ewallet',), ('Ewallet',), ('Ewallet',), ('Ewallet',), ('Ewallet',), ('Ewallet',), ('Ewallet',), ('Ewallet',), ('Ewallet',), ('Ewallet',), ('Ewallet',), ('Ewallet',), ('Ewallet',), ('Ewallet',), ('Ewallet',), ('Ewallet',), ('Ewallet',), ('Ewallet',), ('Ewallet',), ('Ewallet',), ('Ewallet',), ('Ewallet',), ('Ewallet',), ('Ewallet',), ('Ewallet',), ('Ewallet',), ('Ewallet',), ('Ewallet',), ('Ewallet',), ('Ewallet',), ('Ewallet',), ('Ewallet',), ('Ewallet',), ('Ewallet',), ('Ewallet',), ('Ewallet',), ('Ewallet',), ('Ewallet',), ('Ewallet',), ('Ewallet',), ('Ewallet',), ('Ewallet',), ('Ewallet',), ('Ewallet',), ('Ewallet',), ('Ewallet',), ('Ewallet',), ('Ewallet',), ('Ewallet',), ('Ewallet',), ('Ewallet',), ('Ewallet',), ('Ewallet',), ('Ewallet',), ('Ewallet',), ('Ewallet',), ('Ewallet',), ('Ewallet',), ('Ewallet',), ('Ewallet',), ('Ewallet',), ('Ewallet',), ('Ewallet',), ('Ewallet',), ('Ewallet',), ('Ewallet',), ('Ewallet',), ('Ewallet',), ('Ewallet',), ('Ewallet',), ('Ewallet',), ('Ewallet',), ('Ewallet',), ('Ewallet',), ('Ewallet',), ('Ewallet',), ('Ewallet',), ('Ewallet',), ('Ewallet',), ('Ewallet',), ('Ewallet',), ('Ewallet',), ('Ewallet',), ('Ewallet',), ('Ewallet',), ('Ewallet',), ('Ewallet',), ('Ewallet',), ('Ewallet',), ('Ewallet',), ('Ewallet',), ('Ewallet',), ('Ewallet',), ('Ewallet',), ('Ewallet',), ('Ewallet',), ('Ewallet',), ('Ewallet',), ('Ewallet',), ('Ewallet',), ('Ewallet',), ('Ewallet',), ('Ewallet',), ('Ewallet',), ('Ewallet',), ('Ewallet',), ('Ewallet',), ('Ewallet',), ('Ewallet',), ('Ewallet',), ('Ewallet',), ('Ewallet',), ('Ewallet',), ('Ewallet',), ('Ewallet',), ('Ewallet',), ('Ewallet',), ('Ewallet',), ('Ewallet',), ('Ewallet',), ('Ewallet',), ('Ewallet',), ('Ewallet',), ('Ewallet',), ('Ewallet',), ('Ewallet',), ('Ewallet',), ('Ewallet',), ('Ewallet',), ('Ewallet',), ('Ewallet',), ('Ewallet',), ('Ewallet',), ('Ewallet',), ('Ewallet',), ('Ewallet',), ('Ewallet',), ('Ewallet',), ('Ewallet',), ('Ewallet',), ('Ewallet',), ('Ewallet',), ('Ewallet',), ('Ewallet',), ('Ewallet',), ('Ewallet',), ('Ewallet',), ('Ewallet',), ('Ewallet',), ('Ewallet',), ('Ewallet',), ('Ewallet',), ('Ewallet',), ('Ewallet',), ('Ewallet',), ('Ewallet',), ('Ewallet',), ('Ewallet',), ('Ewallet',), ('Ewallet',), ('Ewallet',), ('Ewallet',), ('Ewallet',), ('Ewallet',), ('Ewallet',), ('Ewallet',), ('Ewallet',), ('Ewallet',), ('Ewallet',), ('Ewallet',), ('Ewallet',), ('Ewallet',), ('Ewallet',), ('Ewallet',), ('Ewallet',), ('Ewallet',), ('Ewallet',), ('Ewallet',), ('Ewallet',), ('Ewallet',), ('Ewallet',), ('Ewallet',), ('Ewallet',), ('Ewallet',), ('Ewallet',), ('Ewallet',), ('Ewallet',), ('Ewallet',), ('Ewallet',), ('Ewallet',), ('Ewallet',), ('Ewallet',), ('Ewallet',), ('Ewallet',), ('Ewallet',), ('Ewallet',), ('Ewallet',), ('Ewallet',), ('Ewallet',), ('Ewallet',), ('Ewallet',), ('Ewallet',), ('Ewallet',), ('Ewallet',), ('Ewallet',), ('Ewallet',), ('Ewallet',), ('Ewallet',), ('Ewallet',), ('Ewallet',), ('Ewallet',)]\n"
     ]
    }
   ],
   "source": [
    "ewapayment= list(zip(payments))\n",
    "print(ewapayment)"
   ]
  },
  {
   "cell_type": "code",
   "execution_count": 23,
   "id": "851527ca",
   "metadata": {},
   "outputs": [
    {
     "name": "stdout",
     "output_type": "stream",
     "text": [
      "344\n"
     ]
    }
   ],
   "source": [
    "Cash= []\n",
    "for y in paymentlist:\n",
    "    if y ==\"Cash\":\n",
    "        Cash.append(y)\n",
    "print  (len(Cash))\n",
    "\n",
    "        "
   ]
  },
  {
   "cell_type": "code",
   "execution_count": 24,
   "id": "e7fda52b",
   "metadata": {},
   "outputs": [
    {
     "name": "stdout",
     "output_type": "stream",
     "text": [
      "[('Cash',), ('Cash',), ('Cash',), ('Cash',), ('Cash',), ('Cash',), ('Cash',), ('Cash',), ('Cash',), ('Cash',), ('Cash',), ('Cash',), ('Cash',), ('Cash',), ('Cash',), ('Cash',), ('Cash',), ('Cash',), ('Cash',), ('Cash',), ('Cash',), ('Cash',), ('Cash',), ('Cash',), ('Cash',), ('Cash',), ('Cash',), ('Cash',), ('Cash',), ('Cash',), ('Cash',), ('Cash',), ('Cash',), ('Cash',), ('Cash',), ('Cash',), ('Cash',), ('Cash',), ('Cash',), ('Cash',), ('Cash',), ('Cash',), ('Cash',), ('Cash',), ('Cash',), ('Cash',), ('Cash',), ('Cash',), ('Cash',), ('Cash',), ('Cash',), ('Cash',), ('Cash',), ('Cash',), ('Cash',), ('Cash',), ('Cash',), ('Cash',), ('Cash',), ('Cash',), ('Cash',), ('Cash',), ('Cash',), ('Cash',), ('Cash',), ('Cash',), ('Cash',), ('Cash',), ('Cash',), ('Cash',), ('Cash',), ('Cash',), ('Cash',), ('Cash',), ('Cash',), ('Cash',), ('Cash',), ('Cash',), ('Cash',), ('Cash',), ('Cash',), ('Cash',), ('Cash',), ('Cash',), ('Cash',), ('Cash',), ('Cash',), ('Cash',), ('Cash',), ('Cash',), ('Cash',), ('Cash',), ('Cash',), ('Cash',), ('Cash',), ('Cash',), ('Cash',), ('Cash',), ('Cash',), ('Cash',), ('Cash',), ('Cash',), ('Cash',), ('Cash',), ('Cash',), ('Cash',), ('Cash',), ('Cash',), ('Cash',), ('Cash',), ('Cash',), ('Cash',), ('Cash',), ('Cash',), ('Cash',), ('Cash',), ('Cash',), ('Cash',), ('Cash',), ('Cash',), ('Cash',), ('Cash',), ('Cash',), ('Cash',), ('Cash',), ('Cash',), ('Cash',), ('Cash',), ('Cash',), ('Cash',), ('Cash',), ('Cash',), ('Cash',), ('Cash',), ('Cash',), ('Cash',), ('Cash',), ('Cash',), ('Cash',), ('Cash',), ('Cash',), ('Cash',), ('Cash',), ('Cash',), ('Cash',), ('Cash',), ('Cash',), ('Cash',), ('Cash',), ('Cash',), ('Cash',), ('Cash',), ('Cash',), ('Cash',), ('Cash',), ('Cash',), ('Cash',), ('Cash',), ('Cash',), ('Cash',), ('Cash',), ('Cash',), ('Cash',), ('Cash',), ('Cash',), ('Cash',), ('Cash',), ('Cash',), ('Cash',), ('Cash',), ('Cash',), ('Cash',), ('Cash',), ('Cash',), ('Cash',), ('Cash',), ('Cash',), ('Cash',), ('Cash',), ('Cash',), ('Cash',), ('Cash',), ('Cash',), ('Cash',), ('Cash',), ('Cash',), ('Cash',), ('Cash',), ('Cash',), ('Cash',), ('Cash',), ('Cash',), ('Cash',), ('Cash',), ('Cash',), ('Cash',), ('Cash',), ('Cash',), ('Cash',), ('Cash',), ('Cash',), ('Cash',), ('Cash',), ('Cash',), ('Cash',), ('Cash',), ('Cash',), ('Cash',), ('Cash',), ('Cash',), ('Cash',), ('Cash',), ('Cash',), ('Cash',), ('Cash',), ('Cash',), ('Cash',), ('Cash',), ('Cash',), ('Cash',), ('Cash',), ('Cash',), ('Cash',), ('Cash',), ('Cash',), ('Cash',), ('Cash',), ('Cash',), ('Cash',), ('Cash',), ('Cash',), ('Cash',), ('Cash',), ('Cash',), ('Cash',), ('Cash',), ('Cash',), ('Cash',), ('Cash',), ('Cash',), ('Cash',), ('Cash',), ('Cash',), ('Cash',), ('Cash',), ('Cash',), ('Cash',), ('Cash',), ('Cash',), ('Cash',), ('Cash',), ('Cash',), ('Cash',), ('Cash',), ('Cash',), ('Cash',), ('Cash',), ('Cash',), ('Cash',), ('Cash',), ('Cash',), ('Cash',), ('Cash',), ('Cash',), ('Cash',), ('Cash',), ('Cash',), ('Cash',), ('Cash',), ('Cash',), ('Cash',), ('Cash',), ('Cash',), ('Cash',), ('Cash',), ('Cash',), ('Cash',), ('Cash',), ('Cash',), ('Cash',), ('Cash',), ('Cash',), ('Cash',), ('Cash',), ('Cash',), ('Cash',), ('Cash',), ('Cash',), ('Cash',), ('Cash',), ('Cash',), ('Cash',), ('Cash',), ('Cash',), ('Cash',), ('Cash',), ('Cash',), ('Cash',), ('Cash',), ('Cash',), ('Cash',), ('Cash',), ('Cash',), ('Cash',), ('Cash',), ('Cash',), ('Cash',), ('Cash',), ('Cash',), ('Cash',), ('Cash',), ('Cash',), ('Cash',), ('Cash',), ('Cash',), ('Cash',), ('Cash',), ('Cash',), ('Cash',), ('Cash',), ('Cash',), ('Cash',), ('Cash',), ('Cash',), ('Cash',), ('Cash',), ('Cash',), ('Cash',), ('Cash',), ('Cash',), ('Cash',), ('Cash',), ('Cash',), ('Cash',), ('Cash',), ('Cash',), ('Cash',), ('Cash',), ('Cash',), ('Cash',), ('Cash',), ('Cash',), ('Cash',), ('Cash',)]\n"
     ]
    }
   ],
   "source": [
    "Clist= list(zip(Cash))\n",
    "print(Clist)"
   ]
  },
  {
   "cell_type": "code",
   "execution_count": 25,
   "id": "cef2b717",
   "metadata": {},
   "outputs": [
    {
     "name": "stdout",
     "output_type": "stream",
     "text": [
      "311\n"
     ]
    }
   ],
   "source": [
    "Creditcardlist=[]\n",
    "for z in paymentlist:\n",
    "    if z ==\"Credit card\":\n",
    "        Creditcardlist.append(z)\n",
    "print(len(Creditcardlist))\n"
   ]
  },
  {
   "cell_type": "code",
   "execution_count": 26,
   "id": "c61a866d",
   "metadata": {},
   "outputs": [
    {
     "name": "stdout",
     "output_type": "stream",
     "text": [
      "[('Credit card',), ('Credit card',), ('Credit card',), ('Credit card',), ('Credit card',), ('Credit card',), ('Credit card',), ('Credit card',), ('Credit card',), ('Credit card',), ('Credit card',), ('Credit card',), ('Credit card',), ('Credit card',), ('Credit card',), ('Credit card',), ('Credit card',), ('Credit card',), ('Credit card',), ('Credit card',), ('Credit card',), ('Credit card',), ('Credit card',), ('Credit card',), ('Credit card',), ('Credit card',), ('Credit card',), ('Credit card',), ('Credit card',), ('Credit card',), ('Credit card',), ('Credit card',), ('Credit card',), ('Credit card',), ('Credit card',), ('Credit card',), ('Credit card',), ('Credit card',), ('Credit card',), ('Credit card',), ('Credit card',), ('Credit card',), ('Credit card',), ('Credit card',), ('Credit card',), ('Credit card',), ('Credit card',), ('Credit card',), ('Credit card',), ('Credit card',), ('Credit card',), ('Credit card',), ('Credit card',), ('Credit card',), ('Credit card',), ('Credit card',), ('Credit card',), ('Credit card',), ('Credit card',), ('Credit card',), ('Credit card',), ('Credit card',), ('Credit card',), ('Credit card',), ('Credit card',), ('Credit card',), ('Credit card',), ('Credit card',), ('Credit card',), ('Credit card',), ('Credit card',), ('Credit card',), ('Credit card',), ('Credit card',), ('Credit card',), ('Credit card',), ('Credit card',), ('Credit card',), ('Credit card',), ('Credit card',), ('Credit card',), ('Credit card',), ('Credit card',), ('Credit card',), ('Credit card',), ('Credit card',), ('Credit card',), ('Credit card',), ('Credit card',), ('Credit card',), ('Credit card',), ('Credit card',), ('Credit card',), ('Credit card',), ('Credit card',), ('Credit card',), ('Credit card',), ('Credit card',), ('Credit card',), ('Credit card',), ('Credit card',), ('Credit card',), ('Credit card',), ('Credit card',), ('Credit card',), ('Credit card',), ('Credit card',), ('Credit card',), ('Credit card',), ('Credit card',), ('Credit card',), ('Credit card',), ('Credit card',), ('Credit card',), ('Credit card',), ('Credit card',), ('Credit card',), ('Credit card',), ('Credit card',), ('Credit card',), ('Credit card',), ('Credit card',), ('Credit card',), ('Credit card',), ('Credit card',), ('Credit card',), ('Credit card',), ('Credit card',), ('Credit card',), ('Credit card',), ('Credit card',), ('Credit card',), ('Credit card',), ('Credit card',), ('Credit card',), ('Credit card',), ('Credit card',), ('Credit card',), ('Credit card',), ('Credit card',), ('Credit card',), ('Credit card',), ('Credit card',), ('Credit card',), ('Credit card',), ('Credit card',), ('Credit card',), ('Credit card',), ('Credit card',), ('Credit card',), ('Credit card',), ('Credit card',), ('Credit card',), ('Credit card',), ('Credit card',), ('Credit card',), ('Credit card',), ('Credit card',), ('Credit card',), ('Credit card',), ('Credit card',), ('Credit card',), ('Credit card',), ('Credit card',), ('Credit card',), ('Credit card',), ('Credit card',), ('Credit card',), ('Credit card',), ('Credit card',), ('Credit card',), ('Credit card',), ('Credit card',), ('Credit card',), ('Credit card',), ('Credit card',), ('Credit card',), ('Credit card',), ('Credit card',), ('Credit card',), ('Credit card',), ('Credit card',), ('Credit card',), ('Credit card',), ('Credit card',), ('Credit card',), ('Credit card',), ('Credit card',), ('Credit card',), ('Credit card',), ('Credit card',), ('Credit card',), ('Credit card',), ('Credit card',), ('Credit card',), ('Credit card',), ('Credit card',), ('Credit card',), ('Credit card',), ('Credit card',), ('Credit card',), ('Credit card',), ('Credit card',), ('Credit card',), ('Credit card',), ('Credit card',), ('Credit card',), ('Credit card',), ('Credit card',), ('Credit card',), ('Credit card',), ('Credit card',), ('Credit card',), ('Credit card',), ('Credit card',), ('Credit card',), ('Credit card',), ('Credit card',), ('Credit card',), ('Credit card',), ('Credit card',), ('Credit card',), ('Credit card',), ('Credit card',), ('Credit card',), ('Credit card',), ('Credit card',), ('Credit card',), ('Credit card',), ('Credit card',), ('Credit card',), ('Credit card',), ('Credit card',), ('Credit card',), ('Credit card',), ('Credit card',), ('Credit card',), ('Credit card',), ('Credit card',), ('Credit card',), ('Credit card',), ('Credit card',), ('Credit card',), ('Credit card',), ('Credit card',), ('Credit card',), ('Credit card',), ('Credit card',), ('Credit card',), ('Credit card',), ('Credit card',), ('Credit card',), ('Credit card',), ('Credit card',), ('Credit card',), ('Credit card',), ('Credit card',), ('Credit card',), ('Credit card',), ('Credit card',), ('Credit card',), ('Credit card',), ('Credit card',), ('Credit card',), ('Credit card',), ('Credit card',), ('Credit card',), ('Credit card',), ('Credit card',), ('Credit card',), ('Credit card',), ('Credit card',), ('Credit card',), ('Credit card',), ('Credit card',), ('Credit card',), ('Credit card',), ('Credit card',), ('Credit card',), ('Credit card',), ('Credit card',), ('Credit card',), ('Credit card',), ('Credit card',), ('Credit card',), ('Credit card',), ('Credit card',), ('Credit card',), ('Credit card',), ('Credit card',), ('Credit card',), ('Credit card',), ('Credit card',), ('Credit card',), ('Credit card',), ('Credit card',), ('Credit card',), ('Credit card',), ('Credit card',), ('Credit card',), ('Credit card',), ('Credit card',), ('Credit card',), ('Credit card',), ('Credit card',), ('Credit card',), ('Credit card',), ('Credit card',), ('Credit card',), ('Credit card',), ('Credit card',)]\n"
     ]
    }
   ],
   "source": [
    "credo= list(zip(Creditcardlist))\n",
    "print(credo)"
   ]
  },
  {
   "cell_type": "code",
   "execution_count": 27,
   "id": "8b5d93b8",
   "metadata": {},
   "outputs": [],
   "source": [
    "City= mydata['City']\n",
    "Total= mydata['Total']"
   ]
  },
  {
   "cell_type": "code",
   "execution_count": 28,
   "id": "ea2f4fa5",
   "metadata": {},
   "outputs": [],
   "source": [
    "citylist= list(City)\n",
    "Totallist= list(Total)"
   ]
  },
  {
   "cell_type": "code",
   "execution_count": 29,
   "id": "58d4a6f2",
   "metadata": {
    "scrolled": false
   },
   "outputs": [
    {
     "name": "stdout",
     "output_type": "stream",
     "text": [
      "[('Yangon', 548.9715), ('Naypyitaw', 80.22), ('Yangon', 340.5255), ('Yangon', 489.048), ('Yangon', 634.3785), ('Naypyitaw', 627.6165), ('Yangon', 433.692), ('Naypyitaw', 772.38), ('Yangon', 76.146), ('Mandalay', 172.746), ('Mandalay', 60.816), ('Mandalay', 107.142), ('Yangon', 246.4875), ('Yangon', 453.495), ('Yangon', 749.49), ('Mandalay', 590.436), ('Yangon', 506.6355), ('Yangon', 457.443), ('Yangon', 172.2105), ('Mandalay', 84.63), ('Naypyitaw', 451.71), ('Mandalay', 277.137), ('Mandalay', 69.72), ('Yangon', 181.44), ('Yangon', 279.1845), ('Yangon', 441.756), ('Mandalay', 35.196), ('Yangon', 184.107), ('Mandalay', 463.89), ('Yangon', 235.2105), ('Mandalay', 494.1825), ('Mandalay', 737.7615), ('Mandalay', 703.752), ('Yangon', 202.818), ('Naypyitaw', 417.564), ('Naypyitaw', 71.526), ('Yangon', 328.755), ('Yangon', 575.316), ('Naypyitaw', 461.328), ('Mandalay', 253.008), ('Mandalay', 91.056), ('Naypyitaw', 117.831), ('Mandalay', 435.456), ('Naypyitaw', 829.08), ('Naypyitaw', 32.277), ('Mandalay', 394.632), ('Mandalay', 535.7205), ('Mandalay', 189.0945), ('Mandalay', 119.259), ('Naypyitaw', 867.615), ('Naypyitaw', 671.79), ('Yangon', 234.0975), ('Mandalay', 75.054), ('Naypyitaw', 16.2015), ('Mandalay', 33.936), ('Naypyitaw', 722.232), ('Yangon', 93.114), ('Yangon', 752.64), ('Yangon', 759.675), ('Naypyitaw', 192.843), ('Naypyitaw', 77.931), ('Naypyitaw', 351.099), ('Mandalay', 520.4115), ('Yangon', 166.005), ('Mandalay', 318.108), ('Yangon', 166.635), ('Naypyitaw', 70.287), ('Mandalay', 614.943), ('Yangon', 827.085), ('Yangon', 19.2465), ('Naypyitaw', 939.54), ('Naypyitaw', 652.26), ('Mandalay', 152.838), ('Naypyitaw', 478.233), ('Yangon', 705.6315), ('Naypyitaw', 437.325), ('Naypyitaw', 463.428), ('Yangon', 189.0945), ('Naypyitaw', 822.255), ('Naypyitaw', 106.995), ('Naypyitaw', 624.897), ('Mandalay', 304.542), ('Naypyitaw', 161.7), ('Naypyitaw', 337.512), ('Naypyitaw', 256.7775), ('Naypyitaw', 610.491), ('Naypyitaw', 401.73), ('Yangon', 362.943), ('Yangon', 44.5935), ('Mandalay', 485.037), ('Naypyitaw', 198.996), ('Naypyitaw', 471.03), ('Yangon', 161.553), ('Mandalay', 608.202), ('Naypyitaw', 94.2375), ('Yangon', 102.018), ('Mandalay', 922.635), ('Naypyitaw', 78.435), ('Yangon', 166.1625), ('Mandalay', 521.01), ('Naypyitaw', 51.1455), ('Naypyitaw', 742.2975), ('Naypyitaw', 218.0115), ('Yangon', 367.038), ('Mandalay', 223.0725), ('Yangon', 931.035), ('Naypyitaw', 172.494), ('Yangon', 391.419), ('Naypyitaw', 321.111), ('Naypyitaw', 860.685), ('Mandalay', 34.629), ('Naypyitaw', 309.3615), ('Mandalay', 535.374), ('Yangon', 548.7615), ('Naypyitaw', 763.4655), ('Naypyitaw', 85.113), ('Mandalay', 115.185), ('Mandalay', 53.928), ('Yangon', 115.08), ('Mandalay', 112.224), ('Yangon', 836.304), ('Naypyitaw', 419.832), ('Mandalay', 944.622), ('Naypyitaw', 536.844), ('Mandalay', 474.348), ('Yangon', 688.6215), ('Yangon', 169.3125), ('Naypyitaw', 299.8485), ('Naypyitaw', 575.736), ('Mandalay', 853.146), ('Mandalay', 291.207), ('Yangon', 580.419), ('Mandalay', 146.328), ('Mandalay', 550.935), ('Naypyitaw', 512.19), ('Naypyitaw', 284.193), ('Yangon', 138.1275), ('Yangon', 216.846), ('Mandalay', 545.055), ('Yangon', 609.0), ('Naypyitaw', 942.9), ('Naypyitaw', 950.25), ('Naypyitaw', 720.3), ('Naypyitaw', 31.9305), ('Yangon', 491.085), ('Naypyitaw', 291.438), ('Yangon', 316.47), ('Naypyitaw', 277.788), ('Mandalay', 603.624), ('Yangon', 272.664), ('Mandalay', 384.468), ('Naypyitaw', 254.016), ('Yangon', 786.618), ('Naypyitaw', 103.824), ('Naypyitaw', 680.148), ('Yangon', 484.5225), ('Mandalay', 75.7785), ('Mandalay', 263.97), ('Mandalay', 918.729), ('Mandalay', 588.357), ('Naypyitaw', 362.712), ('Yangon', 66.8745), ('Yangon', 336.5565), ('Naypyitaw', 160.44), ('Mandalay', 418.95), ('Mandalay', 357.588), ('Naypyitaw', 1003.59), ('Yangon', 1039.29), ('Yangon', 323.064), ('Yangon', 510.972), ('Yangon', 367.5525), ('Mandalay', 420.2625), ('Naypyitaw', 175.14), ('Mandalay', 333.207), ('Mandalay', 166.236), ('Yangon', 319.788), ('Yangon', 186.228), ('Naypyitaw', 165.4485), ('Yangon', 465.444), ('Naypyitaw', 273.42), ('Naypyitaw', 472.311), ('Naypyitaw', 323.148), ('Yangon', 162.75), ('Naypyitaw', 288.204), ('Yangon', 90.699), ('Mandalay', 56.952), ('Mandalay', 793.716), ('Mandalay', 195.174), ('Yangon', 77.7735), ('Naypyitaw', 293.202), ('Mandalay', 242.676), ('Mandalay', 154.392), ('Naypyitaw', 829.71), ('Mandalay', 107.31), ('Yangon', 171.7275), ('Naypyitaw', 78.0045), ('Naypyitaw', 91.77), ('Yangon', 26.5545), ('Naypyitaw', 174.3), ('Naypyitaw', 374.7975), ('Naypyitaw', 120.645), ('Mandalay', 241.458), ('Naypyitaw', 451.3635), ('Mandalay', 271.95), ('Mandalay', 93.2925), ('Yangon', 217.6335), ('Naypyitaw', 629.8425), ('Naypyitaw', 299.565), ('Mandalay', 95.6655), ('Mandalay', 942.4485), ('Yangon', 247.8735), ('Naypyitaw', 881.307), ('Mandalay', 484.89), ('Mandalay', 146.223), ('Mandalay', 217.6335), ('Yangon', 19.194), ('Mandalay', 130.0425), ('Yangon', 298.116), ('Mandalay', 796.908), ('Mandalay', 180.621), ('Mandalay', 285.705), ('Mandalay', 456.288), ('Naypyitaw', 62.0025), ('Naypyitaw', 13.167), ('Yangon', 90.825), ('Naypyitaw', 183.036), ('Mandalay', 655.5465), ('Naypyitaw', 155.652), ('Mandalay', 571.41), ('Yangon', 532.728), ('Mandalay', 170.877), ('Mandalay', 33.3585), ('Mandalay', 794.6505), ('Mandalay', 310.044), ('Yangon', 545.37), ('Yangon', 195.594), ('Naypyitaw', 91.4025), ('Naypyitaw', 232.155), ('Mandalay', 69.405), ('Yangon', 94.1745), ('Yangon', 235.683), ('Yangon', 125.517), ('Naypyitaw', 195.72), ('Yangon', 263.13), ('Mandalay', 788.508), ('Yangon', 399.756), ('Mandalay', 256.41), ('Yangon', 94.185), ('Yangon', 326.424), ('Mandalay', 536.991), ('Mandalay', 439.8975), ('Naypyitaw', 369.495), ('Naypyitaw', 30.219), ('Yangon', 99.75), ('Yangon', 494.76), ('Mandalay', 137.004), ('Yangon', 69.6675), ('Yangon', 163.233), ('Yangon', 135.45), ('Naypyitaw', 276.948), ('Yangon', 709.317), ('Naypyitaw', 69.09), ('Mandalay', 160.86), ('Yangon', 233.52), ('Mandalay', 57.1725), ('Yangon', 723.24), ('Naypyitaw', 148.974), ('Mandalay', 783.3), ('Yangon', 297.108), ('Yangon', 373.17), ('Mandalay', 354.0075), ('Naypyitaw', 44.352), ('Yangon', 203.553), ('Yangon', 25.263), ('Mandalay', 628.173), ('Mandalay', 352.5795), ('Naypyitaw', 229.11), ('Naypyitaw', 400.764), ('Naypyitaw', 745.395), ('Yangon', 462.21), ('Yangon', 587.664), ('Naypyitaw', 38.85), ('Yangon', 16.107), ('Yangon', 628.929), ('Yangon', 200.214), ('Mandalay', 350.07), ('Naypyitaw', 78.603), ('Naypyitaw', 224.4375), ('Mandalay', 356.5485), ('Yangon', 697.368), ('Mandalay', 423.15), ('Naypyitaw', 204.6975), ('Yangon', 65.604), ('Yangon', 76.356), ('Mandalay', 190.155), ('Naypyitaw', 272.58), ('Naypyitaw', 121.128), ('Yangon', 493.794), ('Yangon', 252.042), ('Naypyitaw', 93.0405), ('Naypyitaw', 209.622), ('Mandalay', 40.9605), ('Naypyitaw', 51.0405), ('Yangon', 214.998), ('Mandalay', 125.664), ('Yangon', 530.67), ('Yangon', 295.6905), ('Yangon', 745.836), ('Yangon', 83.412), ('Yangon', 172.011), ('Mandalay', 503.559), ('Naypyitaw', 145.593), ('Yangon', 74.7075), ('Yangon', 146.9475), ('Naypyitaw', 820.365), ('Naypyitaw', 208.677), ('Naypyitaw', 66.402), ('Naypyitaw', 392.6475), ('Naypyitaw', 218.0745), ('Naypyitaw', 185.094), ('Naypyitaw', 216.6885), ('Naypyitaw', 41.391), ('Yangon', 96.138), ('Yangon', 324.2925), ('Yangon', 135.576), ('Mandalay', 410.508), ('Yangon', 523.845), ('Naypyitaw', 395.892), ('Mandalay', 214.746), ('Yangon', 152.712), ('Mandalay', 208.089), ('Yangon', 103.635), ('Yangon', 404.355), ('Yangon', 49.308), ('Naypyitaw', 77.175), ('Yangon', 149.3625), ('Yangon', 721.98), ('Mandalay', 365.085), ('Naypyitaw', 150.0975), ('Mandalay', 404.649), ('Mandalay', 151.4835), ('Mandalay', 411.3795), ('Mandalay', 565.215), ('Naypyitaw', 509.4075), ('Yangon', 140.6475), ('Yangon', 736.4385), ('Yangon', 75.5475), ('Naypyitaw', 749.7), ('Yangon', 191.247), ('Mandalay', 141.75), ('Naypyitaw', 1042.65), ('Yangon', 379.9215), ('Mandalay', 402.2655), ('Mandalay', 255.15), ('Naypyitaw', 31.752), ('Mandalay', 374.388), ('Naypyitaw', 394.275), ('Naypyitaw', 1002.12), ('Mandalay', 86.625), ('Mandalay', 78.7185), ('Yangon', 680.064), ('Naypyitaw', 793.548), ('Naypyitaw', 209.559), ('Yangon', 461.286), ('Naypyitaw', 173.208), ('Naypyitaw', 343.056), ('Naypyitaw', 484.974), ('Yangon', 276.948), ('Naypyitaw', 150.78), ('Yangon', 203.175), ('Mandalay', 193.011), ('Mandalay', 128.016), ('Naypyitaw', 441.693), ('Naypyitaw', 265.104), ('Yangon', 352.2225), ('Yangon', 507.675), ('Mandalay', 334.341), ('Naypyitaw', 701.8515), ('Naypyitaw', 407.316), ('Mandalay', 99.33), ('Yangon', 345.786), ('Naypyitaw', 55.881), ('Mandalay', 523.3725), ('Naypyitaw', 314.538), ('Yangon', 214.935), ('Mandalay', 79.611), ('Naypyitaw', 294.651), ('Yangon', 339.36), ('Naypyitaw', 510.9615), ('Mandalay', 133.917), ('Naypyitaw', 253.512), ('Mandalay', 398.475), ('Yangon', 80.661), ('Yangon', 548.73), ('Yangon', 83.727), ('Yangon', 406.875), ('Yangon', 284.9175), ('Mandalay', 128.4255), ('Mandalay', 258.678), ('Mandalay', 181.818), ('Naypyitaw', 248.409), ('Naypyitaw', 194.124), ('Naypyitaw', 14.679), ('Mandalay', 208.6875), ('Naypyitaw', 718.7565), ('Yangon', 282.492), ('Yangon', 72.3975), ('Mandalay', 288.582), ('Yangon', 237.426), ('Naypyitaw', 125.055), ('Mandalay', 359.205), ('Mandalay', 45.927), ('Yangon', 110.0925), ('Yangon', 81.396), ('Yangon', 427.812), ('Mandalay', 100.9155), ('Naypyitaw', 190.596), ('Naypyitaw', 85.5855), ('Mandalay', 120.162), ('Yangon', 185.367), ('Naypyitaw', 121.59), ('Naypyitaw', 264.7575), ('Naypyitaw', 1020.705), ('Mandalay', 213.528), ('Naypyitaw', 17.094), ('Mandalay', 383.7645), ('Yangon', 390.7995), ('Mandalay', 65.7405), ('Mandalay', 353.1675), ('Yangon', 951.825), ('Mandalay', 145.068), ('Naypyitaw', 90.867), ('Yangon', 147.798), ('Mandalay', 702.219), ('Mandalay', 49.812), ('Naypyitaw', 937.818), ('Naypyitaw', 348.306), ('Yangon', 214.137), ('Naypyitaw', 71.568), ('Naypyitaw', 343.224), ('Naypyitaw', 91.56), ('Mandalay', 742.812), ('Yangon', 843.0345), ('Naypyitaw', 13.419), ('Yangon', 140.385), ('Mandalay', 20.1075), ('Naypyitaw', 290.43), ('Naypyitaw', 144.081), ('Mandalay', 28.4235), ('Mandalay', 41.076), ('Mandalay', 470.673), ('Mandalay', 138.663), ('Yangon', 333.9525), ('Yangon', 26.25), ('Yangon', 87.234), ('Mandalay', 155.19), ('Mandalay', 731.43), ('Mandalay', 833.595), ('Naypyitaw', 488.985), ('Naypyitaw', 37.6845), ('Naypyitaw', 212.73), ('Mandalay', 767.025), ('Naypyitaw', 310.59), ('Naypyitaw', 23.751), ('Yangon', 269.535), ('Naypyitaw', 572.775), ('Naypyitaw', 273.0525), ('Mandalay', 233.226), ('Naypyitaw', 22.659), ('Naypyitaw', 103.782), ('Naypyitaw', 527.751), ('Yangon', 168.21), ('Yangon', 452.865), ('Mandalay', 609.588), ('Yangon', 338.31), ('Yangon', 205.317), ('Yangon', 174.615), ('Naypyitaw', 353.094), ('Mandalay', 360.885), ('Yangon', 40.53), ('Naypyitaw', 554.148), ('Naypyitaw', 344.4), ('Yangon', 194.985), ('Mandalay', 633.99), ('Naypyitaw', 388.29), ('Mandalay', 207.858), ('Mandalay', 431.445), ('Yangon', 156.03), ('Naypyitaw', 24.108), ('Mandalay', 734.076), ('Mandalay', 72.87), ('Yangon', 206.43), ('Mandalay', 212.688), ('Naypyitaw', 127.26), ('Mandalay', 209.769), ('Mandalay', 637.728), ('Naypyitaw', 132.762), ('Naypyitaw', 568.512), ('Mandalay', 103.0365), ('Yangon', 432.768), ('Mandalay', 77.6685), ('Naypyitaw', 33.495), ('Naypyitaw', 145.74), ('Mandalay', 195.951), ('Mandalay', 92.8725), ('Yangon', 203.112), ('Mandalay', 152.775), ('Mandalay', 529.515), ('Mandalay', 321.7725), ('Naypyitaw', 100.485), ('Mandalay', 666.939), ('Yangon', 225.2775), ('Yangon', 398.958), ('Yangon', 731.6925), ('Naypyitaw', 429.1665), ('Naypyitaw', 54.0435), ('Mandalay', 288.015), ('Naypyitaw', 206.7975), ('Yangon', 72.933), ('Naypyitaw', 377.58), ('Mandalay', 143.9865), ('Naypyitaw', 523.971), ('Yangon', 235.872), ('Naypyitaw', 132.027), ('Yangon', 514.773), ('Yangon', 479.9025), ('Mandalay', 164.682), ('Mandalay', 125.706), ('Mandalay', 570.78), ('Yangon', 926.9505), ('Yangon', 160.209), ('Yangon', 728.112), ('Mandalay', 240.975), ('Naypyitaw', 154.1295), ('Yangon', 148.68), ('Naypyitaw', 122.5245), ('Mandalay', 77.658), ('Yangon', 102.837), ('Yangon', 306.81), ('Naypyitaw', 551.124), ('Yangon', 96.642), ('Naypyitaw', 79.674), ('Mandalay', 84.756), ('Naypyitaw', 118.251), ('Mandalay', 74.76), ('Mandalay', 163.002), ('Yangon', 308.91), ('Yangon', 575.9775), ('Mandalay', 270.585), ('Yangon', 416.178), ('Mandalay', 180.4005), ('Mandalay', 513.2295), ('Mandalay', 550.368), ('Naypyitaw', 139.923), ('Yangon', 142.002), ('Mandalay', 118.062), ('Mandalay', 151.284), ('Naypyitaw', 1034.46), ('Yangon', 262.458), ('Yangon', 228.123), ('Mandalay', 203.931), ('Naypyitaw', 936.6), ('Mandalay', 356.328), ('Yangon', 469.413), ('Mandalay', 208.425), ('Yangon', 852.705), ('Naypyitaw', 517.965), ('Yangon', 621.243), ('Mandalay', 586.971), ('Naypyitaw', 543.753), ('Mandalay', 430.71), ('Mandalay', 280.035), ('Yangon', 74.4555), ('Mandalay', 152.019), ('Yangon', 451.0275), ('Mandalay', 597.6285), ('Mandalay', 253.26), ('Naypyitaw', 133.434), ('Yangon', 269.934), ('Mandalay', 145.971), ('Naypyitaw', 85.743), ('Yangon', 326.256), ('Naypyitaw', 195.258), ('Mandalay', 75.936), ('Mandalay', 198.639), ('Yangon', 217.182), ('Yangon', 164.871), ('Yangon', 226.065), ('Naypyitaw', 625.905), ('Yangon', 76.755), ('Naypyitaw', 293.139), ('Naypyitaw', 178.164), ('Yangon', 47.859), ('Yangon', 236.88), ('Mandalay', 304.92), ('Mandalay', 46.683), ('Yangon', 164.43), ('Naypyitaw', 440.937), ('Naypyitaw', 193.4625), ('Yangon', 147.672), ('Naypyitaw', 87.234), ('Naypyitaw', 68.2395), ('Naypyitaw', 814.38), ('Mandalay', 343.413), ('Naypyitaw', 381.3915), ('Mandalay', 133.35), ('Yangon', 394.3275), ('Naypyitaw', 209.118), ('Yangon', 32.1405), ('Mandalay', 121.569), ('Yangon', 30.408), ('Naypyitaw', 935.2665), ('Mandalay', 293.643), ('Naypyitaw', 84.9765), ('Yangon', 708.225), ('Yangon', 365.904), ('Mandalay', 457.38), ('Naypyitaw', 461.5275), ('Yangon', 620.739), ('Naypyitaw', 273.798), ('Yangon', 225.792), ('Yangon', 96.1905), ('Mandalay', 695.2365), ('Mandalay', 874.125), ('Mandalay', 95.9175), ('Mandalay', 165.648), ('Yangon', 127.827), ('Mandalay', 867.09), ('Yangon', 167.895), ('Yangon', 12.6945), ('Yangon', 673.995), ('Yangon', 246.6765), ('Yangon', 175.917), ('Mandalay', 314.055), ('Mandalay', 251.7165), ('Mandalay', 697.935), ('Yangon', 212.7825), ('Naypyitaw', 48.51), ('Mandalay', 92.5575), ('Mandalay', 165.123), ('Mandalay', 311.1885), ('Naypyitaw', 743.82), ('Mandalay', 116.907), ('Naypyitaw', 609.168), ('Naypyitaw', 63.2625), ('Yangon', 182.952), ('Naypyitaw', 442.323), ('Mandalay', 35.3115), ('Naypyitaw', 32.529), ('Naypyitaw', 259.77), ('Mandalay', 397.215), ('Mandalay', 351.603), ('Yangon', 764.19), ('Mandalay', 352.674), ('Mandalay', 252.756), ('Yangon', 49.4235), ('Naypyitaw', 104.6745), ('Yangon', 277.6725), ('Yangon', 146.6325), ('Yangon', 58.2225), ('Mandalay', 135.3555), ('Naypyitaw', 125.979), ('Mandalay', 370.125), ('Naypyitaw', 914.55), ('Naypyitaw', 207.48), ('Yangon', 204.246), ('Mandalay', 181.881), ('Mandalay', 75.474), ('Naypyitaw', 300.573), ('Mandalay', 85.302), ('Yangon', 588.42), ('Mandalay', 196.14), ('Mandalay', 231.2415), ('Naypyitaw', 282.576), ('Yangon', 477.54), ('Mandalay', 175.917), ('Mandalay', 470.988), ('Yangon', 308.574), ('Naypyitaw', 618.975), ('Yangon', 305.55), ('Mandalay', 41.454), ('Mandalay', 36.5505), ('Naypyitaw', 310.716), ('Yangon', 45.108), ('Mandalay', 145.404), ('Mandalay', 103.11), ('Mandalay', 136.143), ('Yangon', 667.38), ('Naypyitaw', 153.048), ('Yangon', 211.365), ('Naypyitaw', 663.2955), ('Naypyitaw', 404.544), ('Yangon', 510.615), ('Naypyitaw', 539.343), ('Naypyitaw', 497.07), ('Yangon', 458.6925), ('Yangon', 113.568), ('Mandalay', 261.198), ('Yangon', 657.531), ('Naypyitaw', 1023.75), ('Naypyitaw', 507.444), ('Mandalay', 101.808), ('Mandalay', 207.585), ('Mandalay', 760.4415), ('Mandalay', 835.2855), ('Mandalay', 527.5095), ('Mandalay', 180.6), ('Naypyitaw', 72.429), ('Naypyitaw', 131.208), ('Yangon', 80.955), ('Yangon', 507.906), ('Naypyitaw', 317.226), ('Naypyitaw', 733.6035), ('Naypyitaw', 130.8825), ('Naypyitaw', 829.08), ('Yangon', 187.32), ('Yangon', 525.231), ('Yangon', 37.611), ('Yangon', 142.947), ('Mandalay', 110.124), ('Mandalay', 187.866), ('Naypyitaw', 856.4535), ('Mandalay', 138.978), ('Naypyitaw', 270.2595), ('Mandalay', 98.028), ('Naypyitaw', 239.4), ('Naypyitaw', 175.0455), ('Mandalay', 732.27), ('Naypyitaw', 408.492), ('Mandalay', 383.523), ('Yangon', 93.744), ('Yangon', 176.4), ('Yangon', 20.685), ('Mandalay', 557.718), ('Mandalay', 56.406), ('Naypyitaw', 860.475), ('Naypyitaw', 596.82), ('Naypyitaw', 616.98), ('Mandalay', 769.104), ('Yangon', 887.922), ('Naypyitaw', 408.7335), ('Naypyitaw', 89.0715), ('Yangon', 150.423), ('Yangon', 79.149), ('Naypyitaw', 266.028), ('Naypyitaw', 40.341), ('Mandalay', 684.915), ('Naypyitaw', 55.2825), ('Mandalay', 116.1405), ('Naypyitaw', 597.0405), ('Mandalay', 93.744), ('Yangon', 143.22), ('Yangon', 182.91), ('Mandalay', 384.72), ('Naypyitaw', 267.3405), ('Yangon', 817.236), ('Mandalay', 300.216), ('Yangon', 608.076), ('Yangon', 197.925), ('Yangon', 232.638), ('Mandalay', 810.6), ('Mandalay', 757.365), ('Yangon', 536.592), ('Yangon', 56.1225), ('Yangon', 233.1), ('Mandalay', 801.864), ('Naypyitaw', 239.589), ('Mandalay', 86.247), ('Mandalay', 401.688), ('Yangon', 72.009), ('Mandalay', 401.268), ('Naypyitaw', 631.1445), ('Naypyitaw', 499.7265), ('Naypyitaw', 55.041), ('Naypyitaw', 137.865), ('Mandalay', 151.515), ('Naypyitaw', 480.0285), ('Mandalay', 98.049), ('Naypyitaw', 132.5625), ('Mandalay', 830.3715), ('Naypyitaw', 183.12), ('Yangon', 397.992), ('Yangon', 32.151), ('Naypyitaw', 369.684), ('Naypyitaw', 53.34), ('Yangon', 548.163), ('Naypyitaw', 603.876), ('Naypyitaw', 57.6975), ('Naypyitaw', 190.4805), ('Yangon', 432.9885), ('Yangon', 48.7305), ('Naypyitaw', 287.91), ('Mandalay', 1022.385), ('Yangon', 680.61), ('Yangon', 97.881), ('Mandalay', 57.078), ('Naypyitaw', 63.9135), ('Yangon', 257.145), ('Mandalay', 97.419), ('Naypyitaw', 455.1225), ('Mandalay', 144.963), ('Naypyitaw', 253.68), ('Naypyitaw', 495.3165), ('Yangon', 462.672), ('Mandalay', 714.3255), ('Yangon', 325.374), ('Yangon', 195.678), ('Yangon', 210.966), ('Mandalay', 18.6375), ('Naypyitaw', 652.89), ('Mandalay', 90.3), ('Yangon', 422.73), ('Naypyitaw', 341.0925), ('Yangon', 99.9075), ('Yangon', 408.408), ('Mandalay', 446.964), ('Naypyitaw', 333.984), ('Yangon', 284.592), ('Mandalay', 403.872), ('Mandalay', 247.59), ('Mandalay', 222.138), ('Yangon', 100.128), ('Naypyitaw', 10.6785), ('Yangon', 216.4365), ('Mandalay', 441.588), ('Yangon', 92.442), ('Mandalay', 681.4395), ('Yangon', 130.032), ('Naypyitaw', 681.975), ('Yangon', 779.31), ('Yangon', 88.704), ('Mandalay', 262.794), ('Mandalay', 99.54), ('Yangon', 95.865), ('Mandalay', 299.3655), ('Yangon', 54.999), ('Yangon', 202.335), ('Mandalay', 281.169), ('Naypyitaw', 586.635), ('Naypyitaw', 184.086), ('Yangon', 163.611), ('Mandalay', 63.315), ('Yangon', 82.887), ('Naypyitaw', 31.227), ('Yangon', 22.386), ('Yangon', 295.407), ('Yangon', 76.923), ('Naypyitaw', 23.499), ('Naypyitaw', 688.716), ('Yangon', 624.33), ('Yangon', 77.805), ('Yangon', 206.808), ('Naypyitaw', 390.9465), ('Mandalay', 554.295), ('Yangon', 503.7375), ('Mandalay', 345.0195), ('Mandalay', 177.408), ('Yangon', 118.902), ('Mandalay', 362.817), ('Yangon', 450.1035), ('Naypyitaw', 90.5835), ('Yangon', 26.796), ('Mandalay', 106.596), ('Mandalay', 375.3645), ('Yangon', 250.7085), ('Naypyitaw', 106.5015), ('Mandalay', 760.452), ('Naypyitaw', 131.922), ('Naypyitaw', 76.5765), ('Yangon', 271.278), ('Yangon', 182.427), ('Naypyitaw', 59.325), ('Mandalay', 225.015), ('Yangon', 561.078), ('Yangon', 97.818), ('Naypyitaw', 548.184), ('Naypyitaw', 54.9675), ('Mandalay', 41.7375), ('Yangon', 756.168), ('Mandalay', 101.64), ('Mandalay', 348.705), ('Naypyitaw', 85.512), ('Mandalay', 335.895), ('Yangon', 216.846), ('Yangon', 175.014), ('Yangon', 335.013), ('Yangon', 92.295), ('Yangon', 771.435), ('Naypyitaw', 102.396), ('Yangon', 807.66), ('Naypyitaw', 439.215), ('Mandalay', 486.444), ('Naypyitaw', 485.5725), ('Mandalay', 148.995), ('Mandalay', 317.835), ('Mandalay', 832.944), ('Naypyitaw', 446.439), ('Naypyitaw', 297.801), ('Naypyitaw', 629.16), ('Yangon', 331.128), ('Naypyitaw', 423.738), ('Mandalay', 193.074), ('Yangon', 145.5825), ('Yangon', 84.7455), ('Naypyitaw', 122.472), ('Naypyitaw', 329.196), ('Naypyitaw', 888.405), ('Mandalay', 435.12), ('Yangon', 167.034), ('Mandalay', 514.605), ('Mandalay', 91.8225), ('Naypyitaw', 235.746), ('Yangon', 782.208), ('Yangon', 431.256), ('Yangon', 313.74), ('Naypyitaw', 223.587), ('Naypyitaw', 44.9925), ('Yangon', 397.614), ('Mandalay', 217.2555), ('Mandalay', 82.719), ('Naypyitaw', 338.2155), ('Mandalay', 103.131), ('Naypyitaw', 26.733), ('Naypyitaw', 611.079), ('Naypyitaw', 221.886), ('Mandalay', 57.876), ('Mandalay', 92.7255), ('Yangon', 374.409), ('Mandalay', 833.9625), ('Mandalay', 53.151), ('Mandalay', 629.496), ('Naypyitaw', 175.035), ('Yangon', 781.62), ('Naypyitaw', 470.988), ('Mandalay', 397.845), ('Naypyitaw', 270.018), ('Naypyitaw', 579.8415), ('Yangon', 469.77), ('Yangon', 290.0835), ('Naypyitaw', 360.927), ('Yangon', 279.384), ('Naypyitaw', 943.299), ('Yangon', 479.64), ('Yangon', 266.6475), ('Yangon', 74.088), ('Yangon', 690.018), ('Naypyitaw', 176.925), ('Mandalay', 56.469), ('Naypyitaw', 188.0025), ('Mandalay', 222.012), ('Mandalay', 125.7165), ('Mandalay', 68.985), ('Mandalay', 263.97), ('Naypyitaw', 88.368), ('Mandalay', 415.233), ('Yangon', 312.8895), ('Naypyitaw', 477.1305), ('Mandalay', 289.926), ('Naypyitaw', 165.9), ('Yangon', 932.337), ('Naypyitaw', 96.579), ('Yangon', 43.869), ('Yangon', 16.275), ('Naypyitaw', 304.983), ('Mandalay', 69.993), ('Mandalay', 80.367), ('Yangon', 314.685), ('Yangon', 255.1815), ('Yangon', 49.77), ('Mandalay', 181.0725), ('Mandalay', 888.615), ('Mandalay', 271.2885), ('Mandalay', 640.038), ('Yangon', 252.252), ('Naypyitaw', 180.873), ('Mandalay', 104.832), ('Yangon', 313.572), ('Mandalay', 167.58), ('Mandalay', 26.7225), ('Mandalay', 71.1585), ('Naypyitaw', 250.278), ('Yangon', 244.23), ('Yangon', 921.186), ('Naypyitaw', 734.706), ('Naypyitaw', 708.3195), ('Mandalay', 334.4775), ('Mandalay', 30.996), ('Mandalay', 520.8), ('Naypyitaw', 864.57), ('Mandalay', 633.108), ('Yangon', 296.94), ('Mandalay', 804.3), ('Yangon', 121.863), ('Mandalay', 183.645), ('Naypyitaw', 63.9975), ('Naypyitaw', 42.3675), ('Mandalay', 1022.49), ('Yangon', 33.432), ('Yangon', 69.111), ('Yangon', 649.299)]\n"
     ]
    }
   ],
   "source": [
    "mylist= list(zip(citylist, Totallist))\n",
    "print(mylist)\n"
   ]
  },
  {
   "cell_type": "code",
   "execution_count": 30,
   "id": "617f97db",
   "metadata": {},
   "outputs": [],
   "source": [
    "newcity= []\n",
    "for x, y in mylist:\n",
    "    if x in newcity:\n",
    "        a=2\n",
    "    else:\n",
    "        newcity.append(x)"
   ]
  },
  {
   "cell_type": "code",
   "execution_count": 31,
   "id": "d681b09a",
   "metadata": {},
   "outputs": [
    {
     "data": {
      "text/plain": [
       "['Yangon', 'Naypyitaw', 'Mandalay']"
      ]
     },
     "execution_count": 31,
     "metadata": {},
     "output_type": "execute_result"
    }
   ],
   "source": [
    "newcity"
   ]
  },
  {
   "cell_type": "code",
   "execution_count": 32,
   "id": "bfe2a246",
   "metadata": {},
   "outputs": [
    {
     "name": "stdout",
     "output_type": "stream",
     "text": [
      "340\n"
     ]
    }
   ],
   "source": [
    "Yangoncity= []\n",
    "Total= []\n",
    "\n",
    "for x, y in mylist:\n",
    "    if x ==\"Yangon\":\n",
    "        Yangoncity.append(x)\n",
    "        Total.append(y)\n",
    "print(len(Yangoncity)) \n",
    "\n",
    "\n",
    "        \n",
    "        \n",
    "     \n",
    "    \n",
    "        \n",
    "        \n"
   ]
  },
  {
   "cell_type": "code",
   "execution_count": 33,
   "id": "78942ea5",
   "metadata": {},
   "outputs": [
    {
     "name": "stdout",
     "output_type": "stream",
     "text": [
      "[('Yangon', 548.9715), ('Yangon', 340.5255), ('Yangon', 489.048), ('Yangon', 634.3785), ('Yangon', 433.692), ('Yangon', 76.146), ('Yangon', 246.4875), ('Yangon', 453.495), ('Yangon', 749.49), ('Yangon', 506.6355), ('Yangon', 457.443), ('Yangon', 172.2105), ('Yangon', 181.44), ('Yangon', 279.1845), ('Yangon', 441.756), ('Yangon', 184.107), ('Yangon', 235.2105), ('Yangon', 202.818), ('Yangon', 328.755), ('Yangon', 575.316), ('Yangon', 234.0975), ('Yangon', 93.114), ('Yangon', 752.64), ('Yangon', 759.675), ('Yangon', 166.005), ('Yangon', 166.635), ('Yangon', 827.085), ('Yangon', 19.2465), ('Yangon', 705.6315), ('Yangon', 189.0945), ('Yangon', 362.943), ('Yangon', 44.5935), ('Yangon', 161.553), ('Yangon', 102.018), ('Yangon', 166.1625), ('Yangon', 367.038), ('Yangon', 931.035), ('Yangon', 391.419), ('Yangon', 548.7615), ('Yangon', 115.08), ('Yangon', 836.304), ('Yangon', 688.6215), ('Yangon', 169.3125), ('Yangon', 580.419), ('Yangon', 138.1275), ('Yangon', 216.846), ('Yangon', 609.0), ('Yangon', 491.085), ('Yangon', 316.47), ('Yangon', 272.664), ('Yangon', 786.618), ('Yangon', 484.5225), ('Yangon', 66.8745), ('Yangon', 336.5565), ('Yangon', 1039.29), ('Yangon', 323.064), ('Yangon', 510.972), ('Yangon', 367.5525), ('Yangon', 319.788), ('Yangon', 186.228), ('Yangon', 465.444), ('Yangon', 162.75), ('Yangon', 90.699), ('Yangon', 77.7735), ('Yangon', 171.7275), ('Yangon', 26.5545), ('Yangon', 217.6335), ('Yangon', 247.8735), ('Yangon', 19.194), ('Yangon', 298.116), ('Yangon', 90.825), ('Yangon', 532.728), ('Yangon', 545.37), ('Yangon', 195.594), ('Yangon', 94.1745), ('Yangon', 235.683), ('Yangon', 125.517), ('Yangon', 263.13), ('Yangon', 399.756), ('Yangon', 94.185), ('Yangon', 326.424), ('Yangon', 99.75), ('Yangon', 494.76), ('Yangon', 69.6675), ('Yangon', 163.233), ('Yangon', 135.45), ('Yangon', 709.317), ('Yangon', 233.52), ('Yangon', 723.24), ('Yangon', 297.108), ('Yangon', 373.17), ('Yangon', 203.553), ('Yangon', 25.263), ('Yangon', 462.21), ('Yangon', 587.664), ('Yangon', 16.107), ('Yangon', 628.929), ('Yangon', 200.214), ('Yangon', 697.368), ('Yangon', 65.604), ('Yangon', 76.356), ('Yangon', 493.794), ('Yangon', 252.042), ('Yangon', 214.998), ('Yangon', 530.67), ('Yangon', 295.6905), ('Yangon', 745.836), ('Yangon', 83.412), ('Yangon', 172.011), ('Yangon', 74.7075), ('Yangon', 146.9475), ('Yangon', 96.138), ('Yangon', 324.2925), ('Yangon', 135.576), ('Yangon', 523.845), ('Yangon', 152.712), ('Yangon', 103.635), ('Yangon', 404.355), ('Yangon', 49.308), ('Yangon', 149.3625), ('Yangon', 721.98), ('Yangon', 140.6475), ('Yangon', 736.4385), ('Yangon', 75.5475), ('Yangon', 191.247), ('Yangon', 379.9215), ('Yangon', 680.064), ('Yangon', 461.286), ('Yangon', 276.948), ('Yangon', 203.175), ('Yangon', 352.2225), ('Yangon', 507.675), ('Yangon', 345.786), ('Yangon', 214.935), ('Yangon', 339.36), ('Yangon', 80.661), ('Yangon', 548.73), ('Yangon', 83.727), ('Yangon', 406.875), ('Yangon', 284.9175), ('Yangon', 282.492), ('Yangon', 72.3975), ('Yangon', 237.426), ('Yangon', 110.0925), ('Yangon', 81.396), ('Yangon', 427.812), ('Yangon', 185.367), ('Yangon', 390.7995), ('Yangon', 951.825), ('Yangon', 147.798), ('Yangon', 214.137), ('Yangon', 843.0345), ('Yangon', 140.385), ('Yangon', 333.9525), ('Yangon', 26.25), ('Yangon', 87.234), ('Yangon', 269.535), ('Yangon', 168.21), ('Yangon', 452.865), ('Yangon', 338.31), ('Yangon', 205.317), ('Yangon', 174.615), ('Yangon', 40.53), ('Yangon', 194.985), ('Yangon', 156.03), ('Yangon', 206.43), ('Yangon', 432.768), ('Yangon', 203.112), ('Yangon', 225.2775), ('Yangon', 398.958), ('Yangon', 731.6925), ('Yangon', 72.933), ('Yangon', 235.872), ('Yangon', 514.773), ('Yangon', 479.9025), ('Yangon', 926.9505), ('Yangon', 160.209), ('Yangon', 728.112), ('Yangon', 148.68), ('Yangon', 102.837), ('Yangon', 306.81), ('Yangon', 96.642), ('Yangon', 308.91), ('Yangon', 575.9775), ('Yangon', 416.178), ('Yangon', 142.002), ('Yangon', 262.458), ('Yangon', 228.123), ('Yangon', 469.413), ('Yangon', 852.705), ('Yangon', 621.243), ('Yangon', 74.4555), ('Yangon', 451.0275), ('Yangon', 269.934), ('Yangon', 326.256), ('Yangon', 217.182), ('Yangon', 164.871), ('Yangon', 226.065), ('Yangon', 76.755), ('Yangon', 47.859), ('Yangon', 236.88), ('Yangon', 164.43), ('Yangon', 147.672), ('Yangon', 394.3275), ('Yangon', 32.1405), ('Yangon', 30.408), ('Yangon', 708.225), ('Yangon', 365.904), ('Yangon', 620.739), ('Yangon', 225.792), ('Yangon', 96.1905), ('Yangon', 127.827), ('Yangon', 167.895), ('Yangon', 12.6945), ('Yangon', 673.995), ('Yangon', 246.6765), ('Yangon', 175.917), ('Yangon', 212.7825), ('Yangon', 182.952), ('Yangon', 764.19), ('Yangon', 49.4235), ('Yangon', 277.6725), ('Yangon', 146.6325), ('Yangon', 58.2225), ('Yangon', 204.246), ('Yangon', 588.42), ('Yangon', 477.54), ('Yangon', 308.574), ('Yangon', 305.55), ('Yangon', 45.108), ('Yangon', 667.38), ('Yangon', 211.365), ('Yangon', 510.615), ('Yangon', 458.6925), ('Yangon', 113.568), ('Yangon', 657.531), ('Yangon', 80.955), ('Yangon', 507.906), ('Yangon', 187.32), ('Yangon', 525.231), ('Yangon', 37.611), ('Yangon', 142.947), ('Yangon', 93.744), ('Yangon', 176.4), ('Yangon', 20.685), ('Yangon', 887.922), ('Yangon', 150.423), ('Yangon', 79.149), ('Yangon', 143.22), ('Yangon', 182.91), ('Yangon', 817.236), ('Yangon', 608.076), ('Yangon', 197.925), ('Yangon', 232.638), ('Yangon', 536.592), ('Yangon', 56.1225), ('Yangon', 233.1), ('Yangon', 72.009), ('Yangon', 397.992), ('Yangon', 32.151), ('Yangon', 548.163), ('Yangon', 432.9885), ('Yangon', 48.7305), ('Yangon', 680.61), ('Yangon', 97.881), ('Yangon', 257.145), ('Yangon', 462.672), ('Yangon', 325.374), ('Yangon', 195.678), ('Yangon', 210.966), ('Yangon', 422.73), ('Yangon', 99.9075), ('Yangon', 408.408), ('Yangon', 284.592), ('Yangon', 100.128), ('Yangon', 216.4365), ('Yangon', 92.442), ('Yangon', 130.032), ('Yangon', 779.31), ('Yangon', 88.704), ('Yangon', 95.865), ('Yangon', 54.999), ('Yangon', 202.335), ('Yangon', 163.611), ('Yangon', 82.887), ('Yangon', 22.386), ('Yangon', 295.407), ('Yangon', 76.923), ('Yangon', 624.33), ('Yangon', 77.805), ('Yangon', 206.808), ('Yangon', 503.7375), ('Yangon', 118.902), ('Yangon', 450.1035), ('Yangon', 26.796), ('Yangon', 250.7085), ('Yangon', 271.278), ('Yangon', 182.427), ('Yangon', 561.078), ('Yangon', 97.818), ('Yangon', 756.168), ('Yangon', 216.846), ('Yangon', 175.014), ('Yangon', 335.013), ('Yangon', 92.295), ('Yangon', 771.435), ('Yangon', 807.66), ('Yangon', 331.128), ('Yangon', 145.5825), ('Yangon', 84.7455), ('Yangon', 167.034), ('Yangon', 782.208), ('Yangon', 431.256), ('Yangon', 313.74), ('Yangon', 397.614), ('Yangon', 374.409), ('Yangon', 781.62), ('Yangon', 469.77), ('Yangon', 290.0835), ('Yangon', 279.384), ('Yangon', 479.64), ('Yangon', 266.6475), ('Yangon', 74.088), ('Yangon', 690.018), ('Yangon', 312.8895), ('Yangon', 932.337), ('Yangon', 43.869), ('Yangon', 16.275), ('Yangon', 314.685), ('Yangon', 255.1815), ('Yangon', 49.77), ('Yangon', 252.252), ('Yangon', 313.572), ('Yangon', 244.23), ('Yangon', 921.186), ('Yangon', 296.94), ('Yangon', 121.863), ('Yangon', 33.432), ('Yangon', 69.111), ('Yangon', 649.299)]\n"
     ]
    }
   ],
   "source": [
    "Yangoncitylist= list(zip(Yangoncity,Total))\n",
    "print(Yangoncitylist)"
   ]
  },
  {
   "cell_type": "code",
   "execution_count": 34,
   "id": "93fc49ca",
   "metadata": {},
   "outputs": [
    {
     "name": "stdout",
     "output_type": "stream",
     "text": [
      "106200.3705000001\n"
     ]
    }
   ],
   "source": [
    "totalrevenue= sum(Total)\n",
    "print(totalrevenue)"
   ]
  },
  {
   "cell_type": "code",
   "execution_count": 35,
   "id": "abbaab88",
   "metadata": {},
   "outputs": [
    {
     "name": "stdout",
     "output_type": "stream",
     "text": [
      "328\n"
     ]
    }
   ],
   "source": [
    "Naypyitawcity=[]\n",
    "Total1=[]\n",
    "for x, y in mylist:\n",
    "    if x ==\"Naypyitaw\":\n",
    "        Naypyitawcity.append(x)\n",
    "        Total1.append(y)\n",
    "print(len(Naypyitawcity))\n",
    "        "
   ]
  },
  {
   "cell_type": "code",
   "execution_count": 36,
   "id": "34b76ea3",
   "metadata": {},
   "outputs": [
    {
     "name": "stdout",
     "output_type": "stream",
     "text": [
      "[('Naypyitaw', 80.22), ('Naypyitaw', 627.6165), ('Naypyitaw', 772.38), ('Naypyitaw', 451.71), ('Naypyitaw', 417.564), ('Naypyitaw', 71.526), ('Naypyitaw', 461.328), ('Naypyitaw', 117.831), ('Naypyitaw', 829.08), ('Naypyitaw', 32.277), ('Naypyitaw', 867.615), ('Naypyitaw', 671.79), ('Naypyitaw', 16.2015), ('Naypyitaw', 722.232), ('Naypyitaw', 192.843), ('Naypyitaw', 77.931), ('Naypyitaw', 351.099), ('Naypyitaw', 70.287), ('Naypyitaw', 939.54), ('Naypyitaw', 652.26), ('Naypyitaw', 478.233), ('Naypyitaw', 437.325), ('Naypyitaw', 463.428), ('Naypyitaw', 822.255), ('Naypyitaw', 106.995), ('Naypyitaw', 624.897), ('Naypyitaw', 161.7), ('Naypyitaw', 337.512), ('Naypyitaw', 256.7775), ('Naypyitaw', 610.491), ('Naypyitaw', 401.73), ('Naypyitaw', 198.996), ('Naypyitaw', 471.03), ('Naypyitaw', 94.2375), ('Naypyitaw', 78.435), ('Naypyitaw', 51.1455), ('Naypyitaw', 742.2975), ('Naypyitaw', 218.0115), ('Naypyitaw', 172.494), ('Naypyitaw', 321.111), ('Naypyitaw', 860.685), ('Naypyitaw', 309.3615), ('Naypyitaw', 763.4655), ('Naypyitaw', 85.113), ('Naypyitaw', 419.832), ('Naypyitaw', 536.844), ('Naypyitaw', 299.8485), ('Naypyitaw', 575.736), ('Naypyitaw', 512.19), ('Naypyitaw', 284.193), ('Naypyitaw', 942.9), ('Naypyitaw', 950.25), ('Naypyitaw', 720.3), ('Naypyitaw', 31.9305), ('Naypyitaw', 291.438), ('Naypyitaw', 277.788), ('Naypyitaw', 254.016), ('Naypyitaw', 103.824), ('Naypyitaw', 680.148), ('Naypyitaw', 362.712), ('Naypyitaw', 160.44), ('Naypyitaw', 1003.59), ('Naypyitaw', 175.14), ('Naypyitaw', 165.4485), ('Naypyitaw', 273.42), ('Naypyitaw', 472.311), ('Naypyitaw', 323.148), ('Naypyitaw', 288.204), ('Naypyitaw', 293.202), ('Naypyitaw', 829.71), ('Naypyitaw', 78.0045), ('Naypyitaw', 91.77), ('Naypyitaw', 174.3), ('Naypyitaw', 374.7975), ('Naypyitaw', 120.645), ('Naypyitaw', 451.3635), ('Naypyitaw', 629.8425), ('Naypyitaw', 299.565), ('Naypyitaw', 881.307), ('Naypyitaw', 62.0025), ('Naypyitaw', 13.167), ('Naypyitaw', 183.036), ('Naypyitaw', 155.652), ('Naypyitaw', 91.4025), ('Naypyitaw', 232.155), ('Naypyitaw', 195.72), ('Naypyitaw', 369.495), ('Naypyitaw', 30.219), ('Naypyitaw', 276.948), ('Naypyitaw', 69.09), ('Naypyitaw', 148.974), ('Naypyitaw', 44.352), ('Naypyitaw', 229.11), ('Naypyitaw', 400.764), ('Naypyitaw', 745.395), ('Naypyitaw', 38.85), ('Naypyitaw', 78.603), ('Naypyitaw', 224.4375), ('Naypyitaw', 204.6975), ('Naypyitaw', 272.58), ('Naypyitaw', 121.128), ('Naypyitaw', 93.0405), ('Naypyitaw', 209.622), ('Naypyitaw', 51.0405), ('Naypyitaw', 145.593), ('Naypyitaw', 820.365), ('Naypyitaw', 208.677), ('Naypyitaw', 66.402), ('Naypyitaw', 392.6475), ('Naypyitaw', 218.0745), ('Naypyitaw', 185.094), ('Naypyitaw', 216.6885), ('Naypyitaw', 41.391), ('Naypyitaw', 395.892), ('Naypyitaw', 77.175), ('Naypyitaw', 150.0975), ('Naypyitaw', 509.4075), ('Naypyitaw', 749.7), ('Naypyitaw', 1042.65), ('Naypyitaw', 31.752), ('Naypyitaw', 394.275), ('Naypyitaw', 1002.12), ('Naypyitaw', 793.548), ('Naypyitaw', 209.559), ('Naypyitaw', 173.208), ('Naypyitaw', 343.056), ('Naypyitaw', 484.974), ('Naypyitaw', 150.78), ('Naypyitaw', 441.693), ('Naypyitaw', 265.104), ('Naypyitaw', 701.8515), ('Naypyitaw', 407.316), ('Naypyitaw', 55.881), ('Naypyitaw', 314.538), ('Naypyitaw', 294.651), ('Naypyitaw', 510.9615), ('Naypyitaw', 253.512), ('Naypyitaw', 248.409), ('Naypyitaw', 194.124), ('Naypyitaw', 14.679), ('Naypyitaw', 718.7565), ('Naypyitaw', 125.055), ('Naypyitaw', 190.596), ('Naypyitaw', 85.5855), ('Naypyitaw', 121.59), ('Naypyitaw', 264.7575), ('Naypyitaw', 1020.705), ('Naypyitaw', 17.094), ('Naypyitaw', 90.867), ('Naypyitaw', 937.818), ('Naypyitaw', 348.306), ('Naypyitaw', 71.568), ('Naypyitaw', 343.224), ('Naypyitaw', 91.56), ('Naypyitaw', 13.419), ('Naypyitaw', 290.43), ('Naypyitaw', 144.081), ('Naypyitaw', 488.985), ('Naypyitaw', 37.6845), ('Naypyitaw', 212.73), ('Naypyitaw', 310.59), ('Naypyitaw', 23.751), ('Naypyitaw', 572.775), ('Naypyitaw', 273.0525), ('Naypyitaw', 22.659), ('Naypyitaw', 103.782), ('Naypyitaw', 527.751), ('Naypyitaw', 353.094), ('Naypyitaw', 554.148), ('Naypyitaw', 344.4), ('Naypyitaw', 388.29), ('Naypyitaw', 24.108), ('Naypyitaw', 127.26), ('Naypyitaw', 132.762), ('Naypyitaw', 568.512), ('Naypyitaw', 33.495), ('Naypyitaw', 145.74), ('Naypyitaw', 100.485), ('Naypyitaw', 429.1665), ('Naypyitaw', 54.0435), ('Naypyitaw', 206.7975), ('Naypyitaw', 377.58), ('Naypyitaw', 523.971), ('Naypyitaw', 132.027), ('Naypyitaw', 154.1295), ('Naypyitaw', 122.5245), ('Naypyitaw', 551.124), ('Naypyitaw', 79.674), ('Naypyitaw', 118.251), ('Naypyitaw', 139.923), ('Naypyitaw', 1034.46), ('Naypyitaw', 936.6), ('Naypyitaw', 517.965), ('Naypyitaw', 543.753), ('Naypyitaw', 133.434), ('Naypyitaw', 85.743), ('Naypyitaw', 195.258), ('Naypyitaw', 625.905), ('Naypyitaw', 293.139), ('Naypyitaw', 178.164), ('Naypyitaw', 440.937), ('Naypyitaw', 193.4625), ('Naypyitaw', 87.234), ('Naypyitaw', 68.2395), ('Naypyitaw', 814.38), ('Naypyitaw', 381.3915), ('Naypyitaw', 209.118), ('Naypyitaw', 935.2665), ('Naypyitaw', 84.9765), ('Naypyitaw', 461.5275), ('Naypyitaw', 273.798), ('Naypyitaw', 48.51), ('Naypyitaw', 743.82), ('Naypyitaw', 609.168), ('Naypyitaw', 63.2625), ('Naypyitaw', 442.323), ('Naypyitaw', 32.529), ('Naypyitaw', 259.77), ('Naypyitaw', 104.6745), ('Naypyitaw', 125.979), ('Naypyitaw', 914.55), ('Naypyitaw', 207.48), ('Naypyitaw', 300.573), ('Naypyitaw', 282.576), ('Naypyitaw', 618.975), ('Naypyitaw', 310.716), ('Naypyitaw', 153.048), ('Naypyitaw', 663.2955), ('Naypyitaw', 404.544), ('Naypyitaw', 539.343), ('Naypyitaw', 497.07), ('Naypyitaw', 1023.75), ('Naypyitaw', 507.444), ('Naypyitaw', 72.429), ('Naypyitaw', 131.208), ('Naypyitaw', 317.226), ('Naypyitaw', 733.6035), ('Naypyitaw', 130.8825), ('Naypyitaw', 829.08), ('Naypyitaw', 856.4535), ('Naypyitaw', 270.2595), ('Naypyitaw', 239.4), ('Naypyitaw', 175.0455), ('Naypyitaw', 408.492), ('Naypyitaw', 860.475), ('Naypyitaw', 596.82), ('Naypyitaw', 616.98), ('Naypyitaw', 408.7335), ('Naypyitaw', 89.0715), ('Naypyitaw', 266.028), ('Naypyitaw', 40.341), ('Naypyitaw', 55.2825), ('Naypyitaw', 597.0405), ('Naypyitaw', 267.3405), ('Naypyitaw', 239.589), ('Naypyitaw', 631.1445), ('Naypyitaw', 499.7265), ('Naypyitaw', 55.041), ('Naypyitaw', 137.865), ('Naypyitaw', 480.0285), ('Naypyitaw', 132.5625), ('Naypyitaw', 183.12), ('Naypyitaw', 369.684), ('Naypyitaw', 53.34), ('Naypyitaw', 603.876), ('Naypyitaw', 57.6975), ('Naypyitaw', 190.4805), ('Naypyitaw', 287.91), ('Naypyitaw', 63.9135), ('Naypyitaw', 455.1225), ('Naypyitaw', 253.68), ('Naypyitaw', 495.3165), ('Naypyitaw', 652.89), ('Naypyitaw', 341.0925), ('Naypyitaw', 333.984), ('Naypyitaw', 10.6785), ('Naypyitaw', 681.975), ('Naypyitaw', 586.635), ('Naypyitaw', 184.086), ('Naypyitaw', 31.227), ('Naypyitaw', 23.499), ('Naypyitaw', 688.716), ('Naypyitaw', 390.9465), ('Naypyitaw', 90.5835), ('Naypyitaw', 106.5015), ('Naypyitaw', 131.922), ('Naypyitaw', 76.5765), ('Naypyitaw', 59.325), ('Naypyitaw', 548.184), ('Naypyitaw', 54.9675), ('Naypyitaw', 85.512), ('Naypyitaw', 102.396), ('Naypyitaw', 439.215), ('Naypyitaw', 485.5725), ('Naypyitaw', 446.439), ('Naypyitaw', 297.801), ('Naypyitaw', 629.16), ('Naypyitaw', 423.738), ('Naypyitaw', 122.472), ('Naypyitaw', 329.196), ('Naypyitaw', 888.405), ('Naypyitaw', 235.746), ('Naypyitaw', 223.587), ('Naypyitaw', 44.9925), ('Naypyitaw', 338.2155), ('Naypyitaw', 26.733), ('Naypyitaw', 611.079), ('Naypyitaw', 221.886), ('Naypyitaw', 175.035), ('Naypyitaw', 470.988), ('Naypyitaw', 270.018), ('Naypyitaw', 579.8415), ('Naypyitaw', 360.927), ('Naypyitaw', 943.299), ('Naypyitaw', 176.925), ('Naypyitaw', 188.0025), ('Naypyitaw', 88.368), ('Naypyitaw', 477.1305), ('Naypyitaw', 165.9), ('Naypyitaw', 96.579), ('Naypyitaw', 304.983), ('Naypyitaw', 180.873), ('Naypyitaw', 250.278), ('Naypyitaw', 734.706), ('Naypyitaw', 708.3195), ('Naypyitaw', 864.57), ('Naypyitaw', 63.9975), ('Naypyitaw', 42.3675)]\n"
     ]
    }
   ],
   "source": [
    "Naypyitawlist= list(zip(Naypyitawcity, Total1))\n",
    "print(Naypyitawlist)"
   ]
  },
  {
   "cell_type": "code",
   "execution_count": 37,
   "id": "41dabca3",
   "metadata": {},
   "outputs": [
    {
     "name": "stdout",
     "output_type": "stream",
     "text": [
      "110568.70649999994\n"
     ]
    }
   ],
   "source": [
    "totalrevenueNaypyitaw= sum(Total1)\n",
    "print(totalrevenueNaypyitaw)"
   ]
  },
  {
   "cell_type": "code",
   "execution_count": 38,
   "id": "fdb3b7a2",
   "metadata": {},
   "outputs": [
    {
     "name": "stdout",
     "output_type": "stream",
     "text": [
      "332\n"
     ]
    }
   ],
   "source": [
    "Mandalaycity=[]\n",
    "Total2=[]\n",
    "for x,y in mylist:\n",
    "    if x ==\"Mandalay\":\n",
    "        Mandalaycity.append(x)\n",
    "        Total2.append(y)\n",
    "print(len(Mandalaycity))"
   ]
  },
  {
   "cell_type": "code",
   "execution_count": 39,
   "id": "1994dcd9",
   "metadata": {},
   "outputs": [
    {
     "name": "stdout",
     "output_type": "stream",
     "text": [
      "[('Mandalay', 172.746), ('Mandalay', 60.816), ('Mandalay', 107.142), ('Mandalay', 590.436), ('Mandalay', 84.63), ('Mandalay', 277.137), ('Mandalay', 69.72), ('Mandalay', 35.196), ('Mandalay', 463.89), ('Mandalay', 494.1825), ('Mandalay', 737.7615), ('Mandalay', 703.752), ('Mandalay', 253.008), ('Mandalay', 91.056), ('Mandalay', 435.456), ('Mandalay', 394.632), ('Mandalay', 535.7205), ('Mandalay', 189.0945), ('Mandalay', 119.259), ('Mandalay', 75.054), ('Mandalay', 33.936), ('Mandalay', 520.4115), ('Mandalay', 318.108), ('Mandalay', 614.943), ('Mandalay', 152.838), ('Mandalay', 304.542), ('Mandalay', 485.037), ('Mandalay', 608.202), ('Mandalay', 922.635), ('Mandalay', 521.01), ('Mandalay', 223.0725), ('Mandalay', 34.629), ('Mandalay', 535.374), ('Mandalay', 115.185), ('Mandalay', 53.928), ('Mandalay', 112.224), ('Mandalay', 944.622), ('Mandalay', 474.348), ('Mandalay', 853.146), ('Mandalay', 291.207), ('Mandalay', 146.328), ('Mandalay', 550.935), ('Mandalay', 545.055), ('Mandalay', 603.624), ('Mandalay', 384.468), ('Mandalay', 75.7785), ('Mandalay', 263.97), ('Mandalay', 918.729), ('Mandalay', 588.357), ('Mandalay', 418.95), ('Mandalay', 357.588), ('Mandalay', 420.2625), ('Mandalay', 333.207), ('Mandalay', 166.236), ('Mandalay', 56.952), ('Mandalay', 793.716), ('Mandalay', 195.174), ('Mandalay', 242.676), ('Mandalay', 154.392), ('Mandalay', 107.31), ('Mandalay', 241.458), ('Mandalay', 271.95), ('Mandalay', 93.2925), ('Mandalay', 95.6655), ('Mandalay', 942.4485), ('Mandalay', 484.89), ('Mandalay', 146.223), ('Mandalay', 217.6335), ('Mandalay', 130.0425), ('Mandalay', 796.908), ('Mandalay', 180.621), ('Mandalay', 285.705), ('Mandalay', 456.288), ('Mandalay', 655.5465), ('Mandalay', 571.41), ('Mandalay', 170.877), ('Mandalay', 33.3585), ('Mandalay', 794.6505), ('Mandalay', 310.044), ('Mandalay', 69.405), ('Mandalay', 788.508), ('Mandalay', 256.41), ('Mandalay', 536.991), ('Mandalay', 439.8975), ('Mandalay', 137.004), ('Mandalay', 160.86), ('Mandalay', 57.1725), ('Mandalay', 783.3), ('Mandalay', 354.0075), ('Mandalay', 628.173), ('Mandalay', 352.5795), ('Mandalay', 350.07), ('Mandalay', 356.5485), ('Mandalay', 423.15), ('Mandalay', 190.155), ('Mandalay', 40.9605), ('Mandalay', 125.664), ('Mandalay', 503.559), ('Mandalay', 410.508), ('Mandalay', 214.746), ('Mandalay', 208.089), ('Mandalay', 365.085), ('Mandalay', 404.649), ('Mandalay', 151.4835), ('Mandalay', 411.3795), ('Mandalay', 565.215), ('Mandalay', 141.75), ('Mandalay', 402.2655), ('Mandalay', 255.15), ('Mandalay', 374.388), ('Mandalay', 86.625), ('Mandalay', 78.7185), ('Mandalay', 193.011), ('Mandalay', 128.016), ('Mandalay', 334.341), ('Mandalay', 99.33), ('Mandalay', 523.3725), ('Mandalay', 79.611), ('Mandalay', 133.917), ('Mandalay', 398.475), ('Mandalay', 128.4255), ('Mandalay', 258.678), ('Mandalay', 181.818), ('Mandalay', 208.6875), ('Mandalay', 288.582), ('Mandalay', 359.205), ('Mandalay', 45.927), ('Mandalay', 100.9155), ('Mandalay', 120.162), ('Mandalay', 213.528), ('Mandalay', 383.7645), ('Mandalay', 65.7405), ('Mandalay', 353.1675), ('Mandalay', 145.068), ('Mandalay', 702.219), ('Mandalay', 49.812), ('Mandalay', 742.812), ('Mandalay', 20.1075), ('Mandalay', 28.4235), ('Mandalay', 41.076), ('Mandalay', 470.673), ('Mandalay', 138.663), ('Mandalay', 155.19), ('Mandalay', 731.43), ('Mandalay', 833.595), ('Mandalay', 767.025), ('Mandalay', 233.226), ('Mandalay', 609.588), ('Mandalay', 360.885), ('Mandalay', 633.99), ('Mandalay', 207.858), ('Mandalay', 431.445), ('Mandalay', 734.076), ('Mandalay', 72.87), ('Mandalay', 212.688), ('Mandalay', 209.769), ('Mandalay', 637.728), ('Mandalay', 103.0365), ('Mandalay', 77.6685), ('Mandalay', 195.951), ('Mandalay', 92.8725), ('Mandalay', 152.775), ('Mandalay', 529.515), ('Mandalay', 321.7725), ('Mandalay', 666.939), ('Mandalay', 288.015), ('Mandalay', 143.9865), ('Mandalay', 164.682), ('Mandalay', 125.706), ('Mandalay', 570.78), ('Mandalay', 240.975), ('Mandalay', 77.658), ('Mandalay', 84.756), ('Mandalay', 74.76), ('Mandalay', 163.002), ('Mandalay', 270.585), ('Mandalay', 180.4005), ('Mandalay', 513.2295), ('Mandalay', 550.368), ('Mandalay', 118.062), ('Mandalay', 151.284), ('Mandalay', 203.931), ('Mandalay', 356.328), ('Mandalay', 208.425), ('Mandalay', 586.971), ('Mandalay', 430.71), ('Mandalay', 280.035), ('Mandalay', 152.019), ('Mandalay', 597.6285), ('Mandalay', 253.26), ('Mandalay', 145.971), ('Mandalay', 75.936), ('Mandalay', 198.639), ('Mandalay', 304.92), ('Mandalay', 46.683), ('Mandalay', 343.413), ('Mandalay', 133.35), ('Mandalay', 121.569), ('Mandalay', 293.643), ('Mandalay', 457.38), ('Mandalay', 695.2365), ('Mandalay', 874.125), ('Mandalay', 95.9175), ('Mandalay', 165.648), ('Mandalay', 867.09), ('Mandalay', 314.055), ('Mandalay', 251.7165), ('Mandalay', 697.935), ('Mandalay', 92.5575), ('Mandalay', 165.123), ('Mandalay', 311.1885), ('Mandalay', 116.907), ('Mandalay', 35.3115), ('Mandalay', 397.215), ('Mandalay', 351.603), ('Mandalay', 352.674), ('Mandalay', 252.756), ('Mandalay', 135.3555), ('Mandalay', 370.125), ('Mandalay', 181.881), ('Mandalay', 75.474), ('Mandalay', 85.302), ('Mandalay', 196.14), ('Mandalay', 231.2415), ('Mandalay', 175.917), ('Mandalay', 470.988), ('Mandalay', 41.454), ('Mandalay', 36.5505), ('Mandalay', 145.404), ('Mandalay', 103.11), ('Mandalay', 136.143), ('Mandalay', 261.198), ('Mandalay', 101.808), ('Mandalay', 207.585), ('Mandalay', 760.4415), ('Mandalay', 835.2855), ('Mandalay', 527.5095), ('Mandalay', 180.6), ('Mandalay', 110.124), ('Mandalay', 187.866), ('Mandalay', 138.978), ('Mandalay', 98.028), ('Mandalay', 732.27), ('Mandalay', 383.523), ('Mandalay', 557.718), ('Mandalay', 56.406), ('Mandalay', 769.104), ('Mandalay', 684.915), ('Mandalay', 116.1405), ('Mandalay', 93.744), ('Mandalay', 384.72), ('Mandalay', 300.216), ('Mandalay', 810.6), ('Mandalay', 757.365), ('Mandalay', 801.864), ('Mandalay', 86.247), ('Mandalay', 401.688), ('Mandalay', 401.268), ('Mandalay', 151.515), ('Mandalay', 98.049), ('Mandalay', 830.3715), ('Mandalay', 1022.385), ('Mandalay', 57.078), ('Mandalay', 97.419), ('Mandalay', 144.963), ('Mandalay', 714.3255), ('Mandalay', 18.6375), ('Mandalay', 90.3), ('Mandalay', 446.964), ('Mandalay', 403.872), ('Mandalay', 247.59), ('Mandalay', 222.138), ('Mandalay', 441.588), ('Mandalay', 681.4395), ('Mandalay', 262.794), ('Mandalay', 99.54), ('Mandalay', 299.3655), ('Mandalay', 281.169), ('Mandalay', 63.315), ('Mandalay', 554.295), ('Mandalay', 345.0195), ('Mandalay', 177.408), ('Mandalay', 362.817), ('Mandalay', 106.596), ('Mandalay', 375.3645), ('Mandalay', 760.452), ('Mandalay', 225.015), ('Mandalay', 41.7375), ('Mandalay', 101.64), ('Mandalay', 348.705), ('Mandalay', 335.895), ('Mandalay', 486.444), ('Mandalay', 148.995), ('Mandalay', 317.835), ('Mandalay', 832.944), ('Mandalay', 193.074), ('Mandalay', 435.12), ('Mandalay', 514.605), ('Mandalay', 91.8225), ('Mandalay', 217.2555), ('Mandalay', 82.719), ('Mandalay', 103.131), ('Mandalay', 57.876), ('Mandalay', 92.7255), ('Mandalay', 833.9625), ('Mandalay', 53.151), ('Mandalay', 629.496), ('Mandalay', 397.845), ('Mandalay', 56.469), ('Mandalay', 222.012), ('Mandalay', 125.7165), ('Mandalay', 68.985), ('Mandalay', 263.97), ('Mandalay', 415.233), ('Mandalay', 289.926), ('Mandalay', 69.993), ('Mandalay', 80.367), ('Mandalay', 181.0725), ('Mandalay', 888.615), ('Mandalay', 271.2885), ('Mandalay', 640.038), ('Mandalay', 104.832), ('Mandalay', 167.58), ('Mandalay', 26.7225), ('Mandalay', 71.1585), ('Mandalay', 334.4775), ('Mandalay', 30.996), ('Mandalay', 520.8), ('Mandalay', 633.108), ('Mandalay', 804.3), ('Mandalay', 183.645), ('Mandalay', 1022.49)]\n"
     ]
    }
   ],
   "source": [
    "Mandalaylist= list(zip(Mandalaycity, Total2))\n",
    "print(Mandalaylist)"
   ]
  },
  {
   "cell_type": "code",
   "execution_count": 40,
   "id": "ddd663fb",
   "metadata": {},
   "outputs": [
    {
     "name": "stdout",
     "output_type": "stream",
     "text": [
      "106197.67199999996\n"
     ]
    }
   ],
   "source": [
    "totalrevenueMandalay= sum(Total2)\n",
    "print(totalrevenueMandalay)"
   ]
  },
  {
   "cell_type": "code",
   "execution_count": 41,
   "id": "1c808fab",
   "metadata": {},
   "outputs": [],
   "source": [
    "City= mydata['City']\n",
    "Productline= mydata['Product line']\n",
    "Quantity= mydata['Quantity']"
   ]
  },
  {
   "cell_type": "code",
   "execution_count": 42,
   "id": "24fbe192",
   "metadata": {},
   "outputs": [],
   "source": [
    "citylist= list(City)\n",
    "Productlinelist= list(Productline)\n",
    "Quantitylist= list(Quantity)"
   ]
  },
  {
   "cell_type": "code",
   "execution_count": 43,
   "id": "10666714",
   "metadata": {},
   "outputs": [
    {
     "name": "stdout",
     "output_type": "stream",
     "text": [
      "[('Yangon', 'Health and beauty', 7), ('Naypyitaw', 'Electronic accessories', 5), ('Yangon', 'Home and lifestyle', 7), ('Yangon', 'Health and beauty', 8), ('Yangon', 'Sports and travel', 7), ('Naypyitaw', 'Electronic accessories', 7), ('Yangon', 'Electronic accessories', 6), ('Naypyitaw', 'Home and lifestyle', 10), ('Yangon', 'Health and beauty', 2), ('Mandalay', 'Food and beverages', 3), ('Mandalay', 'Fashion accessories', 4), ('Mandalay', 'Electronic accessories', 4), ('Yangon', 'Electronic accessories', 5), ('Yangon', 'Food and beverages', 10), ('Yangon', 'Health and beauty', 10), ('Mandalay', 'Sports and travel', 6), ('Yangon', 'Health and beauty', 7), ('Yangon', 'Sports and travel', 6), ('Yangon', 'Food and beverages', 3), ('Mandalay', 'Home and lifestyle', 2), ('Naypyitaw', 'Electronic accessories', 5), ('Mandalay', 'Health and beauty', 3), ('Mandalay', 'Home and lifestyle', 2), ('Yangon', 'Electronic accessories', 5), ('Yangon', 'Sports and travel', 3), ('Yangon', 'Home and lifestyle', 8), ('Mandalay', 'Fashion accessories', 1), ('Yangon', 'Fashion accessories', 2), ('Mandalay', 'Food and beverages', 5), ('Yangon', 'Health and beauty', 9), ('Mandalay', 'Fashion accessories', 5), ('Mandalay', 'Sports and travel', 9), ('Mandalay', 'Sports and travel', 8), ('Yangon', 'Health and beauty', 2), ('Naypyitaw', 'Food and beverages', 4), ('Naypyitaw', 'Sports and travel', 1), ('Yangon', 'Sports and travel', 5), ('Yangon', 'Electronic accessories', 9), ('Naypyitaw', 'Health and beauty', 8), ('Mandalay', 'Home and lifestyle', 8), ('Mandalay', 'Home and lifestyle', 1), ('Naypyitaw', 'Home and lifestyle', 2), ('Mandalay', 'Sports and travel', 6), ('Naypyitaw', 'Food and beverages', 8), ('Naypyitaw', 'Health and beauty', 2), ('Mandalay', 'Electronic accessories', 4), ('Mandalay', 'Health and beauty', 9), ('Mandalay', 'Food and beverages', 9), ('Mandalay', 'Electronic accessories', 6), ('Naypyitaw', 'Fashion accessories', 10), ('Naypyitaw', 'Food and beverages', 7), ('Yangon', 'Food and beverages', 5), ('Mandalay', 'Fashion accessories', 4), ('Naypyitaw', 'Fashion accessories', 1), ('Mandalay', 'Home and lifestyle', 2), ('Naypyitaw', 'Electronic accessories', 8), ('Yangon', 'Home and lifestyle', 2), ('Yangon', 'Health and beauty', 8), ('Yangon', 'Home and lifestyle', 10), ('Naypyitaw', 'Electronic accessories', 6), ('Naypyitaw', 'Sports and travel', 3), ('Naypyitaw', 'Home and lifestyle', 6), ('Mandalay', 'Sports and travel', 9), ('Yangon', 'Sports and travel', 10), ('Mandalay', 'Health and beauty', 4), ('Yangon', 'Health and beauty', 10), ('Naypyitaw', 'Health and beauty', 2), ('Mandalay', 'Fashion accessories', 6), ('Yangon', 'Sports and travel', 10), ('Yangon', 'Health and beauty', 1), ('Naypyitaw', 'Food and beverages', 10), ('Naypyitaw', 'Fashion accessories', 10), ('Mandalay', 'Food and beverages', 3), ('Naypyitaw', 'Electronic accessories', 6), ('Yangon', 'Home and lifestyle', 9), ('Naypyitaw', 'Electronic accessories', 10), ('Naypyitaw', 'Fashion accessories', 9), ('Yangon', 'Fashion accessories', 9), ('Naypyitaw', 'Food and beverages', 10), ('Naypyitaw', 'Health and beauty', 5), ('Naypyitaw', 'Health and beauty', 6), ('Mandalay', 'Food and beverages', 3), ('Naypyitaw', 'Food and beverages', 8), ('Naypyitaw', 'Food and beverages', 4), ('Naypyitaw', 'Sports and travel', 5), ('Naypyitaw', 'Sports and travel', 7), ('Naypyitaw', 'Fashion accessories', 5), ('Yangon', 'Food and beverages', 7), ('Yangon', 'Sports and travel', 1), ('Mandalay', 'Health and beauty', 6), ('Naypyitaw', 'Home and lifestyle', 4), ('Naypyitaw', 'Sports and travel', 10), ('Yangon', 'Sports and travel', 7), ('Mandalay', 'Health and beauty', 9), ('Naypyitaw', 'Health and beauty', 1), ('Yangon', 'Electronic accessories', 1), ('Mandalay', 'Health and beauty', 10), ('Naypyitaw', 'Electronic accessories', 6), ('Yangon', 'Food and beverages', 3), ('Mandalay', 'Home and lifestyle', 6), ('Naypyitaw', 'Fashion accessories', 1), ('Naypyitaw', 'Fashion accessories', 9), ('Naypyitaw', 'Electronic accessories', 9), ('Yangon', 'Food and beverages', 6), ('Mandalay', 'Health and beauty', 7), ('Yangon', 'Electronic accessories', 10), ('Naypyitaw', 'Fashion accessories', 6), ('Yangon', 'Sports and travel', 6), ('Naypyitaw', 'Food and beverages', 9), ('Naypyitaw', 'Electronic accessories', 10), ('Mandalay', 'Sports and travel', 2), ('Naypyitaw', 'Health and beauty', 3), ('Mandalay', 'Fashion accessories', 7), ('Yangon', 'Home and lifestyle', 9), ('Naypyitaw', 'Home and lifestyle', 9), ('Naypyitaw', 'Fashion accessories', 3), ('Mandalay', 'Fashion accessories', 5), ('Mandalay', 'Fashion accessories', 1), ('Yangon', 'Food and beverages', 10), ('Mandalay', 'Home and lifestyle', 2), ('Yangon', 'Electronic accessories', 8), ('Naypyitaw', 'Sports and travel', 7), ('Mandalay', 'Sports and travel', 9), ('Naypyitaw', 'Home and lifestyle', 8), ('Mandalay', 'Fashion accessories', 8), ('Yangon', 'Home and lifestyle', 7), ('Yangon', 'Sports and travel', 5), ('Naypyitaw', 'Fashion accessories', 9), ('Naypyitaw', 'Food and beverages', 8), ('Mandalay', 'Sports and travel', 9), ('Mandalay', 'Fashion accessories', 7), ('Yangon', 'Sports and travel', 6), ('Mandalay', 'Sports and travel', 4), ('Mandalay', 'Electronic accessories', 6), ('Naypyitaw', 'Health and beauty', 6), ('Naypyitaw', 'Fashion accessories', 3), ('Yangon', 'Electronic accessories', 5), ('Yangon', 'Home and lifestyle', 6), ('Mandalay', 'Sports and travel', 10), ('Yangon', 'Sports and travel', 8), ('Naypyitaw', 'Sports and travel', 10), ('Naypyitaw', 'Health and beauty', 10), ('Naypyitaw', 'Health and beauty', 10), ('Naypyitaw', 'Food and beverages', 1), ('Yangon', 'Home and lifestyle', 6), ('Naypyitaw', 'Health and beauty', 6), ('Yangon', 'Fashion accessories', 10), ('Naypyitaw', 'Health and beauty', 4), ('Mandalay', 'Home and lifestyle', 8), ('Yangon', 'Health and beauty', 8), ('Mandalay', 'Fashion accessories', 4), ('Naypyitaw', 'Sports and travel', 7), ('Yangon', 'Fashion accessories', 9), ('Naypyitaw', 'Food and beverages', 6), ('Naypyitaw', 'Sports and travel', 8), ('Yangon', 'Food and beverages', 5), ('Mandalay', 'Electronic accessories', 1), ('Mandalay', 'Home and lifestyle', 5), ('Mandalay', 'Health and beauty', 9), ('Mandalay', 'Sports and travel', 6), ('Naypyitaw', 'Food and beverages', 8), ('Yangon', 'Sports and travel', 1), ('Yangon', 'Food and beverages', 7), ('Naypyitaw', 'Sports and travel', 2), ('Mandalay', 'Food and beverages', 10), ('Mandalay', 'Health and beauty', 8), ('Naypyitaw', 'Home and lifestyle', 10), ('Yangon', 'Fashion accessories', 10), ('Yangon', 'Food and beverages', 6), ('Yangon', 'Sports and travel', 7), ('Yangon', 'Health and beauty', 5), ('Mandalay', 'Food and beverages', 5), ('Naypyitaw', 'Electronic accessories', 8), ('Mandalay', 'Electronic accessories', 6), ('Mandalay', 'Food and beverages', 8), ('Yangon', 'Home and lifestyle', 9), ('Yangon', 'Food and beverages', 8), ('Naypyitaw', 'Fashion accessories', 7), ('Yangon', 'Food and beverages', 6), ('Naypyitaw', 'Health and beauty', 3), ('Naypyitaw', 'Fashion accessories', 7), ('Naypyitaw', 'Food and beverages', 8), ('Yangon', 'Sports and travel', 10), ('Naypyitaw', 'Health and beauty', 8), ('Yangon', 'Sports and travel', 7), ('Mandalay', 'Food and beverages', 3), ('Mandalay', 'Home and lifestyle', 8), ('Mandalay', 'Home and lifestyle', 4), ('Yangon', 'Home and lifestyle', 1), ('Naypyitaw', 'Home and lifestyle', 4), ('Mandalay', 'Home and lifestyle', 3), ('Mandalay', 'Fashion accessories', 2), ('Naypyitaw', 'Food and beverages', 9), ('Mandalay', 'Home and lifestyle', 4), ('Yangon', 'Electronic accessories', 5), ('Naypyitaw', 'Fashion accessories', 1), ('Naypyitaw', 'Health and beauty', 2), ('Yangon', 'Home and lifestyle', 1), ('Naypyitaw', 'Health and beauty', 4), ('Naypyitaw', 'Food and beverages', 5), ('Naypyitaw', 'Sports and travel', 6), ('Mandalay', 'Electronic accessories', 4), ('Naypyitaw', 'Electronic accessories', 7), ('Mandalay', 'Health and beauty', 10), ('Mandalay', 'Home and lifestyle', 5), ('Yangon', 'Health and beauty', 9), ('Naypyitaw', 'Electronic accessories', 9), ('Naypyitaw', 'Home and lifestyle', 10), ('Mandalay', 'Fashion accessories', 3), ('Mandalay', 'Electronic accessories', 9), ('Yangon', 'Electronic accessories', 9), ('Naypyitaw', 'Food and beverages', 9), ('Mandalay', 'Home and lifestyle', 5), ('Mandalay', 'Sports and travel', 3), ('Mandalay', 'Sports and travel', 7), ('Yangon', 'Home and lifestyle', 1), ('Mandalay', 'Sports and travel', 5), ('Yangon', 'Electronic accessories', 3), ('Mandalay', 'Fashion accessories', 8), ('Mandalay', 'Food and beverages', 3), ('Mandalay', 'Electronic accessories', 6), ('Mandalay', 'Food and beverages', 7), ('Naypyitaw', 'Electronic accessories', 5), ('Naypyitaw', 'Fashion accessories', 1), ('Yangon', 'Food and beverages', 2), ('Naypyitaw', 'Sports and travel', 2), ('Mandalay', 'Health and beauty', 9), ('Naypyitaw', 'Electronic accessories', 4), ('Mandalay', 'Electronic accessories', 6), ('Yangon', 'Home and lifestyle', 8), ('Mandalay', 'Fashion accessories', 2), ('Mandalay', 'Electronic accessories', 3), ('Mandalay', 'Health and beauty', 9), ('Mandalay', 'Fashion accessories', 4), ('Yangon', 'Health and beauty', 10), ('Yangon', 'Sports and travel', 2), ('Naypyitaw', 'Health and beauty', 5), ('Naypyitaw', 'Fashion accessories', 5), ('Mandalay', 'Electronic accessories', 5), ('Yangon', 'Fashion accessories', 1), ('Yangon', 'Food and beverages', 9), ('Yangon', 'Health and beauty', 2), ('Naypyitaw', 'Fashion accessories', 2), ('Yangon', 'Home and lifestyle', 4), ('Mandalay', 'Home and lifestyle', 8), ('Yangon', 'Home and lifestyle', 8), ('Mandalay', 'Electronic accessories', 3), ('Yangon', 'Fashion accessories', 5), ('Yangon', 'Electronic accessories', 4), ('Mandalay', 'Food and beverages', 7), ('Mandalay', 'Food and beverages', 9), ('Naypyitaw', 'Fashion accessories', 10), ('Naypyitaw', 'Sports and travel', 2), ('Yangon', 'Home and lifestyle', 4), ('Yangon', 'Home and lifestyle', 8), ('Mandalay', 'Fashion accessories', 4), ('Yangon', 'Electronic accessories', 1), ('Yangon', 'Home and lifestyle', 6), ('Yangon', 'Electronic accessories', 4), ('Naypyitaw', 'Electronic accessories', 4), ('Yangon', 'Electronic accessories', 9), ('Naypyitaw', 'Fashion accessories', 4), ('Mandalay', 'Fashion accessories', 4), ('Yangon', 'Sports and travel', 10), ('Mandalay', 'Sports and travel', 1), ('Yangon', 'Sports and travel', 7), ('Naypyitaw', 'Home and lifestyle', 4), ('Mandalay', 'Food and beverages', 10), ('Yangon', 'Home and lifestyle', 4), ('Yangon', 'Home and lifestyle', 10), ('Mandalay', 'Sports and travel', 5), ('Naypyitaw', 'Health and beauty', 2), ('Yangon', 'Home and lifestyle', 9), ('Yangon', 'Home and lifestyle', 2), ('Mandalay', 'Health and beauty', 6), ('Mandalay', 'Fashion accessories', 7), ('Naypyitaw', 'Home and lifestyle', 10), ('Naypyitaw', 'Fashion accessories', 4), ('Naypyitaw', 'Fashion accessories', 10), ('Yangon', 'Sports and travel', 10), ('Yangon', 'Home and lifestyle', 8), ('Naypyitaw', 'Home and lifestyle', 1), ('Yangon', 'Sports and travel', 1), ('Yangon', 'Health and beauty', 6), ('Yangon', 'Health and beauty', 4), ('Mandalay', 'Health and beauty', 5), ('Naypyitaw', 'Home and lifestyle', 1), ('Naypyitaw', 'Sports and travel', 9), ('Mandalay', 'Food and beverages', 7), ('Yangon', 'Home and lifestyle', 7), ('Mandalay', 'Electronic accessories', 10), ('Naypyitaw', 'Electronic accessories', 7), ('Yangon', 'Electronic accessories', 1), ('Yangon', 'Food and beverages', 2), ('Mandalay', 'Health and beauty', 10), ('Naypyitaw', 'Electronic accessories', 5), ('Naypyitaw', 'Electronic accessories', 4), ('Yangon', 'Home and lifestyle', 6), ('Yangon', 'Home and lifestyle', 4), ('Naypyitaw', 'Home and lifestyle', 1), ('Naypyitaw', 'Fashion accessories', 2), ('Mandalay', 'Health and beauty', 1), ('Naypyitaw', 'Food and beverages', 1), ('Yangon', 'Electronic accessories', 4), ('Mandalay', 'Electronic accessories', 8), ('Yangon', 'Electronic accessories', 7), ('Yangon', 'Sports and travel', 7), ('Yangon', 'Home and lifestyle', 8), ('Yangon', 'Electronic accessories', 3), ('Yangon', 'Fashion accessories', 2), ('Mandalay', 'Sports and travel', 6), ('Naypyitaw', 'Fashion accessories', 2), ('Yangon', 'Food and beverages', 5), ('Yangon', 'Health and beauty', 9), ('Naypyitaw', 'Electronic accessories', 10), ('Naypyitaw', 'Food and beverages', 2), ('Naypyitaw', 'Food and beverages', 3), ('Naypyitaw', 'Electronic accessories', 5), ('Naypyitaw', 'Health and beauty', 7), ('Naypyitaw', 'Health and beauty', 4), ('Naypyitaw', 'Food and beverages', 9), ('Naypyitaw', 'Health and beauty', 1), ('Yangon', 'Health and beauty', 6), ('Yangon', 'Fashion accessories', 5), ('Yangon', 'Home and lifestyle', 6), ('Mandalay', 'Sports and travel', 4), ('Yangon', 'Food and beverages', 5), ('Naypyitaw', 'Food and beverages', 4), ('Mandalay', 'Health and beauty', 4), ('Yangon', 'Electronic accessories', 4), ('Mandalay', 'Home and lifestyle', 9), ('Yangon', 'Food and beverages', 3), ('Yangon', 'Fashion accessories', 5), ('Yangon', 'Food and beverages', 2), ('Naypyitaw', 'Sports and travel', 5), ('Yangon', 'Electronic accessories', 5), ('Yangon', 'Fashion accessories', 9), ('Mandalay', 'Sports and travel', 6), ('Naypyitaw', 'Electronic accessories', 3), ('Mandalay', 'Food and beverages', 9), ('Mandalay', 'Electronic accessories', 3), ('Mandalay', 'Health and beauty', 7), ('Mandalay', 'Health and beauty', 7), ('Naypyitaw', 'Food and beverages', 5), ('Yangon', 'Sports and travel', 3), ('Yangon', 'Fashion accessories', 9), ('Yangon', 'Electronic accessories', 1), ('Naypyitaw', 'Home and lifestyle', 8), ('Yangon', 'Electronic accessories', 7), ('Mandalay', 'Health and beauty', 10), ('Naypyitaw', 'Fashion accessories', 10), ('Yangon', 'Electronic accessories', 7), ('Mandalay', 'Fashion accessories', 7), ('Mandalay', 'Home and lifestyle', 9), ('Naypyitaw', 'Electronic accessories', 1), ('Mandalay', 'Food and beverages', 4), ('Naypyitaw', 'Fashion accessories', 10), ('Naypyitaw', 'Sports and travel', 10), ('Mandalay', 'Electronic accessories', 3), ('Mandalay', 'Sports and travel', 1), ('Yangon', 'Food and beverages', 8), ('Naypyitaw', 'Food and beverages', 8), ('Naypyitaw', 'Food and beverages', 2), ('Yangon', 'Home and lifestyle', 6), ('Naypyitaw', 'Food and beverages', 4), ('Naypyitaw', 'Fashion accessories', 4), ('Naypyitaw', 'Electronic accessories', 9), ('Yangon', 'Home and lifestyle', 4), ('Naypyitaw', 'Sports and travel', 10), ('Yangon', 'Electronic accessories', 9), ('Mandalay', 'Electronic accessories', 7), ('Mandalay', 'Fashion accessories', 2), ('Naypyitaw', 'Home and lifestyle', 6), ('Naypyitaw', 'Fashion accessories', 6), ('Yangon', 'Home and lifestyle', 5), ('Yangon', 'Fashion accessories', 5), ('Mandalay', 'Home and lifestyle', 9), ('Naypyitaw', 'Sports and travel', 7), ('Naypyitaw', 'Fashion accessories', 4), ('Mandalay', 'Electronic accessories', 4), ('Yangon', 'Sports and travel', 4), ('Naypyitaw', 'Electronic accessories', 2), ('Mandalay', 'Food and beverages', 5), ('Naypyitaw', 'Food and beverages', 4), ('Yangon', 'Food and beverages', 5), ('Mandalay', 'Sports and travel', 1), ('Naypyitaw', 'Food and beverages', 6), ('Yangon', 'Health and beauty', 10), ('Naypyitaw', 'Fashion accessories', 9), ('Mandalay', 'Food and beverages', 7), ('Naypyitaw', 'Fashion accessories', 3), ('Mandalay', 'Fashion accessories', 10), ('Yangon', 'Electronic accessories', 1), ('Yangon', 'Sports and travel', 10), ('Yangon', 'Health and beauty', 1), ('Yangon', 'Health and beauty', 5), ('Yangon', 'Food and beverages', 5), ('Mandalay', 'Home and lifestyle', 9), ('Mandalay', 'Health and beauty', 6), ('Mandalay', 'Electronic accessories', 9), ('Naypyitaw', 'Food and beverages', 6), ('Naypyitaw', 'Home and lifestyle', 4), ('Naypyitaw', 'Home and lifestyle', 1), ('Mandalay', 'Fashion accessories', 5), ('Naypyitaw', 'Fashion accessories', 7), ('Yangon', 'Sports and travel', 4), ('Yangon', 'Food and beverages', 5), ('Mandalay', 'Fashion accessories', 4), ('Yangon', 'Home and lifestyle', 4), ('Naypyitaw', 'Fashion accessories', 5), ('Mandalay', 'Health and beauty', 10), ('Mandalay', 'Sports and travel', 2), ('Yangon', 'Health and beauty', 5), ('Yangon', 'Sports and travel', 3), ('Yangon', 'Home and lifestyle', 8), ('Mandalay', 'Health and beauty', 1), ('Naypyitaw', 'Home and lifestyle', 4), ('Naypyitaw', 'Health and beauty', 1), ('Mandalay', 'Health and beauty', 2), ('Yangon', 'Electronic accessories', 7), ('Naypyitaw', 'Food and beverages', 3), ('Naypyitaw', 'Electronic accessories', 3), ('Naypyitaw', 'Fashion accessories', 10), ('Mandalay', 'Fashion accessories', 8), ('Naypyitaw', 'Fashion accessories', 1), ('Mandalay', 'Fashion accessories', 9), ('Yangon', 'Health and beauty', 7), ('Mandalay', 'Food and beverages', 3), ('Mandalay', 'Sports and travel', 5), ('Yangon', 'Home and lifestyle', 10), ('Mandalay', 'Fashion accessories', 2), ('Naypyitaw', 'Food and beverages', 2), ('Yangon', 'Electronic accessories', 6), ('Mandalay', 'Fashion accessories', 7), ('Mandalay', 'Fashion accessories', 1), ('Naypyitaw', 'Sports and travel', 9), ('Naypyitaw', 'Sports and travel', 4), ('Yangon', 'Home and lifestyle', 6), ('Naypyitaw', 'Food and beverages', 4), ('Naypyitaw', 'Electronic accessories', 8), ('Naypyitaw', 'Food and beverages', 5), ('Mandalay', 'Sports and travel', 8), ('Yangon', 'Home and lifestyle', 9), ('Naypyitaw', 'Fashion accessories', 1), ('Yangon', 'Sports and travel', 7), ('Mandalay', 'Health and beauty', 1), ('Naypyitaw', 'Food and beverages', 10), ('Naypyitaw', 'Fashion accessories', 3), ('Mandalay', 'Health and beauty', 1), ('Mandalay', 'Sports and travel', 1), ('Mandalay', 'Electronic accessories', 6), ('Mandalay', 'Electronic accessories', 6), ('Yangon', 'Food and beverages', 5), ('Yangon', 'Health and beauty', 1), ('Yangon', 'Electronic accessories', 4), ('Mandalay', 'Fashion accessories', 5), ('Mandalay', 'Food and beverages', 9), ('Mandalay', 'Electronic accessories', 10), ('Naypyitaw', 'Electronic accessories', 10), ('Naypyitaw', 'Food and beverages', 1), ('Naypyitaw', 'Food and beverages', 5), ('Mandalay', 'Food and beverages', 10), ('Naypyitaw', 'Sports and travel', 4), ('Naypyitaw', 'Food and beverages', 1), ('Yangon', 'Food and beverages', 5), ('Naypyitaw', 'Sports and travel', 10), ('Naypyitaw', 'Health and beauty', 7), ('Mandalay', 'Sports and travel', 6), ('Naypyitaw', 'Food and beverages', 1), ('Naypyitaw', 'Electronic accessories', 1), ('Naypyitaw', 'Home and lifestyle', 6), ('Yangon', 'Sports and travel', 4), ('Yangon', 'Fashion accessories', 10), ('Mandalay', 'Health and beauty', 8), ('Yangon', 'Electronic accessories', 5), ('Yangon', 'Health and beauty', 3), ('Yangon', 'Sports and travel', 5), ('Naypyitaw', 'Electronic accessories', 4), ('Mandalay', 'Sports and travel', 10), ('Yangon', 'Electronic accessories', 1), ('Naypyitaw', 'Food and beverages', 8), ('Naypyitaw', 'Electronic accessories', 10), ('Yangon', 'Sports and travel', 5), ('Mandalay', 'Home and lifestyle', 10), ('Naypyitaw', 'Sports and travel', 10), ('Mandalay', 'Sports and travel', 4), ('Mandalay', 'Fashion accessories', 10), ('Yangon', 'Fashion accessories', 4), ('Naypyitaw', 'Home and lifestyle', 1), ('Mandalay', 'Home and lifestyle', 9), ('Mandalay', 'Fashion accessories', 2), ('Yangon', 'Fashion accessories', 10), ('Mandalay', 'Health and beauty', 8), ('Naypyitaw', 'Home and lifestyle', 10), ('Mandalay', 'Fashion accessories', 2), ('Mandalay', 'Sports and travel', 8), ('Naypyitaw', 'Electronic accessories', 2), ('Naypyitaw', 'Food and beverages', 6), ('Mandalay', 'Sports and travel', 1), ('Yangon', 'Sports and travel', 8), ('Mandalay', 'Sports and travel', 1), ('Naypyitaw', 'Fashion accessories', 1), ('Naypyitaw', 'Home and lifestyle', 2), ('Mandalay', 'Sports and travel', 2), ('Mandalay', 'Sports and travel', 1), ('Yangon', 'Electronic accessories', 8), ('Mandalay', 'Sports and travel', 3), ('Mandalay', 'Food and beverages', 6), ('Mandalay', 'Health and beauty', 5), ('Naypyitaw', 'Home and lifestyle', 6), ('Mandalay', 'Sports and travel', 7), ('Yangon', 'Home and lifestyle', 5), ('Yangon', 'Fashion accessories', 7), ('Yangon', 'Electronic accessories', 7), ('Naypyitaw', 'Sports and travel', 7), ('Naypyitaw', 'Fashion accessories', 1), ('Mandalay', 'Health and beauty', 5), ('Naypyitaw', 'Home and lifestyle', 5), ('Yangon', 'Home and lifestyle', 2), ('Naypyitaw', 'Sports and travel', 5), ('Mandalay', 'Electronic accessories', 3), ('Naypyitaw', 'Home and lifestyle', 6), ('Yangon', 'Home and lifestyle', 6), ('Naypyitaw', 'Health and beauty', 2), ('Yangon', 'Food and beverages', 6), ('Yangon', 'Sports and travel', 5), ('Mandalay', 'Fashion accessories', 4), ('Mandalay', 'Fashion accessories', 2), ('Mandalay', 'Food and beverages', 10), ('Yangon', 'Sports and travel', 9), ('Yangon', 'Health and beauty', 6), ('Yangon', 'Fashion accessories', 8), ('Mandalay', 'Electronic accessories', 10), ('Naypyitaw', 'Food and beverages', 9), ('Yangon', 'Home and lifestyle', 5), ('Naypyitaw', 'Home and lifestyle', 7), ('Mandalay', 'Fashion accessories', 1), ('Yangon', 'Home and lifestyle', 1), ('Yangon', 'Fashion accessories', 4), ('Naypyitaw', 'Food and beverages', 6), ('Yangon', 'Home and lifestyle', 3), ('Naypyitaw', 'Health and beauty', 1), ('Mandalay', 'Sports and travel', 4), ('Naypyitaw', 'Electronic accessories', 6), ('Mandalay', 'Food and beverages', 1), ('Mandalay', 'Home and lifestyle', 4), ('Yangon', 'Fashion accessories', 10), ('Yangon', 'Sports and travel', 9), ('Mandalay', 'Sports and travel', 5), ('Yangon', 'Electronic accessories', 6), ('Mandalay', 'Fashion accessories', 3), ('Mandalay', 'Fashion accessories', 9), ('Mandalay', 'Health and beauty', 9), ('Naypyitaw', 'Electronic accessories', 6), ('Yangon', 'Electronic accessories', 7), ('Mandalay', 'Home and lifestyle', 3), ('Mandalay', 'Fashion accessories', 2), ('Naypyitaw', 'Food and beverages', 10), ('Yangon', 'Food and beverages', 6), ('Yangon', 'Home and lifestyle', 3), ('Mandalay', 'Electronic accessories', 9), ('Naypyitaw', 'Food and beverages', 10), ('Mandalay', 'Electronic accessories', 8), ('Yangon', 'Electronic accessories', 6), ('Mandalay', 'Fashion accessories', 2), ('Yangon', 'Food and beverages', 10), ('Naypyitaw', 'Sports and travel', 10), ('Yangon', 'Fashion accessories', 9), ('Mandalay', 'Fashion accessories', 7), ('Naypyitaw', 'Sports and travel', 7), ('Mandalay', 'Home and lifestyle', 5), ('Mandalay', 'Sports and travel', 10), ('Yangon', 'Food and beverages', 7), ('Mandalay', 'Food and beverages', 2), ('Yangon', 'Sports and travel', 5), ('Mandalay', 'Fashion accessories', 7), ('Mandalay', 'Food and beverages', 4), ('Naypyitaw', 'Food and beverages', 4), ('Yangon', 'Health and beauty', 4), ('Mandalay', 'Health and beauty', 2), ('Naypyitaw', 'Food and beverages', 3), ('Yangon', 'Health and beauty', 4), ('Naypyitaw', 'Fashion accessories', 2), ('Mandalay', 'Fashion accessories', 4), ('Mandalay', 'Sports and travel', 3), ('Yangon', 'Health and beauty', 4), ('Yangon', 'Food and beverages', 3), ('Yangon', 'Sports and travel', 5), ('Naypyitaw', 'Fashion accessories', 10), ('Yangon', 'Health and beauty', 5), ('Naypyitaw', 'Health and beauty', 6), ('Naypyitaw', 'Home and lifestyle', 7), ('Yangon', 'Sports and travel', 1), ('Yangon', 'Sports and travel', 3), ('Mandalay', 'Sports and travel', 3), ('Mandalay', 'Health and beauty', 3), ('Yangon', 'Food and beverages', 3), ('Naypyitaw', 'Sports and travel', 9), ('Naypyitaw', 'Fashion accessories', 5), ('Yangon', 'Home and lifestyle', 2), ('Naypyitaw', 'Electronic accessories', 1), ('Naypyitaw', 'Fashion accessories', 1), ('Naypyitaw', 'Food and beverages', 10), ('Mandalay', 'Sports and travel', 6), ('Naypyitaw', 'Fashion accessories', 7), ('Mandalay', 'Home and lifestyle', 4), ('Yangon', 'Fashion accessories', 7), ('Naypyitaw', 'Food and beverages', 4), ('Yangon', 'Fashion accessories', 1), ('Mandalay', 'Food and beverages', 2), ('Yangon', 'Electronic accessories', 1), ('Naypyitaw', 'Food and beverages', 9), ('Mandalay', 'Fashion accessories', 3), ('Naypyitaw', 'Sports and travel', 1), ('Yangon', 'Food and beverages', 10), ('Yangon', 'Sports and travel', 9), ('Mandalay', 'Sports and travel', 6), ('Naypyitaw', 'Electronic accessories', 5), ('Yangon', 'Food and beverages', 6), ('Naypyitaw', 'Fashion accessories', 6), ('Yangon', 'Food and beverages', 3), ('Yangon', 'Food and beverages', 1), ('Mandalay', 'Home and lifestyle', 7), ('Mandalay', 'Fashion accessories', 10), ('Mandalay', 'Fashion accessories', 1), ('Mandalay', 'Food and beverages', 2), ('Yangon', 'Sports and travel', 2), ('Mandalay', 'Health and beauty', 10), ('Yangon', 'Home and lifestyle', 3), ('Yangon', 'Fashion accessories', 1), ('Yangon', 'Sports and travel', 10), ('Yangon', 'Electronic accessories', 3), ('Yangon', 'Food and beverages', 2), ('Mandalay', 'Home and lifestyle', 3), ('Mandalay', 'Food and beverages', 3), ('Mandalay', 'Health and beauty', 10), ('Yangon', 'Health and beauty', 7), ('Naypyitaw', 'Electronic accessories', 1), ('Mandalay', 'Food and beverages', 5), ('Mandalay', 'Fashion accessories', 3), ('Mandalay', 'Food and beverages', 3), ('Naypyitaw', 'Electronic accessories', 8), ('Mandalay', 'Electronic accessories', 2), ('Naypyitaw', 'Food and beverages', 8), ('Naypyitaw', 'Electronic accessories', 5), ('Yangon', 'Home and lifestyle', 9), ('Naypyitaw', 'Health and beauty', 6), ('Mandalay', 'Fashion accessories', 1), ('Naypyitaw', 'Sports and travel', 2), ('Naypyitaw', 'Electronic accessories', 10), ('Mandalay', 'Electronic accessories', 5), ('Mandalay', 'Health and beauty', 6), ('Yangon', 'Home and lifestyle', 10), ('Mandalay', 'Sports and travel', 9), ('Mandalay', 'Fashion accessories', 4), ('Yangon', 'Electronic accessories', 3), ('Naypyitaw', 'Electronic accessories', 1), ('Yangon', 'Fashion accessories', 3), ('Yangon', 'Sports and travel', 5), ('Yangon', 'Fashion accessories', 1), ('Mandalay', 'Sports and travel', 3), ('Naypyitaw', 'Sports and travel', 7), ('Mandalay', 'Fashion accessories', 6), ('Naypyitaw', 'Food and beverages', 10), ('Naypyitaw', 'Sports and travel', 2), ('Yangon', 'Fashion accessories', 4), ('Mandalay', 'Food and beverages', 3), ('Mandalay', 'Health and beauty', 4), ('Naypyitaw', 'Health and beauty', 6), ('Mandalay', 'Sports and travel', 2), ('Yangon', 'Fashion accessories', 10), ('Mandalay', 'Food and beverages', 2), ('Mandalay', 'Health and beauty', 3), ('Naypyitaw', 'Health and beauty', 8), ('Yangon', 'Electronic accessories', 10), ('Mandalay', 'Fashion accessories', 2), ('Mandalay', 'Sports and travel', 7), ('Yangon', 'Food and beverages', 4), ('Naypyitaw', 'Health and beauty', 10), ('Yangon', 'Food and beverages', 6), ('Mandalay', 'Electronic accessories', 1), ('Mandalay', 'Sports and travel', 1), ('Naypyitaw', 'Fashion accessories', 6), ('Yangon', 'Fashion accessories', 2), ('Mandalay', 'Sports and travel', 6), ('Mandalay', 'Home and lifestyle', 2), ('Mandalay', 'Sports and travel', 2), ('Yangon', 'Home and lifestyle', 10), ('Naypyitaw', 'Sports and travel', 2), ('Yangon', 'Food and beverages', 3), ('Naypyitaw', 'Sports and travel', 9), ('Naypyitaw', 'Food and beverages', 7), ('Yangon', 'Health and beauty', 10), ('Naypyitaw', 'Fashion accessories', 7), ('Naypyitaw', 'Food and beverages', 9), ('Yangon', 'Home and lifestyle', 5), ('Yangon', 'Sports and travel', 4), ('Mandalay', 'Home and lifestyle', 4), ('Yangon', 'Electronic accessories', 9), ('Naypyitaw', 'Home and lifestyle', 10), ('Naypyitaw', 'Fashion accessories', 8), ('Mandalay', 'Food and beverages', 3), ('Mandalay', 'Fashion accessories', 10), ('Mandalay', 'Health and beauty', 9), ('Mandalay', 'Home and lifestyle', 9), ('Mandalay', 'Health and beauty', 7), ('Mandalay', 'Electronic accessories', 4), ('Naypyitaw', 'Food and beverages', 1), ('Naypyitaw', 'Fashion accessories', 8), ('Yangon', 'Sports and travel', 3), ('Yangon', 'Food and beverages', 6), ('Naypyitaw', 'Home and lifestyle', 4), ('Naypyitaw', 'Electronic accessories', 9), ('Naypyitaw', 'Health and beauty', 9), ('Naypyitaw', 'Fashion accessories', 8), ('Yangon', 'Health and beauty', 5), ('Yangon', 'Fashion accessories', 7), ('Yangon', 'Electronic accessories', 3), ('Yangon', 'Fashion accessories', 3), ('Mandalay', 'Fashion accessories', 6), ('Mandalay', 'Fashion accessories', 7), ('Naypyitaw', 'Sports and travel', 9), ('Mandalay', 'Home and lifestyle', 3), ('Naypyitaw', 'Food and beverages', 7), ('Mandalay', 'Food and beverages', 4), ('Naypyitaw', 'Health and beauty', 8), ('Naypyitaw', 'Home and lifestyle', 3), ('Mandalay', 'Sports and travel', 10), ('Naypyitaw', 'Fashion accessories', 4), ('Mandalay', 'Home and lifestyle', 7), ('Yangon', 'Fashion accessories', 4), ('Yangon', 'Health and beauty', 3), ('Yangon', 'Fashion accessories', 1), ('Mandalay', 'Electronic accessories', 7), ('Mandalay', 'Food and beverages', 1), ('Naypyitaw', 'Health and beauty', 10), ('Naypyitaw', 'Home and lifestyle', 7), ('Naypyitaw', 'Electronic accessories', 10), ('Mandalay', 'Electronic accessories', 8), ('Yangon', 'Home and lifestyle', 9), ('Naypyitaw', 'Home and lifestyle', 7), ('Naypyitaw', 'Food and beverages', 1), ('Yangon', 'Sports and travel', 2), ('Yangon', 'Home and lifestyle', 2), ('Naypyitaw', 'Sports and travel', 8), ('Naypyitaw', 'Food and beverages', 1), ('Mandalay', 'Fashion accessories', 10), ('Naypyitaw', 'Home and lifestyle', 5), ('Mandalay', 'Home and lifestyle', 9), ('Naypyitaw', 'Health and beauty', 7), ('Mandalay', 'Fashion accessories', 4), ('Yangon', 'Food and beverages', 5), ('Yangon', 'Electronic accessories', 10), ('Mandalay', 'Home and lifestyle', 5), ('Naypyitaw', 'Fashion accessories', 3), ('Yangon', 'Fashion accessories', 8), ('Mandalay', 'Electronic accessories', 8), ('Yangon', 'Home and lifestyle', 6), ('Yangon', 'Food and beverages', 10), ('Yangon', 'Food and beverages', 4), ('Mandalay', 'Food and beverages', 10), ('Mandalay', 'Electronic accessories', 10), ('Yangon', 'Fashion accessories', 8), ('Yangon', 'Health and beauty', 5), ('Yangon', 'Health and beauty', 4), ('Mandalay', 'Home and lifestyle', 8), ('Naypyitaw', 'Fashion accessories', 3), ('Mandalay', 'Sports and travel', 6), ('Mandalay', 'Electronic accessories', 4), ('Yangon', 'Home and lifestyle', 6), ('Mandalay', 'Sports and travel', 4), ('Naypyitaw', 'Health and beauty', 7), ('Naypyitaw', 'Sports and travel', 7), ('Naypyitaw', 'Food and beverages', 1), ('Naypyitaw', 'Food and beverages', 2), ('Mandalay', 'Food and beverages', 5), ('Naypyitaw', 'Health and beauty', 7), ('Mandalay', 'Sports and travel', 1), ('Naypyitaw', 'Sports and travel', 5), ('Mandalay', 'Electronic accessories', 9), ('Naypyitaw', 'Health and beauty', 8), ('Yangon', 'Sports and travel', 4), ('Yangon', 'Fashion accessories', 1), ('Naypyitaw', 'Home and lifestyle', 8), ('Naypyitaw', 'Health and beauty', 5), ('Yangon', 'Electronic accessories', 7), ('Naypyitaw', 'Electronic accessories', 8), ('Naypyitaw', 'Health and beauty', 5), ('Naypyitaw', 'Health and beauty', 3), ('Yangon', 'Sports and travel', 7), ('Yangon', 'Fashion accessories', 1), ('Naypyitaw', 'Health and beauty', 4), ('Mandalay', 'Home and lifestyle', 10), ('Yangon', 'Electronic accessories', 7), ('Yangon', 'Electronic accessories', 2), ('Mandalay', 'Fashion accessories', 2), ('Naypyitaw', 'Home and lifestyle', 1), ('Yangon', 'Sports and travel', 10), ('Mandalay', 'Health and beauty', 1), ('Naypyitaw', 'Home and lifestyle', 5), ('Mandalay', 'Sports and travel', 6), ('Naypyitaw', 'Electronic accessories', 8), ('Naypyitaw', 'Fashion accessories', 7), ('Yangon', 'Fashion accessories', 9), ('Mandalay', 'Electronic accessories', 9), ('Yangon', 'Home and lifestyle', 4), ('Yangon', 'Sports and travel', 2), ('Yangon', 'Electronic accessories', 4), ('Mandalay', 'Health and beauty', 1), ('Naypyitaw', 'Fashion accessories', 10), ('Mandalay', 'Health and beauty', 8), ('Yangon', 'Electronic accessories', 10), ('Naypyitaw', 'Sports and travel', 5), ('Yangon', 'Electronic accessories', 1), ('Yangon', 'Electronic accessories', 8), ('Mandalay', 'Food and beverages', 8), ('Naypyitaw', 'Fashion accessories', 7), ('Yangon', 'Food and beverages', 8), ('Mandalay', 'Health and beauty', 4), ('Mandalay', 'Food and beverages', 5), ('Mandalay', 'Electronic accessories', 4), ('Yangon', 'Home and lifestyle', 2), ('Naypyitaw', 'Sports and travel', 1), ('Yangon', 'Health and beauty', 3), ('Mandalay', 'Sports and travel', 7), ('Yangon', 'Sports and travel', 4), ('Mandalay', 'Health and beauty', 9), ('Yangon', 'Fashion accessories', 3), ('Naypyitaw', 'Electronic accessories', 10), ('Yangon', 'Electronic accessories', 10), ('Yangon', 'Electronic accessories', 8), ('Mandalay', 'Health and beauty', 4), ('Mandalay', 'Sports and travel', 8), ('Yangon', 'Health and beauty', 1), ('Mandalay', 'Home and lifestyle', 7), ('Yangon', 'Fashion accessories', 1), ('Yangon', 'Fashion accessories', 5), ('Mandalay', 'Sports and travel', 6), ('Naypyitaw', 'Electronic accessories', 10), ('Naypyitaw', 'Sports and travel', 6), ('Yangon', 'Fashion accessories', 3), ('Mandalay', 'Electronic accessories', 1), ('Yangon', 'Sports and travel', 2), ('Naypyitaw', 'Food and beverages', 2), ('Yangon', 'Fashion accessories', 1), ('Yangon', 'Electronic accessories', 3), ('Yangon', 'Electronic accessories', 1), ('Naypyitaw', 'Sports and travel', 1), ('Naypyitaw', 'Food and beverages', 9), ('Yangon', 'Fashion accessories', 6), ('Yangon', 'Fashion accessories', 1), ('Yangon', 'Fashion accessories', 2), ('Naypyitaw', 'Health and beauty', 7), ('Mandalay', 'Electronic accessories', 10), ('Yangon', 'Health and beauty', 5), ('Mandalay', 'Fashion accessories', 9), ('Mandalay', 'Food and beverages', 8), ('Yangon', 'Home and lifestyle', 4), ('Mandalay', 'Health and beauty', 6), ('Yangon', 'Food and beverages', 9), ('Naypyitaw', 'Home and lifestyle', 1), ('Yangon', 'Sports and travel', 2), ('Mandalay', 'Home and lifestyle', 9), ('Mandalay', 'Home and lifestyle', 7), ('Yangon', 'Electronic accessories', 3), ('Naypyitaw', 'Health and beauty', 3), ('Mandalay', 'Sports and travel', 8), ('Naypyitaw', 'Health and beauty', 2), ('Naypyitaw', 'Food and beverages', 3), ('Yangon', 'Sports and travel', 4), ('Yangon', 'Food and beverages', 7), ('Naypyitaw', 'Fashion accessories', 1), ('Mandalay', 'Electronic accessories', 10), ('Yangon', 'Sports and travel', 6), ('Yangon', 'Home and lifestyle', 4), ('Naypyitaw', 'Home and lifestyle', 8), ('Naypyitaw', 'Fashion accessories', 1), ('Mandalay', 'Electronic accessories', 1), ('Yangon', 'Electronic accessories', 8), ('Mandalay', 'Electronic accessories', 8), ('Mandalay', 'Food and beverages', 10), ('Naypyitaw', 'Fashion accessories', 8), ('Mandalay', 'Sports and travel', 10), ('Yangon', 'Home and lifestyle', 6), ('Yangon', 'Food and beverages', 2), ('Yangon', 'Sports and travel', 7), ('Yangon', 'Food and beverages', 1), ('Yangon', 'Electronic accessories', 10), ('Naypyitaw', 'Fashion accessories', 8), ('Yangon', 'Sports and travel', 10), ('Naypyitaw', 'Health and beauty', 5), ('Mandalay', 'Electronic accessories', 8), ('Naypyitaw', 'Fashion accessories', 5), ('Mandalay', 'Electronic accessories', 5), ('Mandalay', 'Electronic accessories', 6), ('Mandalay', 'Health and beauty', 8), ('Naypyitaw', 'Fashion accessories', 7), ('Naypyitaw', 'Food and beverages', 6), ('Naypyitaw', 'Health and beauty', 7), ('Yangon', 'Food and beverages', 9), ('Naypyitaw', 'Electronic accessories', 9), ('Mandalay', 'Home and lifestyle', 4), ('Yangon', 'Health and beauty', 5), ('Yangon', 'Food and beverages', 7), ('Naypyitaw', 'Health and beauty', 2), ('Naypyitaw', 'Home and lifestyle', 4), ('Naypyitaw', 'Health and beauty', 10), ('Mandalay', 'Health and beauty', 5), ('Yangon', 'Food and beverages', 2), ('Mandalay', 'Home and lifestyle', 10), ('Mandalay', 'Food and beverages', 3), ('Naypyitaw', 'Electronic accessories', 4), ('Yangon', 'Home and lifestyle', 8), ('Yangon', 'Fashion accessories', 8), ('Yangon', 'Food and beverages', 3), ('Naypyitaw', 'Electronic accessories', 6), ('Naypyitaw', 'Sports and travel', 1), ('Yangon', 'Fashion accessories', 4), ('Mandalay', 'Home and lifestyle', 3), ('Mandalay', 'Electronic accessories', 3), ('Naypyitaw', 'Home and lifestyle', 9), ('Mandalay', 'Home and lifestyle', 6), ('Naypyitaw', 'Home and lifestyle', 2), ('Naypyitaw', 'Sports and travel', 7), ('Naypyitaw', 'Sports and travel', 6), ('Mandalay', 'Electronic accessories', 4), ('Mandalay', 'Sports and travel', 1), ('Yangon', 'Health and beauty', 9), ('Mandalay', 'Electronic accessories', 9), ('Mandalay', 'Sports and travel', 2), ('Mandalay', 'Home and lifestyle', 6), ('Naypyitaw', 'Fashion accessories', 2), ('Yangon', 'Food and beverages', 10), ('Naypyitaw', 'Health and beauty', 7), ('Mandalay', 'Home and lifestyle', 6), ('Naypyitaw', 'Home and lifestyle', 3), ('Naypyitaw', 'Health and beauty', 7), ('Yangon', 'Sports and travel', 5), ('Yangon', 'Health and beauty', 3), ('Naypyitaw', 'Food and beverages', 6), ('Yangon', 'Food and beverages', 4), ('Naypyitaw', 'Fashion accessories', 9), ('Yangon', 'Home and lifestyle', 10), ('Yangon', 'Health and beauty', 5), ('Yangon', 'Health and beauty', 7), ('Yangon', 'Electronic accessories', 7), ('Naypyitaw', 'Electronic accessories', 2), ('Mandalay', 'Fashion accessories', 1), ('Naypyitaw', 'Home and lifestyle', 5), ('Mandalay', 'Food and beverages', 8), ('Mandalay', 'Health and beauty', 3), ('Mandalay', 'Home and lifestyle', 3), ('Mandalay', 'Food and beverages', 4), ('Naypyitaw', 'Food and beverages', 4), ('Mandalay', 'Home and lifestyle', 6), ('Yangon', 'Fashion accessories', 7), ('Naypyitaw', 'Food and beverages', 9), ('Mandalay', 'Electronic accessories', 6), ('Naypyitaw', 'Home and lifestyle', 10), ('Yangon', 'Food and beverages', 9), ('Naypyitaw', 'Fashion accessories', 1), ('Yangon', 'Electronic accessories', 2), ('Yangon', 'Fashion accessories', 1), ('Naypyitaw', 'Electronic accessories', 3), ('Mandalay', 'Food and beverages', 2), ('Mandalay', 'Electronic accessories', 2), ('Yangon', 'Home and lifestyle', 9), ('Yangon', 'Home and lifestyle', 3), ('Yangon', 'Health and beauty', 3), ('Mandalay', 'Electronic accessories', 5), ('Mandalay', 'Food and beverages', 10), ('Mandalay', 'Home and lifestyle', 7), ('Mandalay', 'Electronic accessories', 7), ('Yangon', 'Home and lifestyle', 3), ('Naypyitaw', 'Fashion accessories', 2), ('Mandalay', 'Fashion accessories', 2), ('Yangon', 'Food and beverages', 4), ('Mandalay', 'Food and beverages', 6), ('Mandalay', 'Electronic accessories', 1), ('Mandalay', 'Food and beverages', 1), ('Naypyitaw', 'Food and beverages', 4), ('Yangon', 'Health and beauty', 4), ('Yangon', 'Sports and travel', 9), ('Naypyitaw', 'Health and beauty', 7), ('Naypyitaw', 'Electronic accessories', 7), ('Mandalay', 'Fashion accessories', 5), ('Mandalay', 'Health and beauty', 2), ('Mandalay', 'Health and beauty', 8), ('Naypyitaw', 'Electronic accessories', 10), ('Mandalay', 'Health and beauty', 8), ('Yangon', 'Food and beverages', 5), ('Mandalay', 'Sports and travel', 10), ('Yangon', 'Electronic accessories', 2), ('Mandalay', 'Fashion accessories', 10), ('Naypyitaw', 'Electronic accessories', 1), ('Naypyitaw', 'Health and beauty', 1), ('Mandalay', 'Home and lifestyle', 10), ('Yangon', 'Food and beverages', 1), ('Yangon', 'Home and lifestyle', 1), ('Yangon', 'Fashion accessories', 7)]\n"
     ]
    }
   ],
   "source": [
    "totalcityproduct= list(zip(citylist, Productlinelist, Quantitylist))\n",
    "print(totalcityproduct)"
   ]
  },
  {
   "cell_type": "code",
   "execution_count": 44,
   "id": "377ce59b",
   "metadata": {},
   "outputs": [],
   "source": [
    "newcity=[]\n",
    "for x, y, z in totalcityproduct:\n",
    "    if x in newcity:\n",
    "        a= 5\n",
    "    else:\n",
    "        newcity.append(x)"
   ]
  },
  {
   "cell_type": "code",
   "execution_count": 45,
   "id": "0375b8f4",
   "metadata": {},
   "outputs": [
    {
     "data": {
      "text/plain": [
       "['Yangon', 'Naypyitaw', 'Mandalay']"
      ]
     },
     "execution_count": 45,
     "metadata": {},
     "output_type": "execute_result"
    }
   ],
   "source": [
    "newcity"
   ]
  },
  {
   "cell_type": "code",
   "execution_count": 46,
   "id": "19196fcc",
   "metadata": {},
   "outputs": [],
   "source": [
    "newproductline= []\n",
    "for x, y, z in totalcityproduct:\n",
    "    if y in newproductline:\n",
    "        a= 5\n",
    "    else:\n",
    "          newproductline.append(y)"
   ]
  },
  {
   "cell_type": "code",
   "execution_count": 47,
   "id": "6e5b014d",
   "metadata": {
    "scrolled": false
   },
   "outputs": [
    {
     "data": {
      "text/plain": [
       "['Health and beauty',\n",
       " 'Electronic accessories',\n",
       " 'Home and lifestyle',\n",
       " 'Sports and travel',\n",
       " 'Food and beverages',\n",
       " 'Fashion accessories']"
      ]
     },
     "execution_count": 47,
     "metadata": {},
     "output_type": "execute_result"
    }
   ],
   "source": [
    "newproductline"
   ]
  },
  {
   "cell_type": "markdown",
   "id": "f3a39c5c",
   "metadata": {},
   "source": [
    "# DATA FOR YANGON CITY, NAYPYITAW CITY, MANDALAY CITY\n",
    "# CITY\n",
    "# PRODUCT LINE\n",
    "# QUANTITY\n",
    "\n"
   ]
  },
  {
   "cell_type": "markdown",
   "id": "44c554d6",
   "metadata": {},
   "source": [
    "# 1. Data for Yangon City"
   ]
  },
  {
   "cell_type": "code",
   "execution_count": 48,
   "id": "6c5518a5",
   "metadata": {
    "scrolled": true
   },
   "outputs": [
    {
     "name": "stdout",
     "output_type": "stream",
     "text": [
      "340\n"
     ]
    }
   ],
   "source": [
    "yangoncity= []\n",
    "productline1= []\n",
    "quantity1= []\n",
    "for x, y, z in totalcityproduct:\n",
    "    if x ==\"Yangon\":\n",
    "        yangoncity.append(x)\n",
    "        productline1.append(y)\n",
    "        quantity1.append(z)\n",
    "print(len(yangoncity))"
   ]
  },
  {
   "cell_type": "code",
   "execution_count": 49,
   "id": "8de62015",
   "metadata": {
    "scrolled": true
   },
   "outputs": [
    {
     "name": "stdout",
     "output_type": "stream",
     "text": [
      "[('Yangon', 'Health and beauty', 7), ('Yangon', 'Home and lifestyle', 7), ('Yangon', 'Health and beauty', 8), ('Yangon', 'Sports and travel', 7), ('Yangon', 'Electronic accessories', 6), ('Yangon', 'Health and beauty', 2), ('Yangon', 'Electronic accessories', 5), ('Yangon', 'Food and beverages', 10), ('Yangon', 'Health and beauty', 10), ('Yangon', 'Health and beauty', 7), ('Yangon', 'Sports and travel', 6), ('Yangon', 'Food and beverages', 3), ('Yangon', 'Electronic accessories', 5), ('Yangon', 'Sports and travel', 3), ('Yangon', 'Home and lifestyle', 8), ('Yangon', 'Fashion accessories', 2), ('Yangon', 'Health and beauty', 9), ('Yangon', 'Health and beauty', 2), ('Yangon', 'Sports and travel', 5), ('Yangon', 'Electronic accessories', 9), ('Yangon', 'Food and beverages', 5), ('Yangon', 'Home and lifestyle', 2), ('Yangon', 'Health and beauty', 8), ('Yangon', 'Home and lifestyle', 10), ('Yangon', 'Sports and travel', 10), ('Yangon', 'Health and beauty', 10), ('Yangon', 'Sports and travel', 10), ('Yangon', 'Health and beauty', 1), ('Yangon', 'Home and lifestyle', 9), ('Yangon', 'Fashion accessories', 9), ('Yangon', 'Food and beverages', 7), ('Yangon', 'Sports and travel', 1), ('Yangon', 'Sports and travel', 7), ('Yangon', 'Electronic accessories', 1), ('Yangon', 'Food and beverages', 3), ('Yangon', 'Food and beverages', 6), ('Yangon', 'Electronic accessories', 10), ('Yangon', 'Sports and travel', 6), ('Yangon', 'Home and lifestyle', 9), ('Yangon', 'Food and beverages', 10), ('Yangon', 'Electronic accessories', 8), ('Yangon', 'Home and lifestyle', 7), ('Yangon', 'Sports and travel', 5), ('Yangon', 'Sports and travel', 6), ('Yangon', 'Electronic accessories', 5), ('Yangon', 'Home and lifestyle', 6), ('Yangon', 'Sports and travel', 8), ('Yangon', 'Home and lifestyle', 6), ('Yangon', 'Fashion accessories', 10), ('Yangon', 'Health and beauty', 8), ('Yangon', 'Fashion accessories', 9), ('Yangon', 'Food and beverages', 5), ('Yangon', 'Sports and travel', 1), ('Yangon', 'Food and beverages', 7), ('Yangon', 'Fashion accessories', 10), ('Yangon', 'Food and beverages', 6), ('Yangon', 'Sports and travel', 7), ('Yangon', 'Health and beauty', 5), ('Yangon', 'Home and lifestyle', 9), ('Yangon', 'Food and beverages', 8), ('Yangon', 'Food and beverages', 6), ('Yangon', 'Sports and travel', 10), ('Yangon', 'Sports and travel', 7), ('Yangon', 'Home and lifestyle', 1), ('Yangon', 'Electronic accessories', 5), ('Yangon', 'Home and lifestyle', 1), ('Yangon', 'Health and beauty', 9), ('Yangon', 'Electronic accessories', 9), ('Yangon', 'Home and lifestyle', 1), ('Yangon', 'Electronic accessories', 3), ('Yangon', 'Food and beverages', 2), ('Yangon', 'Home and lifestyle', 8), ('Yangon', 'Health and beauty', 10), ('Yangon', 'Sports and travel', 2), ('Yangon', 'Fashion accessories', 1), ('Yangon', 'Food and beverages', 9), ('Yangon', 'Health and beauty', 2), ('Yangon', 'Home and lifestyle', 4), ('Yangon', 'Home and lifestyle', 8), ('Yangon', 'Fashion accessories', 5), ('Yangon', 'Electronic accessories', 4), ('Yangon', 'Home and lifestyle', 4), ('Yangon', 'Home and lifestyle', 8), ('Yangon', 'Electronic accessories', 1), ('Yangon', 'Home and lifestyle', 6), ('Yangon', 'Electronic accessories', 4), ('Yangon', 'Electronic accessories', 9), ('Yangon', 'Sports and travel', 10), ('Yangon', 'Sports and travel', 7), ('Yangon', 'Home and lifestyle', 4), ('Yangon', 'Home and lifestyle', 10), ('Yangon', 'Home and lifestyle', 9), ('Yangon', 'Home and lifestyle', 2), ('Yangon', 'Sports and travel', 10), ('Yangon', 'Home and lifestyle', 8), ('Yangon', 'Sports and travel', 1), ('Yangon', 'Health and beauty', 6), ('Yangon', 'Health and beauty', 4), ('Yangon', 'Home and lifestyle', 7), ('Yangon', 'Electronic accessories', 1), ('Yangon', 'Food and beverages', 2), ('Yangon', 'Home and lifestyle', 6), ('Yangon', 'Home and lifestyle', 4), ('Yangon', 'Electronic accessories', 4), ('Yangon', 'Electronic accessories', 7), ('Yangon', 'Sports and travel', 7), ('Yangon', 'Home and lifestyle', 8), ('Yangon', 'Electronic accessories', 3), ('Yangon', 'Fashion accessories', 2), ('Yangon', 'Food and beverages', 5), ('Yangon', 'Health and beauty', 9), ('Yangon', 'Health and beauty', 6), ('Yangon', 'Fashion accessories', 5), ('Yangon', 'Home and lifestyle', 6), ('Yangon', 'Food and beverages', 5), ('Yangon', 'Electronic accessories', 4), ('Yangon', 'Food and beverages', 3), ('Yangon', 'Fashion accessories', 5), ('Yangon', 'Food and beverages', 2), ('Yangon', 'Electronic accessories', 5), ('Yangon', 'Fashion accessories', 9), ('Yangon', 'Sports and travel', 3), ('Yangon', 'Fashion accessories', 9), ('Yangon', 'Electronic accessories', 1), ('Yangon', 'Electronic accessories', 7), ('Yangon', 'Electronic accessories', 7), ('Yangon', 'Food and beverages', 8), ('Yangon', 'Home and lifestyle', 6), ('Yangon', 'Home and lifestyle', 4), ('Yangon', 'Electronic accessories', 9), ('Yangon', 'Home and lifestyle', 5), ('Yangon', 'Fashion accessories', 5), ('Yangon', 'Sports and travel', 4), ('Yangon', 'Food and beverages', 5), ('Yangon', 'Health and beauty', 10), ('Yangon', 'Electronic accessories', 1), ('Yangon', 'Sports and travel', 10), ('Yangon', 'Health and beauty', 1), ('Yangon', 'Health and beauty', 5), ('Yangon', 'Food and beverages', 5), ('Yangon', 'Sports and travel', 4), ('Yangon', 'Food and beverages', 5), ('Yangon', 'Home and lifestyle', 4), ('Yangon', 'Health and beauty', 5), ('Yangon', 'Sports and travel', 3), ('Yangon', 'Home and lifestyle', 8), ('Yangon', 'Electronic accessories', 7), ('Yangon', 'Health and beauty', 7), ('Yangon', 'Home and lifestyle', 10), ('Yangon', 'Electronic accessories', 6), ('Yangon', 'Home and lifestyle', 6), ('Yangon', 'Home and lifestyle', 9), ('Yangon', 'Sports and travel', 7), ('Yangon', 'Food and beverages', 5), ('Yangon', 'Health and beauty', 1), ('Yangon', 'Electronic accessories', 4), ('Yangon', 'Food and beverages', 5), ('Yangon', 'Sports and travel', 4), ('Yangon', 'Fashion accessories', 10), ('Yangon', 'Electronic accessories', 5), ('Yangon', 'Health and beauty', 3), ('Yangon', 'Sports and travel', 5), ('Yangon', 'Electronic accessories', 1), ('Yangon', 'Sports and travel', 5), ('Yangon', 'Fashion accessories', 4), ('Yangon', 'Fashion accessories', 10), ('Yangon', 'Sports and travel', 8), ('Yangon', 'Electronic accessories', 8), ('Yangon', 'Home and lifestyle', 5), ('Yangon', 'Fashion accessories', 7), ('Yangon', 'Electronic accessories', 7), ('Yangon', 'Home and lifestyle', 2), ('Yangon', 'Home and lifestyle', 6), ('Yangon', 'Food and beverages', 6), ('Yangon', 'Sports and travel', 5), ('Yangon', 'Sports and travel', 9), ('Yangon', 'Health and beauty', 6), ('Yangon', 'Fashion accessories', 8), ('Yangon', 'Home and lifestyle', 5), ('Yangon', 'Home and lifestyle', 1), ('Yangon', 'Fashion accessories', 4), ('Yangon', 'Home and lifestyle', 3), ('Yangon', 'Fashion accessories', 10), ('Yangon', 'Sports and travel', 9), ('Yangon', 'Electronic accessories', 6), ('Yangon', 'Electronic accessories', 7), ('Yangon', 'Food and beverages', 6), ('Yangon', 'Home and lifestyle', 3), ('Yangon', 'Electronic accessories', 6), ('Yangon', 'Food and beverages', 10), ('Yangon', 'Fashion accessories', 9), ('Yangon', 'Food and beverages', 7), ('Yangon', 'Sports and travel', 5), ('Yangon', 'Health and beauty', 4), ('Yangon', 'Health and beauty', 4), ('Yangon', 'Health and beauty', 4), ('Yangon', 'Food and beverages', 3), ('Yangon', 'Sports and travel', 5), ('Yangon', 'Health and beauty', 5), ('Yangon', 'Sports and travel', 1), ('Yangon', 'Sports and travel', 3), ('Yangon', 'Food and beverages', 3), ('Yangon', 'Home and lifestyle', 2), ('Yangon', 'Fashion accessories', 7), ('Yangon', 'Fashion accessories', 1), ('Yangon', 'Electronic accessories', 1), ('Yangon', 'Food and beverages', 10), ('Yangon', 'Sports and travel', 9), ('Yangon', 'Food and beverages', 6), ('Yangon', 'Food and beverages', 3), ('Yangon', 'Food and beverages', 1), ('Yangon', 'Sports and travel', 2), ('Yangon', 'Home and lifestyle', 3), ('Yangon', 'Fashion accessories', 1), ('Yangon', 'Sports and travel', 10), ('Yangon', 'Electronic accessories', 3), ('Yangon', 'Food and beverages', 2), ('Yangon', 'Health and beauty', 7), ('Yangon', 'Home and lifestyle', 9), ('Yangon', 'Home and lifestyle', 10), ('Yangon', 'Electronic accessories', 3), ('Yangon', 'Fashion accessories', 3), ('Yangon', 'Sports and travel', 5), ('Yangon', 'Fashion accessories', 1), ('Yangon', 'Fashion accessories', 4), ('Yangon', 'Fashion accessories', 10), ('Yangon', 'Electronic accessories', 10), ('Yangon', 'Food and beverages', 4), ('Yangon', 'Food and beverages', 6), ('Yangon', 'Fashion accessories', 2), ('Yangon', 'Home and lifestyle', 10), ('Yangon', 'Food and beverages', 3), ('Yangon', 'Health and beauty', 10), ('Yangon', 'Home and lifestyle', 5), ('Yangon', 'Sports and travel', 4), ('Yangon', 'Electronic accessories', 9), ('Yangon', 'Sports and travel', 3), ('Yangon', 'Food and beverages', 6), ('Yangon', 'Health and beauty', 5), ('Yangon', 'Fashion accessories', 7), ('Yangon', 'Electronic accessories', 3), ('Yangon', 'Fashion accessories', 3), ('Yangon', 'Fashion accessories', 4), ('Yangon', 'Health and beauty', 3), ('Yangon', 'Fashion accessories', 1), ('Yangon', 'Home and lifestyle', 9), ('Yangon', 'Sports and travel', 2), ('Yangon', 'Home and lifestyle', 2), ('Yangon', 'Food and beverages', 5), ('Yangon', 'Electronic accessories', 10), ('Yangon', 'Fashion accessories', 8), ('Yangon', 'Home and lifestyle', 6), ('Yangon', 'Food and beverages', 10), ('Yangon', 'Food and beverages', 4), ('Yangon', 'Fashion accessories', 8), ('Yangon', 'Health and beauty', 5), ('Yangon', 'Health and beauty', 4), ('Yangon', 'Home and lifestyle', 6), ('Yangon', 'Sports and travel', 4), ('Yangon', 'Fashion accessories', 1), ('Yangon', 'Electronic accessories', 7), ('Yangon', 'Sports and travel', 7), ('Yangon', 'Fashion accessories', 1), ('Yangon', 'Electronic accessories', 7), ('Yangon', 'Electronic accessories', 2), ('Yangon', 'Sports and travel', 10), ('Yangon', 'Fashion accessories', 9), ('Yangon', 'Home and lifestyle', 4), ('Yangon', 'Sports and travel', 2), ('Yangon', 'Electronic accessories', 4), ('Yangon', 'Electronic accessories', 10), ('Yangon', 'Electronic accessories', 1), ('Yangon', 'Electronic accessories', 8), ('Yangon', 'Food and beverages', 8), ('Yangon', 'Home and lifestyle', 2), ('Yangon', 'Health and beauty', 3), ('Yangon', 'Sports and travel', 4), ('Yangon', 'Fashion accessories', 3), ('Yangon', 'Electronic accessories', 10), ('Yangon', 'Electronic accessories', 8), ('Yangon', 'Health and beauty', 1), ('Yangon', 'Fashion accessories', 1), ('Yangon', 'Fashion accessories', 5), ('Yangon', 'Fashion accessories', 3), ('Yangon', 'Sports and travel', 2), ('Yangon', 'Fashion accessories', 1), ('Yangon', 'Electronic accessories', 3), ('Yangon', 'Electronic accessories', 1), ('Yangon', 'Fashion accessories', 6), ('Yangon', 'Fashion accessories', 1), ('Yangon', 'Fashion accessories', 2), ('Yangon', 'Health and beauty', 5), ('Yangon', 'Home and lifestyle', 4), ('Yangon', 'Food and beverages', 9), ('Yangon', 'Sports and travel', 2), ('Yangon', 'Electronic accessories', 3), ('Yangon', 'Sports and travel', 4), ('Yangon', 'Food and beverages', 7), ('Yangon', 'Sports and travel', 6), ('Yangon', 'Home and lifestyle', 4), ('Yangon', 'Electronic accessories', 8), ('Yangon', 'Home and lifestyle', 6), ('Yangon', 'Food and beverages', 2), ('Yangon', 'Sports and travel', 7), ('Yangon', 'Food and beverages', 1), ('Yangon', 'Electronic accessories', 10), ('Yangon', 'Sports and travel', 10), ('Yangon', 'Food and beverages', 9), ('Yangon', 'Health and beauty', 5), ('Yangon', 'Food and beverages', 7), ('Yangon', 'Food and beverages', 2), ('Yangon', 'Home and lifestyle', 8), ('Yangon', 'Fashion accessories', 8), ('Yangon', 'Food and beverages', 3), ('Yangon', 'Fashion accessories', 4), ('Yangon', 'Health and beauty', 9), ('Yangon', 'Food and beverages', 10), ('Yangon', 'Sports and travel', 5), ('Yangon', 'Health and beauty', 3), ('Yangon', 'Food and beverages', 4), ('Yangon', 'Home and lifestyle', 10), ('Yangon', 'Health and beauty', 5), ('Yangon', 'Health and beauty', 7), ('Yangon', 'Electronic accessories', 7), ('Yangon', 'Fashion accessories', 7), ('Yangon', 'Food and beverages', 9), ('Yangon', 'Electronic accessories', 2), ('Yangon', 'Fashion accessories', 1), ('Yangon', 'Home and lifestyle', 9), ('Yangon', 'Home and lifestyle', 3), ('Yangon', 'Health and beauty', 3), ('Yangon', 'Home and lifestyle', 3), ('Yangon', 'Food and beverages', 4), ('Yangon', 'Health and beauty', 4), ('Yangon', 'Sports and travel', 9), ('Yangon', 'Food and beverages', 5), ('Yangon', 'Electronic accessories', 2), ('Yangon', 'Food and beverages', 1), ('Yangon', 'Home and lifestyle', 1), ('Yangon', 'Fashion accessories', 7)]\n"
     ]
    }
   ],
   "source": [
    "yangoncitylist= list(zip(yangoncity, productline1, quantity1))\n",
    "print(yangoncitylist)"
   ]
  },
  {
   "cell_type": "code",
   "execution_count": 50,
   "id": "a2f794e8",
   "metadata": {},
   "outputs": [],
   "source": [
    "productline2= []\n",
    "for x, y, z in yangoncitylist:\n",
    "    if y in productline2:\n",
    "        a= 4\n",
    "    else:\n",
    "        productline2.append(y)"
   ]
  },
  {
   "cell_type": "code",
   "execution_count": 51,
   "id": "ad067ff7",
   "metadata": {
    "scrolled": true
   },
   "outputs": [
    {
     "data": {
      "text/plain": [
       "['Health and beauty',\n",
       " 'Home and lifestyle',\n",
       " 'Sports and travel',\n",
       " 'Electronic accessories',\n",
       " 'Food and beverages',\n",
       " 'Fashion accessories']"
      ]
     },
     "execution_count": 51,
     "metadata": {},
     "output_type": "execute_result"
    }
   ],
   "source": [
    "productline2"
   ]
  },
  {
   "cell_type": "code",
   "execution_count": 52,
   "id": "1ea4b317",
   "metadata": {
    "scrolled": true
   },
   "outputs": [
    {
     "name": "stdout",
     "output_type": "stream",
     "text": [
      "47\n",
      "65\n",
      "59\n",
      "60\n",
      "58\n",
      "51\n"
     ]
    }
   ],
   "source": [
    "Healthandbeauty= []\n",
    "quantity1= []\n",
    "Homeandlifestyle=[]\n",
    "quantity2= []\n",
    "Sportsandtravel=[]\n",
    "quantity3=[]\n",
    "Electronicaccessories= []\n",
    "quantity4=[]\n",
    "Foodandbeverages= []\n",
    "quantity5=[]\n",
    "Fashionaccessories=[]\n",
    "quantity6=[]\n",
    "for x, y, z in yangoncitylist:\n",
    "    if y ==\"Health and beauty\":\n",
    "        Healthandbeauty.append(y)\n",
    "        quantity1.append(z)\n",
    "    elif y ==\"Home and lifestyle\":\n",
    "        Homeandlifestyle.append(y)\n",
    "        quantity2.append(z)\n",
    "    elif y==\"Sports and travel\":\n",
    "        Sportsandtravel.append(y)\n",
    "        quantity3.append(z)\n",
    "    elif y ==\"Electronic accessories\":\n",
    "        Electronicaccessories. append(y)\n",
    "        quantity4.append(z)\n",
    "    elif y ==\"Food and beverages\":\n",
    "        Foodandbeverages.append(y)\n",
    "        quantity5.append(z)\n",
    "    elif y ==\"Fashion accessories\":\n",
    "        Fashionaccessories.append(y)\n",
    "        quantity6.append(z)\n",
    "\n",
    "\n",
    "\n",
    "\n",
    "\n",
    "        \n",
    "print(len(Healthandbeauty))\n",
    "print(len(Homeandlifestyle))\n",
    "print(len(Sportsandtravel))\n",
    "print(len(Electronicaccessories))\n",
    "print(len(Foodandbeverages))\n",
    "print(len(Fashionaccessories))\n",
    "        "
   ]
  },
  {
   "cell_type": "code",
   "execution_count": 53,
   "id": "fba58b95",
   "metadata": {
    "scrolled": true
   },
   "outputs": [
    {
     "name": "stdout",
     "output_type": "stream",
     "text": [
      "[('Health and beauty', 7), ('Health and beauty', 8), ('Health and beauty', 2), ('Health and beauty', 10), ('Health and beauty', 7), ('Health and beauty', 9), ('Health and beauty', 2), ('Health and beauty', 8), ('Health and beauty', 10), ('Health and beauty', 1), ('Health and beauty', 8), ('Health and beauty', 5), ('Health and beauty', 9), ('Health and beauty', 10), ('Health and beauty', 2), ('Health and beauty', 6), ('Health and beauty', 4), ('Health and beauty', 9), ('Health and beauty', 6), ('Health and beauty', 10), ('Health and beauty', 1), ('Health and beauty', 5), ('Health and beauty', 5), ('Health and beauty', 7), ('Health and beauty', 1), ('Health and beauty', 3), ('Health and beauty', 6), ('Health and beauty', 4), ('Health and beauty', 4), ('Health and beauty', 4), ('Health and beauty', 5), ('Health and beauty', 7), ('Health and beauty', 10), ('Health and beauty', 5), ('Health and beauty', 3), ('Health and beauty', 5), ('Health and beauty', 4), ('Health and beauty', 3), ('Health and beauty', 1), ('Health and beauty', 5), ('Health and beauty', 5), ('Health and beauty', 9), ('Health and beauty', 3), ('Health and beauty', 5), ('Health and beauty', 7), ('Health and beauty', 3), ('Health and beauty', 4)]\n"
     ]
    }
   ],
   "source": [
    "healthandbeautylist= list(zip(Healthandbeauty, quantity1))\n",
    "print(healthandbeautylist)"
   ]
  },
  {
   "cell_type": "markdown",
   "id": "5343af6c",
   "metadata": {},
   "source": [
    "# Health and Beauty \n"
   ]
  },
  {
   "cell_type": "code",
   "execution_count": 54,
   "id": "4f36f5c3",
   "metadata": {},
   "outputs": [
    {
     "name": "stdout",
     "output_type": "stream",
     "text": [
      "TOTAL: 257\n"
     ]
    }
   ],
   "source": [
    "totalquantity1= sum(quantity1)\n",
    "print(\"TOTAL:\", totalquantity1)\n"
   ]
  },
  {
   "cell_type": "markdown",
   "id": "2d6823c0",
   "metadata": {},
   "source": [
    "# Home and lifestyle"
   ]
  },
  {
   "cell_type": "code",
   "execution_count": 55,
   "id": "f13449c3",
   "metadata": {},
   "outputs": [
    {
     "name": "stdout",
     "output_type": "stream",
     "text": [
      "[('Home and lifestyle', 7), ('Home and lifestyle', 8), ('Home and lifestyle', 2), ('Home and lifestyle', 10), ('Home and lifestyle', 9), ('Home and lifestyle', 9), ('Home and lifestyle', 7), ('Home and lifestyle', 6), ('Home and lifestyle', 6), ('Home and lifestyle', 9), ('Home and lifestyle', 1), ('Home and lifestyle', 1), ('Home and lifestyle', 1), ('Home and lifestyle', 8), ('Home and lifestyle', 4), ('Home and lifestyle', 8), ('Home and lifestyle', 4), ('Home and lifestyle', 8), ('Home and lifestyle', 6), ('Home and lifestyle', 4), ('Home and lifestyle', 10), ('Home and lifestyle', 9), ('Home and lifestyle', 2), ('Home and lifestyle', 8), ('Home and lifestyle', 7), ('Home and lifestyle', 6), ('Home and lifestyle', 4), ('Home and lifestyle', 8), ('Home and lifestyle', 6), ('Home and lifestyle', 6), ('Home and lifestyle', 4), ('Home and lifestyle', 5), ('Home and lifestyle', 4), ('Home and lifestyle', 8), ('Home and lifestyle', 10), ('Home and lifestyle', 6), ('Home and lifestyle', 9), ('Home and lifestyle', 5), ('Home and lifestyle', 2), ('Home and lifestyle', 6), ('Home and lifestyle', 5), ('Home and lifestyle', 1), ('Home and lifestyle', 3), ('Home and lifestyle', 3), ('Home and lifestyle', 2), ('Home and lifestyle', 3), ('Home and lifestyle', 9), ('Home and lifestyle', 10), ('Home and lifestyle', 10), ('Home and lifestyle', 5), ('Home and lifestyle', 9), ('Home and lifestyle', 2), ('Home and lifestyle', 6), ('Home and lifestyle', 6), ('Home and lifestyle', 4), ('Home and lifestyle', 2), ('Home and lifestyle', 4), ('Home and lifestyle', 4), ('Home and lifestyle', 6), ('Home and lifestyle', 8), ('Home and lifestyle', 10), ('Home and lifestyle', 9), ('Home and lifestyle', 3), ('Home and lifestyle', 3), ('Home and lifestyle', 1)]\n"
     ]
    }
   ],
   "source": [
    "Homeandlifestylelist= list(zip(Homeandlifestyle, quantity2))\n",
    "print(Homeandlifestylelist)"
   ]
  },
  {
   "cell_type": "code",
   "execution_count": 56,
   "id": "ca041965",
   "metadata": {},
   "outputs": [
    {
     "name": "stdout",
     "output_type": "stream",
     "text": [
      "Total: 371\n"
     ]
    }
   ],
   "source": [
    "totalquantity2= sum(quantity2)\n",
    "print(\"Total:\", totalquantity2)\n",
    "\n"
   ]
  },
  {
   "cell_type": "markdown",
   "id": "10210baf",
   "metadata": {},
   "source": [
    "# Sports and Travel"
   ]
  },
  {
   "cell_type": "code",
   "execution_count": 57,
   "id": "eb194161",
   "metadata": {},
   "outputs": [
    {
     "name": "stdout",
     "output_type": "stream",
     "text": [
      "[('Sports and travel', 7), ('Sports and travel', 6), ('Sports and travel', 3), ('Sports and travel', 5), ('Sports and travel', 10), ('Sports and travel', 10), ('Sports and travel', 1), ('Sports and travel', 7), ('Sports and travel', 6), ('Sports and travel', 5), ('Sports and travel', 6), ('Sports and travel', 8), ('Sports and travel', 1), ('Sports and travel', 7), ('Sports and travel', 10), ('Sports and travel', 7), ('Sports and travel', 2), ('Sports and travel', 10), ('Sports and travel', 7), ('Sports and travel', 10), ('Sports and travel', 1), ('Sports and travel', 7), ('Sports and travel', 3), ('Sports and travel', 4), ('Sports and travel', 10), ('Sports and travel', 4), ('Sports and travel', 3), ('Sports and travel', 7), ('Sports and travel', 4), ('Sports and travel', 5), ('Sports and travel', 5), ('Sports and travel', 8), ('Sports and travel', 5), ('Sports and travel', 9), ('Sports and travel', 9), ('Sports and travel', 5), ('Sports and travel', 5), ('Sports and travel', 1), ('Sports and travel', 3), ('Sports and travel', 9), ('Sports and travel', 2), ('Sports and travel', 10), ('Sports and travel', 5), ('Sports and travel', 4), ('Sports and travel', 3), ('Sports and travel', 2), ('Sports and travel', 4), ('Sports and travel', 7), ('Sports and travel', 10), ('Sports and travel', 2), ('Sports and travel', 4), ('Sports and travel', 2), ('Sports and travel', 2), ('Sports and travel', 4), ('Sports and travel', 6), ('Sports and travel', 7), ('Sports and travel', 10), ('Sports and travel', 5), ('Sports and travel', 9)]\n"
     ]
    }
   ],
   "source": [
    "Sportsandtravellist= list(zip(Sportsandtravel, quantity3))\n",
    "print(Sportsandtravellist)"
   ]
  },
  {
   "cell_type": "code",
   "execution_count": 58,
   "id": "3f9aac85",
   "metadata": {},
   "outputs": [
    {
     "name": "stdout",
     "output_type": "stream",
     "text": [
      "Total: 333\n"
     ]
    }
   ],
   "source": [
    "totalquantity3list= sum(quantity3)\n",
    "print(\"Total:\", totalquantity3list)"
   ]
  },
  {
   "cell_type": "markdown",
   "id": "5e78d98b",
   "metadata": {},
   "source": [
    "# Electronic Accessories"
   ]
  },
  {
   "cell_type": "code",
   "execution_count": 59,
   "id": "52c52436",
   "metadata": {},
   "outputs": [
    {
     "name": "stdout",
     "output_type": "stream",
     "text": [
      "[('Electronic accessories', 6), ('Electronic accessories', 5), ('Electronic accessories', 5), ('Electronic accessories', 9), ('Electronic accessories', 1), ('Electronic accessories', 10), ('Electronic accessories', 8), ('Electronic accessories', 5), ('Electronic accessories', 5), ('Electronic accessories', 9), ('Electronic accessories', 3), ('Electronic accessories', 4), ('Electronic accessories', 1), ('Electronic accessories', 4), ('Electronic accessories', 9), ('Electronic accessories', 1), ('Electronic accessories', 4), ('Electronic accessories', 7), ('Electronic accessories', 3), ('Electronic accessories', 4), ('Electronic accessories', 5), ('Electronic accessories', 1), ('Electronic accessories', 7), ('Electronic accessories', 7), ('Electronic accessories', 9), ('Electronic accessories', 1), ('Electronic accessories', 7), ('Electronic accessories', 6), ('Electronic accessories', 4), ('Electronic accessories', 5), ('Electronic accessories', 1), ('Electronic accessories', 8), ('Electronic accessories', 7), ('Electronic accessories', 6), ('Electronic accessories', 7), ('Electronic accessories', 6), ('Electronic accessories', 1), ('Electronic accessories', 3), ('Electronic accessories', 3), ('Electronic accessories', 10), ('Electronic accessories', 9), ('Electronic accessories', 3), ('Electronic accessories', 10), ('Electronic accessories', 7), ('Electronic accessories', 7), ('Electronic accessories', 2), ('Electronic accessories', 4), ('Electronic accessories', 10), ('Electronic accessories', 1), ('Electronic accessories', 8), ('Electronic accessories', 10), ('Electronic accessories', 8), ('Electronic accessories', 3), ('Electronic accessories', 1), ('Electronic accessories', 3), ('Electronic accessories', 8), ('Electronic accessories', 10), ('Electronic accessories', 7), ('Electronic accessories', 2), ('Electronic accessories', 2)]\n"
     ]
    }
   ],
   "source": [
    "Electronicaccessorieslist= list(zip(Electronicaccessories, quantity4))\n",
    "print(Electronicaccessorieslist)"
   ]
  },
  {
   "cell_type": "code",
   "execution_count": 60,
   "id": "4b76232a",
   "metadata": {},
   "outputs": [
    {
     "name": "stdout",
     "output_type": "stream",
     "text": [
      "Total: 322\n"
     ]
    }
   ],
   "source": [
    "totalquantity4= sum(quantity4)\n",
    "print(\"Total:\", totalquantity4)"
   ]
  },
  {
   "cell_type": "markdown",
   "id": "2704219e",
   "metadata": {},
   "source": [
    "# Food and Beverages"
   ]
  },
  {
   "cell_type": "code",
   "execution_count": 61,
   "id": "bb11d462",
   "metadata": {},
   "outputs": [
    {
     "name": "stdout",
     "output_type": "stream",
     "text": [
      "[('Food and beverages', 10), ('Food and beverages', 3), ('Food and beverages', 5), ('Food and beverages', 7), ('Food and beverages', 3), ('Food and beverages', 6), ('Food and beverages', 10), ('Food and beverages', 5), ('Food and beverages', 7), ('Food and beverages', 6), ('Food and beverages', 8), ('Food and beverages', 6), ('Food and beverages', 2), ('Food and beverages', 9), ('Food and beverages', 2), ('Food and beverages', 5), ('Food and beverages', 5), ('Food and beverages', 3), ('Food and beverages', 2), ('Food and beverages', 8), ('Food and beverages', 5), ('Food and beverages', 5), ('Food and beverages', 5), ('Food and beverages', 5), ('Food and beverages', 5), ('Food and beverages', 6), ('Food and beverages', 6), ('Food and beverages', 10), ('Food and beverages', 7), ('Food and beverages', 3), ('Food and beverages', 3), ('Food and beverages', 10), ('Food and beverages', 6), ('Food and beverages', 3), ('Food and beverages', 1), ('Food and beverages', 2), ('Food and beverages', 4), ('Food and beverages', 6), ('Food and beverages', 3), ('Food and beverages', 6), ('Food and beverages', 5), ('Food and beverages', 10), ('Food and beverages', 4), ('Food and beverages', 8), ('Food and beverages', 9), ('Food and beverages', 7), ('Food and beverages', 2), ('Food and beverages', 1), ('Food and beverages', 9), ('Food and beverages', 7), ('Food and beverages', 2), ('Food and beverages', 3), ('Food and beverages', 10), ('Food and beverages', 4), ('Food and beverages', 9), ('Food and beverages', 4), ('Food and beverages', 5), ('Food and beverages', 1)]\n"
     ]
    }
   ],
   "source": [
    "Foodandbeverageslist= list(zip(Foodandbeverages, quantity5))\n",
    "print(Foodandbeverageslist)"
   ]
  },
  {
   "cell_type": "code",
   "execution_count": 62,
   "id": "bf843bc7",
   "metadata": {},
   "outputs": [
    {
     "name": "stdout",
     "output_type": "stream",
     "text": [
      "Total: 313\n"
     ]
    }
   ],
   "source": [
    "totalquantity5= sum(quantity5)\n",
    "print(\"Total:\", totalquantity5)"
   ]
  },
  {
   "cell_type": "markdown",
   "id": "301f67b5",
   "metadata": {},
   "source": [
    "# Fashion Accessories"
   ]
  },
  {
   "cell_type": "code",
   "execution_count": 63,
   "id": "bb93f828",
   "metadata": {
    "scrolled": true
   },
   "outputs": [
    {
     "name": "stdout",
     "output_type": "stream",
     "text": [
      "[('Fashion accessories', 2), ('Fashion accessories', 9), ('Fashion accessories', 10), ('Fashion accessories', 9), ('Fashion accessories', 10), ('Fashion accessories', 1), ('Fashion accessories', 5), ('Fashion accessories', 2), ('Fashion accessories', 5), ('Fashion accessories', 5), ('Fashion accessories', 9), ('Fashion accessories', 9), ('Fashion accessories', 5), ('Fashion accessories', 10), ('Fashion accessories', 4), ('Fashion accessories', 10), ('Fashion accessories', 7), ('Fashion accessories', 8), ('Fashion accessories', 4), ('Fashion accessories', 10), ('Fashion accessories', 9), ('Fashion accessories', 7), ('Fashion accessories', 1), ('Fashion accessories', 1), ('Fashion accessories', 3), ('Fashion accessories', 1), ('Fashion accessories', 4), ('Fashion accessories', 10), ('Fashion accessories', 2), ('Fashion accessories', 7), ('Fashion accessories', 3), ('Fashion accessories', 4), ('Fashion accessories', 1), ('Fashion accessories', 8), ('Fashion accessories', 8), ('Fashion accessories', 1), ('Fashion accessories', 1), ('Fashion accessories', 9), ('Fashion accessories', 3), ('Fashion accessories', 1), ('Fashion accessories', 5), ('Fashion accessories', 3), ('Fashion accessories', 1), ('Fashion accessories', 6), ('Fashion accessories', 1), ('Fashion accessories', 2), ('Fashion accessories', 8), ('Fashion accessories', 4), ('Fashion accessories', 7), ('Fashion accessories', 1), ('Fashion accessories', 7)]\n"
     ]
    }
   ],
   "source": [
    "Fashionaccessorieslist= list(zip(Fashionaccessories, quantity6))\n",
    "print(Fashionaccessorieslist)"
   ]
  },
  {
   "cell_type": "code",
   "execution_count": 64,
   "id": "7b38fc35",
   "metadata": {},
   "outputs": [
    {
     "name": "stdout",
     "output_type": "stream",
     "text": [
      "Total 263\n"
     ]
    }
   ],
   "source": [
    "totalquantity6= sum(quantity6)\n",
    "print(\"Total\", totalquantity6)"
   ]
  },
  {
   "cell_type": "markdown",
   "id": "0c51682e",
   "metadata": {},
   "source": [
    "# 2. Naypyitaw City\n"
   ]
  },
  {
   "cell_type": "code",
   "execution_count": 65,
   "id": "0e948011",
   "metadata": {},
   "outputs": [
    {
     "name": "stdout",
     "output_type": "stream",
     "text": [
      "328\n"
     ]
    }
   ],
   "source": [
    "Naypyitawcity= []\n",
    "productline= []\n",
    "quantity= []\n",
    "for x, y, z in totalcityproduct:\n",
    "    if x ==\"Naypyitaw\":\n",
    "        Naypyitawcity.append(x)\n",
    "        productline.append(y)\n",
    "        quantity.append(z)\n",
    "print(len(Naypyitawcity))"
   ]
  },
  {
   "cell_type": "code",
   "execution_count": 66,
   "id": "3fbe9f77",
   "metadata": {
    "scrolled": false
   },
   "outputs": [
    {
     "name": "stdout",
     "output_type": "stream",
     "text": [
      "[('Naypyitaw', 'Electronic accessories', 5), ('Naypyitaw', 'Electronic accessories', 7), ('Naypyitaw', 'Home and lifestyle', 10), ('Naypyitaw', 'Electronic accessories', 5), ('Naypyitaw', 'Food and beverages', 4), ('Naypyitaw', 'Sports and travel', 1), ('Naypyitaw', 'Health and beauty', 8), ('Naypyitaw', 'Home and lifestyle', 2), ('Naypyitaw', 'Food and beverages', 8), ('Naypyitaw', 'Health and beauty', 2), ('Naypyitaw', 'Fashion accessories', 10), ('Naypyitaw', 'Food and beverages', 7), ('Naypyitaw', 'Fashion accessories', 1), ('Naypyitaw', 'Electronic accessories', 8), ('Naypyitaw', 'Electronic accessories', 6), ('Naypyitaw', 'Sports and travel', 3), ('Naypyitaw', 'Home and lifestyle', 6), ('Naypyitaw', 'Health and beauty', 2), ('Naypyitaw', 'Food and beverages', 10), ('Naypyitaw', 'Fashion accessories', 10), ('Naypyitaw', 'Electronic accessories', 6), ('Naypyitaw', 'Electronic accessories', 10), ('Naypyitaw', 'Fashion accessories', 9), ('Naypyitaw', 'Food and beverages', 10), ('Naypyitaw', 'Health and beauty', 5), ('Naypyitaw', 'Health and beauty', 6), ('Naypyitaw', 'Food and beverages', 8), ('Naypyitaw', 'Food and beverages', 4), ('Naypyitaw', 'Sports and travel', 5), ('Naypyitaw', 'Sports and travel', 7), ('Naypyitaw', 'Fashion accessories', 5), ('Naypyitaw', 'Home and lifestyle', 4), ('Naypyitaw', 'Sports and travel', 10), ('Naypyitaw', 'Health and beauty', 1), ('Naypyitaw', 'Electronic accessories', 6), ('Naypyitaw', 'Fashion accessories', 1), ('Naypyitaw', 'Fashion accessories', 9), ('Naypyitaw', 'Electronic accessories', 9), ('Naypyitaw', 'Fashion accessories', 6), ('Naypyitaw', 'Food and beverages', 9), ('Naypyitaw', 'Electronic accessories', 10), ('Naypyitaw', 'Health and beauty', 3), ('Naypyitaw', 'Home and lifestyle', 9), ('Naypyitaw', 'Fashion accessories', 3), ('Naypyitaw', 'Sports and travel', 7), ('Naypyitaw', 'Home and lifestyle', 8), ('Naypyitaw', 'Fashion accessories', 9), ('Naypyitaw', 'Food and beverages', 8), ('Naypyitaw', 'Health and beauty', 6), ('Naypyitaw', 'Fashion accessories', 3), ('Naypyitaw', 'Sports and travel', 10), ('Naypyitaw', 'Health and beauty', 10), ('Naypyitaw', 'Health and beauty', 10), ('Naypyitaw', 'Food and beverages', 1), ('Naypyitaw', 'Health and beauty', 6), ('Naypyitaw', 'Health and beauty', 4), ('Naypyitaw', 'Sports and travel', 7), ('Naypyitaw', 'Food and beverages', 6), ('Naypyitaw', 'Sports and travel', 8), ('Naypyitaw', 'Food and beverages', 8), ('Naypyitaw', 'Sports and travel', 2), ('Naypyitaw', 'Home and lifestyle', 10), ('Naypyitaw', 'Electronic accessories', 8), ('Naypyitaw', 'Fashion accessories', 7), ('Naypyitaw', 'Health and beauty', 3), ('Naypyitaw', 'Fashion accessories', 7), ('Naypyitaw', 'Food and beverages', 8), ('Naypyitaw', 'Health and beauty', 8), ('Naypyitaw', 'Home and lifestyle', 4), ('Naypyitaw', 'Food and beverages', 9), ('Naypyitaw', 'Fashion accessories', 1), ('Naypyitaw', 'Health and beauty', 2), ('Naypyitaw', 'Health and beauty', 4), ('Naypyitaw', 'Food and beverages', 5), ('Naypyitaw', 'Sports and travel', 6), ('Naypyitaw', 'Electronic accessories', 7), ('Naypyitaw', 'Electronic accessories', 9), ('Naypyitaw', 'Home and lifestyle', 10), ('Naypyitaw', 'Food and beverages', 9), ('Naypyitaw', 'Electronic accessories', 5), ('Naypyitaw', 'Fashion accessories', 1), ('Naypyitaw', 'Sports and travel', 2), ('Naypyitaw', 'Electronic accessories', 4), ('Naypyitaw', 'Health and beauty', 5), ('Naypyitaw', 'Fashion accessories', 5), ('Naypyitaw', 'Fashion accessories', 2), ('Naypyitaw', 'Fashion accessories', 10), ('Naypyitaw', 'Sports and travel', 2), ('Naypyitaw', 'Electronic accessories', 4), ('Naypyitaw', 'Fashion accessories', 4), ('Naypyitaw', 'Home and lifestyle', 4), ('Naypyitaw', 'Health and beauty', 2), ('Naypyitaw', 'Home and lifestyle', 10), ('Naypyitaw', 'Fashion accessories', 4), ('Naypyitaw', 'Fashion accessories', 10), ('Naypyitaw', 'Home and lifestyle', 1), ('Naypyitaw', 'Home and lifestyle', 1), ('Naypyitaw', 'Sports and travel', 9), ('Naypyitaw', 'Electronic accessories', 7), ('Naypyitaw', 'Electronic accessories', 5), ('Naypyitaw', 'Electronic accessories', 4), ('Naypyitaw', 'Home and lifestyle', 1), ('Naypyitaw', 'Fashion accessories', 2), ('Naypyitaw', 'Food and beverages', 1), ('Naypyitaw', 'Fashion accessories', 2), ('Naypyitaw', 'Electronic accessories', 10), ('Naypyitaw', 'Food and beverages', 2), ('Naypyitaw', 'Food and beverages', 3), ('Naypyitaw', 'Electronic accessories', 5), ('Naypyitaw', 'Health and beauty', 7), ('Naypyitaw', 'Health and beauty', 4), ('Naypyitaw', 'Food and beverages', 9), ('Naypyitaw', 'Health and beauty', 1), ('Naypyitaw', 'Food and beverages', 4), ('Naypyitaw', 'Sports and travel', 5), ('Naypyitaw', 'Electronic accessories', 3), ('Naypyitaw', 'Food and beverages', 5), ('Naypyitaw', 'Home and lifestyle', 8), ('Naypyitaw', 'Fashion accessories', 10), ('Naypyitaw', 'Electronic accessories', 1), ('Naypyitaw', 'Fashion accessories', 10), ('Naypyitaw', 'Sports and travel', 10), ('Naypyitaw', 'Food and beverages', 8), ('Naypyitaw', 'Food and beverages', 2), ('Naypyitaw', 'Food and beverages', 4), ('Naypyitaw', 'Fashion accessories', 4), ('Naypyitaw', 'Electronic accessories', 9), ('Naypyitaw', 'Sports and travel', 10), ('Naypyitaw', 'Home and lifestyle', 6), ('Naypyitaw', 'Fashion accessories', 6), ('Naypyitaw', 'Sports and travel', 7), ('Naypyitaw', 'Fashion accessories', 4), ('Naypyitaw', 'Electronic accessories', 2), ('Naypyitaw', 'Food and beverages', 4), ('Naypyitaw', 'Food and beverages', 6), ('Naypyitaw', 'Fashion accessories', 9), ('Naypyitaw', 'Fashion accessories', 3), ('Naypyitaw', 'Food and beverages', 6), ('Naypyitaw', 'Home and lifestyle', 4), ('Naypyitaw', 'Home and lifestyle', 1), ('Naypyitaw', 'Fashion accessories', 7), ('Naypyitaw', 'Fashion accessories', 5), ('Naypyitaw', 'Home and lifestyle', 4), ('Naypyitaw', 'Health and beauty', 1), ('Naypyitaw', 'Food and beverages', 3), ('Naypyitaw', 'Electronic accessories', 3), ('Naypyitaw', 'Fashion accessories', 10), ('Naypyitaw', 'Fashion accessories', 1), ('Naypyitaw', 'Food and beverages', 2), ('Naypyitaw', 'Sports and travel', 9), ('Naypyitaw', 'Sports and travel', 4), ('Naypyitaw', 'Food and beverages', 4), ('Naypyitaw', 'Electronic accessories', 8), ('Naypyitaw', 'Food and beverages', 5), ('Naypyitaw', 'Fashion accessories', 1), ('Naypyitaw', 'Food and beverages', 10), ('Naypyitaw', 'Fashion accessories', 3), ('Naypyitaw', 'Electronic accessories', 10), ('Naypyitaw', 'Food and beverages', 1), ('Naypyitaw', 'Food and beverages', 5), ('Naypyitaw', 'Sports and travel', 4), ('Naypyitaw', 'Food and beverages', 1), ('Naypyitaw', 'Sports and travel', 10), ('Naypyitaw', 'Health and beauty', 7), ('Naypyitaw', 'Food and beverages', 1), ('Naypyitaw', 'Electronic accessories', 1), ('Naypyitaw', 'Home and lifestyle', 6), ('Naypyitaw', 'Electronic accessories', 4), ('Naypyitaw', 'Food and beverages', 8), ('Naypyitaw', 'Electronic accessories', 10), ('Naypyitaw', 'Sports and travel', 10), ('Naypyitaw', 'Home and lifestyle', 1), ('Naypyitaw', 'Home and lifestyle', 10), ('Naypyitaw', 'Electronic accessories', 2), ('Naypyitaw', 'Food and beverages', 6), ('Naypyitaw', 'Fashion accessories', 1), ('Naypyitaw', 'Home and lifestyle', 2), ('Naypyitaw', 'Home and lifestyle', 6), ('Naypyitaw', 'Sports and travel', 7), ('Naypyitaw', 'Fashion accessories', 1), ('Naypyitaw', 'Home and lifestyle', 5), ('Naypyitaw', 'Sports and travel', 5), ('Naypyitaw', 'Home and lifestyle', 6), ('Naypyitaw', 'Health and beauty', 2), ('Naypyitaw', 'Food and beverages', 9), ('Naypyitaw', 'Home and lifestyle', 7), ('Naypyitaw', 'Food and beverages', 6), ('Naypyitaw', 'Health and beauty', 1), ('Naypyitaw', 'Electronic accessories', 6), ('Naypyitaw', 'Electronic accessories', 6), ('Naypyitaw', 'Food and beverages', 10), ('Naypyitaw', 'Food and beverages', 10), ('Naypyitaw', 'Sports and travel', 10), ('Naypyitaw', 'Sports and travel', 7), ('Naypyitaw', 'Food and beverages', 4), ('Naypyitaw', 'Food and beverages', 3), ('Naypyitaw', 'Fashion accessories', 2), ('Naypyitaw', 'Fashion accessories', 10), ('Naypyitaw', 'Health and beauty', 6), ('Naypyitaw', 'Home and lifestyle', 7), ('Naypyitaw', 'Sports and travel', 9), ('Naypyitaw', 'Fashion accessories', 5), ('Naypyitaw', 'Electronic accessories', 1), ('Naypyitaw', 'Fashion accessories', 1), ('Naypyitaw', 'Food and beverages', 10), ('Naypyitaw', 'Fashion accessories', 7), ('Naypyitaw', 'Food and beverages', 4), ('Naypyitaw', 'Food and beverages', 9), ('Naypyitaw', 'Sports and travel', 1), ('Naypyitaw', 'Electronic accessories', 5), ('Naypyitaw', 'Fashion accessories', 6), ('Naypyitaw', 'Electronic accessories', 1), ('Naypyitaw', 'Electronic accessories', 8), ('Naypyitaw', 'Food and beverages', 8), ('Naypyitaw', 'Electronic accessories', 5), ('Naypyitaw', 'Health and beauty', 6), ('Naypyitaw', 'Sports and travel', 2), ('Naypyitaw', 'Electronic accessories', 10), ('Naypyitaw', 'Electronic accessories', 1), ('Naypyitaw', 'Sports and travel', 7), ('Naypyitaw', 'Food and beverages', 10), ('Naypyitaw', 'Sports and travel', 2), ('Naypyitaw', 'Health and beauty', 6), ('Naypyitaw', 'Health and beauty', 8), ('Naypyitaw', 'Health and beauty', 10), ('Naypyitaw', 'Fashion accessories', 6), ('Naypyitaw', 'Sports and travel', 2), ('Naypyitaw', 'Sports and travel', 9), ('Naypyitaw', 'Food and beverages', 7), ('Naypyitaw', 'Fashion accessories', 7), ('Naypyitaw', 'Food and beverages', 9), ('Naypyitaw', 'Home and lifestyle', 10), ('Naypyitaw', 'Fashion accessories', 8), ('Naypyitaw', 'Food and beverages', 1), ('Naypyitaw', 'Fashion accessories', 8), ('Naypyitaw', 'Home and lifestyle', 4), ('Naypyitaw', 'Electronic accessories', 9), ('Naypyitaw', 'Health and beauty', 9), ('Naypyitaw', 'Fashion accessories', 8), ('Naypyitaw', 'Sports and travel', 9), ('Naypyitaw', 'Food and beverages', 7), ('Naypyitaw', 'Health and beauty', 8), ('Naypyitaw', 'Home and lifestyle', 3), ('Naypyitaw', 'Fashion accessories', 4), ('Naypyitaw', 'Health and beauty', 10), ('Naypyitaw', 'Home and lifestyle', 7), ('Naypyitaw', 'Electronic accessories', 10), ('Naypyitaw', 'Home and lifestyle', 7), ('Naypyitaw', 'Food and beverages', 1), ('Naypyitaw', 'Sports and travel', 8), ('Naypyitaw', 'Food and beverages', 1), ('Naypyitaw', 'Home and lifestyle', 5), ('Naypyitaw', 'Health and beauty', 7), ('Naypyitaw', 'Fashion accessories', 3), ('Naypyitaw', 'Fashion accessories', 3), ('Naypyitaw', 'Health and beauty', 7), ('Naypyitaw', 'Sports and travel', 7), ('Naypyitaw', 'Food and beverages', 1), ('Naypyitaw', 'Food and beverages', 2), ('Naypyitaw', 'Health and beauty', 7), ('Naypyitaw', 'Sports and travel', 5), ('Naypyitaw', 'Health and beauty', 8), ('Naypyitaw', 'Home and lifestyle', 8), ('Naypyitaw', 'Health and beauty', 5), ('Naypyitaw', 'Electronic accessories', 8), ('Naypyitaw', 'Health and beauty', 5), ('Naypyitaw', 'Health and beauty', 3), ('Naypyitaw', 'Health and beauty', 4), ('Naypyitaw', 'Home and lifestyle', 1), ('Naypyitaw', 'Home and lifestyle', 5), ('Naypyitaw', 'Electronic accessories', 8), ('Naypyitaw', 'Fashion accessories', 7), ('Naypyitaw', 'Fashion accessories', 10), ('Naypyitaw', 'Sports and travel', 5), ('Naypyitaw', 'Fashion accessories', 7), ('Naypyitaw', 'Sports and travel', 1), ('Naypyitaw', 'Electronic accessories', 10), ('Naypyitaw', 'Electronic accessories', 10), ('Naypyitaw', 'Sports and travel', 6), ('Naypyitaw', 'Food and beverages', 2), ('Naypyitaw', 'Sports and travel', 1), ('Naypyitaw', 'Food and beverages', 9), ('Naypyitaw', 'Health and beauty', 7), ('Naypyitaw', 'Home and lifestyle', 1), ('Naypyitaw', 'Health and beauty', 3), ('Naypyitaw', 'Health and beauty', 2), ('Naypyitaw', 'Food and beverages', 3), ('Naypyitaw', 'Fashion accessories', 1), ('Naypyitaw', 'Home and lifestyle', 8), ('Naypyitaw', 'Fashion accessories', 1), ('Naypyitaw', 'Fashion accessories', 8), ('Naypyitaw', 'Fashion accessories', 8), ('Naypyitaw', 'Health and beauty', 5), ('Naypyitaw', 'Fashion accessories', 5), ('Naypyitaw', 'Fashion accessories', 7), ('Naypyitaw', 'Food and beverages', 6), ('Naypyitaw', 'Health and beauty', 7), ('Naypyitaw', 'Electronic accessories', 9), ('Naypyitaw', 'Health and beauty', 2), ('Naypyitaw', 'Home and lifestyle', 4), ('Naypyitaw', 'Health and beauty', 10), ('Naypyitaw', 'Electronic accessories', 4), ('Naypyitaw', 'Electronic accessories', 6), ('Naypyitaw', 'Sports and travel', 1), ('Naypyitaw', 'Home and lifestyle', 9), ('Naypyitaw', 'Home and lifestyle', 2), ('Naypyitaw', 'Sports and travel', 7), ('Naypyitaw', 'Sports and travel', 6), ('Naypyitaw', 'Fashion accessories', 2), ('Naypyitaw', 'Health and beauty', 7), ('Naypyitaw', 'Home and lifestyle', 3), ('Naypyitaw', 'Health and beauty', 7), ('Naypyitaw', 'Food and beverages', 6), ('Naypyitaw', 'Fashion accessories', 9), ('Naypyitaw', 'Electronic accessories', 2), ('Naypyitaw', 'Home and lifestyle', 5), ('Naypyitaw', 'Food and beverages', 4), ('Naypyitaw', 'Food and beverages', 9), ('Naypyitaw', 'Home and lifestyle', 10), ('Naypyitaw', 'Fashion accessories', 1), ('Naypyitaw', 'Electronic accessories', 3), ('Naypyitaw', 'Fashion accessories', 2), ('Naypyitaw', 'Food and beverages', 4), ('Naypyitaw', 'Health and beauty', 7), ('Naypyitaw', 'Electronic accessories', 7), ('Naypyitaw', 'Electronic accessories', 10), ('Naypyitaw', 'Electronic accessories', 1), ('Naypyitaw', 'Health and beauty', 1)]\n"
     ]
    }
   ],
   "source": [
    "Naypyitawcitylist= list(zip(Naypyitawcity, productline, quantity))\n",
    "print(Naypyitawcitylist)"
   ]
  },
  {
   "cell_type": "code",
   "execution_count": 67,
   "id": "2b0c70cd",
   "metadata": {},
   "outputs": [],
   "source": [
    "productline3=[]\n",
    "for x, y, z in Naypyitawcitylist:\n",
    "    if y in productline3:\n",
    "        z= 4\n",
    "    else:\n",
    "        productline3.append(y)"
   ]
  },
  {
   "cell_type": "code",
   "execution_count": 68,
   "id": "ae57883c",
   "metadata": {},
   "outputs": [
    {
     "data": {
      "text/plain": [
       "['Electronic accessories',\n",
       " 'Home and lifestyle',\n",
       " 'Food and beverages',\n",
       " 'Sports and travel',\n",
       " 'Health and beauty',\n",
       " 'Fashion accessories']"
      ]
     },
     "execution_count": 68,
     "metadata": {},
     "output_type": "execute_result"
    }
   ],
   "source": [
    "productline3"
   ]
  },
  {
   "cell_type": "code",
   "execution_count": 69,
   "id": "a7b83226",
   "metadata": {
    "scrolled": true
   },
   "outputs": [
    {
     "name": "stdout",
     "output_type": "stream",
     "text": [
      "55\n",
      "45\n",
      "66\n",
      "45\n",
      "52\n",
      "65\n"
     ]
    }
   ],
   "source": [
    "Electronicaccessories=[]\n",
    "quantityA=[]\n",
    "Homeandlifestyle=[]\n",
    "quantityB=[]\n",
    "Foodandbeverages=[]\n",
    "quantityC=[]\n",
    "Sportsandtravel=[]\n",
    "quantityD=[]\n",
    "Healthandbeauty=[]\n",
    "quantityE=[]\n",
    "Fashionaccessories=[]\n",
    "quantityF=[]\n",
    "for x, y, z in Naypyitawcitylist:\n",
    "    if y ==\"Electronic accessories\":\n",
    "        Electronicaccessories.append(y)\n",
    "        quantityA.append(z)\n",
    "\n",
    "    elif y ==\"Home and lifestyle\":\n",
    "        Homeandlifestyle.append(y)\n",
    "        quantityB.append(z)\n",
    "\n",
    "    elif y==\"Food and beverages\":\n",
    "        Foodandbeverages.append(y)\n",
    "        quantityC.append(z)\n",
    "    elif y==\"Sports and travel\":\n",
    "        Sportsandtravel.append(y)\n",
    "        quantityD.append(z)\n",
    "    elif y==\"Health and beauty\":\n",
    "        Healthandbeauty.append(y)\n",
    "        quantityE.append(z)\n",
    "    elif y==\"Fashion accessories\":\n",
    "        Fashionaccessories.append(y)\n",
    "        quantityF.append(z)\n",
    "    \n",
    "\n",
    "        \n",
    "        \n",
    "        \n",
    "print(len(Electronicaccessories))   \n",
    "print(len(Homeandlifestyle))\n",
    "print(len(Foodandbeverages))\n",
    "print(len(Sportsandtravel))\n",
    "print(len(Healthandbeauty))\n",
    "print(len(Fashionaccessories))\n",
    "        \n",
    "        \n",
    "        \n",
    "    \n",
    "    \n",
    "    "
   ]
  },
  {
   "cell_type": "markdown",
   "id": "3c116cf8",
   "metadata": {},
   "source": [
    "# Electronic accessories"
   ]
  },
  {
   "cell_type": "code",
   "execution_count": 70,
   "id": "f41b64fa",
   "metadata": {},
   "outputs": [
    {
     "name": "stdout",
     "output_type": "stream",
     "text": [
      "[('Electronic accessories', 5), ('Electronic accessories', 7), ('Electronic accessories', 5), ('Electronic accessories', 8), ('Electronic accessories', 6), ('Electronic accessories', 6), ('Electronic accessories', 10), ('Electronic accessories', 6), ('Electronic accessories', 9), ('Electronic accessories', 10), ('Electronic accessories', 8), ('Electronic accessories', 7), ('Electronic accessories', 9), ('Electronic accessories', 5), ('Electronic accessories', 4), ('Electronic accessories', 4), ('Electronic accessories', 7), ('Electronic accessories', 5), ('Electronic accessories', 4), ('Electronic accessories', 10), ('Electronic accessories', 5), ('Electronic accessories', 3), ('Electronic accessories', 1), ('Electronic accessories', 9), ('Electronic accessories', 2), ('Electronic accessories', 3), ('Electronic accessories', 8), ('Electronic accessories', 10), ('Electronic accessories', 1), ('Electronic accessories', 4), ('Electronic accessories', 10), ('Electronic accessories', 2), ('Electronic accessories', 6), ('Electronic accessories', 6), ('Electronic accessories', 1), ('Electronic accessories', 5), ('Electronic accessories', 1), ('Electronic accessories', 8), ('Electronic accessories', 5), ('Electronic accessories', 10), ('Electronic accessories', 1), ('Electronic accessories', 9), ('Electronic accessories', 10), ('Electronic accessories', 8), ('Electronic accessories', 8), ('Electronic accessories', 10), ('Electronic accessories', 10), ('Electronic accessories', 9), ('Electronic accessories', 4), ('Electronic accessories', 6), ('Electronic accessories', 2), ('Electronic accessories', 3), ('Electronic accessories', 7), ('Electronic accessories', 10), ('Electronic accessories', 1)]\n"
     ]
    }
   ],
   "source": [
    "Electronicaccessorieslist=list(zip(Electronicaccessories,quantityA))\n",
    "print(Electronicaccessorieslist)"
   ]
  },
  {
   "cell_type": "code",
   "execution_count": 71,
   "id": "8c35030b",
   "metadata": {},
   "outputs": [
    {
     "name": "stdout",
     "output_type": "stream",
     "text": [
      "Total: 333\n"
     ]
    }
   ],
   "source": [
    "totalquantityA= sum(quantityA)\n",
    "print(\"Total:\", totalquantityA)\n"
   ]
  },
  {
   "cell_type": "markdown",
   "id": "22a40e96",
   "metadata": {},
   "source": [
    "# Home and lifestyle"
   ]
  },
  {
   "cell_type": "code",
   "execution_count": 72,
   "id": "75290d21",
   "metadata": {},
   "outputs": [
    {
     "name": "stdout",
     "output_type": "stream",
     "text": [
      "[('Home and lifestyle', 10), ('Home and lifestyle', 2), ('Home and lifestyle', 6), ('Home and lifestyle', 4), ('Home and lifestyle', 9), ('Home and lifestyle', 8), ('Home and lifestyle', 10), ('Home and lifestyle', 4), ('Home and lifestyle', 10), ('Home and lifestyle', 4), ('Home and lifestyle', 10), ('Home and lifestyle', 1), ('Home and lifestyle', 1), ('Home and lifestyle', 1), ('Home and lifestyle', 8), ('Home and lifestyle', 6), ('Home and lifestyle', 4), ('Home and lifestyle', 1), ('Home and lifestyle', 4), ('Home and lifestyle', 6), ('Home and lifestyle', 1), ('Home and lifestyle', 10), ('Home and lifestyle', 2), ('Home and lifestyle', 6), ('Home and lifestyle', 5), ('Home and lifestyle', 6), ('Home and lifestyle', 7), ('Home and lifestyle', 7), ('Home and lifestyle', 10), ('Home and lifestyle', 4), ('Home and lifestyle', 3), ('Home and lifestyle', 7), ('Home and lifestyle', 7), ('Home and lifestyle', 5), ('Home and lifestyle', 8), ('Home and lifestyle', 1), ('Home and lifestyle', 5), ('Home and lifestyle', 1), ('Home and lifestyle', 8), ('Home and lifestyle', 4), ('Home and lifestyle', 9), ('Home and lifestyle', 2), ('Home and lifestyle', 3), ('Home and lifestyle', 5), ('Home and lifestyle', 10)]\n"
     ]
    }
   ],
   "source": [
    "Homeandlifestylelist= list(zip(Homeandlifestyle,quantityB))\n",
    "print(Homeandlifestylelist)\n"
   ]
  },
  {
   "cell_type": "code",
   "execution_count": 73,
   "id": "173c267f",
   "metadata": {},
   "outputs": [
    {
     "name": "stdout",
     "output_type": "stream",
     "text": [
      "Total: 245\n"
     ]
    }
   ],
   "source": [
    "totalquantityb= sum(quantityB)\n",
    "print(\"Total:\", totalquantityb)\n"
   ]
  },
  {
   "cell_type": "markdown",
   "id": "d35b077f",
   "metadata": {},
   "source": [
    "# Food and beverages"
   ]
  },
  {
   "cell_type": "code",
   "execution_count": 74,
   "id": "896f5654",
   "metadata": {},
   "outputs": [
    {
     "name": "stdout",
     "output_type": "stream",
     "text": [
      "[('Food and beverages', 4), ('Food and beverages', 8), ('Food and beverages', 7), ('Food and beverages', 10), ('Food and beverages', 10), ('Food and beverages', 8), ('Food and beverages', 4), ('Food and beverages', 9), ('Food and beverages', 8), ('Food and beverages', 1), ('Food and beverages', 6), ('Food and beverages', 8), ('Food and beverages', 8), ('Food and beverages', 9), ('Food and beverages', 5), ('Food and beverages', 9), ('Food and beverages', 1), ('Food and beverages', 2), ('Food and beverages', 3), ('Food and beverages', 9), ('Food and beverages', 4), ('Food and beverages', 5), ('Food and beverages', 8), ('Food and beverages', 2), ('Food and beverages', 4), ('Food and beverages', 4), ('Food and beverages', 6), ('Food and beverages', 6), ('Food and beverages', 3), ('Food and beverages', 2), ('Food and beverages', 4), ('Food and beverages', 5), ('Food and beverages', 10), ('Food and beverages', 1), ('Food and beverages', 5), ('Food and beverages', 1), ('Food and beverages', 1), ('Food and beverages', 8), ('Food and beverages', 6), ('Food and beverages', 9), ('Food and beverages', 6), ('Food and beverages', 10), ('Food and beverages', 10), ('Food and beverages', 4), ('Food and beverages', 3), ('Food and beverages', 10), ('Food and beverages', 4), ('Food and beverages', 9), ('Food and beverages', 8), ('Food and beverages', 10), ('Food and beverages', 7), ('Food and beverages', 9), ('Food and beverages', 1), ('Food and beverages', 7), ('Food and beverages', 1), ('Food and beverages', 1), ('Food and beverages', 1), ('Food and beverages', 2), ('Food and beverages', 2), ('Food and beverages', 9), ('Food and beverages', 3), ('Food and beverages', 6), ('Food and beverages', 6), ('Food and beverages', 4), ('Food and beverages', 9), ('Food and beverages', 4)]\n"
     ]
    }
   ],
   "source": [
    "Foodandbeverageslist= list(zip(Foodandbeverages, quantityC))\n",
    "print(Foodandbeverageslist)"
   ]
  },
  {
   "cell_type": "code",
   "execution_count": 75,
   "id": "ab983b9e",
   "metadata": {},
   "outputs": [
    {
     "name": "stdout",
     "output_type": "stream",
     "text": [
      "Total: 369\n"
     ]
    }
   ],
   "source": [
    "totalquantityc= sum(quantityC)\n",
    "print(\"Total:\",totalquantityc )\n"
   ]
  },
  {
   "cell_type": "markdown",
   "id": "7f688d03",
   "metadata": {},
   "source": [
    "# Sports and travel"
   ]
  },
  {
   "cell_type": "code",
   "execution_count": 76,
   "id": "749a75e3",
   "metadata": {},
   "outputs": [
    {
     "name": "stdout",
     "output_type": "stream",
     "text": [
      "[('Sports and travel', 1), ('Sports and travel', 3), ('Sports and travel', 5), ('Sports and travel', 7), ('Sports and travel', 10), ('Sports and travel', 7), ('Sports and travel', 10), ('Sports and travel', 7), ('Sports and travel', 8), ('Sports and travel', 2), ('Sports and travel', 6), ('Sports and travel', 2), ('Sports and travel', 2), ('Sports and travel', 9), ('Sports and travel', 5), ('Sports and travel', 10), ('Sports and travel', 10), ('Sports and travel', 7), ('Sports and travel', 9), ('Sports and travel', 4), ('Sports and travel', 4), ('Sports and travel', 10), ('Sports and travel', 10), ('Sports and travel', 7), ('Sports and travel', 5), ('Sports and travel', 10), ('Sports and travel', 7), ('Sports and travel', 9), ('Sports and travel', 1), ('Sports and travel', 2), ('Sports and travel', 7), ('Sports and travel', 2), ('Sports and travel', 2), ('Sports and travel', 9), ('Sports and travel', 9), ('Sports and travel', 8), ('Sports and travel', 7), ('Sports and travel', 5), ('Sports and travel', 5), ('Sports and travel', 1), ('Sports and travel', 6), ('Sports and travel', 1), ('Sports and travel', 1), ('Sports and travel', 7), ('Sports and travel', 6)]\n"
     ]
    }
   ],
   "source": [
    "Sportsandtravellist= list(zip(Sportsandtravel, quantityD))\n",
    "print(Sportsandtravellist)"
   ]
  },
  {
   "cell_type": "code",
   "execution_count": 77,
   "id": "607d5dd4",
   "metadata": {},
   "outputs": [
    {
     "name": "stdout",
     "output_type": "stream",
     "text": [
      "Total: 265\n"
     ]
    }
   ],
   "source": [
    "totalquantityd= sum(quantityD)\n",
    "print(\"Total:\",totalquantityd )\n"
   ]
  },
  {
   "cell_type": "markdown",
   "id": "57a33186",
   "metadata": {},
   "source": [
    "# Health and beauty"
   ]
  },
  {
   "cell_type": "code",
   "execution_count": 78,
   "id": "bc9486a6",
   "metadata": {},
   "outputs": [
    {
     "name": "stdout",
     "output_type": "stream",
     "text": [
      "[('Health and beauty', 8), ('Health and beauty', 2), ('Health and beauty', 2), ('Health and beauty', 5), ('Health and beauty', 6), ('Health and beauty', 1), ('Health and beauty', 3), ('Health and beauty', 6), ('Health and beauty', 10), ('Health and beauty', 10), ('Health and beauty', 6), ('Health and beauty', 4), ('Health and beauty', 3), ('Health and beauty', 8), ('Health and beauty', 2), ('Health and beauty', 4), ('Health and beauty', 5), ('Health and beauty', 2), ('Health and beauty', 7), ('Health and beauty', 4), ('Health and beauty', 1), ('Health and beauty', 1), ('Health and beauty', 7), ('Health and beauty', 2), ('Health and beauty', 1), ('Health and beauty', 6), ('Health and beauty', 6), ('Health and beauty', 6), ('Health and beauty', 8), ('Health and beauty', 10), ('Health and beauty', 9), ('Health and beauty', 8), ('Health and beauty', 10), ('Health and beauty', 7), ('Health and beauty', 7), ('Health and beauty', 7), ('Health and beauty', 8), ('Health and beauty', 5), ('Health and beauty', 5), ('Health and beauty', 3), ('Health and beauty', 4), ('Health and beauty', 7), ('Health and beauty', 3), ('Health and beauty', 2), ('Health and beauty', 5), ('Health and beauty', 7), ('Health and beauty', 2), ('Health and beauty', 10), ('Health and beauty', 7), ('Health and beauty', 7), ('Health and beauty', 7), ('Health and beauty', 1)]\n"
     ]
    }
   ],
   "source": [
    "Healthandbeautylist= list(zip(Healthandbeauty, quantityE))\n",
    "print(Healthandbeautylist)"
   ]
  },
  {
   "cell_type": "code",
   "execution_count": 79,
   "id": "7c59b143",
   "metadata": {},
   "outputs": [
    {
     "name": "stdout",
     "output_type": "stream",
     "text": [
      "Total: 277\n"
     ]
    }
   ],
   "source": [
    "totalquantityE= sum(quantityE)\n",
    "print(\"Total:\", totalquantityE)\n"
   ]
  },
  {
   "cell_type": "markdown",
   "id": "fa7404d8",
   "metadata": {},
   "source": [
    "# Fashion accessories"
   ]
  },
  {
   "cell_type": "code",
   "execution_count": 80,
   "id": "149e9203",
   "metadata": {},
   "outputs": [
    {
     "name": "stdout",
     "output_type": "stream",
     "text": [
      "[('Fashion accessories', 10), ('Fashion accessories', 1), ('Fashion accessories', 10), ('Fashion accessories', 9), ('Fashion accessories', 5), ('Fashion accessories', 1), ('Fashion accessories', 9), ('Fashion accessories', 6), ('Fashion accessories', 3), ('Fashion accessories', 9), ('Fashion accessories', 3), ('Fashion accessories', 7), ('Fashion accessories', 7), ('Fashion accessories', 1), ('Fashion accessories', 1), ('Fashion accessories', 5), ('Fashion accessories', 2), ('Fashion accessories', 10), ('Fashion accessories', 4), ('Fashion accessories', 4), ('Fashion accessories', 10), ('Fashion accessories', 2), ('Fashion accessories', 2), ('Fashion accessories', 10), ('Fashion accessories', 10), ('Fashion accessories', 4), ('Fashion accessories', 6), ('Fashion accessories', 4), ('Fashion accessories', 9), ('Fashion accessories', 3), ('Fashion accessories', 7), ('Fashion accessories', 5), ('Fashion accessories', 10), ('Fashion accessories', 1), ('Fashion accessories', 1), ('Fashion accessories', 3), ('Fashion accessories', 1), ('Fashion accessories', 1), ('Fashion accessories', 2), ('Fashion accessories', 10), ('Fashion accessories', 5), ('Fashion accessories', 1), ('Fashion accessories', 7), ('Fashion accessories', 6), ('Fashion accessories', 6), ('Fashion accessories', 7), ('Fashion accessories', 8), ('Fashion accessories', 8), ('Fashion accessories', 8), ('Fashion accessories', 4), ('Fashion accessories', 3), ('Fashion accessories', 3), ('Fashion accessories', 7), ('Fashion accessories', 10), ('Fashion accessories', 7), ('Fashion accessories', 1), ('Fashion accessories', 1), ('Fashion accessories', 8), ('Fashion accessories', 8), ('Fashion accessories', 5), ('Fashion accessories', 7), ('Fashion accessories', 2), ('Fashion accessories', 9), ('Fashion accessories', 1), ('Fashion accessories', 2)]\n"
     ]
    }
   ],
   "source": [
    "Fashionaccessorieslist= list(zip(Fashionaccessories, quantityF))\n",
    "print(Fashionaccessorieslist)"
   ]
  },
  {
   "cell_type": "code",
   "execution_count": 81,
   "id": "947fb8e9",
   "metadata": {},
   "outputs": [
    {
     "name": "stdout",
     "output_type": "stream",
     "text": [
      "Total: 342\n"
     ]
    }
   ],
   "source": [
    "Totalquantityf= sum(quantityF)\n",
    "print(\"Total:\",Totalquantityf )"
   ]
  },
  {
   "cell_type": "code",
   "execution_count": null,
   "id": "b09c9fb7",
   "metadata": {},
   "outputs": [],
   "source": []
  },
  {
   "cell_type": "markdown",
   "id": "d1006bc7",
   "metadata": {},
   "source": [
    "# 3. Data for Mandalay City"
   ]
  },
  {
   "cell_type": "code",
   "execution_count": 82,
   "id": "c5dcc256",
   "metadata": {},
   "outputs": [
    {
     "name": "stdout",
     "output_type": "stream",
     "text": [
      "332\n"
     ]
    }
   ],
   "source": [
    "Mandalaycity=[]\n",
    "productline=[]\n",
    "Quantity=[]\n",
    "for x,y,z in totalcityproduct:\n",
    "    if x==\"Mandalay\":\n",
    "        Mandalaycity.append(x)\n",
    "        productline.append(y)\n",
    "        Quantity.append(z)\n",
    "print(len(Mandalaycity))\n",
    "        "
   ]
  },
  {
   "cell_type": "code",
   "execution_count": 83,
   "id": "06e2b3c6",
   "metadata": {},
   "outputs": [
    {
     "name": "stdout",
     "output_type": "stream",
     "text": [
      "[('Mandalay', 'Food and beverages', 3), ('Mandalay', 'Fashion accessories', 4), ('Mandalay', 'Electronic accessories', 4), ('Mandalay', 'Sports and travel', 6), ('Mandalay', 'Home and lifestyle', 2), ('Mandalay', 'Health and beauty', 3), ('Mandalay', 'Home and lifestyle', 2), ('Mandalay', 'Fashion accessories', 1), ('Mandalay', 'Food and beverages', 5), ('Mandalay', 'Fashion accessories', 5), ('Mandalay', 'Sports and travel', 9), ('Mandalay', 'Sports and travel', 8), ('Mandalay', 'Home and lifestyle', 8), ('Mandalay', 'Home and lifestyle', 1), ('Mandalay', 'Sports and travel', 6), ('Mandalay', 'Electronic accessories', 4), ('Mandalay', 'Health and beauty', 9), ('Mandalay', 'Food and beverages', 9), ('Mandalay', 'Electronic accessories', 6), ('Mandalay', 'Fashion accessories', 4), ('Mandalay', 'Home and lifestyle', 2), ('Mandalay', 'Sports and travel', 9), ('Mandalay', 'Health and beauty', 4), ('Mandalay', 'Fashion accessories', 6), ('Mandalay', 'Food and beverages', 3), ('Mandalay', 'Food and beverages', 3), ('Mandalay', 'Health and beauty', 6), ('Mandalay', 'Health and beauty', 9), ('Mandalay', 'Health and beauty', 10), ('Mandalay', 'Home and lifestyle', 6), ('Mandalay', 'Health and beauty', 7), ('Mandalay', 'Sports and travel', 2), ('Mandalay', 'Fashion accessories', 7), ('Mandalay', 'Fashion accessories', 5), ('Mandalay', 'Fashion accessories', 1), ('Mandalay', 'Home and lifestyle', 2), ('Mandalay', 'Sports and travel', 9), ('Mandalay', 'Fashion accessories', 8), ('Mandalay', 'Sports and travel', 9), ('Mandalay', 'Fashion accessories', 7), ('Mandalay', 'Sports and travel', 4), ('Mandalay', 'Electronic accessories', 6), ('Mandalay', 'Sports and travel', 10), ('Mandalay', 'Home and lifestyle', 8), ('Mandalay', 'Fashion accessories', 4), ('Mandalay', 'Electronic accessories', 1), ('Mandalay', 'Home and lifestyle', 5), ('Mandalay', 'Health and beauty', 9), ('Mandalay', 'Sports and travel', 6), ('Mandalay', 'Food and beverages', 10), ('Mandalay', 'Health and beauty', 8), ('Mandalay', 'Food and beverages', 5), ('Mandalay', 'Electronic accessories', 6), ('Mandalay', 'Food and beverages', 8), ('Mandalay', 'Food and beverages', 3), ('Mandalay', 'Home and lifestyle', 8), ('Mandalay', 'Home and lifestyle', 4), ('Mandalay', 'Home and lifestyle', 3), ('Mandalay', 'Fashion accessories', 2), ('Mandalay', 'Home and lifestyle', 4), ('Mandalay', 'Electronic accessories', 4), ('Mandalay', 'Health and beauty', 10), ('Mandalay', 'Home and lifestyle', 5), ('Mandalay', 'Fashion accessories', 3), ('Mandalay', 'Electronic accessories', 9), ('Mandalay', 'Home and lifestyle', 5), ('Mandalay', 'Sports and travel', 3), ('Mandalay', 'Sports and travel', 7), ('Mandalay', 'Sports and travel', 5), ('Mandalay', 'Fashion accessories', 8), ('Mandalay', 'Food and beverages', 3), ('Mandalay', 'Electronic accessories', 6), ('Mandalay', 'Food and beverages', 7), ('Mandalay', 'Health and beauty', 9), ('Mandalay', 'Electronic accessories', 6), ('Mandalay', 'Fashion accessories', 2), ('Mandalay', 'Electronic accessories', 3), ('Mandalay', 'Health and beauty', 9), ('Mandalay', 'Fashion accessories', 4), ('Mandalay', 'Electronic accessories', 5), ('Mandalay', 'Home and lifestyle', 8), ('Mandalay', 'Electronic accessories', 3), ('Mandalay', 'Food and beverages', 7), ('Mandalay', 'Food and beverages', 9), ('Mandalay', 'Fashion accessories', 4), ('Mandalay', 'Fashion accessories', 4), ('Mandalay', 'Sports and travel', 1), ('Mandalay', 'Food and beverages', 10), ('Mandalay', 'Sports and travel', 5), ('Mandalay', 'Health and beauty', 6), ('Mandalay', 'Fashion accessories', 7), ('Mandalay', 'Health and beauty', 5), ('Mandalay', 'Food and beverages', 7), ('Mandalay', 'Electronic accessories', 10), ('Mandalay', 'Health and beauty', 10), ('Mandalay', 'Health and beauty', 1), ('Mandalay', 'Electronic accessories', 8), ('Mandalay', 'Sports and travel', 6), ('Mandalay', 'Sports and travel', 4), ('Mandalay', 'Health and beauty', 4), ('Mandalay', 'Home and lifestyle', 9), ('Mandalay', 'Sports and travel', 6), ('Mandalay', 'Food and beverages', 9), ('Mandalay', 'Electronic accessories', 3), ('Mandalay', 'Health and beauty', 7), ('Mandalay', 'Health and beauty', 7), ('Mandalay', 'Health and beauty', 10), ('Mandalay', 'Fashion accessories', 7), ('Mandalay', 'Home and lifestyle', 9), ('Mandalay', 'Food and beverages', 4), ('Mandalay', 'Electronic accessories', 3), ('Mandalay', 'Sports and travel', 1), ('Mandalay', 'Electronic accessories', 7), ('Mandalay', 'Fashion accessories', 2), ('Mandalay', 'Home and lifestyle', 9), ('Mandalay', 'Electronic accessories', 4), ('Mandalay', 'Food and beverages', 5), ('Mandalay', 'Sports and travel', 1), ('Mandalay', 'Food and beverages', 7), ('Mandalay', 'Fashion accessories', 10), ('Mandalay', 'Home and lifestyle', 9), ('Mandalay', 'Health and beauty', 6), ('Mandalay', 'Electronic accessories', 9), ('Mandalay', 'Fashion accessories', 5), ('Mandalay', 'Fashion accessories', 4), ('Mandalay', 'Health and beauty', 10), ('Mandalay', 'Sports and travel', 2), ('Mandalay', 'Health and beauty', 1), ('Mandalay', 'Health and beauty', 2), ('Mandalay', 'Fashion accessories', 8), ('Mandalay', 'Fashion accessories', 9), ('Mandalay', 'Food and beverages', 3), ('Mandalay', 'Sports and travel', 5), ('Mandalay', 'Fashion accessories', 2), ('Mandalay', 'Fashion accessories', 7), ('Mandalay', 'Fashion accessories', 1), ('Mandalay', 'Sports and travel', 8), ('Mandalay', 'Health and beauty', 1), ('Mandalay', 'Health and beauty', 1), ('Mandalay', 'Sports and travel', 1), ('Mandalay', 'Electronic accessories', 6), ('Mandalay', 'Electronic accessories', 6), ('Mandalay', 'Fashion accessories', 5), ('Mandalay', 'Food and beverages', 9), ('Mandalay', 'Electronic accessories', 10), ('Mandalay', 'Food and beverages', 10), ('Mandalay', 'Sports and travel', 6), ('Mandalay', 'Health and beauty', 8), ('Mandalay', 'Sports and travel', 10), ('Mandalay', 'Home and lifestyle', 10), ('Mandalay', 'Sports and travel', 4), ('Mandalay', 'Fashion accessories', 10), ('Mandalay', 'Home and lifestyle', 9), ('Mandalay', 'Fashion accessories', 2), ('Mandalay', 'Health and beauty', 8), ('Mandalay', 'Fashion accessories', 2), ('Mandalay', 'Sports and travel', 8), ('Mandalay', 'Sports and travel', 1), ('Mandalay', 'Sports and travel', 1), ('Mandalay', 'Sports and travel', 2), ('Mandalay', 'Sports and travel', 1), ('Mandalay', 'Sports and travel', 3), ('Mandalay', 'Food and beverages', 6), ('Mandalay', 'Health and beauty', 5), ('Mandalay', 'Sports and travel', 7), ('Mandalay', 'Health and beauty', 5), ('Mandalay', 'Electronic accessories', 3), ('Mandalay', 'Fashion accessories', 4), ('Mandalay', 'Fashion accessories', 2), ('Mandalay', 'Food and beverages', 10), ('Mandalay', 'Electronic accessories', 10), ('Mandalay', 'Fashion accessories', 1), ('Mandalay', 'Sports and travel', 4), ('Mandalay', 'Food and beverages', 1), ('Mandalay', 'Home and lifestyle', 4), ('Mandalay', 'Sports and travel', 5), ('Mandalay', 'Fashion accessories', 3), ('Mandalay', 'Fashion accessories', 9), ('Mandalay', 'Health and beauty', 9), ('Mandalay', 'Home and lifestyle', 3), ('Mandalay', 'Fashion accessories', 2), ('Mandalay', 'Electronic accessories', 9), ('Mandalay', 'Electronic accessories', 8), ('Mandalay', 'Fashion accessories', 2), ('Mandalay', 'Fashion accessories', 7), ('Mandalay', 'Home and lifestyle', 5), ('Mandalay', 'Sports and travel', 10), ('Mandalay', 'Food and beverages', 2), ('Mandalay', 'Fashion accessories', 7), ('Mandalay', 'Food and beverages', 4), ('Mandalay', 'Health and beauty', 2), ('Mandalay', 'Fashion accessories', 4), ('Mandalay', 'Sports and travel', 3), ('Mandalay', 'Sports and travel', 3), ('Mandalay', 'Health and beauty', 3), ('Mandalay', 'Sports and travel', 6), ('Mandalay', 'Home and lifestyle', 4), ('Mandalay', 'Food and beverages', 2), ('Mandalay', 'Fashion accessories', 3), ('Mandalay', 'Sports and travel', 6), ('Mandalay', 'Home and lifestyle', 7), ('Mandalay', 'Fashion accessories', 10), ('Mandalay', 'Fashion accessories', 1), ('Mandalay', 'Food and beverages', 2), ('Mandalay', 'Health and beauty', 10), ('Mandalay', 'Home and lifestyle', 3), ('Mandalay', 'Food and beverages', 3), ('Mandalay', 'Health and beauty', 10), ('Mandalay', 'Food and beverages', 5), ('Mandalay', 'Fashion accessories', 3), ('Mandalay', 'Food and beverages', 3), ('Mandalay', 'Electronic accessories', 2), ('Mandalay', 'Fashion accessories', 1), ('Mandalay', 'Electronic accessories', 5), ('Mandalay', 'Health and beauty', 6), ('Mandalay', 'Sports and travel', 9), ('Mandalay', 'Fashion accessories', 4), ('Mandalay', 'Sports and travel', 3), ('Mandalay', 'Fashion accessories', 6), ('Mandalay', 'Food and beverages', 3), ('Mandalay', 'Health and beauty', 4), ('Mandalay', 'Sports and travel', 2), ('Mandalay', 'Food and beverages', 2), ('Mandalay', 'Health and beauty', 3), ('Mandalay', 'Fashion accessories', 2), ('Mandalay', 'Sports and travel', 7), ('Mandalay', 'Electronic accessories', 1), ('Mandalay', 'Sports and travel', 1), ('Mandalay', 'Sports and travel', 6), ('Mandalay', 'Home and lifestyle', 2), ('Mandalay', 'Sports and travel', 2), ('Mandalay', 'Home and lifestyle', 4), ('Mandalay', 'Food and beverages', 3), ('Mandalay', 'Fashion accessories', 10), ('Mandalay', 'Health and beauty', 9), ('Mandalay', 'Home and lifestyle', 9), ('Mandalay', 'Health and beauty', 7), ('Mandalay', 'Electronic accessories', 4), ('Mandalay', 'Fashion accessories', 6), ('Mandalay', 'Fashion accessories', 7), ('Mandalay', 'Home and lifestyle', 3), ('Mandalay', 'Food and beverages', 4), ('Mandalay', 'Sports and travel', 10), ('Mandalay', 'Home and lifestyle', 7), ('Mandalay', 'Electronic accessories', 7), ('Mandalay', 'Food and beverages', 1), ('Mandalay', 'Electronic accessories', 8), ('Mandalay', 'Fashion accessories', 10), ('Mandalay', 'Home and lifestyle', 9), ('Mandalay', 'Fashion accessories', 4), ('Mandalay', 'Home and lifestyle', 5), ('Mandalay', 'Electronic accessories', 8), ('Mandalay', 'Food and beverages', 10), ('Mandalay', 'Electronic accessories', 10), ('Mandalay', 'Home and lifestyle', 8), ('Mandalay', 'Sports and travel', 6), ('Mandalay', 'Electronic accessories', 4), ('Mandalay', 'Sports and travel', 4), ('Mandalay', 'Food and beverages', 5), ('Mandalay', 'Sports and travel', 1), ('Mandalay', 'Electronic accessories', 9), ('Mandalay', 'Home and lifestyle', 10), ('Mandalay', 'Fashion accessories', 2), ('Mandalay', 'Health and beauty', 1), ('Mandalay', 'Sports and travel', 6), ('Mandalay', 'Electronic accessories', 9), ('Mandalay', 'Health and beauty', 1), ('Mandalay', 'Health and beauty', 8), ('Mandalay', 'Food and beverages', 8), ('Mandalay', 'Health and beauty', 4), ('Mandalay', 'Food and beverages', 5), ('Mandalay', 'Electronic accessories', 4), ('Mandalay', 'Sports and travel', 7), ('Mandalay', 'Health and beauty', 9), ('Mandalay', 'Health and beauty', 4), ('Mandalay', 'Sports and travel', 8), ('Mandalay', 'Home and lifestyle', 7), ('Mandalay', 'Sports and travel', 6), ('Mandalay', 'Electronic accessories', 1), ('Mandalay', 'Electronic accessories', 10), ('Mandalay', 'Fashion accessories', 9), ('Mandalay', 'Food and beverages', 8), ('Mandalay', 'Health and beauty', 6), ('Mandalay', 'Home and lifestyle', 9), ('Mandalay', 'Home and lifestyle', 7), ('Mandalay', 'Sports and travel', 8), ('Mandalay', 'Electronic accessories', 10), ('Mandalay', 'Electronic accessories', 1), ('Mandalay', 'Electronic accessories', 8), ('Mandalay', 'Food and beverages', 10), ('Mandalay', 'Sports and travel', 10), ('Mandalay', 'Electronic accessories', 8), ('Mandalay', 'Electronic accessories', 5), ('Mandalay', 'Electronic accessories', 6), ('Mandalay', 'Health and beauty', 8), ('Mandalay', 'Home and lifestyle', 4), ('Mandalay', 'Health and beauty', 5), ('Mandalay', 'Home and lifestyle', 10), ('Mandalay', 'Food and beverages', 3), ('Mandalay', 'Home and lifestyle', 3), ('Mandalay', 'Electronic accessories', 3), ('Mandalay', 'Home and lifestyle', 6), ('Mandalay', 'Electronic accessories', 4), ('Mandalay', 'Sports and travel', 1), ('Mandalay', 'Electronic accessories', 9), ('Mandalay', 'Sports and travel', 2), ('Mandalay', 'Home and lifestyle', 6), ('Mandalay', 'Home and lifestyle', 6), ('Mandalay', 'Fashion accessories', 1), ('Mandalay', 'Food and beverages', 8), ('Mandalay', 'Health and beauty', 3), ('Mandalay', 'Home and lifestyle', 3), ('Mandalay', 'Food and beverages', 4), ('Mandalay', 'Home and lifestyle', 6), ('Mandalay', 'Electronic accessories', 6), ('Mandalay', 'Food and beverages', 2), ('Mandalay', 'Electronic accessories', 2), ('Mandalay', 'Electronic accessories', 5), ('Mandalay', 'Food and beverages', 10), ('Mandalay', 'Home and lifestyle', 7), ('Mandalay', 'Electronic accessories', 7), ('Mandalay', 'Fashion accessories', 2), ('Mandalay', 'Food and beverages', 6), ('Mandalay', 'Electronic accessories', 1), ('Mandalay', 'Food and beverages', 1), ('Mandalay', 'Fashion accessories', 5), ('Mandalay', 'Health and beauty', 2), ('Mandalay', 'Health and beauty', 8), ('Mandalay', 'Health and beauty', 8), ('Mandalay', 'Sports and travel', 10), ('Mandalay', 'Fashion accessories', 10), ('Mandalay', 'Home and lifestyle', 10)]\n"
     ]
    }
   ],
   "source": [
    "Mandalaycitylist= list(zip(Mandalaycity,productline,Quantity))\n",
    "print(Mandalaycitylist)"
   ]
  },
  {
   "cell_type": "code",
   "execution_count": 84,
   "id": "d3ace0f1",
   "metadata": {},
   "outputs": [],
   "source": [
    "productlinemandalay=[]\n",
    "for x,y,z in Mandalaycitylist:\n",
    "    if y in productlinemandalay:\n",
    "        a=21\n",
    "    else:\n",
    "        productlinemandalay.append(y)"
   ]
  },
  {
   "cell_type": "code",
   "execution_count": 85,
   "id": "0f61d40b",
   "metadata": {},
   "outputs": [
    {
     "data": {
      "text/plain": [
       "['Food and beverages',\n",
       " 'Fashion accessories',\n",
       " 'Electronic accessories',\n",
       " 'Sports and travel',\n",
       " 'Home and lifestyle',\n",
       " 'Health and beauty']"
      ]
     },
     "execution_count": 85,
     "metadata": {},
     "output_type": "execute_result"
    }
   ],
   "source": [
    "productlinemandalay"
   ]
  },
  {
   "cell_type": "code",
   "execution_count": 86,
   "id": "9e76ba60",
   "metadata": {},
   "outputs": [],
   "source": [
    "Foodandbeverages=[]\n",
    "QuantityG=[]\n",
    "Fashionaccessories=[]\n",
    "QuantityH=[]\n",
    "Electronicaccessories=[]\n",
    "QuantityI=[]\n",
    "Sportsandtravel=[]\n",
    "QuantityJ=[]\n",
    "Homeandlifestyle=[]\n",
    "QuantityK=[]\n",
    "Healthandbeauty=[]\n",
    "QuantityL=[]\n",
    "\n",
    "for x,y,z in Mandalaycitylist:\n",
    "    if y==\"Food and beverages\":\n",
    "        Foodandbeverages.append(y)\n",
    "        QuantityG.append(z)\n",
    "    elif y ==\"Fashion accessories\":\n",
    "        Fashionaccessories.append(y)\n",
    "        QuantityH.append(z)\n",
    "    elif y==\"Electronic accessories\":\n",
    "        Electronicaccessories.append(y)\n",
    "        QuantityI.append(z)\n",
    "    elif y==\"Sports and travel\":\n",
    "        Sportsandtravel.append(y)\n",
    "        QuantityJ.append(z)\n",
    "    elif y==\"Home and lifestyle\":\n",
    "        Homeandlifestyle.append(y)\n",
    "        QuantityK.append(z)\n",
    "    elif y==\"Health and beauty\":\n",
    "        Healthandbeauty.append(y)\n",
    "        QuantityL.append(z)\n",
    "        "
   ]
  },
  {
   "cell_type": "markdown",
   "id": "4bb065e5",
   "metadata": {},
   "source": [
    "# Food and beverages"
   ]
  },
  {
   "cell_type": "code",
   "execution_count": 87,
   "id": "f7fadb7f",
   "metadata": {},
   "outputs": [
    {
     "name": "stdout",
     "output_type": "stream",
     "text": [
      "[('Food and beverages', 3), ('Food and beverages', 5), ('Food and beverages', 9), ('Food and beverages', 3), ('Food and beverages', 3), ('Food and beverages', 10), ('Food and beverages', 5), ('Food and beverages', 8), ('Food and beverages', 3), ('Food and beverages', 3), ('Food and beverages', 7), ('Food and beverages', 7), ('Food and beverages', 9), ('Food and beverages', 10), ('Food and beverages', 7), ('Food and beverages', 9), ('Food and beverages', 4), ('Food and beverages', 5), ('Food and beverages', 7), ('Food and beverages', 3), ('Food and beverages', 9), ('Food and beverages', 10), ('Food and beverages', 6), ('Food and beverages', 10), ('Food and beverages', 1), ('Food and beverages', 2), ('Food and beverages', 4), ('Food and beverages', 2), ('Food and beverages', 2), ('Food and beverages', 3), ('Food and beverages', 5), ('Food and beverages', 3), ('Food and beverages', 3), ('Food and beverages', 2), ('Food and beverages', 3), ('Food and beverages', 4), ('Food and beverages', 1), ('Food and beverages', 10), ('Food and beverages', 5), ('Food and beverages', 8), ('Food and beverages', 5), ('Food and beverages', 8), ('Food and beverages', 10), ('Food and beverages', 3), ('Food and beverages', 8), ('Food and beverages', 4), ('Food and beverages', 2), ('Food and beverages', 10), ('Food and beverages', 6), ('Food and beverages', 1)]\n"
     ]
    }
   ],
   "source": [
    "Foodandbeverageslist= list(zip(Foodandbeverages, QuantityG))\n",
    "print(Foodandbeverageslist)"
   ]
  },
  {
   "cell_type": "code",
   "execution_count": 88,
   "id": "de9b7253",
   "metadata": {},
   "outputs": [
    {
     "name": "stdout",
     "output_type": "stream",
     "text": [
      "Total: 270\n",
      "50\n"
     ]
    }
   ],
   "source": [
    "totalQuantityG= sum(QuantityG)\n",
    "print(\"Total:\",totalQuantityG)\n",
    "print(len(Foodandbeverageslist))"
   ]
  },
  {
   "cell_type": "markdown",
   "id": "40cba848",
   "metadata": {},
   "source": [
    "# Fashion accessories"
   ]
  },
  {
   "cell_type": "code",
   "execution_count": 89,
   "id": "f6bdf76a",
   "metadata": {},
   "outputs": [
    {
     "name": "stdout",
     "output_type": "stream",
     "text": [
      "[('Fashion accessories', 4), ('Fashion accessories', 1), ('Fashion accessories', 5), ('Fashion accessories', 4), ('Fashion accessories', 6), ('Fashion accessories', 7), ('Fashion accessories', 5), ('Fashion accessories', 1), ('Fashion accessories', 8), ('Fashion accessories', 7), ('Fashion accessories', 4), ('Fashion accessories', 2), ('Fashion accessories', 3), ('Fashion accessories', 8), ('Fashion accessories', 2), ('Fashion accessories', 4), ('Fashion accessories', 4), ('Fashion accessories', 4), ('Fashion accessories', 7), ('Fashion accessories', 7), ('Fashion accessories', 2), ('Fashion accessories', 10), ('Fashion accessories', 5), ('Fashion accessories', 4), ('Fashion accessories', 8), ('Fashion accessories', 9), ('Fashion accessories', 2), ('Fashion accessories', 7), ('Fashion accessories', 1), ('Fashion accessories', 5), ('Fashion accessories', 10), ('Fashion accessories', 2), ('Fashion accessories', 2), ('Fashion accessories', 4), ('Fashion accessories', 2), ('Fashion accessories', 1), ('Fashion accessories', 3), ('Fashion accessories', 9), ('Fashion accessories', 2), ('Fashion accessories', 2), ('Fashion accessories', 7), ('Fashion accessories', 7), ('Fashion accessories', 4), ('Fashion accessories', 3), ('Fashion accessories', 10), ('Fashion accessories', 1), ('Fashion accessories', 3), ('Fashion accessories', 1), ('Fashion accessories', 4), ('Fashion accessories', 6), ('Fashion accessories', 2), ('Fashion accessories', 10), ('Fashion accessories', 6), ('Fashion accessories', 7), ('Fashion accessories', 10), ('Fashion accessories', 4), ('Fashion accessories', 2), ('Fashion accessories', 9), ('Fashion accessories', 1), ('Fashion accessories', 2), ('Fashion accessories', 5), ('Fashion accessories', 10)]\n"
     ]
    }
   ],
   "source": [
    "Fashionaccessorieslist= list(zip(Fashionaccessories,QuantityH))\n",
    "print(Fashionaccessorieslist)"
   ]
  },
  {
   "cell_type": "code",
   "execution_count": 90,
   "id": "0775b95a",
   "metadata": {},
   "outputs": [
    {
     "name": "stdout",
     "output_type": "stream",
     "text": [
      "Total: 297\n",
      "62\n"
     ]
    }
   ],
   "source": [
    "totalQuantityH=sum(QuantityH)\n",
    "print(\"Total:\", totalQuantityH)\n",
    "print(len(Fashionaccessorieslist))"
   ]
  },
  {
   "cell_type": "markdown",
   "id": "329cf30c",
   "metadata": {},
   "source": [
    "# Electronic accessories"
   ]
  },
  {
   "cell_type": "code",
   "execution_count": 91,
   "id": "9259aec0",
   "metadata": {},
   "outputs": [
    {
     "name": "stdout",
     "output_type": "stream",
     "text": [
      "[('Electronic accessories', 4), ('Electronic accessories', 4), ('Electronic accessories', 6), ('Electronic accessories', 6), ('Electronic accessories', 1), ('Electronic accessories', 6), ('Electronic accessories', 4), ('Electronic accessories', 9), ('Electronic accessories', 6), ('Electronic accessories', 6), ('Electronic accessories', 3), ('Electronic accessories', 5), ('Electronic accessories', 3), ('Electronic accessories', 10), ('Electronic accessories', 8), ('Electronic accessories', 3), ('Electronic accessories', 3), ('Electronic accessories', 7), ('Electronic accessories', 4), ('Electronic accessories', 9), ('Electronic accessories', 6), ('Electronic accessories', 6), ('Electronic accessories', 10), ('Electronic accessories', 3), ('Electronic accessories', 10), ('Electronic accessories', 9), ('Electronic accessories', 8), ('Electronic accessories', 2), ('Electronic accessories', 5), ('Electronic accessories', 1), ('Electronic accessories', 4), ('Electronic accessories', 7), ('Electronic accessories', 8), ('Electronic accessories', 8), ('Electronic accessories', 10), ('Electronic accessories', 4), ('Electronic accessories', 9), ('Electronic accessories', 9), ('Electronic accessories', 4), ('Electronic accessories', 1), ('Electronic accessories', 10), ('Electronic accessories', 10), ('Electronic accessories', 1), ('Electronic accessories', 8), ('Electronic accessories', 8), ('Electronic accessories', 5), ('Electronic accessories', 6), ('Electronic accessories', 3), ('Electronic accessories', 4), ('Electronic accessories', 9), ('Electronic accessories', 6), ('Electronic accessories', 2), ('Electronic accessories', 5), ('Electronic accessories', 7), ('Electronic accessories', 1)]\n"
     ]
    }
   ],
   "source": [
    "Electronicaccessorieslist= list(zip(Electronicaccessories,QuantityI ))\n",
    "print(Electronicaccessorieslist)"
   ]
  },
  {
   "cell_type": "code",
   "execution_count": 92,
   "id": "f9404085",
   "metadata": {},
   "outputs": [
    {
     "name": "stdout",
     "output_type": "stream",
     "text": [
      "Total: 316\n",
      "55\n"
     ]
    }
   ],
   "source": [
    "totalQuantityI= sum(QuantityI)\n",
    "print(\"Total:\", totalQuantityI)\n",
    "print(len(Electronicaccessorieslist))"
   ]
  },
  {
   "cell_type": "markdown",
   "id": "2a60e07d",
   "metadata": {},
   "source": [
    "# Sports and travel"
   ]
  },
  {
   "cell_type": "code",
   "execution_count": 93,
   "id": "2eb38815",
   "metadata": {},
   "outputs": [
    {
     "name": "stdout",
     "output_type": "stream",
     "text": [
      "[('Sports and travel', 6), ('Sports and travel', 9), ('Sports and travel', 8), ('Sports and travel', 6), ('Sports and travel', 9), ('Sports and travel', 2), ('Sports and travel', 9), ('Sports and travel', 9), ('Sports and travel', 4), ('Sports and travel', 10), ('Sports and travel', 6), ('Sports and travel', 3), ('Sports and travel', 7), ('Sports and travel', 5), ('Sports and travel', 1), ('Sports and travel', 5), ('Sports and travel', 6), ('Sports and travel', 4), ('Sports and travel', 6), ('Sports and travel', 1), ('Sports and travel', 1), ('Sports and travel', 2), ('Sports and travel', 5), ('Sports and travel', 8), ('Sports and travel', 1), ('Sports and travel', 6), ('Sports and travel', 10), ('Sports and travel', 4), ('Sports and travel', 8), ('Sports and travel', 1), ('Sports and travel', 1), ('Sports and travel', 2), ('Sports and travel', 1), ('Sports and travel', 3), ('Sports and travel', 7), ('Sports and travel', 4), ('Sports and travel', 5), ('Sports and travel', 10), ('Sports and travel', 3), ('Sports and travel', 3), ('Sports and travel', 6), ('Sports and travel', 6), ('Sports and travel', 9), ('Sports and travel', 3), ('Sports and travel', 2), ('Sports and travel', 7), ('Sports and travel', 1), ('Sports and travel', 6), ('Sports and travel', 2), ('Sports and travel', 10), ('Sports and travel', 6), ('Sports and travel', 4), ('Sports and travel', 1), ('Sports and travel', 6), ('Sports and travel', 7), ('Sports and travel', 8), ('Sports and travel', 6), ('Sports and travel', 8), ('Sports and travel', 10), ('Sports and travel', 1), ('Sports and travel', 2), ('Sports and travel', 10)]\n"
     ]
    }
   ],
   "source": [
    "Sportsandtravellist= list(zip(Sportsandtravel, QuantityJ))\n",
    "print(Sportsandtravellist)"
   ]
  },
  {
   "cell_type": "code",
   "execution_count": 94,
   "id": "43218258",
   "metadata": {},
   "outputs": [
    {
     "name": "stdout",
     "output_type": "stream",
     "text": [
      "Total: 322\n",
      "62\n"
     ]
    }
   ],
   "source": [
    "totalquantityJ= sum(QuantityJ)\n",
    "print(\"Total:\",totalquantityJ )\n",
    "print(len(Sportsandtravellist))"
   ]
  },
  {
   "cell_type": "markdown",
   "id": "6c81ee86",
   "metadata": {},
   "source": [
    "# Home and lifestyle"
   ]
  },
  {
   "cell_type": "code",
   "execution_count": 95,
   "id": "5d3c98b1",
   "metadata": {},
   "outputs": [
    {
     "name": "stdout",
     "output_type": "stream",
     "text": [
      "[('Home and lifestyle', 2), ('Home and lifestyle', 2), ('Home and lifestyle', 8), ('Home and lifestyle', 1), ('Home and lifestyle', 2), ('Home and lifestyle', 6), ('Home and lifestyle', 2), ('Home and lifestyle', 8), ('Home and lifestyle', 5), ('Home and lifestyle', 8), ('Home and lifestyle', 4), ('Home and lifestyle', 3), ('Home and lifestyle', 4), ('Home and lifestyle', 5), ('Home and lifestyle', 5), ('Home and lifestyle', 8), ('Home and lifestyle', 9), ('Home and lifestyle', 9), ('Home and lifestyle', 9), ('Home and lifestyle', 9), ('Home and lifestyle', 10), ('Home and lifestyle', 9), ('Home and lifestyle', 4), ('Home and lifestyle', 3), ('Home and lifestyle', 5), ('Home and lifestyle', 4), ('Home and lifestyle', 7), ('Home and lifestyle', 3), ('Home and lifestyle', 2), ('Home and lifestyle', 4), ('Home and lifestyle', 9), ('Home and lifestyle', 3), ('Home and lifestyle', 7), ('Home and lifestyle', 9), ('Home and lifestyle', 5), ('Home and lifestyle', 8), ('Home and lifestyle', 10), ('Home and lifestyle', 7), ('Home and lifestyle', 9), ('Home and lifestyle', 7), ('Home and lifestyle', 4), ('Home and lifestyle', 10), ('Home and lifestyle', 3), ('Home and lifestyle', 6), ('Home and lifestyle', 6), ('Home and lifestyle', 6), ('Home and lifestyle', 3), ('Home and lifestyle', 6), ('Home and lifestyle', 7), ('Home and lifestyle', 10)]\n"
     ]
    }
   ],
   "source": [
    "Homeandlifestylelist= list(zip(Homeandlifestyle, QuantityK))\n",
    "print(Homeandlifestylelist)"
   ]
  },
  {
   "cell_type": "code",
   "execution_count": 96,
   "id": "409d1567",
   "metadata": {},
   "outputs": [
    {
     "name": "stdout",
     "output_type": "stream",
     "text": [
      "Total: 295\n",
      "50\n"
     ]
    }
   ],
   "source": [
    "TotalquantityK= sum(QuantityK)\n",
    "print(\"Total:\",TotalquantityK )\n",
    "print(len(Homeandlifestylelist))"
   ]
  },
  {
   "cell_type": "markdown",
   "id": "3024fa20",
   "metadata": {},
   "source": [
    "# Health and beauty"
   ]
  },
  {
   "cell_type": "code",
   "execution_count": 97,
   "id": "f90b013b",
   "metadata": {},
   "outputs": [
    {
     "name": "stdout",
     "output_type": "stream",
     "text": [
      "[('Health and beauty', 3), ('Health and beauty', 9), ('Health and beauty', 4), ('Health and beauty', 6), ('Health and beauty', 9), ('Health and beauty', 10), ('Health and beauty', 7), ('Health and beauty', 9), ('Health and beauty', 8), ('Health and beauty', 10), ('Health and beauty', 9), ('Health and beauty', 9), ('Health and beauty', 6), ('Health and beauty', 5), ('Health and beauty', 10), ('Health and beauty', 1), ('Health and beauty', 4), ('Health and beauty', 7), ('Health and beauty', 7), ('Health and beauty', 10), ('Health and beauty', 6), ('Health and beauty', 10), ('Health and beauty', 1), ('Health and beauty', 2), ('Health and beauty', 1), ('Health and beauty', 1), ('Health and beauty', 8), ('Health and beauty', 8), ('Health and beauty', 5), ('Health and beauty', 5), ('Health and beauty', 9), ('Health and beauty', 2), ('Health and beauty', 3), ('Health and beauty', 10), ('Health and beauty', 10), ('Health and beauty', 6), ('Health and beauty', 4), ('Health and beauty', 3), ('Health and beauty', 9), ('Health and beauty', 7), ('Health and beauty', 1), ('Health and beauty', 1), ('Health and beauty', 8), ('Health and beauty', 4), ('Health and beauty', 9), ('Health and beauty', 4), ('Health and beauty', 6), ('Health and beauty', 8), ('Health and beauty', 5), ('Health and beauty', 3), ('Health and beauty', 2), ('Health and beauty', 8), ('Health and beauty', 8)]\n"
     ]
    }
   ],
   "source": [
    "Healthandbeautylist= list(zip(Healthandbeauty, QuantityL))\n",
    "print(Healthandbeautylist)"
   ]
  },
  {
   "cell_type": "code",
   "execution_count": 98,
   "id": "b4df0728",
   "metadata": {},
   "outputs": [
    {
     "name": "stdout",
     "output_type": "stream",
     "text": [
      "total: 320\n",
      "53\n"
     ]
    }
   ],
   "source": [
    "TotalquantityL= sum(QuantityL)\n",
    "print(\"total:\", TotalquantityL)\n",
    "print(len(Healthandbeautylist))"
   ]
  },
  {
   "cell_type": "code",
   "execution_count": 99,
   "id": "02f981cd",
   "metadata": {},
   "outputs": [],
   "source": [
    "City= mydata['City']\n",
    "Time= mydata['Time']\n",
    "Quantity= mydata['Quantity']\n"
   ]
  },
  {
   "cell_type": "code",
   "execution_count": 100,
   "id": "5df79004",
   "metadata": {},
   "outputs": [],
   "source": [
    "citylist=list(City)\n",
    "Timelist= list(Time)\n",
    "Quantitylist= list(Quantity)\n"
   ]
  },
  {
   "cell_type": "code",
   "execution_count": 101,
   "id": "239d302b",
   "metadata": {
    "scrolled": true
   },
   "outputs": [
    {
     "name": "stdout",
     "output_type": "stream",
     "text": [
      "[('Yangon', '13:08', 7), ('Naypyitaw', '10:29', 5), ('Yangon', '13:23', 7), ('Yangon', '20:33', 8), ('Yangon', '10:37', 7), ('Naypyitaw', '18:30', 7), ('Yangon', '14:36', 6), ('Naypyitaw', '11:38', 10), ('Yangon', '17:15', 2), ('Mandalay', '13:27', 3), ('Mandalay', '18:07', 4), ('Mandalay', '17:03', 4), ('Yangon', '10:25', 5), ('Yangon', '16:48', 10), ('Yangon', '19:21', 10), ('Mandalay', '16:19', 6), ('Yangon', '11:03', 7), ('Yangon', '10:39', 6), ('Yangon', '18:00', 3), ('Mandalay', '15:30', 2), ('Naypyitaw', '11:24', 5), ('Mandalay', '10:40', 3), ('Mandalay', '12:20', 2), ('Yangon', '11:15', 5), ('Yangon', '17:36', 3), ('Yangon', '19:20', 8), ('Mandalay', '15:31', 1), ('Yangon', '12:17', 2), ('Mandalay', '19:48', 5), ('Yangon', '15:36', 9), ('Mandalay', '19:39', 5), ('Mandalay', '12:43', 9), ('Mandalay', '14:49', 8), ('Yangon', '10:12', 2), ('Naypyitaw', '10:42', 4), ('Naypyitaw', '12:28', 1), ('Yangon', '19:15', 5), ('Yangon', '17:17', 9), ('Naypyitaw', '13:24', 8), ('Mandalay', '13:01', 8), ('Mandalay', '18:45', 1), ('Naypyitaw', '10:11', 2), ('Mandalay', '13:03', 6), ('Naypyitaw', '20:39', 8), ('Naypyitaw', '19:47', 2), ('Mandalay', '18:00', 4), ('Mandalay', '17:24', 9), ('Mandalay', '15:47', 9), ('Mandalay', '12:45', 6), ('Naypyitaw', '17:08', 10), ('Naypyitaw', '10:19', 7), ('Yangon', '15:10', 5), ('Mandalay', '14:42', 4), ('Naypyitaw', '15:46', 1), ('Mandalay', '11:49', 2), ('Naypyitaw', '19:01', 8), ('Yangon', '11:26', 2), ('Yangon', '11:28', 8), ('Yangon', '15:55', 10), ('Naypyitaw', '20:36', 6), ('Naypyitaw', '17:47', 3), ('Naypyitaw', '10:55', 6), ('Mandalay', '13:40', 9), ('Yangon', '12:27', 10), ('Mandalay', '14:35', 4), ('Yangon', '16:40', 10), ('Naypyitaw', '15:43', 2), ('Mandalay', '15:01', 6), ('Yangon', '10:04', 10), ('Yangon', '18:50', 1), ('Naypyitaw', '12:46', 10), ('Naypyitaw', '16:19', 10), ('Mandalay', '18:17', 3), ('Naypyitaw', '18:21', 6), ('Yangon', '10:55', 9), ('Naypyitaw', '17:04', 10), ('Naypyitaw', '14:20', 9), ('Yangon', '15:48', 9), ('Naypyitaw', '16:24', 10), ('Naypyitaw', '18:56', 5), ('Naypyitaw', '14:42', 6), ('Mandalay', '19:56', 3), ('Naypyitaw', '18:37', 8), ('Naypyitaw', '18:45', 4), ('Naypyitaw', '10:17', 5), ('Naypyitaw', '14:31', 7), ('Naypyitaw', '10:23', 5), ('Yangon', '20:35', 7), ('Yangon', '16:57', 1), ('Mandalay', '17:55', 6), ('Naypyitaw', '10:25', 4), ('Naypyitaw', '19:54', 10), ('Yangon', '16:42', 7), ('Mandalay', '12:09', 9), ('Naypyitaw', '20:05', 1), ('Yangon', '20:38', 1), ('Mandalay', '10:25', 10), ('Naypyitaw', '13:11', 6), ('Yangon', '10:16', 3), ('Mandalay', '18:14', 6), ('Naypyitaw', '19:20', 1), ('Naypyitaw', '13:22', 9), ('Naypyitaw', '11:27', 9), ('Yangon', '16:44', 6), ('Mandalay', '18:19', 7), ('Yangon', '14:50', 10), ('Naypyitaw', '20:54', 6), ('Yangon', '20:19', 6), ('Naypyitaw', '10:43', 9), ('Naypyitaw', '14:30', 10), ('Mandalay', '11:32', 2), ('Naypyitaw', '10:41', 3), ('Mandalay', '12:44', 7), ('Yangon', '20:07', 9), ('Naypyitaw', '20:31', 9), ('Naypyitaw', '13:01', 3), ('Mandalay', '12:29', 5), ('Mandalay', '15:26', 1), ('Yangon', '20:48', 10), ('Mandalay', '20:38', 2), ('Yangon', '17:03', 8), ('Naypyitaw', '12:02', 7), ('Mandalay', '17:26', 9), ('Naypyitaw', '19:52', 8), ('Mandalay', '14:57', 8), ('Yangon', '18:44', 7), ('Yangon', '13:26', 5), ('Naypyitaw', '16:17', 9), ('Naypyitaw', '15:57', 8), ('Mandalay', '11:15', 9), ('Mandalay', '13:18', 7), ('Yangon', '20:34', 6), ('Mandalay', '18:36', 4), ('Mandalay', '14:40', 6), ('Naypyitaw', '16:43', 6), ('Naypyitaw', '19:39', 3), ('Yangon', '20:59', 5), ('Yangon', '15:39', 6), ('Mandalay', '12:21', 10), ('Yangon', '19:25', 8), ('Naypyitaw', '13:00', 10), ('Naypyitaw', '13:48', 10), ('Naypyitaw', '19:57', 10), ('Naypyitaw', '10:36', 1), ('Yangon', '16:37', 6), ('Naypyitaw', '17:11', 6), ('Yangon', '12:28', 10), ('Naypyitaw', '12:46', 4), ('Mandalay', '15:07', 8), ('Yangon', '13:48', 8), ('Mandalay', '19:20', 4), ('Naypyitaw', '16:07', 7), ('Yangon', '11:56', 9), ('Naypyitaw', '18:23', 6), ('Naypyitaw', '13:05', 8), ('Yangon', '15:55', 5), ('Mandalay', '19:40', 1), ('Mandalay', '13:58', 5), ('Mandalay', '14:43', 9), ('Mandalay', '19:18', 6), ('Naypyitaw', '19:39', 8), ('Yangon', '16:21', 1), ('Yangon', '19:44', 7), ('Naypyitaw', '19:42', 2), ('Mandalay', '15:24', 10), ('Mandalay', '14:12', 8), ('Naypyitaw', '13:32', 10), ('Yangon', '16:20', 10), ('Yangon', '16:31', 6), ('Yangon', '15:10', 7), ('Yangon', '11:36', 5), ('Mandalay', '12:45', 5), ('Naypyitaw', '19:17', 8), ('Mandalay', '17:34', 6), ('Mandalay', '12:04', 8), ('Yangon', '16:21', 9), ('Yangon', '17:01', 8), ('Naypyitaw', '10:50', 7), ('Yangon', '19:16', 6), ('Naypyitaw', '16:47', 3), ('Naypyitaw', '10:00', 7), ('Naypyitaw', '11:51', 8), ('Yangon', '10:55', 10), ('Naypyitaw', '15:00', 8), ('Yangon', '11:19', 7), ('Mandalay', '19:46', 3), ('Mandalay', '19:00', 8), ('Mandalay', '10:53', 4), ('Yangon', '12:50', 1), ('Naypyitaw', '20:50', 4), ('Mandalay', '10:39', 3), ('Mandalay', '13:41', 2), ('Naypyitaw', '19:08', 9), ('Mandalay', '20:23', 4), ('Yangon', '11:30', 5), ('Naypyitaw', '19:30', 1), ('Naypyitaw', '18:03', 2), ('Yangon', '10:13', 1), ('Naypyitaw', '19:58', 4), ('Naypyitaw', '19:57', 5), ('Naypyitaw', '10:01', 6), ('Mandalay', '11:57', 4), ('Naypyitaw', '10:02', 7), ('Mandalay', '14:51', 10), ('Mandalay', '12:42', 5), ('Yangon', '12:02', 9), ('Naypyitaw', '18:19', 9), ('Naypyitaw', '17:38', 10), ('Mandalay', '13:41', 3), ('Mandalay', '19:42', 9), ('Yangon', '20:24', 9), ('Naypyitaw', '18:08', 9), ('Mandalay', '19:17', 5), ('Mandalay', '13:24', 3), ('Mandalay', '15:53', 7), ('Yangon', '15:05', 1), ('Mandalay', '18:27', 5), ('Yangon', '16:55', 3), ('Mandalay', '12:58', 8), ('Mandalay', '18:59', 3), ('Mandalay', '13:44', 6), ('Mandalay', '13:46', 7), ('Naypyitaw', '18:06', 5), ('Naypyitaw', '12:38', 1), ('Yangon', '15:56', 2), ('Naypyitaw', '14:29', 2), ('Mandalay', '19:14', 9), ('Naypyitaw', '16:24', 4), ('Mandalay', '10:52', 6), ('Yangon', '12:55', 8), ('Mandalay', '19:28', 2), ('Mandalay', '13:52', 3), ('Mandalay', '10:54', 9), ('Mandalay', '18:31', 4), ('Yangon', '18:24', 10), ('Yangon', '18:09', 2), ('Naypyitaw', '15:16', 5), ('Naypyitaw', '17:07', 5), ('Mandalay', '19:26', 5), ('Yangon', '11:20', 1), ('Yangon', '16:49', 9), ('Yangon', '12:01', 2), ('Naypyitaw', '18:37', 2), ('Yangon', '11:25', 4), ('Mandalay', '18:42', 8), ('Yangon', '14:47', 8), ('Mandalay', '19:43', 3), ('Yangon', '14:04', 5), ('Yangon', '16:11', 4), ('Mandalay', '19:06', 7), ('Mandalay', '15:34', 9), ('Naypyitaw', '19:06', 10), ('Naypyitaw', '19:44', 2), ('Yangon', '11:22', 4), ('Yangon', '11:23', 8), ('Mandalay', '14:12', 4), ('Yangon', '10:46', 1), ('Yangon', '10:16', 6), ('Yangon', '12:38', 4), ('Naypyitaw', '13:05', 4), ('Yangon', '13:25', 9), ('Naypyitaw', '14:53', 4), ('Mandalay', '19:22', 4), ('Yangon', '11:00', 10), ('Mandalay', '19:24', 1), ('Yangon', '12:43', 7), ('Naypyitaw', '17:22', 4), ('Mandalay', '20:55', 10), ('Yangon', '16:05', 4), ('Yangon', '13:34', 10), ('Mandalay', '18:13', 5), ('Naypyitaw', '19:17', 2), ('Yangon', '11:44', 9), ('Yangon', '15:51', 2), ('Mandalay', '16:52', 6), ('Mandalay', '20:52', 7), ('Naypyitaw', '17:36', 10), ('Naypyitaw', '13:23', 4), ('Naypyitaw', '16:28', 10), ('Yangon', '19:57', 10), ('Yangon', '17:01', 8), ('Naypyitaw', '13:29', 1), ('Yangon', '11:09', 1), ('Yangon', '15:02', 6), ('Yangon', '14:21', 4), ('Mandalay', '18:01', 5), ('Naypyitaw', '14:49', 1), ('Naypyitaw', '12:02', 9), ('Mandalay', '13:30', 7), ('Yangon', '14:38', 7), ('Mandalay', '17:37', 10), ('Naypyitaw', '17:20', 7), ('Yangon', '20:29', 1), ('Yangon', '10:00', 2), ('Mandalay', '11:46', 10), ('Naypyitaw', '13:42', 5), ('Naypyitaw', '14:44', 4), ('Yangon', '14:16', 6), ('Yangon', '15:54', 4), ('Naypyitaw', '10:21', 1), ('Naypyitaw', '18:09', 2), ('Mandalay', '16:46', 1), ('Naypyitaw', '15:31', 1), ('Yangon', '17:15', 4), ('Mandalay', '12:29', 8), ('Yangon', '20:14', 7), ('Yangon', '13:22', 7), ('Yangon', '17:09', 8), ('Yangon', '10:40', 3), ('Yangon', '17:43', 2), ('Mandalay', '14:04', 6), ('Naypyitaw', '19:05', 2), ('Yangon', '10:08', 5), ('Yangon', '13:12', 9), ('Naypyitaw', '20:51', 10), ('Naypyitaw', '17:29', 2), ('Naypyitaw', '10:25', 3), ('Naypyitaw', '11:34', 5), ('Naypyitaw', '18:58', 7), ('Naypyitaw', '16:28', 4), ('Naypyitaw', '20:26', 9), ('Naypyitaw', '15:08', 1), ('Yangon', '18:03', 6), ('Yangon', '13:21', 5), ('Yangon', '12:48', 6), ('Mandalay', '19:53', 4), ('Yangon', '19:09', 5), ('Naypyitaw', '16:30', 4), ('Mandalay', '10:11', 4), ('Yangon', '13:07', 4), ('Mandalay', '18:48', 9), ('Yangon', '17:27', 3), ('Yangon', '15:59', 5), ('Yangon', '11:21', 2), ('Naypyitaw', '13:48', 5), ('Yangon', '10:17', 5), ('Yangon', '15:49', 9), ('Mandalay', '13:02', 6), ('Naypyitaw', '12:58', 3), ('Mandalay', '15:26', 9), ('Mandalay', '18:23', 3), ('Mandalay', '19:06', 7), ('Mandalay', '20:21', 7), ('Naypyitaw', '16:24', 5), ('Yangon', '15:04', 3), ('Yangon', '16:10', 9), ('Yangon', '12:14', 1), ('Naypyitaw', '10:13', 8), ('Yangon', '17:38', 7), ('Mandalay', '11:06', 10), ('Naypyitaw', '14:53', 10), ('Yangon', '18:22', 7), ('Mandalay', '19:02', 7), ('Mandalay', '14:16', 9), ('Naypyitaw', '15:44', 1), ('Mandalay', '12:20', 4), ('Naypyitaw', '20:01', 10), ('Naypyitaw', '13:45', 10), ('Mandalay', '15:40', 3), ('Mandalay', '16:58', 1), ('Yangon', '11:12', 8), ('Naypyitaw', '15:12', 8), ('Naypyitaw', '20:37', 2), ('Yangon', '17:44', 6), ('Naypyitaw', '16:23', 4), ('Naypyitaw', '12:12', 4), ('Naypyitaw', '19:33', 9), ('Yangon', '10:29', 4), ('Naypyitaw', '14:28', 10), ('Yangon', '12:46', 9), ('Mandalay', '19:40', 7), ('Mandalay', '19:39', 2), ('Naypyitaw', '17:54', 6), ('Naypyitaw', '12:25', 6), ('Yangon', '16:47', 5), ('Yangon', '12:52', 5), ('Mandalay', '19:50', 9), ('Naypyitaw', '18:17', 7), ('Naypyitaw', '17:20', 4), ('Mandalay', '13:32', 4), ('Yangon', '10:37', 4), ('Naypyitaw', '14:35', 2), ('Mandalay', '12:09', 5), ('Naypyitaw', '15:32', 4), ('Yangon', '13:58', 5), ('Mandalay', '13:19', 1), ('Naypyitaw', '13:37', 6), ('Yangon', '16:49', 10), ('Naypyitaw', '14:55', 9), ('Mandalay', '14:04', 7), ('Naypyitaw', '12:31', 3), ('Mandalay', '14:51', 10), ('Yangon', '18:27', 1), ('Yangon', '12:45', 10), ('Yangon', '10:36', 1), ('Yangon', '20:36', 5), ('Yangon', '14:16', 5), ('Mandalay', '10:26', 9), ('Mandalay', '13:30', 6), ('Mandalay', '16:28', 9), ('Naypyitaw', '20:18', 6), ('Naypyitaw', '20:04', 4), ('Naypyitaw', '13:38', 1), ('Mandalay', '10:43', 5), ('Naypyitaw', '17:30', 7), ('Yangon', '15:28', 4), ('Yangon', '19:07', 5), ('Mandalay', '19:01', 4), ('Yangon', '19:48', 4), ('Naypyitaw', '19:24', 5), ('Mandalay', '13:00', 10), ('Mandalay', '14:29', 2), ('Yangon', '13:21', 5), ('Yangon', '18:55', 3), ('Yangon', '19:36', 8), ('Mandalay', '16:28', 1), ('Naypyitaw', '13:48', 4), ('Naypyitaw', '10:57', 1), ('Mandalay', '17:13', 2), ('Yangon', '10:23', 7), ('Naypyitaw', '13:57', 3), ('Naypyitaw', '13:29', 3), ('Naypyitaw', '13:00', 10), ('Mandalay', '19:42', 8), ('Naypyitaw', '15:36', 1), ('Mandalay', '13:40', 9), ('Yangon', '18:01', 7), ('Mandalay', '13:53', 3), ('Mandalay', '17:27', 5), ('Yangon', '10:53', 10), ('Mandalay', '19:48', 2), ('Naypyitaw', '16:53', 2), ('Yangon', '19:14', 6), ('Mandalay', '14:36', 7), ('Mandalay', '18:19', 1), ('Naypyitaw', '19:09', 9), ('Naypyitaw', '16:51', 4), ('Yangon', '15:37', 6), ('Naypyitaw', '20:15', 4), ('Naypyitaw', '14:38', 8), ('Naypyitaw', '19:25', 5), ('Mandalay', '19:35', 8), ('Yangon', '15:42', 9), ('Naypyitaw', '14:11', 1), ('Yangon', '10:43', 7), ('Mandalay', '17:58', 1), ('Naypyitaw', '11:26', 10), ('Naypyitaw', '17:38', 3), ('Mandalay', '20:07', 1), ('Mandalay', '11:02', 1), ('Mandalay', '19:07', 6), ('Mandalay', '18:50', 6), ('Yangon', '12:43', 5), ('Yangon', '15:09', 1), ('Yangon', '13:47', 4), ('Mandalay', '16:59', 5), ('Mandalay', '14:15', 9), ('Mandalay', '20:24', 10), ('Naypyitaw', '13:58', 10), ('Naypyitaw', '16:52', 1), ('Naypyitaw', '15:19', 5), ('Mandalay', '12:25', 10), ('Naypyitaw', '10:02', 4), ('Naypyitaw', '18:58', 1), ('Yangon', '15:31', 5), ('Naypyitaw', '11:22', 10), ('Naypyitaw', '13:12', 7), ('Mandalay', '18:33', 6), ('Naypyitaw', '10:02', 1), ('Naypyitaw', '11:21', 1), ('Naypyitaw', '12:10', 6), ('Yangon', '11:40', 4), ('Yangon', '18:31', 10), ('Mandalay', '17:58', 8), ('Yangon', '17:04', 5), ('Yangon', '20:35', 3), ('Yangon', '16:10', 5), ('Naypyitaw', '16:54', 4), ('Mandalay', '10:11', 10), ('Yangon', '11:26', 1), ('Naypyitaw', '20:29', 8), ('Naypyitaw', '12:12', 10), ('Yangon', '13:05', 5), ('Mandalay', '16:19', 10), ('Naypyitaw', '19:48', 10), ('Mandalay', '15:25', 4), ('Mandalay', '14:42', 10), ('Yangon', '18:59', 4), ('Naypyitaw', '20:47', 1), ('Mandalay', '13:21', 9), ('Mandalay', '19:48', 2), ('Yangon', '18:20', 10), ('Mandalay', '20:24', 8), ('Naypyitaw', '13:44', 10), ('Mandalay', '11:48', 2), ('Mandalay', '14:14', 8), ('Naypyitaw', '15:51', 2), ('Naypyitaw', '11:17', 6), ('Mandalay', '17:36', 1), ('Yangon', '15:47', 8), ('Mandalay', '15:53', 1), ('Naypyitaw', '12:40', 1), ('Naypyitaw', '19:48', 2), ('Mandalay', '17:53', 2), ('Mandalay', '16:36', 1), ('Yangon', '20:54', 8), ('Mandalay', '12:50', 3), ('Mandalay', '10:48', 6), ('Mandalay', '14:28', 5), ('Naypyitaw', '17:15', 6), ('Mandalay', '18:03', 7), ('Yangon', '17:29', 5), ('Yangon', '18:05', 7), ('Yangon', '12:07', 7), ('Naypyitaw', '19:49', 7), ('Naypyitaw', '15:52', 1), ('Mandalay', '16:48', 5), ('Naypyitaw', '20:46', 5), ('Yangon', '18:14', 2), ('Naypyitaw', '15:05', 5), ('Mandalay', '10:34', 3), ('Naypyitaw', '11:23', 6), ('Yangon', '13:55', 6), ('Naypyitaw', '11:43', 2), ('Yangon', '14:36', 6), ('Yangon', '16:03', 5), ('Mandalay', '20:03', 4), ('Mandalay', '14:55', 2), ('Mandalay', '11:28', 10), ('Yangon', '19:41', 9), ('Yangon', '19:01', 6), ('Yangon', '18:04', 8), ('Mandalay', '19:20', 10), ('Naypyitaw', '10:31', 9), ('Yangon', '13:28', 5), ('Naypyitaw', '11:36', 7), ('Mandalay', '11:32', 1), ('Yangon', '11:44', 1), ('Yangon', '17:16', 4), ('Naypyitaw', '18:43', 6), ('Yangon', '11:00', 3), ('Naypyitaw', '10:30', 1), ('Mandalay', '12:14', 4), ('Naypyitaw', '16:43', 6), ('Mandalay', '20:40', 1), ('Mandalay', '13:40', 4), ('Yangon', '16:23', 10), ('Yangon', '12:08', 9), ('Mandalay', '17:45', 5), ('Yangon', '10:28', 6), ('Mandalay', '20:31', 3), ('Mandalay', '10:49', 9), ('Mandalay', '12:34', 9), ('Naypyitaw', '10:23', 6), ('Yangon', '18:51', 7), ('Mandalay', '13:45', 3), ('Mandalay', '19:38', 2), ('Naypyitaw', '20:23', 10), ('Yangon', '15:24', 6), ('Yangon', '16:54', 3), ('Mandalay', '12:32', 9), ('Naypyitaw', '15:42', 10), ('Mandalay', '13:58', 8), ('Yangon', '15:08', 6), ('Mandalay', '13:02', 2), ('Yangon', '13:01', 10), ('Naypyitaw', '16:40', 10), ('Yangon', '13:55', 9), ('Mandalay', '10:33', 7), ('Naypyitaw', '16:42', 7), ('Mandalay', '17:16', 5), ('Mandalay', '11:48', 10), ('Yangon', '19:35', 7), ('Mandalay', '19:55', 2), ('Yangon', '14:33', 5), ('Mandalay', '19:49', 7), ('Mandalay', '18:43', 4), ('Naypyitaw', '14:43', 4), ('Yangon', '13:54', 4), ('Mandalay', '12:15', 2), ('Naypyitaw', '12:37', 3), ('Yangon', '19:54', 4), ('Naypyitaw', '15:06', 2), ('Mandalay', '18:03', 4), ('Mandalay', '15:58', 3), ('Yangon', '13:53', 4), ('Yangon', '14:03', 3), ('Yangon', '16:38', 5), ('Naypyitaw', '11:07', 10), ('Yangon', '12:23', 5), ('Naypyitaw', '10:54', 6), ('Naypyitaw', '17:38', 7), ('Yangon', '14:13', 1), ('Yangon', '11:51', 3), ('Mandalay', '13:05', 3), ('Mandalay', '11:30', 3), ('Yangon', '13:30', 3), ('Naypyitaw', '19:11', 9), ('Naypyitaw', '18:53', 5), ('Yangon', '14:22', 2), ('Naypyitaw', '17:16', 1), ('Naypyitaw', '10:06', 1), ('Naypyitaw', '20:35', 10), ('Mandalay', '13:54', 6), ('Naypyitaw', '20:08', 7), ('Mandalay', '15:26', 4), ('Yangon', '12:56', 7), ('Naypyitaw', '19:16', 4), ('Yangon', '12:20', 1), ('Mandalay', '10:37', 2), ('Yangon', '10:18', 1), ('Naypyitaw', '11:23', 9), ('Mandalay', '11:45', 3), ('Naypyitaw', '16:08', 1), ('Yangon', '11:25', 10), ('Yangon', '12:24', 9), ('Mandalay', '19:51', 6), ('Naypyitaw', '18:10', 5), ('Yangon', '11:22', 6), ('Naypyitaw', '17:55', 6), ('Yangon', '15:30', 3), ('Yangon', '19:44', 1), ('Mandalay', '15:27', 7), ('Mandalay', '11:25', 10), ('Mandalay', '15:42', 1), ('Mandalay', '16:04', 2), ('Yangon', '12:37', 2), ('Mandalay', '14:41', 10), ('Yangon', '14:19', 3), ('Yangon', '18:19', 1), ('Yangon', '14:08', 10), ('Yangon', '16:38', 3), ('Yangon', '10:54', 2), ('Mandalay', '11:29', 3), ('Mandalay', '19:28', 3), ('Mandalay', '15:01', 10), ('Yangon', '20:31', 7), ('Naypyitaw', '12:16', 1), ('Mandalay', '15:27', 5), ('Mandalay', '17:36', 3), ('Mandalay', '20:00', 3), ('Naypyitaw', '15:29', 8), ('Mandalay', '15:08', 2), ('Naypyitaw', '19:26', 8), ('Naypyitaw', '15:53', 5), ('Yangon', '18:43', 9), ('Naypyitaw', '14:58', 6), ('Mandalay', '19:55', 1), ('Naypyitaw', '15:10', 2), ('Naypyitaw', '16:44', 10), ('Mandalay', '18:22', 5), ('Mandalay', '11:52', 6), ('Yangon', '17:24', 10), ('Mandalay', '15:31', 9), ('Mandalay', '18:04', 4), ('Yangon', '14:13', 3), ('Naypyitaw', '10:23', 1), ('Yangon', '10:11', 3), ('Yangon', '15:48', 5), ('Yangon', '17:46', 1), ('Mandalay', '11:46', 3), ('Naypyitaw', '12:07', 7), ('Mandalay', '18:14', 6), ('Naypyitaw', '14:45', 10), ('Naypyitaw', '11:39', 2), ('Yangon', '15:44', 4), ('Mandalay', '13:06', 3), ('Mandalay', '20:43', 4), ('Naypyitaw', '14:19', 6), ('Mandalay', '10:01', 2), ('Yangon', '19:30', 10), ('Mandalay', '16:34', 2), ('Mandalay', '13:10', 3), ('Naypyitaw', '17:10', 8), ('Yangon', '10:22', 10), ('Mandalay', '19:57', 2), ('Mandalay', '19:29', 7), ('Yangon', '18:30', 4), ('Naypyitaw', '14:27', 10), ('Yangon', '13:57', 6), ('Mandalay', '19:43', 1), ('Mandalay', '10:11', 1), ('Naypyitaw', '13:46', 6), ('Yangon', '12:22', 2), ('Mandalay', '19:20', 6), ('Mandalay', '12:58', 2), ('Mandalay', '11:59', 2), ('Yangon', '17:59', 10), ('Naypyitaw', '12:51', 2), ('Yangon', '10:36', 3), ('Naypyitaw', '13:38', 9), ('Naypyitaw', '19:39', 7), ('Yangon', '12:44', 10), ('Naypyitaw', '13:56', 7), ('Naypyitaw', '14:42', 9), ('Yangon', '19:45', 5), ('Yangon', '20:26', 4), ('Mandalay', '19:46', 4), ('Yangon', '19:38', 9), ('Naypyitaw', '16:18', 10), ('Naypyitaw', '12:23', 8), ('Mandalay', '19:11', 3), ('Mandalay', '18:57', 10), ('Mandalay', '11:18', 9), ('Mandalay', '12:40', 9), ('Mandalay', '14:06', 7), ('Mandalay', '20:48', 4), ('Naypyitaw', '20:13', 1), ('Naypyitaw', '20:37', 8), ('Yangon', '17:59', 3), ('Yangon', '20:18', 6), ('Naypyitaw', '15:52', 4), ('Naypyitaw', '15:14', 9), ('Naypyitaw', '12:50', 9), ('Naypyitaw', '10:36', 8), ('Yangon', '18:33', 5), ('Yangon', '16:06', 7), ('Yangon', '12:47', 3), ('Yangon', '13:34', 3), ('Mandalay', '15:04', 6), ('Mandalay', '20:42', 7), ('Naypyitaw', '15:28', 9), ('Mandalay', '13:45', 3), ('Naypyitaw', '20:10', 7), ('Mandalay', '18:53', 4), ('Naypyitaw', '14:24', 8), ('Naypyitaw', '11:42', 3), ('Mandalay', '17:49', 10), ('Naypyitaw', '15:33', 4), ('Mandalay', '10:54', 7), ('Yangon', '16:23', 4), ('Yangon', '19:33', 3), ('Yangon', '11:39', 1), ('Mandalay', '10:38', 7), ('Mandalay', '20:03', 1), ('Naypyitaw', '12:39', 10), ('Naypyitaw', '15:59', 7), ('Naypyitaw', '14:26', 10), ('Mandalay', '18:22', 8), ('Yangon', '11:32', 9), ('Naypyitaw', '12:41', 7), ('Naypyitaw', '15:20', 1), ('Yangon', '14:33', 2), ('Yangon', '15:29', 2), ('Naypyitaw', '16:19', 8), ('Naypyitaw', '16:33', 1), ('Mandalay', '19:07', 10), ('Naypyitaw', '14:43', 5), ('Mandalay', '19:28', 9), ('Naypyitaw', '20:44', 7), ('Mandalay', '11:16', 4), ('Yangon', '10:31', 5), ('Yangon', '12:30', 10), ('Mandalay', '15:05', 5), ('Naypyitaw', '18:30', 3), ('Yangon', '13:18', 8), ('Mandalay', '15:28', 8), ('Yangon', '11:52', 6), ('Yangon', '18:24', 10), ('Yangon', '15:19', 4), ('Mandalay', '10:38', 10), ('Mandalay', '15:12', 10), ('Yangon', '17:48', 8), ('Yangon', '11:07', 5), ('Yangon', '15:48', 4), ('Mandalay', '19:40', 8), ('Naypyitaw', '20:30', 3), ('Mandalay', '13:59', 6), ('Mandalay', '18:51', 4), ('Yangon', '17:24', 6), ('Mandalay', '11:58', 4), ('Naypyitaw', '19:01', 7), ('Naypyitaw', '16:50', 7), ('Naypyitaw', '10:22', 1), ('Naypyitaw', '16:46', 2), ('Mandalay', '18:08', 5), ('Naypyitaw', '18:02', 7), ('Mandalay', '13:07', 1), ('Naypyitaw', '17:52', 5), ('Mandalay', '20:32', 9), ('Naypyitaw', '19:24', 8), ('Yangon', '16:06', 4), ('Yangon', '14:14', 1), ('Naypyitaw', '17:36', 8), ('Naypyitaw', '13:08', 5), ('Yangon', '16:09', 7), ('Naypyitaw', '11:33', 8), ('Naypyitaw', '10:18', 5), ('Naypyitaw', '10:55', 3), ('Yangon', '15:15', 7), ('Yangon', '20:06', 1), ('Naypyitaw', '20:21', 4), ('Mandalay', '13:48', 10), ('Yangon', '12:52', 7), ('Yangon', '12:28', 2), ('Mandalay', '16:26', 2), ('Naypyitaw', '13:24', 1), ('Yangon', '15:15', 10), ('Mandalay', '10:50', 1), ('Naypyitaw', '18:38', 5), ('Mandalay', '16:45', 6), ('Naypyitaw', '19:30', 8), ('Naypyitaw', '13:23', 7), ('Yangon', '11:27', 9), ('Mandalay', '11:12', 9), ('Yangon', '16:36', 4), ('Yangon', '18:41', 2), ('Yangon', '17:12', 4), ('Mandalay', '10:38', 1), ('Naypyitaw', '10:33', 10), ('Mandalay', '14:38', 8), ('Yangon', '18:06', 10), ('Naypyitaw', '12:52', 5), ('Yangon', '14:00', 1), ('Yangon', '10:57', 8), ('Mandalay', '16:45', 8), ('Naypyitaw', '11:15', 7), ('Yangon', '20:29', 8), ('Mandalay', '20:03', 4), ('Mandalay', '14:35', 5), ('Mandalay', '16:32', 4), ('Yangon', '10:10', 2), ('Naypyitaw', '14:15', 1), ('Yangon', '10:05', 3), ('Mandalay', '11:36', 7), ('Yangon', '18:15', 4), ('Mandalay', '13:53', 9), ('Yangon', '18:37', 3), ('Naypyitaw', '18:27', 10), ('Yangon', '14:42', 10), ('Yangon', '17:43', 8), ('Mandalay', '18:37', 4), ('Mandalay', '16:34', 8), ('Yangon', '14:42', 1), ('Mandalay', '11:01', 7), ('Yangon', '19:44', 1), ('Yangon', '13:34', 5), ('Mandalay', '20:08', 6), ('Naypyitaw', '15:01', 10), ('Naypyitaw', '11:40', 6), ('Yangon', '15:21', 3), ('Mandalay', '17:38', 1), ('Yangon', '16:16', 2), ('Naypyitaw', '18:15', 2), ('Yangon', '12:43', 1), ('Yangon', '11:32', 3), ('Yangon', '18:08', 1), ('Naypyitaw', '17:08', 1), ('Naypyitaw', '19:38', 9), ('Yangon', '13:11', 6), ('Yangon', '11:05', 1), ('Yangon', '10:12', 2), ('Naypyitaw', '15:42', 7), ('Mandalay', '11:58', 10), ('Yangon', '14:21', 5), ('Mandalay', '10:52', 9), ('Mandalay', '19:31', 8), ('Yangon', '18:35', 4), ('Mandalay', '13:51', 6), ('Yangon', '12:35', 9), ('Naypyitaw', '13:24', 1), ('Yangon', '18:06', 2), ('Mandalay', '11:55', 9), ('Mandalay', '11:42', 7), ('Yangon', '14:30', 3), ('Naypyitaw', '15:11', 3), ('Mandalay', '14:48', 8), ('Naypyitaw', '12:36', 2), ('Naypyitaw', '19:09', 3), ('Yangon', '13:35', 4), ('Yangon', '10:33', 7), ('Naypyitaw', '15:45', 1), ('Mandalay', '11:51', 10), ('Yangon', '17:26', 6), ('Yangon', '11:52', 4), ('Naypyitaw', '14:04', 8), ('Naypyitaw', '17:49', 1), ('Mandalay', '20:19', 1), ('Yangon', '16:08', 8), ('Mandalay', '10:17', 8), ('Mandalay', '14:25', 10), ('Naypyitaw', '12:51', 8), ('Mandalay', '15:18', 10), ('Yangon', '12:45', 6), ('Yangon', '13:37', 2), ('Yangon', '10:03', 7), ('Yangon', '19:42', 1), ('Yangon', '13:14', 10), ('Naypyitaw', '12:47', 8), ('Yangon', '19:53', 10), ('Naypyitaw', '10:26', 5), ('Mandalay', '15:06', 8), ('Naypyitaw', '16:35', 5), ('Mandalay', '20:57', 5), ('Mandalay', '15:16', 6), ('Mandalay', '17:47', 8), ('Naypyitaw', '16:23', 7), ('Naypyitaw', '10:17', 6), ('Naypyitaw', '13:50', 7), ('Yangon', '19:17', 9), ('Naypyitaw', '14:00', 9), ('Mandalay', '12:02', 4), ('Yangon', '20:21', 5), ('Yangon', '17:35', 7), ('Naypyitaw', '12:42', 2), ('Naypyitaw', '17:56', 4), ('Naypyitaw', '18:58', 10), ('Mandalay', '14:08', 5), ('Yangon', '16:30', 2), ('Mandalay', '10:44', 10), ('Mandalay', '20:29', 3), ('Naypyitaw', '11:43', 4), ('Yangon', '10:09', 8), ('Yangon', '10:00', 8), ('Yangon', '18:45', 3), ('Naypyitaw', '12:40', 6), ('Naypyitaw', '15:36', 1), ('Yangon', '12:04', 4), ('Mandalay', '11:26', 3), ('Mandalay', '12:36', 3), ('Naypyitaw', '15:06', 9), ('Mandalay', '10:58', 6), ('Naypyitaw', '12:10', 2), ('Naypyitaw', '10:31', 7), ('Naypyitaw', '13:49', 6), ('Mandalay', '11:10', 4), ('Mandalay', '17:38', 1), ('Yangon', '17:54', 9), ('Mandalay', '20:51', 9), ('Mandalay', '19:26', 2), ('Mandalay', '13:33', 6), ('Naypyitaw', '14:05', 2), ('Yangon', '11:40', 10), ('Naypyitaw', '12:27', 7), ('Mandalay', '20:24', 6), ('Naypyitaw', '20:59', 3), ('Naypyitaw', '19:48', 7), ('Yangon', '10:18', 5), ('Yangon', '16:27', 3), ('Naypyitaw', '17:04', 6), ('Yangon', '18:14', 4), ('Naypyitaw', '10:43', 9), ('Yangon', '19:30', 10), ('Yangon', '14:53', 5), ('Yangon', '20:14', 7), ('Yangon', '11:51', 7), ('Naypyitaw', '14:13', 2), ('Mandalay', '20:13', 1), ('Naypyitaw', '18:44', 5), ('Mandalay', '14:26', 8), ('Mandalay', '12:40', 3), ('Mandalay', '18:43', 3), ('Mandalay', '13:22', 4), ('Naypyitaw', '13:58', 4), ('Mandalay', '11:45', 6), ('Yangon', '11:51', 7), ('Naypyitaw', '17:16', 9), ('Mandalay', '15:55', 6), ('Naypyitaw', '12:07', 10), ('Yangon', '15:07', 9), ('Naypyitaw', '15:29', 1), ('Yangon', '18:45', 2), ('Yangon', '15:23', 1), ('Naypyitaw', '20:37', 3), ('Mandalay', '14:41', 2), ('Mandalay', '18:18', 2), ('Yangon', '15:27', 9), ('Yangon', '12:55', 3), ('Yangon', '18:02', 3), ('Mandalay', '19:44', 5), ('Mandalay', '11:36', 10), ('Mandalay', '13:51', 7), ('Mandalay', '15:17', 7), ('Yangon', '15:29', 3), ('Naypyitaw', '17:59', 2), ('Mandalay', '11:55', 2), ('Yangon', '10:39', 4), ('Mandalay', '15:10', 6), ('Mandalay', '18:10', 1), ('Mandalay', '20:43', 1), ('Naypyitaw', '12:46', 4), ('Yangon', '17:44', 4), ('Yangon', '14:19', 9), ('Naypyitaw', '10:33', 7), ('Naypyitaw', '11:40', 7), ('Mandalay', '19:30', 5), ('Mandalay', '14:42', 2), ('Mandalay', '19:08', 8), ('Naypyitaw', '19:12', 10), ('Mandalay', '15:46', 8), ('Yangon', '19:06', 5), ('Mandalay', '18:10', 10), ('Yangon', '20:46', 2), ('Mandalay', '18:35', 10), ('Naypyitaw', '11:40', 1), ('Naypyitaw', '13:46', 1), ('Mandalay', '17:16', 10), ('Yangon', '13:22', 1), ('Yangon', '15:33', 1), ('Yangon', '13:28', 7)]\n"
     ]
    }
   ],
   "source": [
    "Cititimequantitylist= list(zip(citylist, Timelist, Quantitylist))\n",
    "print(Cititimequantitylist)"
   ]
  },
  {
   "cell_type": "code",
   "execution_count": 102,
   "id": "45fb3ed3",
   "metadata": {
    "scrolled": false
   },
   "outputs": [
    {
     "name": "stdout",
     "output_type": "stream",
     "text": [
      "[('13:08', 7), ('10:29', 5), ('13:23', 7), ('20:33', 8), ('10:37', 7), ('18:30', 7), ('14:36', 6), ('11:38', 10), ('17:15', 2), ('13:27', 3), ('18:07', 4), ('17:03', 4), ('10:25', 5), ('16:48', 10), ('19:21', 10), ('16:19', 6), ('11:03', 7), ('10:39', 6), ('18:00', 3), ('15:30', 2), ('11:24', 5), ('10:40', 3), ('12:20', 2), ('11:15', 5), ('17:36', 3), ('19:20', 8), ('15:31', 1), ('12:17', 2), ('19:48', 5), ('15:36', 9), ('19:39', 5), ('12:43', 9), ('14:49', 8), ('10:12', 2), ('10:42', 4), ('12:28', 1), ('19:15', 5), ('17:17', 9), ('13:24', 8), ('13:01', 8), ('18:45', 1), ('10:11', 2), ('13:03', 6), ('20:39', 8), ('19:47', 2), ('18:00', 4), ('17:24', 9), ('15:47', 9), ('12:45', 6), ('17:08', 10), ('10:19', 7), ('15:10', 5), ('14:42', 4), ('15:46', 1), ('11:49', 2), ('19:01', 8), ('11:26', 2), ('11:28', 8), ('15:55', 10), ('20:36', 6), ('17:47', 3), ('10:55', 6), ('13:40', 9), ('12:27', 10), ('14:35', 4), ('16:40', 10), ('15:43', 2), ('15:01', 6), ('10:04', 10), ('18:50', 1), ('12:46', 10), ('16:19', 10), ('18:17', 3), ('18:21', 6), ('10:55', 9), ('17:04', 10), ('14:20', 9), ('15:48', 9), ('16:24', 10), ('18:56', 5), ('14:42', 6), ('19:56', 3), ('18:37', 8), ('18:45', 4), ('10:17', 5), ('14:31', 7), ('10:23', 5), ('20:35', 7), ('16:57', 1), ('17:55', 6), ('10:25', 4), ('19:54', 10), ('16:42', 7), ('12:09', 9), ('20:05', 1), ('20:38', 1), ('10:25', 10), ('13:11', 6), ('10:16', 3), ('18:14', 6), ('19:20', 1), ('13:22', 9), ('11:27', 9), ('16:44', 6), ('18:19', 7), ('14:50', 10), ('20:54', 6), ('20:19', 6), ('10:43', 9), ('14:30', 10), ('11:32', 2), ('10:41', 3), ('12:44', 7), ('20:07', 9), ('20:31', 9), ('13:01', 3), ('12:29', 5), ('15:26', 1), ('20:48', 10), ('20:38', 2), ('17:03', 8), ('12:02', 7), ('17:26', 9), ('19:52', 8), ('14:57', 8), ('18:44', 7), ('13:26', 5), ('16:17', 9), ('15:57', 8), ('11:15', 9), ('13:18', 7), ('20:34', 6), ('18:36', 4), ('14:40', 6), ('16:43', 6), ('19:39', 3), ('20:59', 5), ('15:39', 6), ('12:21', 10), ('19:25', 8), ('13:00', 10), ('13:48', 10), ('19:57', 10), ('10:36', 1), ('16:37', 6), ('17:11', 6), ('12:28', 10), ('12:46', 4), ('15:07', 8), ('13:48', 8), ('19:20', 4), ('16:07', 7), ('11:56', 9), ('18:23', 6), ('13:05', 8), ('15:55', 5), ('19:40', 1), ('13:58', 5), ('14:43', 9), ('19:18', 6), ('19:39', 8), ('16:21', 1), ('19:44', 7), ('19:42', 2), ('15:24', 10), ('14:12', 8), ('13:32', 10), ('16:20', 10), ('16:31', 6), ('15:10', 7), ('11:36', 5), ('12:45', 5), ('19:17', 8), ('17:34', 6), ('12:04', 8), ('16:21', 9), ('17:01', 8), ('10:50', 7), ('19:16', 6), ('16:47', 3), ('10:00', 7), ('11:51', 8), ('10:55', 10), ('15:00', 8), ('11:19', 7), ('19:46', 3), ('19:00', 8), ('10:53', 4), ('12:50', 1), ('20:50', 4), ('10:39', 3), ('13:41', 2), ('19:08', 9), ('20:23', 4), ('11:30', 5), ('19:30', 1), ('18:03', 2), ('10:13', 1), ('19:58', 4), ('19:57', 5), ('10:01', 6), ('11:57', 4), ('10:02', 7), ('14:51', 10), ('12:42', 5), ('12:02', 9), ('18:19', 9), ('17:38', 10), ('13:41', 3), ('19:42', 9), ('20:24', 9), ('18:08', 9), ('19:17', 5), ('13:24', 3), ('15:53', 7), ('15:05', 1), ('18:27', 5), ('16:55', 3), ('12:58', 8), ('18:59', 3), ('13:44', 6), ('13:46', 7), ('18:06', 5), ('12:38', 1), ('15:56', 2), ('14:29', 2), ('19:14', 9), ('16:24', 4), ('10:52', 6), ('12:55', 8), ('19:28', 2), ('13:52', 3), ('10:54', 9), ('18:31', 4), ('18:24', 10), ('18:09', 2), ('15:16', 5), ('17:07', 5), ('19:26', 5), ('11:20', 1), ('16:49', 9), ('12:01', 2), ('18:37', 2), ('11:25', 4), ('18:42', 8), ('14:47', 8), ('19:43', 3), ('14:04', 5), ('16:11', 4), ('19:06', 7), ('15:34', 9), ('19:06', 10), ('19:44', 2), ('11:22', 4), ('11:23', 8), ('14:12', 4), ('10:46', 1), ('10:16', 6), ('12:38', 4), ('13:05', 4), ('13:25', 9), ('14:53', 4), ('19:22', 4), ('11:00', 10), ('19:24', 1), ('12:43', 7), ('17:22', 4), ('20:55', 10), ('16:05', 4), ('13:34', 10), ('18:13', 5), ('19:17', 2), ('11:44', 9), ('15:51', 2), ('16:52', 6), ('20:52', 7), ('17:36', 10), ('13:23', 4), ('16:28', 10), ('19:57', 10), ('17:01', 8), ('13:29', 1), ('11:09', 1), ('15:02', 6), ('14:21', 4), ('18:01', 5), ('14:49', 1), ('12:02', 9), ('13:30', 7), ('14:38', 7), ('17:37', 10), ('17:20', 7), ('20:29', 1), ('10:00', 2), ('11:46', 10), ('13:42', 5), ('14:44', 4), ('14:16', 6), ('15:54', 4), ('10:21', 1), ('18:09', 2), ('16:46', 1), ('15:31', 1), ('17:15', 4), ('12:29', 8), ('20:14', 7), ('13:22', 7), ('17:09', 8), ('10:40', 3), ('17:43', 2), ('14:04', 6), ('19:05', 2), ('10:08', 5), ('13:12', 9), ('20:51', 10), ('17:29', 2), ('10:25', 3), ('11:34', 5), ('18:58', 7), ('16:28', 4), ('20:26', 9), ('15:08', 1), ('18:03', 6), ('13:21', 5), ('12:48', 6), ('19:53', 4), ('19:09', 5), ('16:30', 4), ('10:11', 4), ('13:07', 4), ('18:48', 9), ('17:27', 3), ('15:59', 5), ('11:21', 2), ('13:48', 5), ('10:17', 5), ('15:49', 9), ('13:02', 6), ('12:58', 3), ('15:26', 9), ('18:23', 3), ('19:06', 7), ('20:21', 7), ('16:24', 5), ('15:04', 3), ('16:10', 9), ('12:14', 1), ('10:13', 8), ('17:38', 7), ('11:06', 10), ('14:53', 10), ('18:22', 7), ('19:02', 7), ('14:16', 9), ('15:44', 1), ('12:20', 4), ('20:01', 10), ('13:45', 10), ('15:40', 3), ('16:58', 1), ('11:12', 8), ('15:12', 8), ('20:37', 2), ('17:44', 6), ('16:23', 4), ('12:12', 4), ('19:33', 9), ('10:29', 4), ('14:28', 10), ('12:46', 9), ('19:40', 7), ('19:39', 2), ('17:54', 6), ('12:25', 6), ('16:47', 5), ('12:52', 5), ('19:50', 9), ('18:17', 7), ('17:20', 4), ('13:32', 4), ('10:37', 4), ('14:35', 2), ('12:09', 5), ('15:32', 4), ('13:58', 5), ('13:19', 1), ('13:37', 6), ('16:49', 10), ('14:55', 9), ('14:04', 7), ('12:31', 3), ('14:51', 10), ('18:27', 1), ('12:45', 10), ('10:36', 1), ('20:36', 5), ('14:16', 5), ('10:26', 9), ('13:30', 6), ('16:28', 9), ('20:18', 6), ('20:04', 4), ('13:38', 1), ('10:43', 5), ('17:30', 7), ('15:28', 4), ('19:07', 5), ('19:01', 4), ('19:48', 4), ('19:24', 5), ('13:00', 10), ('14:29', 2), ('13:21', 5), ('18:55', 3), ('19:36', 8), ('16:28', 1), ('13:48', 4), ('10:57', 1), ('17:13', 2), ('10:23', 7), ('13:57', 3), ('13:29', 3), ('13:00', 10), ('19:42', 8), ('15:36', 1), ('13:40', 9), ('18:01', 7), ('13:53', 3), ('17:27', 5), ('10:53', 10), ('19:48', 2), ('16:53', 2), ('19:14', 6), ('14:36', 7), ('18:19', 1), ('19:09', 9), ('16:51', 4), ('15:37', 6), ('20:15', 4), ('14:38', 8), ('19:25', 5), ('19:35', 8), ('15:42', 9), ('14:11', 1), ('10:43', 7), ('17:58', 1), ('11:26', 10), ('17:38', 3), ('20:07', 1), ('11:02', 1), ('19:07', 6), ('18:50', 6), ('12:43', 5), ('15:09', 1), ('13:47', 4), ('16:59', 5), ('14:15', 9), ('20:24', 10), ('13:58', 10), ('16:52', 1), ('15:19', 5), ('12:25', 10), ('10:02', 4), ('18:58', 1), ('15:31', 5), ('11:22', 10), ('13:12', 7), ('18:33', 6), ('10:02', 1), ('11:21', 1), ('12:10', 6), ('11:40', 4), ('18:31', 10), ('17:58', 8), ('17:04', 5), ('20:35', 3), ('16:10', 5), ('16:54', 4), ('10:11', 10), ('11:26', 1), ('20:29', 8), ('12:12', 10), ('13:05', 5), ('16:19', 10), ('19:48', 10), ('15:25', 4), ('14:42', 10), ('18:59', 4), ('20:47', 1), ('13:21', 9), ('19:48', 2), ('18:20', 10), ('20:24', 8), ('13:44', 10), ('11:48', 2), ('14:14', 8), ('15:51', 2), ('11:17', 6), ('17:36', 1), ('15:47', 8), ('15:53', 1), ('12:40', 1), ('19:48', 2), ('17:53', 2), ('16:36', 1), ('20:54', 8), ('12:50', 3), ('10:48', 6), ('14:28', 5), ('17:15', 6), ('18:03', 7), ('17:29', 5), ('18:05', 7), ('12:07', 7), ('19:49', 7), ('15:52', 1), ('16:48', 5), ('20:46', 5), ('18:14', 2), ('15:05', 5), ('10:34', 3), ('11:23', 6), ('13:55', 6), ('11:43', 2), ('14:36', 6), ('16:03', 5), ('20:03', 4), ('14:55', 2), ('11:28', 10), ('19:41', 9), ('19:01', 6), ('18:04', 8), ('19:20', 10), ('10:31', 9), ('13:28', 5), ('11:36', 7), ('11:32', 1), ('11:44', 1), ('17:16', 4), ('18:43', 6), ('11:00', 3), ('10:30', 1), ('12:14', 4), ('16:43', 6), ('20:40', 1), ('13:40', 4), ('16:23', 10), ('12:08', 9), ('17:45', 5), ('10:28', 6), ('20:31', 3), ('10:49', 9), ('12:34', 9), ('10:23', 6), ('18:51', 7), ('13:45', 3), ('19:38', 2), ('20:23', 10), ('15:24', 6), ('16:54', 3), ('12:32', 9), ('15:42', 10), ('13:58', 8), ('15:08', 6), ('13:02', 2), ('13:01', 10), ('16:40', 10), ('13:55', 9), ('10:33', 7), ('16:42', 7), ('17:16', 5), ('11:48', 10), ('19:35', 7), ('19:55', 2), ('14:33', 5), ('19:49', 7), ('18:43', 4), ('14:43', 4), ('13:54', 4), ('12:15', 2), ('12:37', 3), ('19:54', 4), ('15:06', 2), ('18:03', 4), ('15:58', 3), ('13:53', 4), ('14:03', 3), ('16:38', 5), ('11:07', 10), ('12:23', 5), ('10:54', 6), ('17:38', 7), ('14:13', 1), ('11:51', 3), ('13:05', 3), ('11:30', 3), ('13:30', 3), ('19:11', 9), ('18:53', 5), ('14:22', 2), ('17:16', 1), ('10:06', 1), ('20:35', 10), ('13:54', 6), ('20:08', 7), ('15:26', 4), ('12:56', 7), ('19:16', 4), ('12:20', 1), ('10:37', 2), ('10:18', 1), ('11:23', 9), ('11:45', 3), ('16:08', 1), ('11:25', 10), ('12:24', 9), ('19:51', 6), ('18:10', 5), ('11:22', 6), ('17:55', 6), ('15:30', 3), ('19:44', 1), ('15:27', 7), ('11:25', 10), ('15:42', 1), ('16:04', 2), ('12:37', 2), ('14:41', 10), ('14:19', 3), ('18:19', 1), ('14:08', 10), ('16:38', 3), ('10:54', 2), ('11:29', 3), ('19:28', 3), ('15:01', 10), ('20:31', 7), ('12:16', 1), ('15:27', 5), ('17:36', 3), ('20:00', 3), ('15:29', 8), ('15:08', 2), ('19:26', 8), ('15:53', 5), ('18:43', 9), ('14:58', 6), ('19:55', 1), ('15:10', 2), ('16:44', 10), ('18:22', 5), ('11:52', 6), ('17:24', 10), ('15:31', 9), ('18:04', 4), ('14:13', 3), ('10:23', 1), ('10:11', 3), ('15:48', 5), ('17:46', 1), ('11:46', 3), ('12:07', 7), ('18:14', 6), ('14:45', 10), ('11:39', 2), ('15:44', 4), ('13:06', 3), ('20:43', 4), ('14:19', 6), ('10:01', 2), ('19:30', 10), ('16:34', 2), ('13:10', 3), ('17:10', 8), ('10:22', 10), ('19:57', 2), ('19:29', 7), ('18:30', 4), ('14:27', 10), ('13:57', 6), ('19:43', 1), ('10:11', 1), ('13:46', 6), ('12:22', 2), ('19:20', 6), ('12:58', 2), ('11:59', 2), ('17:59', 10), ('12:51', 2), ('10:36', 3), ('13:38', 9), ('19:39', 7), ('12:44', 10), ('13:56', 7), ('14:42', 9), ('19:45', 5), ('20:26', 4), ('19:46', 4), ('19:38', 9), ('16:18', 10), ('12:23', 8), ('19:11', 3), ('18:57', 10), ('11:18', 9), ('12:40', 9), ('14:06', 7), ('20:48', 4), ('20:13', 1), ('20:37', 8), ('17:59', 3), ('20:18', 6), ('15:52', 4), ('15:14', 9), ('12:50', 9), ('10:36', 8), ('18:33', 5), ('16:06', 7), ('12:47', 3), ('13:34', 3), ('15:04', 6), ('20:42', 7), ('15:28', 9), ('13:45', 3), ('20:10', 7), ('18:53', 4), ('14:24', 8), ('11:42', 3), ('17:49', 10), ('15:33', 4), ('10:54', 7), ('16:23', 4), ('19:33', 3), ('11:39', 1), ('10:38', 7), ('20:03', 1), ('12:39', 10), ('15:59', 7), ('14:26', 10), ('18:22', 8), ('11:32', 9), ('12:41', 7), ('15:20', 1), ('14:33', 2), ('15:29', 2), ('16:19', 8), ('16:33', 1), ('19:07', 10), ('14:43', 5), ('19:28', 9), ('20:44', 7), ('11:16', 4), ('10:31', 5), ('12:30', 10), ('15:05', 5), ('18:30', 3), ('13:18', 8), ('15:28', 8), ('11:52', 6), ('18:24', 10), ('15:19', 4), ('10:38', 10), ('15:12', 10), ('17:48', 8), ('11:07', 5), ('15:48', 4), ('19:40', 8), ('20:30', 3), ('13:59', 6), ('18:51', 4), ('17:24', 6), ('11:58', 4), ('19:01', 7), ('16:50', 7), ('10:22', 1), ('16:46', 2), ('18:08', 5), ('18:02', 7), ('13:07', 1), ('17:52', 5), ('20:32', 9), ('19:24', 8), ('16:06', 4), ('14:14', 1), ('17:36', 8), ('13:08', 5), ('16:09', 7), ('11:33', 8), ('10:18', 5), ('10:55', 3), ('15:15', 7), ('20:06', 1), ('20:21', 4), ('13:48', 10), ('12:52', 7), ('12:28', 2), ('16:26', 2), ('13:24', 1), ('15:15', 10), ('10:50', 1), ('18:38', 5), ('16:45', 6), ('19:30', 8), ('13:23', 7), ('11:27', 9), ('11:12', 9), ('16:36', 4), ('18:41', 2), ('17:12', 4), ('10:38', 1), ('10:33', 10), ('14:38', 8), ('18:06', 10), ('12:52', 5), ('14:00', 1), ('10:57', 8), ('16:45', 8), ('11:15', 7), ('20:29', 8), ('20:03', 4), ('14:35', 5), ('16:32', 4), ('10:10', 2), ('14:15', 1), ('10:05', 3), ('11:36', 7), ('18:15', 4), ('13:53', 9), ('18:37', 3), ('18:27', 10), ('14:42', 10), ('17:43', 8), ('18:37', 4), ('16:34', 8), ('14:42', 1), ('11:01', 7), ('19:44', 1), ('13:34', 5), ('20:08', 6), ('15:01', 10), ('11:40', 6), ('15:21', 3), ('17:38', 1), ('16:16', 2), ('18:15', 2), ('12:43', 1), ('11:32', 3), ('18:08', 1), ('17:08', 1), ('19:38', 9), ('13:11', 6), ('11:05', 1), ('10:12', 2), ('15:42', 7), ('11:58', 10), ('14:21', 5), ('10:52', 9), ('19:31', 8), ('18:35', 4), ('13:51', 6), ('12:35', 9), ('13:24', 1), ('18:06', 2), ('11:55', 9), ('11:42', 7), ('14:30', 3), ('15:11', 3), ('14:48', 8), ('12:36', 2), ('19:09', 3), ('13:35', 4), ('10:33', 7), ('15:45', 1), ('11:51', 10), ('17:26', 6), ('11:52', 4), ('14:04', 8), ('17:49', 1), ('20:19', 1), ('16:08', 8), ('10:17', 8), ('14:25', 10), ('12:51', 8), ('15:18', 10), ('12:45', 6), ('13:37', 2), ('10:03', 7), ('19:42', 1), ('13:14', 10), ('12:47', 8), ('19:53', 10), ('10:26', 5), ('15:06', 8), ('16:35', 5), ('20:57', 5), ('15:16', 6), ('17:47', 8), ('16:23', 7), ('10:17', 6), ('13:50', 7), ('19:17', 9), ('14:00', 9), ('12:02', 4), ('20:21', 5), ('17:35', 7), ('12:42', 2), ('17:56', 4), ('18:58', 10), ('14:08', 5), ('16:30', 2), ('10:44', 10), ('20:29', 3), ('11:43', 4), ('10:09', 8), ('10:00', 8), ('18:45', 3), ('12:40', 6), ('15:36', 1), ('12:04', 4), ('11:26', 3), ('12:36', 3), ('15:06', 9), ('10:58', 6), ('12:10', 2), ('10:31', 7), ('13:49', 6), ('11:10', 4), ('17:38', 1), ('17:54', 9), ('20:51', 9), ('19:26', 2), ('13:33', 6), ('14:05', 2), ('11:40', 10), ('12:27', 7), ('20:24', 6), ('20:59', 3), ('19:48', 7), ('10:18', 5), ('16:27', 3), ('17:04', 6), ('18:14', 4), ('10:43', 9), ('19:30', 10), ('14:53', 5), ('20:14', 7), ('11:51', 7), ('14:13', 2), ('20:13', 1), ('18:44', 5), ('14:26', 8), ('12:40', 3), ('18:43', 3), ('13:22', 4), ('13:58', 4), ('11:45', 6), ('11:51', 7), ('17:16', 9), ('15:55', 6), ('12:07', 10), ('15:07', 9), ('15:29', 1), ('18:45', 2), ('15:23', 1), ('20:37', 3), ('14:41', 2), ('18:18', 2), ('15:27', 9), ('12:55', 3), ('18:02', 3), ('19:44', 5), ('11:36', 10), ('13:51', 7), ('15:17', 7), ('15:29', 3), ('17:59', 2), ('11:55', 2), ('10:39', 4), ('15:10', 6), ('18:10', 1), ('20:43', 1), ('12:46', 4), ('17:44', 4), ('14:19', 9), ('10:33', 7), ('11:40', 7), ('19:30', 5), ('14:42', 2), ('19:08', 8), ('19:12', 10), ('15:46', 8), ('19:06', 5), ('18:10', 10), ('20:46', 2), ('18:35', 10), ('11:40', 1), ('13:46', 1), ('17:16', 10), ('13:22', 1), ('15:33', 1), ('13:28', 7)]\n"
     ]
    }
   ],
   "source": [
    "timequantity= list(zip(Timelist, Quantitylist))\n",
    "print(timequantity)"
   ]
  },
  {
   "cell_type": "code",
   "execution_count": 139,
   "id": "31a0a539",
   "metadata": {
    "scrolled": true
   },
   "outputs": [
    {
     "name": "stdout",
     "output_type": "stream",
     "text": [
      "['13', '10', '13', '20', '10', '18', '14', '11', '17', '13', '18', '17', '10', '16', '19', '16', '11', '10', '18', '15', '11', '10', '12', '11', '17', '19', '15', '12', '19', '15', '19', '12', '14', '10', '10', '12', '19', '17', '13', '13', '18', '10', '13', '20', '19', '18', '17', '15', '12', '17', '10', '15', '14', '15', '11', '19', '11', '11', '15', '20', '17', '10', '13', '12', '14', '16', '15', '15', '10', '18', '12', '16', '18', '18', '10', '17', '14', '15', '16', '18', '14', '19', '18', '18', '10', '14', '10', '20', '16', '17', '10', '19', '16', '12', '20', '20', '10', '13', '10', '18', '19', '13', '11', '16', '18', '14', '20', '20', '10', '14', '11', '10', '12', '20', '20', '13', '12', '15', '20', '20', '17', '12', '17', '19', '14', '18', '13', '16', '15', '11', '13', '20', '18', '14', '16', '19', '20', '15', '12', '19', '13', '13', '19', '10', '16', '17', '12', '12', '15', '13', '19', '16', '11', '18', '13', '15', '19', '13', '14', '19', '19', '16', '19', '19', '15', '14', '13', '16', '16', '15', '11', '12', '19', '17', '12', '16', '17', '10', '19', '16', '10', '11', '10', '15', '11', '19', '19', '10', '12', '20', '10', '13', '19', '20', '11', '19', '18', '10', '19', '19', '10', '11', '10', '14', '12', '12', '18', '17', '13', '19', '20', '18', '19', '13', '15', '15', '18', '16', '12', '18', '13', '13', '18', '12', '15', '14', '19', '16', '10', '12', '19', '13', '10', '18', '18', '18', '15', '17', '19', '11', '16', '12', '18', '11', '18', '14', '19', '14', '16', '19', '15', '19', '19', '11', '11', '14', '10', '10', '12', '13', '13', '14', '19', '11', '19', '12', '17', '20', '16', '13', '18', '19', '11', '15', '16', '20', '17', '13', '16', '19', '17', '13', '11', '15', '14', '18', '14', '12', '13', '14', '17', '17', '20', '10', '11', '13', '14', '14', '15', '10', '18', '16', '15', '17', '12', '20', '13', '17', '10', '17', '14', '19', '10', '13', '20', '17', '10', '11', '18', '16', '20', '15', '18', '13', '12', '19', '19', '16', '10', '13', '18', '17', '15', '11', '13', '10', '15', '13', '12', '15', '18', '19', '20', '16', '15', '16', '12', '10', '17', '11', '14', '18', '19', '14', '15', '12', '20', '13', '15', '16', '11', '15', '20', '17', '16', '12', '19', '10', '14', '12', '19', '19', '17', '12', '16', '12', '19', '18', '17', '13', '10', '14', '12', '15', '13', '13', '13', '16', '14', '14', '12', '14', '18', '12', '10', '20', '14', '10', '13', '16', '20', '20', '13', '10', '17', '15', '19', '19', '19', '19', '13', '14', '13', '18', '19', '16', '13', '10', '17', '10', '13', '13', '13', '19', '15', '13', '18', '13', '17', '10', '19', '16', '19', '14', '18', '19', '16', '15', '20', '14', '19', '19', '15', '14', '10', '17', '11', '17', '20', '11', '19', '18', '12', '15', '13', '16', '14', '20', '13', '16', '15', '12', '10', '18', '15', '11', '13', '18', '10', '11', '12', '11', '18', '17', '17', '20', '16', '16', '10', '11', '20', '12', '13', '16', '19', '15', '14', '18', '20', '13', '19', '18', '20', '13', '11', '14', '15', '11', '17', '15', '15', '12', '19', '17', '16', '20', '12', '10', '14', '17', '18', '17', '18', '12', '19', '15', '16', '20', '18', '15', '10', '11', '13', '11', '14', '16', '20', '14', '11', '19', '19', '18', '19', '10', '13', '11', '11', '11', '17', '18', '11', '10', '12', '16', '20', '13', '16', '12', '17', '10', '20', '10', '12', '10', '18', '13', '19', '20', '15', '16', '12', '15', '13', '15', '13', '13', '16', '13', '10', '16', '17', '11', '19', '19', '14', '19', '18', '14', '13', '12', '12', '19', '15', '18', '15', '13', '14', '16', '11', '12', '10', '17', '14', '11', '13', '11', '13', '19', '18', '14', '17', '10', '20', '13', '20', '15', '12', '19', '12', '10', '10', '11', '11', '16', '11', '12', '19', '18', '11', '17', '15', '19', '15', '11', '15', '16', '12', '14', '14', '18', '14', '16', '10', '11', '19', '15', '20', '12', '15', '17', '20', '15', '15', '19', '15', '18', '14', '19', '15', '16', '18', '11', '17', '15', '18', '14', '10', '10', '15', '17', '11', '12', '18', '14', '11', '15', '13', '20', '14', '10', '19', '16', '13', '17', '10', '19', '19', '18', '14', '13', '19', '10', '13', '12', '19', '12', '11', '17', '12', '10', '13', '19', '12', '13', '14', '19', '20', '19', '19', '16', '12', '19', '18', '11', '12', '14', '20', '20', '20', '17', '20', '15', '15', '12', '10', '18', '16', '12', '13', '15', '20', '15', '13', '20', '18', '14', '11', '17', '15', '10', '16', '19', '11', '10', '20', '12', '15', '14', '18', '11', '12', '15', '14', '15', '16', '16', '19', '14', '19', '20', '11', '10', '12', '15', '18', '13', '15', '11', '18', '15', '10', '15', '17', '11', '15', '19', '20', '13', '18', '17', '11', '19', '16', '10', '16', '18', '18', '13', '17', '20', '19', '16', '14', '17', '13', '16', '11', '10', '10', '15', '20', '20', '13', '12', '12', '16', '13', '15', '10', '18', '16', '19', '13', '11', '11', '16', '18', '17', '10', '10', '14', '18', '12', '14', '10', '16', '11', '20', '20', '14', '16', '10', '14', '10', '11', '18', '13', '18', '18', '14', '17', '18', '16', '14', '11', '19', '13', '20', '15', '11', '15', '17', '16', '18', '12', '11', '18', '17', '19', '13', '11', '10', '15', '11', '14', '10', '19', '18', '13', '12', '13', '18', '11', '11', '14', '15', '14', '12', '19', '13', '10', '15', '11', '17', '11', '14', '17', '20', '16', '10', '14', '12', '15', '12', '13', '10', '19', '13', '12', '19', '10', '15', '16', '20', '15', '17', '16', '10', '13', '19', '14', '12', '20', '17', '12', '17', '18', '14', '16', '10', '20', '11', '10', '10', '18', '12', '15', '12', '11', '12', '15', '10', '12', '10', '13', '11', '17', '17', '20', '19', '13', '14', '11', '12', '20', '20', '19', '10', '16', '17', '18', '10', '19', '14', '20', '11', '14', '20', '18', '14', '12', '18', '13', '13', '11', '11', '17', '15', '12', '15', '15', '18', '15', '20', '14', '18', '15', '12', '18', '19', '11', '13', '15', '15', '17', '11', '10', '15', '18', '20', '12', '17', '14', '10', '11', '19', '14', '19', '19', '15', '19', '18', '20', '18', '11', '13', '17', '13', '15', '13']\n"
     ]
    }
   ],
   "source": [
    "mynewlist = []\n",
    "\n",
    "for x, y in timequantity:\n",
    "    split_x=x.split(\":\")\n",
    "    result=split_x[0]\n",
    "    mynewlist.append(result)\n",
    "print(mynewlist)"
   ]
  },
  {
   "cell_type": "code",
   "execution_count": 140,
   "id": "198d5cc3",
   "metadata": {
    "scrolled": true
   },
   "outputs": [
    {
     "name": "stdout",
     "output_type": "stream",
     "text": [
      "['13', '10', '13', '20', '10', '18', '14', '11', '17', '13', '18', '17', '10', '16', '19', '16', '11', '10', '18', '15', '11', '10', '12', '11', '17', '19', '15', '12', '19', '15', '19', '12', '14', '10', '10', '12', '19', '17', '13', '13', '18', '10', '13', '20', '19', '18', '17', '15', '12', '17', '10', '15', '14', '15', '11', '19', '11', '11', '15', '20', '17', '10', '13', '12', '14', '16', '15', '15', '10', '18', '12', '16', '18', '18', '10', '17', '14', '15', '16', '18', '14', '19', '18', '18', '10', '14', '10', '20', '16', '17', '10', '19', '16', '12', '20', '20', '10', '13', '10', '18', '19', '13', '11', '16', '18', '14', '20', '20', '10', '14', '11', '10', '12', '20', '20', '13', '12', '15', '20', '20', '17', '12', '17', '19', '14', '18', '13', '16', '15', '11', '13', '20', '18', '14', '16', '19', '20', '15', '12', '19', '13', '13', '19', '10', '16', '17', '12', '12', '15', '13', '19', '16', '11', '18', '13', '15', '19', '13', '14', '19', '19', '16', '19', '19', '15', '14', '13', '16', '16', '15', '11', '12', '19', '17', '12', '16', '17', '10', '19', '16', '10', '11', '10', '15', '11', '19', '19', '10', '12', '20', '10', '13', '19', '20', '11', '19', '18', '10', '19', '19', '10', '11', '10', '14', '12', '12', '18', '17', '13', '19', '20', '18', '19', '13', '15', '15', '18', '16', '12', '18', '13', '13', '18', '12', '15', '14', '19', '16', '10', '12', '19', '13', '10', '18', '18', '18', '15', '17', '19', '11', '16', '12', '18', '11', '18', '14', '19', '14', '16', '19', '15', '19', '19', '11', '11', '14', '10', '10', '12', '13', '13', '14', '19', '11', '19', '12', '17', '20', '16', '13', '18', '19', '11', '15', '16', '20', '17', '13', '16', '19', '17', '13', '11', '15', '14', '18', '14', '12', '13', '14', '17', '17', '20', '10', '11', '13', '14', '14', '15', '10', '18', '16', '15', '17', '12', '20', '13', '17', '10', '17', '14', '19', '10', '13', '20', '17', '10', '11', '18', '16', '20', '15', '18', '13', '12', '19', '19', '16', '10', '13', '18', '17', '15', '11', '13', '10', '15', '13', '12', '15', '18', '19', '20', '16', '15', '16', '12', '10', '17', '11', '14', '18', '19', '14', '15', '12', '20', '13', '15', '16', '11', '15', '20', '17', '16', '12', '19', '10', '14', '12', '19', '19', '17', '12', '16', '12', '19', '18', '17', '13', '10', '14', '12', '15', '13', '13', '13', '16', '14', '14', '12', '14', '18', '12', '10', '20', '14', '10', '13', '16', '20', '20', '13', '10', '17', '15', '19', '19', '19', '19', '13', '14', '13', '18', '19', '16', '13', '10', '17', '10', '13', '13', '13', '19', '15', '13', '18', '13', '17', '10', '19', '16', '19', '14', '18', '19', '16', '15', '20', '14', '19', '19', '15', '14', '10', '17', '11', '17', '20', '11', '19', '18', '12', '15', '13', '16', '14', '20', '13', '16', '15', '12', '10', '18', '15', '11', '13', '18', '10', '11', '12', '11', '18', '17', '17', '20', '16', '16', '10', '11', '20', '12', '13', '16', '19', '15', '14', '18', '20', '13', '19', '18', '20', '13', '11', '14', '15', '11', '17', '15', '15', '12', '19', '17', '16', '20', '12', '10', '14', '17', '18', '17', '18', '12', '19', '15', '16', '20', '18', '15', '10', '11', '13', '11', '14', '16', '20', '14', '11', '19', '19', '18', '19', '10', '13', '11', '11', '11', '17', '18', '11', '10', '12', '16', '20', '13', '16', '12', '17', '10', '20', '10', '12', '10', '18', '13', '19', '20', '15', '16', '12', '15', '13', '15', '13', '13', '16', '13', '10', '16', '17', '11', '19', '19', '14', '19', '18', '14', '13', '12', '12', '19', '15', '18', '15', '13', '14', '16', '11', '12', '10', '17', '14', '11', '13', '11', '13', '19', '18', '14', '17', '10', '20', '13', '20', '15', '12', '19', '12', '10', '10', '11', '11', '16', '11', '12', '19', '18', '11', '17', '15', '19', '15', '11', '15', '16', '12', '14', '14', '18', '14', '16', '10', '11', '19', '15', '20', '12', '15', '17', '20', '15', '15', '19', '15', '18', '14', '19', '15', '16', '18', '11', '17', '15', '18', '14', '10', '10', '15', '17', '11', '12', '18', '14', '11', '15', '13', '20', '14', '10', '19', '16', '13', '17', '10', '19', '19', '18', '14', '13', '19', '10', '13', '12', '19', '12', '11', '17', '12', '10', '13', '19', '12', '13', '14', '19', '20', '19', '19', '16', '12', '19', '18', '11', '12', '14', '20', '20', '20', '17', '20', '15', '15', '12', '10', '18', '16', '12', '13', '15', '20', '15', '13', '20', '18', '14', '11', '17', '15', '10', '16', '19', '11', '10', '20', '12', '15', '14', '18', '11', '12', '15', '14', '15', '16', '16', '19', '14', '19', '20', '11', '10', '12', '15', '18', '13', '15', '11', '18', '15', '10', '15', '17', '11', '15', '19', '20', '13', '18', '17', '11', '19', '16', '10', '16', '18', '18', '13', '17', '20', '19', '16', '14', '17', '13', '16', '11', '10', '10', '15', '20', '20', '13', '12', '12', '16', '13', '15', '10', '18', '16', '19', '13', '11', '11', '16', '18', '17', '10', '10', '14', '18', '12', '14', '10', '16', '11', '20', '20', '14', '16', '10', '14', '10', '11', '18', '13', '18', '18', '14', '17', '18', '16', '14', '11', '19', '13', '20', '15', '11', '15', '17', '16', '18', '12', '11', '18', '17', '19', '13', '11', '10', '15', '11', '14', '10', '19', '18', '13', '12', '13', '18', '11', '11', '14', '15', '14', '12', '19', '13', '10', '15', '11', '17', '11', '14', '17', '20', '16', '10', '14', '12', '15', '12', '13', '10', '19', '13', '12', '19', '10', '15', '16', '20', '15', '17', '16', '10', '13', '19', '14', '12', '20', '17', '12', '17', '18', '14', '16', '10', '20', '11', '10', '10', '18', '12', '15', '12', '11', '12', '15', '10', '12', '10', '13', '11', '17', '17', '20', '19', '13', '14', '11', '12', '20', '20', '19', '10', '16', '17', '18', '10', '19', '14', '20', '11', '14', '20', '18', '14', '12', '18', '13', '13', '11', '11', '17', '15', '12', '15', '15', '18', '15', '20', '14', '18', '15', '12', '18', '19', '11', '13', '15', '15', '17', '11', '10', '15', '18', '20', '12', '17', '14', '10', '11', '19', '14', '19', '19', '15', '19', '18', '20', '18', '11', '13', '17', '13', '15', '13']\n"
     ]
    }
   ],
   "source": [
    "ournewlist= list(mynewlist)\n",
    "print(ournewlist)"
   ]
  },
  {
   "cell_type": "code",
   "execution_count": 149,
   "id": "806dd489",
   "metadata": {
    "scrolled": false
   },
   "outputs": [
    {
     "name": "stdout",
     "output_type": "stream",
     "text": [
      "[13, 10, 13, 20, 10, 18, 14, 11, 17, 13, 18, 17, 10, 16, 19, 16, 11, 10, 18, 15, 11, 10, 12, 11, 17, 19, 15, 12, 19, 15, 19, 12, 14, 10, 10, 12, 19, 17, 13, 13, 18, 10, 13, 20, 19, 18, 17, 15, 12, 17, 10, 15, 14, 15, 11, 19, 11, 11, 15, 20, 17, 10, 13, 12, 14, 16, 15, 15, 10, 18, 12, 16, 18, 18, 10, 17, 14, 15, 16, 18, 14, 19, 18, 18, 10, 14, 10, 20, 16, 17, 10, 19, 16, 12, 20, 20, 10, 13, 10, 18, 19, 13, 11, 16, 18, 14, 20, 20, 10, 14, 11, 10, 12, 20, 20, 13, 12, 15, 20, 20, 17, 12, 17, 19, 14, 18, 13, 16, 15, 11, 13, 20, 18, 14, 16, 19, 20, 15, 12, 19, 13, 13, 19, 10, 16, 17, 12, 12, 15, 13, 19, 16, 11, 18, 13, 15, 19, 13, 14, 19, 19, 16, 19, 19, 15, 14, 13, 16, 16, 15, 11, 12, 19, 17, 12, 16, 17, 10, 19, 16, 10, 11, 10, 15, 11, 19, 19, 10, 12, 20, 10, 13, 19, 20, 11, 19, 18, 10, 19, 19, 10, 11, 10, 14, 12, 12, 18, 17, 13, 19, 20, 18, 19, 13, 15, 15, 18, 16, 12, 18, 13, 13, 18, 12, 15, 14, 19, 16, 10, 12, 19, 13, 10, 18, 18, 18, 15, 17, 19, 11, 16, 12, 18, 11, 18, 14, 19, 14, 16, 19, 15, 19, 19, 11, 11, 14, 10, 10, 12, 13, 13, 14, 19, 11, 19, 12, 17, 20, 16, 13, 18, 19, 11, 15, 16, 20, 17, 13, 16, 19, 17, 13, 11, 15, 14, 18, 14, 12, 13, 14, 17, 17, 20, 10, 11, 13, 14, 14, 15, 10, 18, 16, 15, 17, 12, 20, 13, 17, 10, 17, 14, 19, 10, 13, 20, 17, 10, 11, 18, 16, 20, 15, 18, 13, 12, 19, 19, 16, 10, 13, 18, 17, 15, 11, 13, 10, 15, 13, 12, 15, 18, 19, 20, 16, 15, 16, 12, 10, 17, 11, 14, 18, 19, 14, 15, 12, 20, 13, 15, 16, 11, 15, 20, 17, 16, 12, 19, 10, 14, 12, 19, 19, 17, 12, 16, 12, 19, 18, 17, 13, 10, 14, 12, 15, 13, 13, 13, 16, 14, 14, 12, 14, 18, 12, 10, 20, 14, 10, 13, 16, 20, 20, 13, 10, 17, 15, 19, 19, 19, 19, 13, 14, 13, 18, 19, 16, 13, 10, 17, 10, 13, 13, 13, 19, 15, 13, 18, 13, 17, 10, 19, 16, 19, 14, 18, 19, 16, 15, 20, 14, 19, 19, 15, 14, 10, 17, 11, 17, 20, 11, 19, 18, 12, 15, 13, 16, 14, 20, 13, 16, 15, 12, 10, 18, 15, 11, 13, 18, 10, 11, 12, 11, 18, 17, 17, 20, 16, 16, 10, 11, 20, 12, 13, 16, 19, 15, 14, 18, 20, 13, 19, 18, 20, 13, 11, 14, 15, 11, 17, 15, 15, 12, 19, 17, 16, 20, 12, 10, 14, 17, 18, 17, 18, 12, 19, 15, 16, 20, 18, 15, 10, 11, 13, 11, 14, 16, 20, 14, 11, 19, 19, 18, 19, 10, 13, 11, 11, 11, 17, 18, 11, 10, 12, 16, 20, 13, 16, 12, 17, 10, 20, 10, 12, 10, 18, 13, 19, 20, 15, 16, 12, 15, 13, 15, 13, 13, 16, 13, 10, 16, 17, 11, 19, 19, 14, 19, 18, 14, 13, 12, 12, 19, 15, 18, 15, 13, 14, 16, 11, 12, 10, 17, 14, 11, 13, 11, 13, 19, 18, 14, 17, 10, 20, 13, 20, 15, 12, 19, 12, 10, 10, 11, 11, 16, 11, 12, 19, 18, 11, 17, 15, 19, 15, 11, 15, 16, 12, 14, 14, 18, 14, 16, 10, 11, 19, 15, 20, 12, 15, 17, 20, 15, 15, 19, 15, 18, 14, 19, 15, 16, 18, 11, 17, 15, 18, 14, 10, 10, 15, 17, 11, 12, 18, 14, 11, 15, 13, 20, 14, 10, 19, 16, 13, 17, 10, 19, 19, 18, 14, 13, 19, 10, 13, 12, 19, 12, 11, 17, 12, 10, 13, 19, 12, 13, 14, 19, 20, 19, 19, 16, 12, 19, 18, 11, 12, 14, 20, 20, 20, 17, 20, 15, 15, 12, 10, 18, 16, 12, 13, 15, 20, 15, 13, 20, 18, 14, 11, 17, 15, 10, 16, 19, 11, 10, 20, 12, 15, 14, 18, 11, 12, 15, 14, 15, 16, 16, 19, 14, 19, 20, 11, 10, 12, 15, 18, 13, 15, 11, 18, 15, 10, 15, 17, 11, 15, 19, 20, 13, 18, 17, 11, 19, 16, 10, 16, 18, 18, 13, 17, 20, 19, 16, 14, 17, 13, 16, 11, 10, 10, 15, 20, 20, 13, 12, 12, 16, 13, 15, 10, 18, 16, 19, 13, 11, 11, 16, 18, 17, 10, 10, 14, 18, 12, 14, 10, 16, 11, 20, 20, 14, 16, 10, 14, 10, 11, 18, 13, 18, 18, 14, 17, 18, 16, 14, 11, 19, 13, 20, 15, 11, 15, 17, 16, 18, 12, 11, 18, 17, 19, 13, 11, 10, 15, 11, 14, 10, 19, 18, 13, 12, 13, 18, 11, 11, 14, 15, 14, 12, 19, 13, 10, 15, 11, 17, 11, 14, 17, 20, 16, 10, 14, 12, 15, 12, 13, 10, 19, 13, 12, 19, 10, 15, 16, 20, 15, 17, 16, 10, 13, 19, 14, 12, 20, 17, 12, 17, 18, 14, 16, 10, 20, 11, 10, 10, 18, 12, 15, 12, 11, 12, 15, 10, 12, 10, 13, 11, 17, 17, 20, 19, 13, 14, 11, 12, 20, 20, 19, 10, 16, 17, 18, 10, 19, 14, 20, 11, 14, 20, 18, 14, 12, 18, 13, 13, 11, 11, 17, 15, 12, 15, 15, 18, 15, 20, 14, 18, 15, 12, 18, 19, 11, 13, 15, 15, 17, 11, 10, 15, 18, 20, 12, 17, 14, 10, 11, 19, 14, 19, 19, 15, 19, 18, 20, 18, 11, 13, 17, 13, 15, 13]\n"
     ]
    }
   ],
   "source": [
    "time=[]\n",
    "for x in ournewlist:\n",
    "    newnumber = int(x)\n",
    "    time.append(newnumber)\n",
    "print(time)\n",
    "        \n",
    "        "
   ]
  },
  {
   "cell_type": "code",
   "execution_count": 167,
   "id": "495e0f70",
   "metadata": {
    "scrolled": true
   },
   "outputs": [
    {
     "name": "stdout",
     "output_type": "stream",
     "text": [
      "[]\n",
      "[]\n",
      "[]\n",
      "[]\n",
      "[10, 10, 10, 10, 10, 10, 10, 10, 10, 10, 10, 10, 10, 10, 10, 10, 10, 10, 10, 10, 10, 10, 10, 10, 10, 10, 10, 10, 10, 10, 10, 10, 10, 10, 10, 10, 10, 10, 10, 10, 10, 10, 10, 10, 10, 10, 10, 10, 10, 10, 10, 10, 10, 10, 10, 10, 10, 10, 10, 10, 10, 10, 10, 10, 10, 10, 10, 10, 10, 10, 10, 10, 10, 10, 10, 10, 10, 10, 10, 10, 10, 10, 10, 10, 10, 10, 10, 10, 10, 10, 10, 10, 10, 10, 10, 10, 10, 10, 10, 10, 10]\n",
      "[11, 11, 11, 12, 11, 12, 12, 12, 12, 11, 11, 11, 12, 12, 12, 11, 11, 12, 12, 12, 11, 12, 12, 12, 11, 11, 12, 12, 11, 11, 12, 11, 11, 12, 12, 12, 12, 12, 11, 12, 11, 11, 11, 12, 11, 12, 11, 11, 12, 11, 12, 11, 12, 11, 12, 12, 11, 12, 11, 12, 12, 12, 12, 12, 12, 12, 11, 11, 12, 12, 11, 11, 12, 11, 11, 12, 11, 11, 12, 12, 12, 11, 11, 11, 11, 11, 11, 11, 12, 12, 12, 12, 11, 12, 12, 11, 12, 11, 11, 12, 12, 11, 11, 11, 12, 11, 11, 12, 11, 12, 11, 11, 12, 11, 12, 12, 11, 12, 12, 12, 11, 12, 12, 12, 11, 11, 12, 11, 12, 11, 12, 11, 11, 11, 11, 12, 12, 11, 11, 12, 11, 11, 11, 11, 12, 11, 11, 11, 12, 11, 11, 12, 11, 11, 12, 12, 12, 12, 12, 11, 12, 12, 11, 12, 12, 11, 11, 12, 11, 12, 11, 11, 12, 12, 11, 11, 12, 11, 11]\n",
      "[13, 13, 14, 13, 14, 13, 13, 13, 14, 13, 14, 14, 14, 14, 13, 13, 14, 14, 13, 14, 13, 13, 14, 13, 13, 13, 13, 13, 14, 14, 13, 13, 14, 13, 13, 13, 13, 14, 13, 14, 14, 14, 13, 13, 14, 13, 13, 13, 14, 14, 13, 14, 13, 14, 14, 13, 14, 13, 13, 13, 13, 13, 14, 14, 13, 14, 13, 14, 13, 13, 13, 14, 14, 14, 14, 13, 13, 13, 14, 13, 13, 13, 13, 13, 13, 13, 14, 14, 14, 13, 14, 13, 13, 13, 14, 13, 13, 14, 14, 13, 14, 14, 13, 13, 13, 13, 13, 13, 13, 14, 14, 13, 13, 14, 14, 13, 13, 14, 13, 14, 14, 14, 14, 14, 14, 13, 14, 13, 14, 13, 13, 13, 13, 14, 14, 13, 13, 14, 14, 14, 14, 13, 13, 13, 14, 13, 13, 13, 13, 14, 14, 14, 14, 13, 14, 14, 13, 13, 14, 13, 13, 14, 14, 13, 14, 14, 13, 13, 13, 14, 14, 13, 13, 14, 14, 14, 14, 13, 13, 14, 13, 14, 14, 13, 13, 13]\n",
      "[18, 17, 18, 17, 16, 16, 18, 17, 17, 18, 18, 17, 17, 17, 16, 18, 16, 18, 18, 17, 16, 18, 18, 18, 16, 17, 16, 18, 16, 18, 17, 17, 18, 16, 18, 16, 16, 17, 16, 18, 16, 16, 16, 17, 16, 17, 16, 18, 18, 17, 18, 18, 16, 18, 18, 16, 18, 18, 18, 17, 16, 18, 18, 16, 17, 16, 18, 16, 17, 16, 17, 18, 17, 17, 18, 16, 17, 17, 17, 17, 18, 16, 18, 16, 18, 17, 18, 16, 16, 17, 18, 16, 17, 16, 17, 16, 18, 17, 16, 18, 16, 17, 18, 16, 17, 18, 17, 16, 18, 16, 17, 17, 18, 16, 16, 18, 18, 18, 17, 17, 16, 16, 16, 18, 18, 17, 17, 16, 17, 18, 17, 18, 16, 18, 16, 18, 17, 18, 16, 16, 17, 18, 16, 16, 16, 17, 18, 18, 16, 17, 18, 17, 16, 18, 17, 16, 18, 16, 17, 18, 16, 18, 17, 18, 17, 18, 16, 17, 18, 17, 16, 18, 17, 18, 16, 18, 17, 16, 18, 16, 16, 18, 18, 17, 18, 17, 16, 16, 18, 18, 17, 16, 17, 16, 16, 18, 16, 16, 18, 17, 18, 16, 16, 18, 18, 18, 17, 18, 16, 17, 16, 18, 18, 17, 18, 18, 17, 17, 16, 16, 17, 16, 17, 17, 18, 16, 18, 17, 17, 16, 17, 18, 18, 18, 17, 18, 18, 18, 17, 18, 17, 18, 18, 17]\n",
      "[20, 19, 19, 19, 19, 19, 20, 19, 19, 20, 19, 20, 19, 20, 20, 19, 20, 20, 20, 20, 20, 20, 19, 20, 19, 20, 19, 19, 19, 19, 19, 19, 19, 19, 19, 19, 19, 19, 20, 19, 20, 19, 19, 19, 19, 20, 19, 19, 19, 19, 19, 19, 19, 19, 19, 19, 20, 19, 20, 19, 20, 20, 19, 20, 20, 19, 19, 19, 20, 19, 20, 20, 19, 19, 19, 19, 20, 20, 20, 19, 19, 19, 19, 19, 19, 19, 19, 19, 20, 19, 19, 20, 19, 20, 20, 20, 19, 20, 19, 20, 19, 20, 19, 20, 20, 19, 19, 19, 20, 20, 19, 20, 19, 19, 19, 19, 19, 20, 20, 19, 19, 19, 19, 20, 20, 19, 19, 20, 19, 19, 19, 19, 19, 19, 19, 20, 19, 19, 19, 20, 20, 20, 20, 20, 20, 19, 20, 19, 19, 20, 19, 20, 19, 20, 19, 20, 20, 19, 20, 20, 19, 20, 19, 19, 19, 20, 19, 19, 20, 19, 20, 20, 20, 19, 20, 20, 19, 19, 20, 20, 20, 19, 20, 19, 19, 19, 19, 20]\n",
      "[]\n",
      "[]\n"
     ]
    }
   ],
   "source": [
    "range1=[]\n",
    "range2=[]\n",
    "range3=[]\n",
    "range4=[]\n",
    "range5=[]\n",
    "range6=[]\n",
    "range7=[]\n",
    "range8=[]\n",
    "range9=[]\n",
    "range10=[]\n",
    "range11=[]\n",
    "for x in time:\n",
    "    if x >=0 and x<=2:\n",
    "        range1.append(x)\n",
    "    elif x >=2 and x <=4:\n",
    "        range2.append(x)\n",
    "    elif x >=4 and x <=6:\n",
    "        range3.append(x)\n",
    "    elif x >=6 and x <=8:\n",
    "        range4.append(x)\n",
    "    elif x >=8 and x <=10:\n",
    "        range5.append(x)\n",
    "    elif x >=10 and x <=12:\n",
    "        range6.append(x)\n",
    "    elif x >=12 and x <=14:\n",
    "        range7.append(x)\n",
    "    elif x >=16 and x <=18:\n",
    "        range8.append(x)\n",
    "    elif x >=18 and x <=20:\n",
    "        range9.append(x)\n",
    "    elif x >=20 and x <=22:\n",
    "        range10.append(x)\n",
    "    elif x >=22 and x <=24:\n",
    "        range11.append(x)\n",
    "print(range1)\n",
    "print(range2)\n",
    "print(range3)\n",
    "print(range4)\n",
    "print(range5)\n",
    "print(range6)\n",
    "print(range7)\n",
    "print(range8)\n",
    "print(range9)\n",
    "print(range10)\n",
    "print(range11)\n",
    "\n",
    "        "
   ]
  },
  {
   "cell_type": "code",
   "execution_count": 169,
   "id": "27801151",
   "metadata": {},
   "outputs": [
    {
     "name": "stdout",
     "output_type": "stream",
     "text": [
      "0\n",
      "0\n",
      "0\n",
      "0\n",
      "101\n",
      "179\n",
      "186\n",
      "244\n",
      "188\n",
      "0\n",
      "0\n"
     ]
    }
   ],
   "source": [
    "print(len(range1))\n",
    "print(len(range2))\n",
    "print(len(range3))\n",
    "print(len(range4))\n",
    "print(len(range5))\n",
    "print(len(range6))\n",
    "print(len(range7))\n",
    "print(len(range8))\n",
    "print(len(range9))\n",
    "print(len(range10))\n",
    "print(len(range11))\n"
   ]
  },
  {
   "cell_type": "code",
   "execution_count": 1,
   "id": "2ed40083",
   "metadata": {},
   "outputs": [
    {
     "name": "stdout",
     "output_type": "stream",
     "text": [
      "Requirement already satisfied: matplotlib in c:\\users\\admin\\anaconda3\\lib\\site-packages (3.7.2)Note: you may need to restart the kernel to use updated packages.\n",
      "\n",
      "Requirement already satisfied: contourpy>=1.0.1 in c:\\users\\admin\\anaconda3\\lib\\site-packages (from matplotlib) (1.0.5)\n",
      "Requirement already satisfied: cycler>=0.10 in c:\\users\\admin\\anaconda3\\lib\\site-packages (from matplotlib) (0.11.0)\n",
      "Requirement already satisfied: fonttools>=4.22.0 in c:\\users\\admin\\anaconda3\\lib\\site-packages (from matplotlib) (4.25.0)\n",
      "Requirement already satisfied: kiwisolver>=1.0.1 in c:\\users\\admin\\anaconda3\\lib\\site-packages (from matplotlib) (1.4.4)\n",
      "Requirement already satisfied: numpy>=1.20 in c:\\users\\admin\\anaconda3\\lib\\site-packages (from matplotlib) (1.24.3)\n",
      "Requirement already satisfied: packaging>=20.0 in c:\\users\\admin\\anaconda3\\lib\\site-packages (from matplotlib) (23.1)\n",
      "Requirement already satisfied: pillow>=6.2.0 in c:\\users\\admin\\anaconda3\\lib\\site-packages (from matplotlib) (9.4.0)\n",
      "Requirement already satisfied: pyparsing<3.1,>=2.3.1 in c:\\users\\admin\\anaconda3\\lib\\site-packages (from matplotlib) (3.0.9)\n",
      "Requirement already satisfied: python-dateutil>=2.7 in c:\\users\\admin\\anaconda3\\lib\\site-packages (from matplotlib) (2.8.2)\n",
      "Requirement already satisfied: six>=1.5 in c:\\users\\admin\\anaconda3\\lib\\site-packages (from python-dateutil>=2.7->matplotlib) (1.16.0)\n"
     ]
    }
   ],
   "source": [
    "pip install matplotlib"
   ]
  },
  {
   "cell_type": "code",
   "execution_count": 2,
   "id": "d5f5e1c3",
   "metadata": {},
   "outputs": [],
   "source": [
    "import matplotlib.pyplot as plt"
   ]
  },
  {
   "cell_type": "code",
   "execution_count": null,
   "id": "413ac56f",
   "metadata": {},
   "outputs": [],
   "source": []
  },
  {
   "cell_type": "code",
   "execution_count": null,
   "id": "68aae638",
   "metadata": {},
   "outputs": [],
   "source": []
  }
 ],
 "metadata": {
  "kernelspec": {
   "display_name": "Python 3 (ipykernel)",
   "language": "python",
   "name": "python3"
  },
  "language_info": {
   "codemirror_mode": {
    "name": "ipython",
    "version": 3
   },
   "file_extension": ".py",
   "mimetype": "text/x-python",
   "name": "python",
   "nbconvert_exporter": "python",
   "pygments_lexer": "ipython3",
   "version": "3.11.5"
  }
 },
 "nbformat": 4,
 "nbformat_minor": 5
}
